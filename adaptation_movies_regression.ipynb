{
 "cells": [
  {
   "cell_type": "markdown",
   "metadata": {},
   "source": [
    "# Exporting American Movie Box Office Hits "
   ]
  },
  {
   "cell_type": "markdown",
   "metadata": {},
   "source": [
    "### Regresssion Model Stepwise Analysis <a id='top'></a> \n",
    "\n",
    "1. [Research Question](#1)<br/>\n",
    "2. [Scraped: Movie Adaptations Data](#2) <br/>\n",
    "3. [Exporatory Data Analysis: Movie Adaptations Dataframe](#3)<br/>\n",
    "   [3a. Explore features correlation](#3a)<br/>\n",
    "   [3b. Explore and handle categorical data](#3b)<br/>\n",
    "4. [Cross-Validation](#4)<br/>\n",
    "5. [Modeling](#5)<br/>\n",
    "6. [Model Tuning](#6) <br/>\n",
    "   [6a. Regularization](#6a)<br/>\n",
    "   [6b. Features engineering](#6b)<br/>\n",
    "   [6c. Linear regression assumptions](#6c)<br/>\n",
    "7. [Best Model ](#7)<br/>\n",
    "8. [Results](#8)<br/>\n",
    "   [8a. Interpretability](#8a)<br/>\n",
    "   [8b. Predictions](#8b)<br/>"
   ]
  },
  {
   "cell_type": "code",
   "execution_count": 68,
   "metadata": {},
   "outputs": [],
   "source": [
    "import pandas as pd\n",
    "import numpy as np\n",
    "import sklearn\n",
    "import statsmodels.api as sm\n",
    "import statsmodels.formula.api as smf\n",
    "import pylab as py\n",
    "import seaborn as sns\n",
    "import matplotlib.pyplot as plt\n",
    "import scipy.stats as stats\n",
    "\n"
   ]
  },
  {
   "cell_type": "code",
   "execution_count": 2,
   "metadata": {},
   "outputs": [],
   "source": [
    "from sklearn.pipeline import Pipeline\n",
    "from sklearn.preprocessing import StandardScaler, PolynomialFeatures\n",
    "from sklearn.linear_model import LinearRegression, Lasso, Ridge, ElasticNet\n",
    "from sklearn.model_selection import cross_val_score, train_test_split, KFold\n",
    "from sklearn.metrics import r2_score, mean_squared_error\n",
    "%matplotlib inline\n"
   ]
  },
  {
   "cell_type": "markdown",
   "metadata": {},
   "source": [
    "## 1. Research Question<a id='1'></a> \n",
    "\n",
    "* RQ. Can a model predict a movie adaptaion <sup>1</sup> international total gross revenue based on movie data available on boxofficemojo.com?\n",
    "* Data source: boxofficemojo.com \n",
    "* Error metric: mean_squared_error\n",
    "\n",
    "<sup>1</sup> Adapted from books, television shows, events, video games, or plays. \n"
   ]
  },
  {
   "cell_type": "markdown",
   "metadata": {},
   "source": [
    "## 2. Scraped [Movie Adaptations Data](https://github.com/slp22/regression-project/blob/main/adaptation_movies_webscraping.ipynb) \n"
   ]
  },
  {
   "cell_type": "markdown",
   "metadata": {},
   "source": [
    "## 3. Exporatory Data Analysis: [Movie Adaptations Dataframe](https://github.com/slp22/regression-project/blob/main/adaptation_movies_eda.ipynb) "
   ]
  },
  {
   "cell_type": "code",
   "execution_count": 3,
   "metadata": {},
   "outputs": [
    {
     "data": {
      "text/html": [
       "<div>\n",
       "<style scoped>\n",
       "    .dataframe tbody tr th:only-of-type {\n",
       "        vertical-align: middle;\n",
       "    }\n",
       "\n",
       "    .dataframe tbody tr th {\n",
       "        vertical-align: top;\n",
       "    }\n",
       "\n",
       "    .dataframe thead th {\n",
       "        text-align: right;\n",
       "    }\n",
       "</style>\n",
       "<table border=\"1\" class=\"dataframe\">\n",
       "  <thead>\n",
       "    <tr style=\"text-align: right;\">\n",
       "      <th></th>\n",
       "      <th>international_total_gross</th>\n",
       "      <th>domestic_total_gross</th>\n",
       "      <th>rank</th>\n",
       "      <th>movie_title</th>\n",
       "      <th>max_theaters</th>\n",
       "      <th>opening_theathers</th>\n",
       "      <th>worldwide_total_gross</th>\n",
       "      <th>domestic_opening</th>\n",
       "      <th>budget</th>\n",
       "      <th>release_date</th>\n",
       "      <th>runtime</th>\n",
       "      <th>distributor</th>\n",
       "      <th>genres</th>\n",
       "      <th>rating</th>\n",
       "    </tr>\n",
       "  </thead>\n",
       "  <tbody>\n",
       "    <tr>\n",
       "      <th>0</th>\n",
       "      <td>1119261396</td>\n",
       "      <td>543638043</td>\n",
       "      <td>6</td>\n",
       "      <td>The Lion King</td>\n",
       "      <td>4802.0</td>\n",
       "      <td>4725.0</td>\n",
       "      <td>1662899439</td>\n",
       "      <td>191770759</td>\n",
       "      <td>260000000</td>\n",
       "      <td>20190711</td>\n",
       "      <td>118.0</td>\n",
       "      <td>Walt Disney Studios Motion Pictures</td>\n",
       "      <td>Adventure Animation Drama Family Musical</td>\n",
       "      <td>PG</td>\n",
       "    </tr>\n",
       "  </tbody>\n",
       "</table>\n",
       "</div>"
      ],
      "text/plain": [
       "   international_total_gross  domestic_total_gross  rank    movie_title  \\\n",
       "0                 1119261396             543638043     6  The Lion King   \n",
       "\n",
       "   max_theaters  opening_theathers  worldwide_total_gross  domestic_opening  \\\n",
       "0        4802.0             4725.0             1662899439         191770759   \n",
       "\n",
       "      budget  release_date  runtime                          distributor  \\\n",
       "0  260000000      20190711    118.0  Walt Disney Studios Motion Pictures   \n",
       "\n",
       "                                     genres rating  \n",
       "0  Adventure Animation Drama Family Musical     PG  "
      ]
     },
     "execution_count": 3,
     "metadata": {},
     "output_type": "execute_result"
    }
   ],
   "source": [
    "movie_df = pd.read_csv('clean_df.csv')\n",
    "movie_df.drop(columns=['link_stub'], inplace=True)\n",
    "movie_df.head(1)"
   ]
  },
  {
   "cell_type": "code",
   "execution_count": 4,
   "metadata": {},
   "outputs": [
    {
     "data": {
      "text/html": [
       "<div>\n",
       "<style scoped>\n",
       "    .dataframe tbody tr th:only-of-type {\n",
       "        vertical-align: middle;\n",
       "    }\n",
       "\n",
       "    .dataframe tbody tr th {\n",
       "        vertical-align: top;\n",
       "    }\n",
       "\n",
       "    .dataframe thead th {\n",
       "        text-align: right;\n",
       "    }\n",
       "</style>\n",
       "<table border=\"1\" class=\"dataframe\">\n",
       "  <thead>\n",
       "    <tr style=\"text-align: right;\">\n",
       "      <th></th>\n",
       "      <th>international_total_gross</th>\n",
       "      <th>domestic_total_gross</th>\n",
       "      <th>rank</th>\n",
       "      <th>max_theaters</th>\n",
       "      <th>opening_theathers</th>\n",
       "      <th>worldwide_total_gross</th>\n",
       "      <th>domestic_opening</th>\n",
       "      <th>budget</th>\n",
       "      <th>release_date</th>\n",
       "      <th>runtime</th>\n",
       "    </tr>\n",
       "  </thead>\n",
       "  <tbody>\n",
       "    <tr>\n",
       "      <th>count</th>\n",
       "      <td>9.010000e+02</td>\n",
       "      <td>9.010000e+02</td>\n",
       "      <td>901.000000</td>\n",
       "      <td>892.000000</td>\n",
       "      <td>883.000000</td>\n",
       "      <td>9.010000e+02</td>\n",
       "      <td>9.010000e+02</td>\n",
       "      <td>9.010000e+02</td>\n",
       "      <td>9.010000e+02</td>\n",
       "      <td>888.000000</td>\n",
       "    </tr>\n",
       "    <tr>\n",
       "      <th>mean</th>\n",
       "      <td>9.183527e+07</td>\n",
       "      <td>6.763279e+07</td>\n",
       "      <td>497.576027</td>\n",
       "      <td>2387.964126</td>\n",
       "      <td>2319.178935</td>\n",
       "      <td>1.493606e+08</td>\n",
       "      <td>2.050866e+07</td>\n",
       "      <td>4.292592e+07</td>\n",
       "      <td>2.003508e+07</td>\n",
       "      <td>106.838964</td>\n",
       "    </tr>\n",
       "    <tr>\n",
       "      <th>std</th>\n",
       "      <td>1.469717e+08</td>\n",
       "      <td>8.387197e+07</td>\n",
       "      <td>272.863922</td>\n",
       "      <td>1186.793401</td>\n",
       "      <td>1241.689206</td>\n",
       "      <td>2.288027e+08</td>\n",
       "      <td>2.884948e+07</td>\n",
       "      <td>5.459796e+07</td>\n",
       "      <td>1.038582e+05</td>\n",
       "      <td>18.167391</td>\n",
       "    </tr>\n",
       "    <tr>\n",
       "      <th>min</th>\n",
       "      <td>9.800000e+01</td>\n",
       "      <td>7.420000e+02</td>\n",
       "      <td>6.000000</td>\n",
       "      <td>1.000000</td>\n",
       "      <td>1.000000</td>\n",
       "      <td>0.000000e+00</td>\n",
       "      <td>0.000000e+00</td>\n",
       "      <td>0.000000e+00</td>\n",
       "      <td>1.978122e+07</td>\n",
       "      <td>63.000000</td>\n",
       "    </tr>\n",
       "    <tr>\n",
       "      <th>25%</th>\n",
       "      <td>9.418365e+06</td>\n",
       "      <td>1.501365e+07</td>\n",
       "      <td>266.000000</td>\n",
       "      <td>1533.250000</td>\n",
       "      <td>1427.000000</td>\n",
       "      <td>2.717350e+05</td>\n",
       "      <td>4.003993e+06</td>\n",
       "      <td>0.000000e+00</td>\n",
       "      <td>1.996052e+07</td>\n",
       "      <td>94.000000</td>\n",
       "    </tr>\n",
       "    <tr>\n",
       "      <th>50%</th>\n",
       "      <td>3.345942e+07</td>\n",
       "      <td>3.968769e+07</td>\n",
       "      <td>500.000000</td>\n",
       "      <td>2608.500000</td>\n",
       "      <td>2598.000000</td>\n",
       "      <td>6.005214e+07</td>\n",
       "      <td>1.107158e+07</td>\n",
       "      <td>2.200000e+07</td>\n",
       "      <td>2.005041e+07</td>\n",
       "      <td>103.000000</td>\n",
       "    </tr>\n",
       "    <tr>\n",
       "      <th>75%</th>\n",
       "      <td>1.049362e+08</td>\n",
       "      <td>8.241850e+07</td>\n",
       "      <td>734.000000</td>\n",
       "      <td>3259.000000</td>\n",
       "      <td>3230.500000</td>\n",
       "      <td>1.857703e+08</td>\n",
       "      <td>2.416611e+07</td>\n",
       "      <td>6.800000e+07</td>\n",
       "      <td>2.012072e+07</td>\n",
       "      <td>116.000000</td>\n",
       "    </tr>\n",
       "    <tr>\n",
       "      <th>max</th>\n",
       "      <td>1.119261e+09</td>\n",
       "      <td>5.436380e+08</td>\n",
       "      <td>964.000000</td>\n",
       "      <td>4802.000000</td>\n",
       "      <td>4725.000000</td>\n",
       "      <td>1.662899e+09</td>\n",
       "      <td>1.917708e+08</td>\n",
       "      <td>2.700000e+08</td>\n",
       "      <td>2.022030e+07</td>\n",
       "      <td>187.000000</td>\n",
       "    </tr>\n",
       "  </tbody>\n",
       "</table>\n",
       "</div>"
      ],
      "text/plain": [
       "       international_total_gross  domestic_total_gross        rank  \\\n",
       "count               9.010000e+02          9.010000e+02  901.000000   \n",
       "mean                9.183527e+07          6.763279e+07  497.576027   \n",
       "std                 1.469717e+08          8.387197e+07  272.863922   \n",
       "min                 9.800000e+01          7.420000e+02    6.000000   \n",
       "25%                 9.418365e+06          1.501365e+07  266.000000   \n",
       "50%                 3.345942e+07          3.968769e+07  500.000000   \n",
       "75%                 1.049362e+08          8.241850e+07  734.000000   \n",
       "max                 1.119261e+09          5.436380e+08  964.000000   \n",
       "\n",
       "       max_theaters  opening_theathers  worldwide_total_gross  \\\n",
       "count    892.000000         883.000000           9.010000e+02   \n",
       "mean    2387.964126        2319.178935           1.493606e+08   \n",
       "std     1186.793401        1241.689206           2.288027e+08   \n",
       "min        1.000000           1.000000           0.000000e+00   \n",
       "25%     1533.250000        1427.000000           2.717350e+05   \n",
       "50%     2608.500000        2598.000000           6.005214e+07   \n",
       "75%     3259.000000        3230.500000           1.857703e+08   \n",
       "max     4802.000000        4725.000000           1.662899e+09   \n",
       "\n",
       "       domestic_opening        budget  release_date     runtime  \n",
       "count      9.010000e+02  9.010000e+02  9.010000e+02  888.000000  \n",
       "mean       2.050866e+07  4.292592e+07  2.003508e+07  106.838964  \n",
       "std        2.884948e+07  5.459796e+07  1.038582e+05   18.167391  \n",
       "min        0.000000e+00  0.000000e+00  1.978122e+07   63.000000  \n",
       "25%        4.003993e+06  0.000000e+00  1.996052e+07   94.000000  \n",
       "50%        1.107158e+07  2.200000e+07  2.005041e+07  103.000000  \n",
       "75%        2.416611e+07  6.800000e+07  2.012072e+07  116.000000  \n",
       "max        1.917708e+08  2.700000e+08  2.022030e+07  187.000000  "
      ]
     },
     "execution_count": 4,
     "metadata": {},
     "output_type": "execute_result"
    }
   ],
   "source": [
    "movie_df.describe()"
   ]
  },
  {
   "cell_type": "code",
   "execution_count": 5,
   "metadata": {},
   "outputs": [
    {
     "data": {
      "text/plain": [
       "international_total_gross      0\n",
       "domestic_total_gross           0\n",
       "rank                           0\n",
       "movie_title                    0\n",
       "max_theaters                   9\n",
       "opening_theathers             18\n",
       "worldwide_total_gross          0\n",
       "domestic_opening               0\n",
       "budget                         0\n",
       "release_date                   0\n",
       "runtime                       13\n",
       "distributor                    2\n",
       "genres                         0\n",
       "rating                       167\n",
       "dtype: int64"
      ]
     },
     "execution_count": 5,
     "metadata": {},
     "output_type": "execute_result"
    }
   ],
   "source": [
    "# check for null values\n",
    "movie_df.isnull().sum()"
   ]
  },
  {
   "cell_type": "code",
   "execution_count": 6,
   "metadata": {},
   "outputs": [],
   "source": [
    "# drop null values\n",
    "movie_df.dropna(axis=0, how='any', inplace=True)"
   ]
  },
  {
   "cell_type": "code",
   "execution_count": 7,
   "metadata": {},
   "outputs": [
    {
     "data": {
      "text/plain": [
       "international_total_gross    0\n",
       "domestic_total_gross         0\n",
       "rank                         0\n",
       "movie_title                  0\n",
       "max_theaters                 0\n",
       "opening_theathers            0\n",
       "worldwide_total_gross        0\n",
       "domestic_opening             0\n",
       "budget                       0\n",
       "release_date                 0\n",
       "runtime                      0\n",
       "distributor                  0\n",
       "genres                       0\n",
       "rating                       0\n",
       "dtype: int64"
      ]
     },
     "execution_count": 7,
     "metadata": {},
     "output_type": "execute_result"
    }
   ],
   "source": [
    "# double check for null values\n",
    "movie_df.isnull().sum()"
   ]
  },
  {
   "cell_type": "code",
   "execution_count": 8,
   "metadata": {},
   "outputs": [
    {
     "name": "stdout",
     "output_type": "stream",
     "text": [
      "<class 'pandas.core.frame.DataFrame'>\n",
      "Int64Index: 718 entries, 0 to 900\n",
      "Data columns (total 14 columns):\n",
      " #   Column                     Non-Null Count  Dtype  \n",
      "---  ------                     --------------  -----  \n",
      " 0   international_total_gross  718 non-null    int64  \n",
      " 1   domestic_total_gross       718 non-null    int64  \n",
      " 2   rank                       718 non-null    int64  \n",
      " 3   movie_title                718 non-null    object \n",
      " 4   max_theaters               718 non-null    float64\n",
      " 5   opening_theathers          718 non-null    float64\n",
      " 6   worldwide_total_gross      718 non-null    int64  \n",
      " 7   domestic_opening           718 non-null    int64  \n",
      " 8   budget                     718 non-null    int64  \n",
      " 9   release_date               718 non-null    int64  \n",
      " 10  runtime                    718 non-null    float64\n",
      " 11  distributor                718 non-null    object \n",
      " 12  genres                     718 non-null    object \n",
      " 13  rating                     718 non-null    object \n",
      "dtypes: float64(3), int64(7), object(4)\n",
      "memory usage: 84.1+ KB\n"
     ]
    }
   ],
   "source": [
    "movie_df.info()"
   ]
  },
  {
   "cell_type": "markdown",
   "metadata": {},
   "source": [
    "### 3a. Explore features correlation<a id='3a'></a> "
   ]
  },
  {
   "cell_type": "code",
   "execution_count": 9,
   "metadata": {},
   "outputs": [],
   "source": [
    "# sns.pairplot(movie_df, height=5, aspect=1.5);"
   ]
  },
  {
   "cell_type": "code",
   "execution_count": 10,
   "metadata": {},
   "outputs": [
    {
     "data": {
      "image/png": "[encoded data removed]",
      "text/plain": [
       "<Figure size 432x288 with 2 Axes>"
      ]
     },
     "metadata": {
      "needs_background": "light"
     },
     "output_type": "display_data"
    }
   ],
   "source": [
    "# heatmap correlation matrix\n",
    "sns.heatmap(movie_df.corr(), cmap=\"seismic\", annot=True, vmin=-1, vmax=1);"
   ]
  },
  {
   "cell_type": "markdown",
   "metadata": {},
   "source": [
    "### Correlation Summary\n",
    "\n",
    "#### Target-Features\n",
    "*target = `international_total_gross`*\n",
    "* target correlated with (highest to lowest):\n",
    "    * `domestic_total_gross`\n",
    "    * `domestic_opening`\n",
    "    * `budget`\n",
    "    * `max_theaters`\n",
    "    * `opening_theathers`\n",
    "\n",
    "Target is highly correlated with `worldwide_total_gross`; has known multicollinearity as:<br/>\n",
    "`worldwide_total_gross` = `domestic_total_gross` + `international_total_gross`\n",
    "\n",
    "####  Features-Features: Positive Correlation\n",
    "* domestic_total_gross:\n",
    "    * `domestic_opening`\n",
    "    * `worldwide_total_gross`\n",
    "    * `budget`\n",
    "    * `max_theaters`\n",
    "    * `opening_theathers`\n",
    "* domestic_opening:<br/>\n",
    "    * `budget`\n",
    "    * `max_theaters`\n",
    "    * `opening_theathers`\n",
    "* max_theaters:\n",
    "    * `opening_theathers`\n",
    "    * `budget`\n",
    "    * `domestic_opening`\n",
    "\n",
    "####  Features-Features: Negative Correlation\n",
    "* rank:\n",
    "    * `domestic_total_gross`\n",
    "    * `max_theaters`\n",
    "    * `opening_theathers`\n",
    "    * `domestic_opening`\n",
    "    * `budget`\n",
    "    \n"
   ]
  },
  {
   "cell_type": "markdown",
   "metadata": {},
   "source": [
    "### 3b. Explore and handle categorical data<a id='3b'></a> "
   ]
  },
  {
   "cell_type": "code",
   "execution_count": 11,
   "metadata": {},
   "outputs": [
    {
     "name": "stdout",
     "output_type": "stream",
     "text": [
      "Unique genres: 281\n",
      "\n",
      "\n",
      "Genres counts\n",
      " Action Adventure SciFi                                    38\n",
      "Comedy Drama Romance                                      20\n",
      "Action Adventure SciFi Thriller                           20\n",
      "Drama Romance                                             16\n",
      "Comedy                                                    16\n",
      "                                                          ..\n",
      "Adventure Comedy Drama Fantasy Romance                     1\n",
      "Action Adventure Drama                                     1\n",
      "Action Drama Horror                                        1\n",
      "Action Adventure Animation Comedy Family Fantasy SciFi     1\n",
      "Comedy Horror Mystery Thriller                             1\n",
      "Name: genres, Length: 281, dtype: int64\n"
     ]
    }
   ],
   "source": [
    "# explore genres as candidate for dummies\n",
    "print('Unique genres:', movie_df.genres.nunique())\n",
    "print('\\n')\n",
    "print('Genres counts\\n', movie_df['genres'].value_counts())\n",
    "# 👎 too many; look for other dummy variables. "
   ]
  },
  {
   "cell_type": "code",
   "execution_count": 12,
   "metadata": {},
   "outputs": [
    {
     "name": "stdout",
     "output_type": "stream",
     "text": [
      "Unique MPAA ratings: 4\n",
      "\n",
      "\n",
      "Rating counts\n",
      " PG13    304\n",
      "R       217\n",
      "PG      189\n",
      "G         8\n",
      "Name: rating, dtype: int64\n"
     ]
    }
   ],
   "source": [
    "# explore MPAA rating as candidate for dummies\n",
    "print('Unique MPAA ratings:', movie_df.rating.nunique())\n",
    "print('\\n')\n",
    "rating_count = movie_df['rating'].value_counts()\n",
    "print('Rating counts\\n', rating_count)\n",
    "# 👍 easy-to-use for dummy variables"
   ]
  },
  {
   "cell_type": "code",
   "execution_count": 13,
   "metadata": {},
   "outputs": [
    {
     "data": {
      "text/html": [
       "<div>\n",
       "<style scoped>\n",
       "    .dataframe tbody tr th:only-of-type {\n",
       "        vertical-align: middle;\n",
       "    }\n",
       "\n",
       "    .dataframe tbody tr th {\n",
       "        vertical-align: top;\n",
       "    }\n",
       "\n",
       "    .dataframe thead th {\n",
       "        text-align: right;\n",
       "    }\n",
       "</style>\n",
       "<table border=\"1\" class=\"dataframe\">\n",
       "  <thead>\n",
       "    <tr style=\"text-align: right;\">\n",
       "      <th></th>\n",
       "      <th>international_total_gross</th>\n",
       "      <th>domestic_total_gross</th>\n",
       "      <th>rank</th>\n",
       "      <th>movie_title</th>\n",
       "      <th>max_theaters</th>\n",
       "      <th>opening_theathers</th>\n",
       "      <th>worldwide_total_gross</th>\n",
       "      <th>domestic_opening</th>\n",
       "      <th>budget</th>\n",
       "      <th>release_date</th>\n",
       "      <th>runtime</th>\n",
       "      <th>distributor</th>\n",
       "      <th>genres</th>\n",
       "      <th>rating_PG</th>\n",
       "      <th>rating_PG13</th>\n",
       "      <th>rating_R</th>\n",
       "    </tr>\n",
       "  </thead>\n",
       "  <tbody>\n",
       "    <tr>\n",
       "      <th>0</th>\n",
       "      <td>1119261396</td>\n",
       "      <td>543638043</td>\n",
       "      <td>6</td>\n",
       "      <td>The Lion King</td>\n",
       "      <td>4802.0</td>\n",
       "      <td>4725.0</td>\n",
       "      <td>1662899439</td>\n",
       "      <td>191770759</td>\n",
       "      <td>260000000</td>\n",
       "      <td>20190711</td>\n",
       "      <td>118.0</td>\n",
       "      <td>Walt Disney Studios Motion Pictures</td>\n",
       "      <td>Adventure Animation Drama Family Musical</td>\n",
       "      <td>1</td>\n",
       "      <td>0</td>\n",
       "      <td>0</td>\n",
       "    </tr>\n",
       "  </tbody>\n",
       "</table>\n",
       "</div>"
      ],
      "text/plain": [
       "   international_total_gross  domestic_total_gross  rank    movie_title  \\\n",
       "0                 1119261396             543638043     6  The Lion King   \n",
       "\n",
       "   max_theaters  opening_theathers  worldwide_total_gross  domestic_opening  \\\n",
       "0        4802.0             4725.0             1662899439         191770759   \n",
       "\n",
       "      budget  release_date  runtime                          distributor  \\\n",
       "0  260000000      20190711    118.0  Walt Disney Studios Motion Pictures   \n",
       "\n",
       "                                     genres  rating_PG  rating_PG13  rating_R  \n",
       "0  Adventure Animation Drama Family Musical          1            0         0  "
      ]
     },
     "execution_count": 13,
     "metadata": {},
     "output_type": "execute_result"
    }
   ],
   "source": [
    "# get dummies for MPAA rating \n",
    "df_dummies_rating = pd.get_dummies(movie_df, columns=['rating'], drop_first=True)\n",
    "df_dummies_rating.head(2)\n",
    "movie_df = df_dummies_rating\n",
    "movie_df.head(1)"
   ]
  },
  {
   "cell_type": "code",
   "execution_count": 14,
   "metadata": {},
   "outputs": [
    {
     "name": "stdout",
     "output_type": "stream",
     "text": [
      "Unique distributors: 66\n",
      "\n",
      "\n",
      "Distributor count\n",
      " Warner Bros.                           123\n",
      "Twentieth Century Fox                   89\n",
      "Paramount Pictures                      88\n",
      "Walt Disney Studios Motion Pictures     73\n",
      "Universal Pictures                      68\n",
      "                                      ... \n",
      "Fox Atomic                               1\n",
      "United Artists Releasing                 1\n",
      "Pantelion Films                          1\n",
      "TriStar Pictures                         1\n",
      "Cinedigm Entertainment Group             1\n",
      "Name: distributor, Length: 66, dtype: int64\n"
     ]
    }
   ],
   "source": [
    "# explore distributor as candidate for dummies \n",
    "print('Unique distributors:', movie_df.distributor.nunique())\n",
    "print('\\n')\n",
    "distributor_count = movie_df['distributor'].value_counts()\n",
    "print('Distributor count\\n', distributor_count)\n",
    "# 👍 Reasonable amount, group lower frequencies into an other category."
   ]
  },
  {
   "cell_type": "code",
   "execution_count": 15,
   "metadata": {},
   "outputs": [
    {
     "data": {
      "text/html": [
       "<div>\n",
       "<style scoped>\n",
       "    .dataframe tbody tr th:only-of-type {\n",
       "        vertical-align: middle;\n",
       "    }\n",
       "\n",
       "    .dataframe tbody tr th {\n",
       "        vertical-align: top;\n",
       "    }\n",
       "\n",
       "    .dataframe thead th {\n",
       "        text-align: right;\n",
       "    }\n",
       "</style>\n",
       "<table border=\"1\" class=\"dataframe\">\n",
       "  <thead>\n",
       "    <tr style=\"text-align: right;\">\n",
       "      <th></th>\n",
       "      <th>international_total_gross</th>\n",
       "      <th>domestic_total_gross</th>\n",
       "      <th>rank</th>\n",
       "      <th>movie_title</th>\n",
       "      <th>max_theaters</th>\n",
       "      <th>opening_theathers</th>\n",
       "      <th>worldwide_total_gross</th>\n",
       "      <th>domestic_opening</th>\n",
       "      <th>budget</th>\n",
       "      <th>release_date</th>\n",
       "      <th>...</th>\n",
       "      <th>rating_PG</th>\n",
       "      <th>rating_PG13</th>\n",
       "      <th>rating_R</th>\n",
       "      <th>distributor_Paramount Pictures</th>\n",
       "      <th>distributor_Sony Pictures Entertainment (SPE)</th>\n",
       "      <th>distributor_Twentieth Century Fox</th>\n",
       "      <th>distributor_Universal Pictures</th>\n",
       "      <th>distributor_Walt Disney Studios Motion Pictures</th>\n",
       "      <th>distributor_Warner Bros.</th>\n",
       "      <th>distributor_other</th>\n",
       "    </tr>\n",
       "  </thead>\n",
       "  <tbody>\n",
       "    <tr>\n",
       "      <th>0</th>\n",
       "      <td>1119261396</td>\n",
       "      <td>543638043</td>\n",
       "      <td>6</td>\n",
       "      <td>The Lion King</td>\n",
       "      <td>4802.0</td>\n",
       "      <td>4725.0</td>\n",
       "      <td>1662899439</td>\n",
       "      <td>191770759</td>\n",
       "      <td>260000000</td>\n",
       "      <td>20190711</td>\n",
       "      <td>...</td>\n",
       "      <td>1</td>\n",
       "      <td>0</td>\n",
       "      <td>0</td>\n",
       "      <td>0</td>\n",
       "      <td>0</td>\n",
       "      <td>0</td>\n",
       "      <td>0</td>\n",
       "      <td>1</td>\n",
       "      <td>0</td>\n",
       "      <td>0</td>\n",
       "    </tr>\n",
       "  </tbody>\n",
       "</table>\n",
       "<p>1 rows × 22 columns</p>\n",
       "</div>"
      ],
      "text/plain": [
       "   international_total_gross  domestic_total_gross  rank    movie_title  \\\n",
       "0                 1119261396             543638043     6  The Lion King   \n",
       "\n",
       "   max_theaters  opening_theathers  worldwide_total_gross  domestic_opening  \\\n",
       "0        4802.0             4725.0             1662899439         191770759   \n",
       "\n",
       "      budget  release_date  ...  rating_PG rating_PG13  rating_R  \\\n",
       "0  260000000      20190711  ...          1           0         0   \n",
       "\n",
       "   distributor_Paramount Pictures  \\\n",
       "0                               0   \n",
       "\n",
       "   distributor_Sony Pictures Entertainment (SPE)  \\\n",
       "0                                              0   \n",
       "\n",
       "   distributor_Twentieth Century Fox  distributor_Universal Pictures  \\\n",
       "0                                  0                               0   \n",
       "\n",
       "   distributor_Walt Disney Studios Motion Pictures  distributor_Warner Bros.  \\\n",
       "0                                                1                         0   \n",
       "\n",
       "   distributor_other  \n",
       "0                  0  \n",
       "\n",
       "[1 rows x 22 columns]"
      ]
     },
     "execution_count": 15,
     "metadata": {},
     "output_type": "execute_result"
    }
   ],
   "source": [
    "# create distributor other category\n",
    "distributor_other = list(distributor_count[distributor_count < 20].index)\n",
    "movie_df['distributor'] = movie_df['distributor'].replace(distributor_other, 'other')\n",
    "\n",
    "# get dummies for distributor\n",
    "df_dummies_distributor = pd.get_dummies(movie_df, columns=['distributor'], drop_first=True)\n",
    "movie_df = df_dummies_distributor\n",
    "movie_df.head(1)"
   ]
  },
  {
   "cell_type": "code",
   "execution_count": 16,
   "metadata": {},
   "outputs": [
    {
     "data": {
      "text/plain": [
       "Index(['international_total_gross', 'domestic_total_gross', 'rank',\n",
       "       'movie_title', 'max_theaters', 'opening_theathers',\n",
       "       'worldwide_total_gross', 'domestic_opening', 'budget', 'release_date',\n",
       "       'runtime', 'genres', 'rating_PG', 'rating_PG13', 'rating_R',\n",
       "       'distributor_Paramount Pictures',\n",
       "       'distributor_Sony Pictures Entertainment (SPE)',\n",
       "       'distributor_Twentieth Century Fox', 'distributor_Universal Pictures',\n",
       "       'distributor_Walt Disney Studios Motion Pictures',\n",
       "       'distributor_Warner Bros.', 'distributor_other'],\n",
       "      dtype='object')"
      ]
     },
     "execution_count": 16,
     "metadata": {},
     "output_type": "execute_result"
    }
   ],
   "source": [
    "movie_df.columns"
   ]
  },
  {
   "cell_type": "markdown",
   "metadata": {},
   "source": [
    "[back to top](#top)"
   ]
  },
  {
   "cell_type": "markdown",
   "metadata": {},
   "source": [
    "## 4. Cross-Validation<a id='4'></a> "
   ]
  },
  {
   "cell_type": "code",
   "execution_count": 17,
   "metadata": {},
   "outputs": [],
   "source": [
    "# separate target from select features\n",
    "y = movie_df['international_total_gross']\n",
    "X = movie_df.loc[:,['domestic_total_gross', \n",
    "                    'domestic_opening', \n",
    "                    'budget',\n",
    "                    'max_theaters', \n",
    "                    'opening_theathers',\n",
    "                    'rank',\n",
    "                    'runtime',\n",
    "                    'release_date',\n",
    "#                     'movie_title', \n",
    "                    'rating_PG', \n",
    "                    'rating_PG13',\n",
    "                    'rating_R',\n",
    "                    'distributor_Paramount Pictures',\n",
    "                    'distributor_Sony Pictures Entertainment (SPE)',\n",
    "                    'distributor_Twentieth Century Fox', \n",
    "                    'distributor_Universal Pictures',\n",
    "                    'distributor_Walt Disney Studios Motion Pictures',\n",
    "                    'distributor_Warner Bros.', \n",
    "                    'distributor_other']]"
   ]
  },
  {
   "cell_type": "code",
   "execution_count": 18,
   "metadata": {},
   "outputs": [],
   "source": [
    "# split test data set\n",
    "X_train, X_test, y_train, y_test = train_test_split(X, y, test_size=0.2, random_state=42)"
   ]
  },
  {
   "cell_type": "code",
   "execution_count": 19,
   "metadata": {},
   "outputs": [
    {
     "name": "stdout",
     "output_type": "stream",
     "text": [
      "<class 'pandas.core.frame.DataFrame'>\n",
      "Int64Index: 574 entries, 58 to 107\n",
      "Data columns (total 18 columns):\n",
      " #   Column                                           Non-Null Count  Dtype  \n",
      "---  ------                                           --------------  -----  \n",
      " 0   domestic_total_gross                             574 non-null    int64  \n",
      " 1   domestic_opening                                 574 non-null    int64  \n",
      " 2   budget                                           574 non-null    int64  \n",
      " 3   max_theaters                                     574 non-null    float64\n",
      " 4   opening_theathers                                574 non-null    float64\n",
      " 5   rank                                             574 non-null    int64  \n",
      " 6   runtime                                          574 non-null    float64\n",
      " 7   release_date                                     574 non-null    int64  \n",
      " 8   rating_PG                                        574 non-null    uint8  \n",
      " 9   rating_PG13                                      574 non-null    uint8  \n",
      " 10  rating_R                                         574 non-null    uint8  \n",
      " 11  distributor_Paramount Pictures                   574 non-null    uint8  \n",
      " 12  distributor_Sony Pictures Entertainment (SPE)    574 non-null    uint8  \n",
      " 13  distributor_Twentieth Century Fox                574 non-null    uint8  \n",
      " 14  distributor_Universal Pictures                   574 non-null    uint8  \n",
      " 15  distributor_Walt Disney Studios Motion Pictures  574 non-null    uint8  \n",
      " 16  distributor_Warner Bros.                         574 non-null    uint8  \n",
      " 17  distributor_other                                574 non-null    uint8  \n",
      "dtypes: float64(3), int64(5), uint8(10)\n",
      "memory usage: 46.0 KB\n"
     ]
    }
   ],
   "source": [
    "X_train.info()"
   ]
  },
  {
   "cell_type": "code",
   "execution_count": 20,
   "metadata": {},
   "outputs": [],
   "source": [
    "## set up k-folds \n",
    "kfold = KFold(n_splits=5, shuffle=True, random_state = 42)"
   ]
  },
  {
   "cell_type": "markdown",
   "metadata": {},
   "source": [
    "[back to top](#top)"
   ]
  },
  {
   "cell_type": "markdown",
   "metadata": {},
   "source": [
    "## 5. Modeling<a id='5'></a> "
   ]
  },
  {
   "cell_type": "code",
   "execution_count": 21,
   "metadata": {},
   "outputs": [
    {
     "name": "stdout",
     "output_type": "stream",
     "text": [
      "k-fold indivdual scores: [0.7486569  0.757162   0.86214297 0.72927468 0.74714238]\n",
      "linear regression mean score:  0.7688757853732312\n"
     ]
    },
    {
     "data": {
      "text/plain": [
       "LinearRegression()"
      ]
     },
     "execution_count": 21,
     "metadata": {},
     "output_type": "execute_result"
    }
   ],
   "source": [
    "# simple linear regression\n",
    "lin_reg = LinearRegression()\n",
    "\n",
    "scores = cross_val_score(lin_reg, X_train, y_train, cv=kfold)\n",
    "print('k-fold indivdual scores:', scores)\n",
    "print(\"linear regression mean score: \", np.mean(scores))\n",
    "\n",
    "lin_reg.fit(X_train, y_train)"
   ]
  },
  {
   "cell_type": "code",
   "execution_count": 22,
   "metadata": {},
   "outputs": [
    {
     "data": {
      "image/png": "[encoded data removed]",
      "text/plain": [
       "<Figure size 432x288 with 1 Axes>"
      ]
     },
     "metadata": {
      "needs_background": "light"
     },
     "output_type": "display_data"
    }
   ],
   "source": [
    "# train: fitted vs. actual\n",
    "y_train_predict = lin_reg.predict(X_train)\n",
    "\n",
    "plt.scatter(y_train, y_train_predict, alpha=0.2)\n",
    "plt.plot([0, 400], [0, 400])\n",
    "plt.title(\"y_train_predict vs. y_train\");"
   ]
  },
  {
   "cell_type": "code",
   "execution_count": 23,
   "metadata": {},
   "outputs": [
    {
     "data": {
      "image/png": "[encoded data removed]",
      "text/plain": [
       "<Figure size 432x288 with 1 Axes>"
      ]
     },
     "metadata": {
      "needs_background": "light"
     },
     "output_type": "display_data"
    }
   ],
   "source": [
    "# test: fitted vs. actual\n",
    "y_test_predict = lin_reg.predict(X_test)\n",
    "\n",
    "plt.scatter(y_test, y_test_predict)\n",
    "plt.plot([0, 400], [0, 400])\n",
    "plt.title(\"y_test_pred vs. y_test\");"
   ]
  },
  {
   "cell_type": "code",
   "execution_count": 24,
   "metadata": {},
   "outputs": [
    {
     "data": {
      "text/plain": [
       "Text(0.5, 1.0, 'Residuals vs. Predicted')"
      ]
     },
     "execution_count": 24,
     "metadata": {},
     "output_type": "execute_result"
    },
    {
     "data": {
      "image/png": "[encoded data removed]",
      "text/plain": [
       "<Figure size 432x288 with 1 Axes>"
      ]
     },
     "metadata": {
      "needs_background": "light"
     },
     "output_type": "display_data"
    }
   ],
   "source": [
    "# residuals vs. predicted\n",
    "lin_reg_residuals = y_train - y_train_predict\n",
    "\n",
    "plt.scatter(y_train_predict, lin_reg_residuals)\n",
    "plt.plot([0,400], [0, 0])\n",
    "plt.title(\"Residuals vs. Predicted\")"
   ]
  },
  {
   "cell_type": "markdown",
   "metadata": {},
   "source": [
    "## 6. Model Tuning<a id='6'></a> "
   ]
  },
  {
   "cell_type": "code",
   "execution_count": 25,
   "metadata": {},
   "outputs": [
    {
     "name": "stderr",
     "output_type": "stream",
     "text": [
      "/Users/sandraparedes/opt/anaconda3/lib/python3.8/site-packages/sklearn/base.py:443: UserWarning: X has feature names, but StandardScaler was fitted without feature names\n",
      "  warnings.warn(\n",
      "/Users/sandraparedes/opt/anaconda3/lib/python3.8/site-packages/sklearn/base.py:443: UserWarning: X has feature names, but StandardScaler was fitted without feature names\n",
      "  warnings.warn(\n"
     ]
    }
   ],
   "source": [
    "# standard-scaling features before regularization \n",
    "std = StandardScaler()\n",
    "std.fit(X_train.values)\n",
    "\n",
    "# apply scaler to train data\n",
    "X_train_std = std.transform(X_train)\n",
    "\n",
    "# apply scaler to test data\n",
    "X_test_std = std.transform(X_test)"
   ]
  },
  {
   "cell_type": "markdown",
   "metadata": {},
   "source": [
    "### 6a. Regularization<a id='6a'></a> "
   ]
  },
  {
   "cell_type": "code",
   "execution_count": 32,
   "metadata": {},
   "outputs": [],
   "source": [
    "# alpha parameter number range\n",
    "# a_range = 10**np.linspace(-2,2,200)"
   ]
  },
  {
   "cell_type": "code",
   "execution_count": 39,
   "metadata": {},
   "outputs": [
    {
     "data": {
      "text/plain": [
       "Lasso(alpha=1000)"
      ]
     },
     "execution_count": 39,
     "metadata": {},
     "output_type": "execute_result"
    }
   ],
   "source": [
    "# lasso model\n",
    "lasso_model = Lasso(alpha = 1000)\n",
    "lasso_model.fit(X_train_std, y_train)"
   ]
  },
  {
   "cell_type": "code",
   "execution_count": 40,
   "metadata": {},
   "outputs": [
    {
     "data": {
      "text/plain": [
       "[('domestic_total_gross', 129376296.98786846),\n",
       " ('domestic_opening', 10039496.739888232),\n",
       " ('budget', 23276475.99760897),\n",
       " ('max_theaters', 9768654.51751922),\n",
       " ('opening_theathers', -7374879.242003454),\n",
       " ('rank', 24365539.347494036),\n",
       " ('runtime', 10475111.89636021),\n",
       " ('release_date', 11805649.570314046),\n",
       " ('rating_PG', 19504275.385536455),\n",
       " ('rating_PG13', 18953751.73729921),\n",
       " ('rating_R', 18506966.520896453),\n",
       " ('distributor_Paramount Pictures', 2563439.7493831697),\n",
       " ('distributor_Sony Pictures Entertainment (SPE)', 3946701.271349205),\n",
       " ('distributor_Twentieth Century Fox', 7771145.865045143),\n",
       " ('distributor_Universal Pictures', 2419316.9119878192),\n",
       " ('distributor_Walt Disney Studios Motion Pictures', 7057401.336859129),\n",
       " ('distributor_Warner Bros.', 5351564.513109605),\n",
       " ('distributor_other', 3966519.2494462947)]"
      ]
     },
     "execution_count": 40,
     "metadata": {},
     "output_type": "execute_result"
    }
   ],
   "source": [
    "list(zip(X_train.columns, lasso_model.coef_))"
   ]
  },
  {
   "cell_type": "code",
   "execution_count": 41,
   "metadata": {},
   "outputs": [
    {
     "data": {
      "text/plain": [
       "Ridge(alpha=1000)"
      ]
     },
     "execution_count": 41,
     "metadata": {},
     "output_type": "execute_result"
    }
   ],
   "source": [
    "# ridge model \n",
    "ridge_model = Ridge(alpha = 1000)\n",
    "ridge_model.fit(X_train_std, y_train)"
   ]
  },
  {
   "cell_type": "code",
   "execution_count": 42,
   "metadata": {},
   "outputs": [
    {
     "data": {
      "text/plain": [
       "[('domestic_total_gross', 28834397.204676356),\n",
       " ('domestic_opening', 26072565.657504786),\n",
       " ('budget', 16675896.428669898),\n",
       " ('max_theaters', 8320860.114495709),\n",
       " ('opening_theathers', 7494900.076725193),\n",
       " ('rank', -14136897.839843014),\n",
       " ('runtime', 12261042.001032893),\n",
       " ('release_date', 6072473.520566338),\n",
       " ('rating_PG', -3292.8959808435625),\n",
       " ('rating_PG13', 2370165.2666965183),\n",
       " ('rating_R', -2042099.0292138327),\n",
       " ('distributor_Paramount Pictures', -1472143.0855068136),\n",
       " ('distributor_Sony Pictures Entertainment (SPE)', -1002330.8902171563),\n",
       " ('distributor_Twentieth Century Fox', 432688.50490794313),\n",
       " ('distributor_Universal Pictures', -1545333.0744872333),\n",
       " ('distributor_Walt Disney Studios Motion Pictures', 4787040.484648554),\n",
       " ('distributor_Warner Bros.', 2160227.0124485344),\n",
       " ('distributor_other', -1094099.0523894662)]"
      ]
     },
     "execution_count": 42,
     "metadata": {},
     "output_type": "execute_result"
    }
   ],
   "source": [
    "list(zip(X_train.columns, ridge_model.coef_))"
   ]
  },
  {
   "cell_type": "code",
   "execution_count": 44,
   "metadata": {},
   "outputs": [
    {
     "data": {
      "text/plain": [
       "ElasticNet(alpha=1000, l1_ratio=1)"
      ]
     },
     "execution_count": 44,
     "metadata": {},
     "output_type": "execute_result"
    }
   ],
   "source": [
    "# elastic model \n",
    "elastic_model = ElasticNet(alpha = 1000, l1_ratio=1)\n",
    "elastic_model.fit(X_train_std, y_train)\n"
   ]
  },
  {
   "cell_type": "code",
   "execution_count": 45,
   "metadata": {},
   "outputs": [
    {
     "data": {
      "text/plain": [
       "[('domestic_total_gross', 129376296.98786846),\n",
       " ('domestic_opening', 10039496.739888232),\n",
       " ('budget', 23276475.99760897),\n",
       " ('max_theaters', 9768654.51751922),\n",
       " ('opening_theathers', -7374879.242003454),\n",
       " ('rank', 24365539.347494036),\n",
       " ('runtime', 10475111.89636021),\n",
       " ('release_date', 11805649.570314046),\n",
       " ('rating_PG', 19504275.385536455),\n",
       " ('rating_PG13', 18953751.73729921),\n",
       " ('rating_R', 18506966.520896453),\n",
       " ('distributor_Paramount Pictures', 2563439.7493831697),\n",
       " ('distributor_Sony Pictures Entertainment (SPE)', 3946701.271349205),\n",
       " ('distributor_Twentieth Century Fox', 7771145.865045143),\n",
       " ('distributor_Universal Pictures', 2419316.9119878192),\n",
       " ('distributor_Walt Disney Studios Motion Pictures', 7057401.336859129),\n",
       " ('distributor_Warner Bros.', 5351564.513109605),\n",
       " ('distributor_other', 3966519.2494462947)]"
      ]
     },
     "execution_count": 45,
     "metadata": {},
     "output_type": "execute_result"
    }
   ],
   "source": [
    "list(zip(X_train.columns, elastic_model.coef_))"
   ]
  },
  {
   "cell_type": "code",
   "execution_count": 46,
   "metadata": {},
   "outputs": [
    {
     "name": "stdout",
     "output_type": "stream",
     "text": [
      "Linear Regression: 5288170065095361.0\n",
      "Lasso Regression: 3.015688882486208e+32\n",
      "Ridge Regression: 3.0502321010351254e+31\n",
      "ElasticNet Regression: 3.015688882486208e+32\n"
     ]
    },
    {
     "name": "stderr",
     "output_type": "stream",
     "text": [
      "/Users/sandraparedes/opt/anaconda3/lib/python3.8/site-packages/sklearn/base.py:443: UserWarning: X has feature names, but Lasso was fitted without feature names\n",
      "  warnings.warn(\n",
      "/Users/sandraparedes/opt/anaconda3/lib/python3.8/site-packages/sklearn/base.py:443: UserWarning: X has feature names, but Ridge was fitted without feature names\n",
      "  warnings.warn(\n",
      "/Users/sandraparedes/opt/anaconda3/lib/python3.8/site-packages/sklearn/base.py:443: UserWarning: X has feature names, but ElasticNet was fitted without feature names\n",
      "  warnings.warn(\n"
     ]
    }
   ],
   "source": [
    "y_pred = lin_reg.predict(X_test)\n",
    "print(\"Linear Regression:\", mean_squared_error(y_test, y_pred))\n",
    "\n",
    "y_pred = lasso_model.predict(X_test)\n",
    "print(\"Lasso Regression:\", mean_squared_error(y_test, y_pred))\n",
    "\n",
    "y_pred = ridge_model.predict(X_test)\n",
    "print(\"Ridge Regression:\", mean_squared_error(y_test, y_pred))\n",
    "\n",
    "y_pred = elastic_model.predict(X_test)\n",
    "print(\"ElasticNet Regression:\", mean_squared_error(y_test, y_pred))"
   ]
  },
  {
   "cell_type": "markdown",
   "metadata": {},
   "source": [
    "[back to top](#top)"
   ]
  },
  {
   "cell_type": "markdown",
   "metadata": {},
   "source": [
    "### 6b. Features engineering<a id='6b'></a> "
   ]
  },
  {
   "cell_type": "code",
   "execution_count": 47,
   "metadata": {},
   "outputs": [
    {
     "name": "stdout",
     "output_type": "stream",
     "text": [
      "count zeros in international_total_gross: 0\n",
      "count of zeros in domestic_total_gross: 0\n",
      "count of zeros in budget: 214\n",
      "count of zeros in domestic_opening: 1\n"
     ]
    }
   ],
   "source": [
    "# log transformation for monetary columns \n",
    "\n",
    "# check for zeros in columns before log transformation \n",
    "count = (movie_df['international_total_gross'] == 0).sum()\n",
    "print('count zeros in international_total_gross:', count)\n",
    "\n",
    "count = (movie_df['domestic_total_gross'] == 0).sum()\n",
    "print('count of zeros in domestic_total_gross:', count)\n",
    "\n",
    "count = (movie_df['budget'] == 0).sum()\n",
    "print('count of zeros in budget:', count)\n",
    "# budget: min $0, max $270,000,000\n",
    "# 👎 zeros throwing division-zero error; will not transform \n",
    "\n",
    "count = (movie_df['domestic_opening'] == 0).sum()\n",
    "print('count of zeros in domestic_opening:', count)\n",
    "# domestic_opening: min $0, max $191,770,800\n",
    "# 👎 zeros throwing division-zero error; will not transform \n",
    "\n",
    "\n",
    "# 👍 international_total_gross and domestic_total_gross\n",
    "# international_total_gross: min $98, max $1,119,261,000\n",
    "movie_df['log_international_total_gross'] = np.log(movie_df['international_total_gross'])\n",
    "\n",
    "# domestic_total_gross: min $742, max $543,638,043\n",
    "movie_df['log_domestic_total_gross'] = np.log(movie_df['domestic_total_gross'])\n"
   ]
  },
  {
   "cell_type": "code",
   "execution_count": 48,
   "metadata": {},
   "outputs": [],
   "source": [
    "# profit = domestic_total_gross - budget\n",
    "movie_df['profit'] = (movie_df['domestic_total_gross'] - movie_df['budget'])"
   ]
  },
  {
   "cell_type": "code",
   "execution_count": 49,
   "metadata": {},
   "outputs": [],
   "source": [
    "# opening = domestic_opening * opening_theathers\n",
    "movie_df['opening'] = (movie_df['domestic_opening'] * movie_df['opening_theathers'])"
   ]
  },
  {
   "cell_type": "code",
   "execution_count": 54,
   "metadata": {},
   "outputs": [],
   "source": [
    "# opening_minus_budget = domestic_opening * budget\n",
    "movie_df['opening_minus_budget'] = (movie_df['domestic_opening'] - movie_df['budget'])"
   ]
  },
  {
   "cell_type": "code",
   "execution_count": 96,
   "metadata": {},
   "outputs": [],
   "source": [
    "# movie_df"
   ]
  },
  {
   "cell_type": "code",
   "execution_count": null,
   "metadata": {},
   "outputs": [],
   "source": []
  },
  {
   "cell_type": "code",
   "execution_count": null,
   "metadata": {},
   "outputs": [],
   "source": [
    "# lasso model\n",
    "lasso_model = Lasso(alpha = 1000)\n",
    "lasso_model.fit(X_train_std, y_train)"
   ]
  },
  {
   "cell_type": "code",
   "execution_count": null,
   "metadata": {},
   "outputs": [],
   "source": [
    "list(zip(X_train.columns, lasso_model.coef_))"
   ]
  },
  {
   "cell_type": "code",
   "execution_count": null,
   "metadata": {},
   "outputs": [],
   "source": []
  },
  {
   "cell_type": "code",
   "execution_count": null,
   "metadata": {},
   "outputs": [],
   "source": []
  },
  {
   "cell_type": "code",
   "execution_count": 97,
   "metadata": {},
   "outputs": [
    {
     "data": {
      "text/html": [
       "<div>\n",
       "<style scoped>\n",
       "    .dataframe tbody tr th:only-of-type {\n",
       "        vertical-align: middle;\n",
       "    }\n",
       "\n",
       "    .dataframe tbody tr th {\n",
       "        vertical-align: top;\n",
       "    }\n",
       "\n",
       "    .dataframe thead th {\n",
       "        text-align: right;\n",
       "    }\n",
       "</style>\n",
       "<table border=\"1\" class=\"dataframe\">\n",
       "  <thead>\n",
       "    <tr style=\"text-align: right;\">\n",
       "      <th></th>\n",
       "      <th>domestic_total_gross</th>\n",
       "      <th>domestic_opening</th>\n",
       "      <th>budget</th>\n",
       "      <th>max_theaters</th>\n",
       "      <th>opening_theathers</th>\n",
       "      <th>rank</th>\n",
       "      <th>runtime</th>\n",
       "      <th>release_date</th>\n",
       "      <th>rating_PG</th>\n",
       "      <th>rating_PG13</th>\n",
       "      <th>rating_R</th>\n",
       "      <th>distributor_Paramount Pictures</th>\n",
       "      <th>distributor_Sony Pictures Entertainment (SPE)</th>\n",
       "      <th>distributor_Twentieth Century Fox</th>\n",
       "      <th>distributor_Universal Pictures</th>\n",
       "      <th>distributor_Walt Disney Studios Motion Pictures</th>\n",
       "      <th>distributor_Warner Bros.</th>\n",
       "      <th>distributor_other</th>\n",
       "    </tr>\n",
       "  </thead>\n",
       "  <tbody>\n",
       "    <tr>\n",
       "      <th>0</th>\n",
       "      <td>543638043</td>\n",
       "      <td>191770759</td>\n",
       "      <td>260000000</td>\n",
       "      <td>4802.0</td>\n",
       "      <td>4725.0</td>\n",
       "      <td>6</td>\n",
       "      <td>118.0</td>\n",
       "      <td>20190711</td>\n",
       "      <td>1</td>\n",
       "      <td>0</td>\n",
       "      <td>0</td>\n",
       "      <td>0</td>\n",
       "      <td>0</td>\n",
       "      <td>0</td>\n",
       "      <td>0</td>\n",
       "      <td>1</td>\n",
       "      <td>0</td>\n",
       "      <td>0</td>\n",
       "    </tr>\n",
       "    <tr>\n",
       "      <th>1</th>\n",
       "      <td>534987076</td>\n",
       "      <td>158411483</td>\n",
       "      <td>185000000</td>\n",
       "      <td>4366.0</td>\n",
       "      <td>4366.0</td>\n",
       "      <td>7</td>\n",
       "      <td>152.0</td>\n",
       "      <td>20080716</td>\n",
       "      <td>0</td>\n",
       "      <td>1</td>\n",
       "      <td>0</td>\n",
       "      <td>0</td>\n",
       "      <td>0</td>\n",
       "      <td>0</td>\n",
       "      <td>0</td>\n",
       "      <td>0</td>\n",
       "      <td>1</td>\n",
       "      <td>0</td>\n",
       "    </tr>\n",
       "    <tr>\n",
       "      <th>2</th>\n",
       "      <td>504481165</td>\n",
       "      <td>174750616</td>\n",
       "      <td>160000000</td>\n",
       "      <td>4210.0</td>\n",
       "      <td>4210.0</td>\n",
       "      <td>8</td>\n",
       "      <td>129.0</td>\n",
       "      <td>20170316</td>\n",
       "      <td>1</td>\n",
       "      <td>0</td>\n",
       "      <td>0</td>\n",
       "      <td>0</td>\n",
       "      <td>0</td>\n",
       "      <td>0</td>\n",
       "      <td>0</td>\n",
       "      <td>1</td>\n",
       "      <td>0</td>\n",
       "      <td>0</td>\n",
       "    </tr>\n",
       "    <tr>\n",
       "      <th>3</th>\n",
       "      <td>459005868</td>\n",
       "      <td>191271109</td>\n",
       "      <td>250000000</td>\n",
       "      <td>4276.0</td>\n",
       "      <td>4276.0</td>\n",
       "      <td>9</td>\n",
       "      <td>141.0</td>\n",
       "      <td>20150422</td>\n",
       "      <td>0</td>\n",
       "      <td>1</td>\n",
       "      <td>0</td>\n",
       "      <td>0</td>\n",
       "      <td>0</td>\n",
       "      <td>0</td>\n",
       "      <td>0</td>\n",
       "      <td>1</td>\n",
       "      <td>0</td>\n",
       "      <td>0</td>\n",
       "    </tr>\n",
       "    <tr>\n",
       "      <th>4</th>\n",
       "      <td>448149584</td>\n",
       "      <td>160887295</td>\n",
       "      <td>250000000</td>\n",
       "      <td>4404.0</td>\n",
       "      <td>4404.0</td>\n",
       "      <td>10</td>\n",
       "      <td>164.0</td>\n",
       "      <td>20120719</td>\n",
       "      <td>0</td>\n",
       "      <td>1</td>\n",
       "      <td>0</td>\n",
       "      <td>0</td>\n",
       "      <td>0</td>\n",
       "      <td>0</td>\n",
       "      <td>0</td>\n",
       "      <td>0</td>\n",
       "      <td>1</td>\n",
       "      <td>0</td>\n",
       "    </tr>\n",
       "    <tr>\n",
       "      <th>...</th>\n",
       "      <td>...</td>\n",
       "      <td>...</td>\n",
       "      <td>...</td>\n",
       "      <td>...</td>\n",
       "      <td>...</td>\n",
       "      <td>...</td>\n",
       "      <td>...</td>\n",
       "      <td>...</td>\n",
       "      <td>...</td>\n",
       "      <td>...</td>\n",
       "      <td>...</td>\n",
       "      <td>...</td>\n",
       "      <td>...</td>\n",
       "      <td>...</td>\n",
       "      <td>...</td>\n",
       "      <td>...</td>\n",
       "      <td>...</td>\n",
       "      <td>...</td>\n",
       "    </tr>\n",
       "    <tr>\n",
       "      <th>893</th>\n",
       "      <td>12712</td>\n",
       "      <td>4930</td>\n",
       "      <td>0</td>\n",
       "      <td>2.0</td>\n",
       "      <td>2.0</td>\n",
       "      <td>957</td>\n",
       "      <td>94.0</td>\n",
       "      <td>19950929</td>\n",
       "      <td>1</td>\n",
       "      <td>0</td>\n",
       "      <td>0</td>\n",
       "      <td>0</td>\n",
       "      <td>0</td>\n",
       "      <td>0</td>\n",
       "      <td>0</td>\n",
       "      <td>0</td>\n",
       "      <td>1</td>\n",
       "      <td>0</td>\n",
       "    </tr>\n",
       "    <tr>\n",
       "      <th>894</th>\n",
       "      <td>9365</td>\n",
       "      <td>5553</td>\n",
       "      <td>0</td>\n",
       "      <td>10.0</td>\n",
       "      <td>10.0</td>\n",
       "      <td>958</td>\n",
       "      <td>111.0</td>\n",
       "      <td>20140627</td>\n",
       "      <td>0</td>\n",
       "      <td>0</td>\n",
       "      <td>1</td>\n",
       "      <td>0</td>\n",
       "      <td>0</td>\n",
       "      <td>0</td>\n",
       "      <td>0</td>\n",
       "      <td>0</td>\n",
       "      <td>0</td>\n",
       "      <td>1</td>\n",
       "    </tr>\n",
       "    <tr>\n",
       "      <th>896</th>\n",
       "      <td>2638</td>\n",
       "      <td>1600</td>\n",
       "      <td>0</td>\n",
       "      <td>10.0</td>\n",
       "      <td>10.0</td>\n",
       "      <td>960</td>\n",
       "      <td>105.0</td>\n",
       "      <td>20130322</td>\n",
       "      <td>0</td>\n",
       "      <td>0</td>\n",
       "      <td>1</td>\n",
       "      <td>0</td>\n",
       "      <td>0</td>\n",
       "      <td>0</td>\n",
       "      <td>0</td>\n",
       "      <td>0</td>\n",
       "      <td>0</td>\n",
       "      <td>1</td>\n",
       "    </tr>\n",
       "    <tr>\n",
       "      <th>899</th>\n",
       "      <td>809</td>\n",
       "      <td>441</td>\n",
       "      <td>0</td>\n",
       "      <td>1.0</td>\n",
       "      <td>1.0</td>\n",
       "      <td>963</td>\n",
       "      <td>106.0</td>\n",
       "      <td>20130905</td>\n",
       "      <td>0</td>\n",
       "      <td>0</td>\n",
       "      <td>1</td>\n",
       "      <td>0</td>\n",
       "      <td>0</td>\n",
       "      <td>0</td>\n",
       "      <td>0</td>\n",
       "      <td>0</td>\n",
       "      <td>0</td>\n",
       "      <td>1</td>\n",
       "    </tr>\n",
       "    <tr>\n",
       "      <th>900</th>\n",
       "      <td>742</td>\n",
       "      <td>742</td>\n",
       "      <td>0</td>\n",
       "      <td>10.0</td>\n",
       "      <td>10.0</td>\n",
       "      <td>964</td>\n",
       "      <td>87.0</td>\n",
       "      <td>20170720</td>\n",
       "      <td>0</td>\n",
       "      <td>1</td>\n",
       "      <td>0</td>\n",
       "      <td>0</td>\n",
       "      <td>0</td>\n",
       "      <td>0</td>\n",
       "      <td>0</td>\n",
       "      <td>0</td>\n",
       "      <td>0</td>\n",
       "      <td>1</td>\n",
       "    </tr>\n",
       "  </tbody>\n",
       "</table>\n",
       "<p>718 rows × 18 columns</p>\n",
       "</div>"
      ],
      "text/plain": [
       "     domestic_total_gross  domestic_opening     budget  max_theaters  \\\n",
       "0               543638043         191770759  260000000        4802.0   \n",
       "1               534987076         158411483  185000000        4366.0   \n",
       "2               504481165         174750616  160000000        4210.0   \n",
       "3               459005868         191271109  250000000        4276.0   \n",
       "4               448149584         160887295  250000000        4404.0   \n",
       "..                    ...               ...        ...           ...   \n",
       "893                 12712              4930          0           2.0   \n",
       "894                  9365              5553          0          10.0   \n",
       "896                  2638              1600          0          10.0   \n",
       "899                   809               441          0           1.0   \n",
       "900                   742               742          0          10.0   \n",
       "\n",
       "     opening_theathers  rank  runtime  release_date  rating_PG  rating_PG13  \\\n",
       "0               4725.0     6    118.0      20190711          1            0   \n",
       "1               4366.0     7    152.0      20080716          0            1   \n",
       "2               4210.0     8    129.0      20170316          1            0   \n",
       "3               4276.0     9    141.0      20150422          0            1   \n",
       "4               4404.0    10    164.0      20120719          0            1   \n",
       "..                 ...   ...      ...           ...        ...          ...   \n",
       "893                2.0   957     94.0      19950929          1            0   \n",
       "894               10.0   958    111.0      20140627          0            0   \n",
       "896               10.0   960    105.0      20130322          0            0   \n",
       "899                1.0   963    106.0      20130905          0            0   \n",
       "900               10.0   964     87.0      20170720          0            1   \n",
       "\n",
       "     rating_R  distributor_Paramount Pictures  \\\n",
       "0           0                               0   \n",
       "1           0                               0   \n",
       "2           0                               0   \n",
       "3           0                               0   \n",
       "4           0                               0   \n",
       "..        ...                             ...   \n",
       "893         0                               0   \n",
       "894         1                               0   \n",
       "896         1                               0   \n",
       "899         1                               0   \n",
       "900         0                               0   \n",
       "\n",
       "     distributor_Sony Pictures Entertainment (SPE)  \\\n",
       "0                                                0   \n",
       "1                                                0   \n",
       "2                                                0   \n",
       "3                                                0   \n",
       "4                                                0   \n",
       "..                                             ...   \n",
       "893                                              0   \n",
       "894                                              0   \n",
       "896                                              0   \n",
       "899                                              0   \n",
       "900                                              0   \n",
       "\n",
       "     distributor_Twentieth Century Fox  distributor_Universal Pictures  \\\n",
       "0                                    0                               0   \n",
       "1                                    0                               0   \n",
       "2                                    0                               0   \n",
       "3                                    0                               0   \n",
       "4                                    0                               0   \n",
       "..                                 ...                             ...   \n",
       "893                                  0                               0   \n",
       "894                                  0                               0   \n",
       "896                                  0                               0   \n",
       "899                                  0                               0   \n",
       "900                                  0                               0   \n",
       "\n",
       "     distributor_Walt Disney Studios Motion Pictures  \\\n",
       "0                                                  1   \n",
       "1                                                  0   \n",
       "2                                                  1   \n",
       "3                                                  1   \n",
       "4                                                  0   \n",
       "..                                               ...   \n",
       "893                                                0   \n",
       "894                                                0   \n",
       "896                                                0   \n",
       "899                                                0   \n",
       "900                                                0   \n",
       "\n",
       "     distributor_Warner Bros.  distributor_other  \n",
       "0                           0                  0  \n",
       "1                           1                  0  \n",
       "2                           0                  0  \n",
       "3                           0                  0  \n",
       "4                           1                  0  \n",
       "..                        ...                ...  \n",
       "893                         1                  0  \n",
       "894                         0                  1  \n",
       "896                         0                  1  \n",
       "899                         0                  1  \n",
       "900                         0                  1  \n",
       "\n",
       "[718 rows x 18 columns]"
      ]
     },
     "execution_count": 97,
     "metadata": {},
     "output_type": "execute_result"
    }
   ],
   "source": [
    "X"
   ]
  },
  {
   "cell_type": "markdown",
   "metadata": {},
   "source": [
    "[back to top](#top)"
   ]
  },
  {
   "cell_type": "markdown",
   "metadata": {},
   "source": [
    "### 6c. Linear regression assumptions<a id='6c'></a> "
   ]
  },
  {
   "cell_type": "markdown",
   "metadata": {},
   "source": [
    "Assumption 1: Regression is linear in parameters and correctly specified"
   ]
  },
  {
   "cell_type": "code",
   "execution_count": 107,
   "metadata": {},
   "outputs": [],
   "source": [
    "# plot regression fit, residual plot, and normal q-q plot\n",
    "\n",
    "def diagnostic_plot(X, y):\n",
    "    plt.figure(figsize=(20,5))\n",
    "    \n",
    "    lin_reg = LinearRegression()\n",
    "    lin_reg.fit(X, y)\n",
    "    predict = lin_reg.predict(X)\n",
    "\n",
    "    plt.subplot(1, 3, 1)\n",
    "    plt.scatter(X,y)\n",
    "    plt.plot(X, predict, color='blue',linewidth=1)\n",
    "    plt.title(\"Regression Fit\")\n",
    "    plt.xlabel(\"X\")\n",
    "    plt.ylabel(\"y\")\n",
    "    \n",
    "    plt.subplot(1, 3, 2)\n",
    "    residual = y - predict\n",
    "    plt.scatter(predict, residual)\n",
    "    plt.title(\"Residual Plot\")\n",
    "    plt.xlabel(\"prediction\")\n",
    "    plt.ylabel(\"residuals\")\n",
    "    \n",
    "    plt.subplot(1, 3, 3)\n",
    "    stats.probplot(residual, dist=\"norm\", plot=plt)\n",
    "    plt.title(\"Normal Q-Q plot\")\n",
    "    "
   ]
  },
  {
   "cell_type": "code",
   "execution_count": 108,
   "metadata": {},
   "outputs": [
    {
     "ename": "NameError",
     "evalue": "name 'residual' is not defined",
     "output_type": "error",
     "traceback": [
      "\u001b[0;31m---------------------------------------------------------------------------\u001b[0m",
      "\u001b[0;31mNameError\u001b[0m                                 Traceback (most recent call last)",
      "Input \u001b[0;32mIn [108]\u001b[0m, in \u001b[0;36m<module>\u001b[0;34m\u001b[0m\n\u001b[0;32m----> 1\u001b[0m \u001b[38;5;28mprint\u001b[39m(\u001b[43mresidual\u001b[49m)\n",
      "\u001b[0;31mNameError\u001b[0m: name 'residual' is not defined"
     ]
    }
   ],
   "source": []
  },
  {
   "cell_type": "markdown",
   "metadata": {},
   "source": [
    "Assumption 2: Residuals should be normally distributed with zero mean"
   ]
  },
  {
   "cell_type": "code",
   "execution_count": 63,
   "metadata": {},
   "outputs": [
    {
     "data": {
      "image/png": "[encoded data removed]",
      "text/plain": [
       "<Figure size 432x288 with 1 Axes>"
      ]
     },
     "metadata": {
      "needs_background": "light"
     },
     "output_type": "display_data"
    }
   ],
   "source": [
    "# residuals vs. predicted\n",
    "residuals = y_train - y_train_predict\n",
    "plt.scatter(y_train_predict, residuals)\n",
    "plt.plot([0,400], [0, 0])\n",
    "plt.title(\"Residuals vs. Predicted\");\n"
   ]
  },
  {
   "cell_type": "code",
   "execution_count": 64,
   "metadata": {},
   "outputs": [
    {
     "data": {
      "image/png": "[encoded data removed]",
      "text/plain": [
       "<Figure size 432x288 with 1 Axes>"
      ]
     },
     "metadata": {
      "needs_background": "light"
     },
     "output_type": "display_data"
    }
   ],
   "source": [
    "# inspect histogram\n",
    "movie_df.international_total_gross.hist(bins=10)\n",
    "plt.title('Histogram of Dependent Variable (international_total_gross)');"
   ]
  },
  {
   "cell_type": "code",
   "execution_count": 71,
   "metadata": {},
   "outputs": [
    {
     "data": {
      "image/png": "[encoded data removed]",
      "text/plain": [
       "<Figure size 432x288 with 1 Axes>"
      ]
     },
     "metadata": {
      "needs_background": "light"
     },
     "output_type": "display_data"
    }
   ],
   "source": [
    "# inspect residual normality in qqplot\n",
    "stats.probplot(residuals, dist=\"norm\", plot=plt)\n",
    "plt.title(\"Normal Q-Q plot\")\n",
    "plt.show()\n"
   ]
  },
  {
   "cell_type": "markdown",
   "metadata": {},
   "source": [
    "Assumption 3: Error terms must have constant variance"
   ]
  },
  {
   "cell_type": "code",
   "execution_count": 72,
   "metadata": {},
   "outputs": [
    {
     "data": {
      "image/png": "[encoded data removed]",
      "text/plain": [
       "<Figure size 432x288 with 1 Axes>"
      ]
     },
     "metadata": {
      "needs_background": "light"
     },
     "output_type": "display_data"
    }
   ],
   "source": [
    "# histogram\n",
    "movie_df.international_total_gross.hist();"
   ]
  },
  {
   "cell_type": "code",
   "execution_count": 79,
   "metadata": {},
   "outputs": [
    {
     "name": "stderr",
     "output_type": "stream",
     "text": [
      "/Users/sandraparedes/opt/anaconda3/lib/python3.8/site-packages/sklearn/base.py:443: UserWarning: X has feature names, but Lasso was fitted without feature names\n",
      "  warnings.warn(\n"
     ]
    }
   ],
   "source": [
    "# test: fitted vs. actual\n",
    "y_train_predict = lasso_model.predict(X_test)\n"
   ]
  },
  {
   "cell_type": "code",
   "execution_count": 83,
   "metadata": {},
   "outputs": [],
   "source": [
    "# reg plot\n",
    "\n",
    "plt.scatter(movie_df.domestic_total_gross, y)\n",
    "plt.scatter(movie_df.domestic_total_gross, y_train_predict);"
   ]
  },
  {
   "cell_type": "markdown",
   "metadata": {},
   "source": [
    "Assumption 4: Errors are uncorrelated across observations"
   ]
  },
  {
   "cell_type": "code",
   "execution_count": 85,
   "metadata": {},
   "outputs": [
    {
     "ename": "KeyError",
     "evalue": "\"['residuals'] not in index\"",
     "output_type": "error",
     "traceback": [
      "\u001b[0;31m---------------------------------------------------------------------------\u001b[0m",
      "\u001b[0;31mKeyError\u001b[0m                                  Traceback (most recent call last)",
      "Input \u001b[0;32mIn [85]\u001b[0m, in \u001b[0;36m<module>\u001b[0;34m\u001b[0m\n\u001b[1;32m      3\u001b[0m movie_df[\u001b[38;5;124m'\u001b[39m\u001b[38;5;124mdate_time\u001b[39m\u001b[38;5;124m'\u001b[39m] \u001b[38;5;241m=\u001b[39m pd\u001b[38;5;241m.\u001b[39mto_datetime(movie_df\u001b[38;5;241m.\u001b[39mrelease_date, \u001b[38;5;28mformat\u001b[39m\u001b[38;5;241m=\u001b[39m\u001b[38;5;124m\"\u001b[39m\u001b[38;5;124m%\u001b[39m\u001b[38;5;124mY-\u001b[39m\u001b[38;5;124m%\u001b[39m\u001b[38;5;124mm-\u001b[39m\u001b[38;5;132;01m%d\u001b[39;00m\u001b[38;5;124m\"\u001b[39m)\n\u001b[1;32m      4\u001b[0m movie_df\u001b[38;5;241m.\u001b[39mhead(\u001b[38;5;241m3\u001b[39m)\n\u001b[0;32m----> 6\u001b[0m a4 \u001b[38;5;241m=\u001b[39m \u001b[43mmovie_df\u001b[49m\u001b[43m[\u001b[49m\u001b[43m[\u001b[49m\u001b[38;5;124;43m'\u001b[39;49m\u001b[38;5;124;43mdate_time\u001b[39;49m\u001b[38;5;124;43m'\u001b[39;49m\u001b[43m,\u001b[49m\u001b[38;5;124;43m'\u001b[39;49m\u001b[38;5;124;43mresiduals\u001b[39;49m\u001b[38;5;124;43m'\u001b[39;49m\u001b[43m]\u001b[49m\u001b[43m]\u001b[49m\u001b[38;5;241m.\u001b[39mset_index(\u001b[38;5;124m'\u001b[39m\u001b[38;5;124mdate_time\u001b[39m\u001b[38;5;124m'\u001b[39m)\n\u001b[1;32m      7\u001b[0m a4\u001b[38;5;241m.\u001b[39mplot(style\u001b[38;5;241m=\u001b[39m\u001b[38;5;124m\"\u001b[39m\u001b[38;5;124m.\u001b[39m\u001b[38;5;124m\"\u001b[39m)\n",
      "File \u001b[0;32m~/opt/anaconda3/lib/python3.8/site-packages/pandas/core/frame.py:3511\u001b[0m, in \u001b[0;36mDataFrame.__getitem__\u001b[0;34m(self, key)\u001b[0m\n\u001b[1;32m   3509\u001b[0m     \u001b[38;5;28;01mif\u001b[39;00m is_iterator(key):\n\u001b[1;32m   3510\u001b[0m         key \u001b[38;5;241m=\u001b[39m \u001b[38;5;28mlist\u001b[39m(key)\n\u001b[0;32m-> 3511\u001b[0m     indexer \u001b[38;5;241m=\u001b[39m \u001b[38;5;28;43mself\u001b[39;49m\u001b[38;5;241;43m.\u001b[39;49m\u001b[43mcolumns\u001b[49m\u001b[38;5;241;43m.\u001b[39;49m\u001b[43m_get_indexer_strict\u001b[49m\u001b[43m(\u001b[49m\u001b[43mkey\u001b[49m\u001b[43m,\u001b[49m\u001b[43m \u001b[49m\u001b[38;5;124;43m\"\u001b[39;49m\u001b[38;5;124;43mcolumns\u001b[39;49m\u001b[38;5;124;43m\"\u001b[39;49m\u001b[43m)\u001b[49m[\u001b[38;5;241m1\u001b[39m]\n\u001b[1;32m   3513\u001b[0m \u001b[38;5;66;03m# take() does not accept boolean indexers\u001b[39;00m\n\u001b[1;32m   3514\u001b[0m \u001b[38;5;28;01mif\u001b[39;00m \u001b[38;5;28mgetattr\u001b[39m(indexer, \u001b[38;5;124m\"\u001b[39m\u001b[38;5;124mdtype\u001b[39m\u001b[38;5;124m\"\u001b[39m, \u001b[38;5;28;01mNone\u001b[39;00m) \u001b[38;5;241m==\u001b[39m \u001b[38;5;28mbool\u001b[39m:\n",
      "File \u001b[0;32m~/opt/anaconda3/lib/python3.8/site-packages/pandas/core/indexes/base.py:5782\u001b[0m, in \u001b[0;36mIndex._get_indexer_strict\u001b[0;34m(self, key, axis_name)\u001b[0m\n\u001b[1;32m   5779\u001b[0m \u001b[38;5;28;01melse\u001b[39;00m:\n\u001b[1;32m   5780\u001b[0m     keyarr, indexer, new_indexer \u001b[38;5;241m=\u001b[39m \u001b[38;5;28mself\u001b[39m\u001b[38;5;241m.\u001b[39m_reindex_non_unique(keyarr)\n\u001b[0;32m-> 5782\u001b[0m \u001b[38;5;28;43mself\u001b[39;49m\u001b[38;5;241;43m.\u001b[39;49m\u001b[43m_raise_if_missing\u001b[49m\u001b[43m(\u001b[49m\u001b[43mkeyarr\u001b[49m\u001b[43m,\u001b[49m\u001b[43m \u001b[49m\u001b[43mindexer\u001b[49m\u001b[43m,\u001b[49m\u001b[43m \u001b[49m\u001b[43maxis_name\u001b[49m\u001b[43m)\u001b[49m\n\u001b[1;32m   5784\u001b[0m keyarr \u001b[38;5;241m=\u001b[39m \u001b[38;5;28mself\u001b[39m\u001b[38;5;241m.\u001b[39mtake(indexer)\n\u001b[1;32m   5785\u001b[0m \u001b[38;5;28;01mif\u001b[39;00m \u001b[38;5;28misinstance\u001b[39m(key, Index):\n\u001b[1;32m   5786\u001b[0m     \u001b[38;5;66;03m# GH 42790 - Preserve name from an Index\u001b[39;00m\n",
      "File \u001b[0;32m~/opt/anaconda3/lib/python3.8/site-packages/pandas/core/indexes/base.py:5845\u001b[0m, in \u001b[0;36mIndex._raise_if_missing\u001b[0;34m(self, key, indexer, axis_name)\u001b[0m\n\u001b[1;32m   5842\u001b[0m     \u001b[38;5;28;01mraise\u001b[39;00m \u001b[38;5;167;01mKeyError\u001b[39;00m(\u001b[38;5;124mf\u001b[39m\u001b[38;5;124m\"\u001b[39m\u001b[38;5;124mNone of [\u001b[39m\u001b[38;5;132;01m{\u001b[39;00mkey\u001b[38;5;132;01m}\u001b[39;00m\u001b[38;5;124m] are in the [\u001b[39m\u001b[38;5;132;01m{\u001b[39;00maxis_name\u001b[38;5;132;01m}\u001b[39;00m\u001b[38;5;124m]\u001b[39m\u001b[38;5;124m\"\u001b[39m)\n\u001b[1;32m   5844\u001b[0m not_found \u001b[38;5;241m=\u001b[39m \u001b[38;5;28mlist\u001b[39m(ensure_index(key)[missing_mask\u001b[38;5;241m.\u001b[39mnonzero()[\u001b[38;5;241m0\u001b[39m]]\u001b[38;5;241m.\u001b[39munique())\n\u001b[0;32m-> 5845\u001b[0m \u001b[38;5;28;01mraise\u001b[39;00m \u001b[38;5;167;01mKeyError\u001b[39;00m(\u001b[38;5;124mf\u001b[39m\u001b[38;5;124m\"\u001b[39m\u001b[38;5;132;01m{\u001b[39;00mnot_found\u001b[38;5;132;01m}\u001b[39;00m\u001b[38;5;124m not in index\u001b[39m\u001b[38;5;124m\"\u001b[39m)\n",
      "\u001b[0;31mKeyError\u001b[0m: \"['residuals'] not in index\""
     ]
    }
   ],
   "source": [
    "# plot residuals over time\n",
    "\n",
    "movie_df['date_time'] = pd.to_datetime(movie_df.release_date, format=\"%Y-%m-%d\")\n",
    "movie_df.head(3)\n",
    "\n",
    "a4 = movie_df[['date_time','residuals']].set_index('date_time')\n",
    "a4.plot(style=\".\");\n",
    "\n",
    "# there seems to be no pattern, so we're good!"
   ]
  },
  {
   "cell_type": "markdown",
   "metadata": {},
   "source": [
    "Assumption 5: No independent variable is a perfect linear function of other independent variable \n"
   ]
  },
  {
   "cell_type": "code",
   "execution_count": null,
   "metadata": {},
   "outputs": [],
   "source": [
    "# Removed worldwide_total_gross because of known multicollinearity:\n",
    "# `worldwide_total_gross` = `domestic_total_gross` + `international_total_gross`\n"
   ]
  },
  {
   "cell_type": "markdown",
   "metadata": {},
   "source": [
    "[back to top](#top)"
   ]
  },
  {
   "cell_type": "markdown",
   "metadata": {},
   "source": [
    "## 7. Best Model<a id='7'></a> \n",
    "Fit best model on (train + val), score on test!"
   ]
  },
  {
   "cell_type": "code",
   "execution_count": 87,
   "metadata": {},
   "outputs": [],
   "source": [
    "# pd.DataFrame(list(zip(range(10), lasso_model.best_estimator_.coef_)))"
   ]
  },
  {
   "cell_type": "code",
   "execution_count": null,
   "metadata": {},
   "outputs": [],
   "source": []
  },
  {
   "cell_type": "markdown",
   "metadata": {},
   "source": [
    "[back to top](#top)"
   ]
  },
  {
   "cell_type": "markdown",
   "metadata": {},
   "source": [
    "## 8. Results<a id='8'></a> "
   ]
  },
  {
   "cell_type": "markdown",
   "metadata": {},
   "source": [
    "### 8a. Interpretability<a id='8a'></a> "
   ]
  },
  {
   "cell_type": "code",
   "execution_count": null,
   "metadata": {},
   "outputs": [],
   "source": [
    "# Coefficients, what are the top predictors"
   ]
  },
  {
   "cell_type": "code",
   "execution_count": null,
   "metadata": {},
   "outputs": [],
   "source": []
  },
  {
   "cell_type": "markdown",
   "metadata": {},
   "source": [
    "### 8b. Predictions<a id='8b'></a> "
   ]
  },
  {
   "cell_type": "code",
   "execution_count": null,
   "metadata": {},
   "outputs": [],
   "source": [
    "# Make a prediction for a new value, does it make sense?"
   ]
  },
  {
   "cell_type": "code",
   "execution_count": null,
   "metadata": {},
   "outputs": [],
   "source": [
    "# linear regression plot\n",
    "f, ax = plt.subplots(figsize=(12, 8))\n",
    "sns.regplot(x='domestic_total_gross', y='international_total_gross', data=movie_df);\n"
   ]
  },
  {
   "cell_type": "code",
   "execution_count": null,
   "metadata": {},
   "outputs": [],
   "source": []
  },
  {
   "cell_type": "code",
   "execution_count": null,
   "metadata": {},
   "outputs": [],
   "source": []
  },
  {
   "cell_type": "markdown",
   "metadata": {},
   "source": [
    "Slides, article, and code available at: https://github.com/slp22/regression-project"
   ]
  },
  {
   "cell_type": "markdown",
   "metadata": {},
   "source": [
    "[back top top](#top)"
   ]
  }
 ],
 "metadata": {
  "kernelspec": {
   "display_name": "Python 3 (ipykernel)",
   "language": "python",
   "name": "python3"
  },
  "language_info": {
   "codemirror_mode": {
    "name": "ipython",
    "version": 3
   },
   "file_extension": ".py",
   "mimetype": "text/x-python",
   "name": "python",
   "nbconvert_exporter": "python",
   "pygments_lexer": "ipython3",
   "version": "3.8.12"
  },
  "toc": {
   "base_numbering": 1,
   "nav_menu": {},
   "number_sections": false,
   "sideBar": true,
   "skip_h1_title": false,
   "title_cell": "Table of Contents",
   "title_sidebar": "Contents",
   "toc_cell": false,
   "toc_position": {
    "height": "calc(100% - 180px)",
    "left": "10px",
    "top": "150px",
    "width": "288px"
   },
   "toc_section_display": true,
   "toc_window_display": true
  }
 },
 "nbformat": 4,
 "nbformat_minor": 4
}
