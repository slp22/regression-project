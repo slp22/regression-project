{
 "cells": [
  {
   "cell_type": "markdown",
   "metadata": {},
   "source": [
    "# Exporting American Movie Box Office Hits \n",
    "\n",
    "### Regresssion Model"
   ]
  },
  {
   "cell_type": "markdown",
   "metadata": {},
   "source": [
    "* Data source: boxofficemojo.com \n",
    "* RQ. Can a model predict a movie's international total gross revenue?\n",
    "* Error metric: adjusted R^2, MAE, RMSE????"
   ]
  },
  {
   "cell_type": "markdown",
   "metadata": {},
   "source": [
    "1. Load scraped and cleaned movie adapatations dataframe\n",
    "2. Explore features correlation\n",
    "3. Explore and handle categorical data\n",
    "4. Hold 20% of data for final testing\n",
    "5. Simple linear regression model\n"
   ]
  },
  {
   "cell_type": "code",
   "execution_count": 8,
   "metadata": {},
   "outputs": [],
   "source": [
    "import pandas as pd\n",
    "import numpy as np\n",
    "import statsmodels.api as sm\n",
    "import statsmodels.formula.api as smf\n",
    "import seaborn as sns\n",
    "import matplotlib.pyplot as plt\n"
   ]
  },
  {
   "cell_type": "code",
   "execution_count": 9,
   "metadata": {},
   "outputs": [],
   "source": [
    "from sklearn.preprocessing import StandardScaler, PolynomialFeatures\n",
    "from sklearn.linear_model import LinearRegression, Lasso, LassoCV, Ridge, RidgeCV, ElasticNet\n",
    "from sklearn.model_selection import (cross_val_score, train_test_split, KFold, GridSearchCV)\n",
    "from sklearn.metrics import r2_score, mean_squared_error\n",
    "%matplotlib inline\n"
   ]
  },
  {
   "cell_type": "markdown",
   "metadata": {},
   "source": [
    "## 1. Load [scraped ](https://github.com/slp22/regression-project/blob/main/adaptation_movies_webscraping.ipynb) and [cleaned](https://github.com/slp22/regression-project/blob/main/adaptation_movies_eda.ipynb) movie adaptations dataframe"
   ]
  },
  {
   "cell_type": "code",
   "execution_count": 10,
   "metadata": {},
   "outputs": [
    {
     "data": {
      "text/html": [
       "<div>\n",
       "<style scoped>\n",
       "    .dataframe tbody tr th:only-of-type {\n",
       "        vertical-align: middle;\n",
       "    }\n",
       "\n",
       "    .dataframe tbody tr th {\n",
       "        vertical-align: top;\n",
       "    }\n",
       "\n",
       "    .dataframe thead th {\n",
       "        text-align: right;\n",
       "    }\n",
       "</style>\n",
       "<table border=\"1\" class=\"dataframe\">\n",
       "  <thead>\n",
       "    <tr style=\"text-align: right;\">\n",
       "      <th></th>\n",
       "      <th>international_total_gross</th>\n",
       "      <th>domestic_total_gross</th>\n",
       "      <th>rank</th>\n",
       "      <th>movie_title</th>\n",
       "      <th>max_theaters</th>\n",
       "      <th>opening_theathers</th>\n",
       "      <th>worldwide_total_gross</th>\n",
       "      <th>domestic_opening</th>\n",
       "      <th>budget</th>\n",
       "      <th>release_date</th>\n",
       "      <th>runtime</th>\n",
       "      <th>distributor</th>\n",
       "      <th>genres</th>\n",
       "      <th>rating</th>\n",
       "    </tr>\n",
       "  </thead>\n",
       "  <tbody>\n",
       "    <tr>\n",
       "      <th>0</th>\n",
       "      <td>1119261396</td>\n",
       "      <td>543638043</td>\n",
       "      <td>6</td>\n",
       "      <td>The Lion King</td>\n",
       "      <td>4802.0</td>\n",
       "      <td>4725.0</td>\n",
       "      <td>1662899439</td>\n",
       "      <td>191770759</td>\n",
       "      <td>260000000</td>\n",
       "      <td>20190711</td>\n",
       "      <td>118.0</td>\n",
       "      <td>Walt Disney Studios Motion Pictures</td>\n",
       "      <td>Adventure Animation Drama Family Musical</td>\n",
       "      <td>PG</td>\n",
       "    </tr>\n",
       "    <tr>\n",
       "      <th>1</th>\n",
       "      <td>471115201</td>\n",
       "      <td>534987076</td>\n",
       "      <td>7</td>\n",
       "      <td>The Dark Knight</td>\n",
       "      <td>4366.0</td>\n",
       "      <td>4366.0</td>\n",
       "      <td>1006102277</td>\n",
       "      <td>158411483</td>\n",
       "      <td>185000000</td>\n",
       "      <td>20080716</td>\n",
       "      <td>152.0</td>\n",
       "      <td>Warner Bros.</td>\n",
       "      <td>Action Crime Drama Thriller</td>\n",
       "      <td>PG13</td>\n",
       "    </tr>\n",
       "  </tbody>\n",
       "</table>\n",
       "</div>"
      ],
      "text/plain": [
       "   international_total_gross  domestic_total_gross  rank      movie_title  \\\n",
       "0                 1119261396             543638043     6    The Lion King   \n",
       "1                  471115201             534987076     7  The Dark Knight   \n",
       "\n",
       "   max_theaters  opening_theathers  worldwide_total_gross  domestic_opening  \\\n",
       "0        4802.0             4725.0             1662899439         191770759   \n",
       "1        4366.0             4366.0             1006102277         158411483   \n",
       "\n",
       "      budget  release_date  runtime                          distributor  \\\n",
       "0  260000000      20190711    118.0  Walt Disney Studios Motion Pictures   \n",
       "1  185000000      20080716    152.0                         Warner Bros.   \n",
       "\n",
       "                                     genres rating  \n",
       "0  Adventure Animation Drama Family Musical     PG  \n",
       "1               Action Crime Drama Thriller   PG13  "
      ]
     },
     "execution_count": 10,
     "metadata": {},
     "output_type": "execute_result"
    }
   ],
   "source": [
    "movie_df = pd.read_csv('clean_df.csv')\n",
    "movie_df.drop(columns=['link_stub'], inplace=True)\n",
    "movie_df.head(2)"
   ]
  },
  {
   "cell_type": "code",
   "execution_count": null,
   "metadata": {},
   "outputs": [],
   "source": [
    "movie_df.describe()\n",
    "# domestic_total_gross: min $742, max $543,638,043, transform needed"
   ]
  },
  {
   "cell_type": "markdown",
   "metadata": {},
   "source": [
    "## 2. Explore features correlation"
   ]
  },
  {
   "cell_type": "code",
   "execution_count": null,
   "metadata": {},
   "outputs": [],
   "source": [
    "# pairplot\n",
    "sns.pairplot(movie_df, height=3, aspect=1.5);"
   ]
  },
  {
   "cell_type": "code",
   "execution_count": null,
   "metadata": {},
   "outputs": [],
   "source": [
    "# heatmap correlation matrix\n",
    "sns.heatmap(movie_df.corr(), cmap=\"seismic\", annot=True, vmin=-1, vmax=1);"
   ]
  },
  {
   "cell_type": "markdown",
   "metadata": {},
   "source": [
    "### Correlation Summary\n",
    "\n",
    "#### Correlation Features-Predictor\n",
    "*predictor = `international_total_gross`*\n",
    "\n",
    "* predictor corrolated with (highest to lowest):\n",
    "    * `domestic_total_gross`\n",
    "    * `domestic_opening`\n",
    "    * `budget`\n",
    "    * `max_theaters`\n",
    "    * `opening_theathers`\n",
    "    \n",
    "Predictor is highly corrolated with `worldwide_total_gross`; has known multicollinearity as:<br/>\n",
    "`worldwide_total_gross` = `domestic_total_gross` + `international_total_gross`\n",
    "\n",
    "\n",
    "####  Features-Features > Positive Correlation\n",
    "* domestic_total_gross:\n",
    "    * `domestic_opening`\n",
    "    * `worldwide_total_gross`\n",
    "    * `budget`\n",
    "    * `max_theaters`\n",
    "    * `opening_theathers`\n",
    "\n",
    "* domestic_opening:<br/>\n",
    "    * `budget`\n",
    "    * `max_theaters`\n",
    "    * `opening_theathers`\n",
    "\n",
    "* max_theaters:\n",
    "    * `opening_theathers`\n",
    "    * `budget`\n",
    "    * `domestic_opening`\n",
    "\n",
    "\n",
    "####  Features-Features > Negative Correlation\n",
    "* rank:\n",
    "    * `domestic_total_gross`\n",
    "    * `max_theaters`\n",
    "    * `opening_theathers`\n",
    "    * `domestic_opening`\n",
    "    * `budget`\n",
    "    \n"
   ]
  },
  {
   "cell_type": "markdown",
   "metadata": {},
   "source": [
    "## 3. Explore and handle categorical data"
   ]
  },
  {
   "cell_type": "code",
   "execution_count": 46,
   "metadata": {},
   "outputs": [
    {
     "name": "stdout",
     "output_type": "stream",
     "text": [
      "Unique genres: 343\n"
     ]
    },
    {
     "data": {
      "text/plain": [
       "Action Adventure SciFi                             44\n",
       "Comedy Drama Romance                               24\n",
       "Comedy                                             23\n",
       "Action Adventure SciFi Thriller                    20\n",
       "Drama Romance                                      18\n",
       "                                                   ..\n",
       "Drama Mystery Romance                               1\n",
       "Adventure Comedy Family Fantasy Musical Romance     1\n",
       "Comedy Drama Fantasy Romance                        1\n",
       "Action Adventure Family SciFi                       1\n",
       "Comedy Horror Mystery Thriller                      1\n",
       "Name: genres, Length: 343, dtype: int64"
      ]
     },
     "execution_count": 46,
     "metadata": {},
     "output_type": "execute_result"
    }
   ],
   "source": [
    "# How many unique genres? What are their frequencies? \n",
    "print('Unique genres:', movie_df.genres.nunique())\n",
    "movie_df['genres'].value_counts()\n",
    "\n",
    "# 👎 Too many for easy-to-use dummy value"
   ]
  },
  {
   "cell_type": "code",
   "execution_count": 42,
   "metadata": {},
   "outputs": [
    {
     "name": "stdout",
     "output_type": "stream",
     "text": [
      "Unique distributors: 92\n"
     ]
    },
    {
     "data": {
      "text/plain": [
       "Warner Bros.                           143\n",
       "Walt Disney Studios Motion Pictures    102\n",
       "Twentieth Century Fox                  101\n",
       "Paramount Pictures                     101\n",
       "Universal Pictures                      94\n",
       "                                      ... \n",
       "Cineplex Odeon Films                     1\n",
       "FIP                                      1\n",
       "Amazon Studios                           1\n",
       "Romar Entertainment                      1\n",
       "Distrib Films                            1\n",
       "Name: distributor, Length: 92, dtype: int64"
      ]
     },
     "execution_count": 42,
     "metadata": {},
     "output_type": "execute_result"
    }
   ],
   "source": [
    "# How many unique distributors? What are their frequencies? \n",
    "print('Unique distributors:', movie_df.distributor.nunique())\n",
    "movie_df['distributor'].value_counts()\n",
    "\n",
    "# 👍 Reasonable amount, can group the single counts into other category"
   ]
  },
  {
   "cell_type": "code",
   "execution_count": 43,
   "metadata": {},
   "outputs": [
    {
     "name": "stdout",
     "output_type": "stream",
     "text": [
      "Unique MPAA ratings: 5\n"
     ]
    },
    {
     "data": {
      "text/plain": [
       "PG13    308\n",
       "R       223\n",
       "PG      194\n",
       "G         8\n",
       "NC17      1\n",
       "Name: rating, dtype: int64"
      ]
     },
     "execution_count": 43,
     "metadata": {},
     "output_type": "execute_result"
    }
   ],
   "source": [
    "# How many unique MPAA ratings? What are their frequencies? \n",
    "print('Unique MPAA ratings:', movie_df.rating.nunique())\n",
    "movie_df['rating'].value_counts()\n",
    "\n",
    "# 👍 Easy-to-use number for dummy variables"
   ]
  },
  {
   "cell_type": "code",
   "execution_count": 44,
   "metadata": {},
   "outputs": [
    {
     "data": {
      "text/html": [
       "<div>\n",
       "<style scoped>\n",
       "    .dataframe tbody tr th:only-of-type {\n",
       "        vertical-align: middle;\n",
       "    }\n",
       "\n",
       "    .dataframe tbody tr th {\n",
       "        vertical-align: top;\n",
       "    }\n",
       "\n",
       "    .dataframe thead th {\n",
       "        text-align: right;\n",
       "    }\n",
       "</style>\n",
       "<table border=\"1\" class=\"dataframe\">\n",
       "  <thead>\n",
       "    <tr style=\"text-align: right;\">\n",
       "      <th></th>\n",
       "      <th>A24</th>\n",
       "      <th>Alchemy</th>\n",
       "      <th>Alliance Atlantis Vivafilm</th>\n",
       "      <th>Amazon Studios</th>\n",
       "      <th>Anchor Bay Films</th>\n",
       "      <th>Arrow Releasing</th>\n",
       "      <th>Artisan Entertainment</th>\n",
       "      <th>Associated Film Distribution</th>\n",
       "      <th>Atlantic Releasing Corporation</th>\n",
       "      <th>Aviron Pictures</th>\n",
       "      <th>...</th>\n",
       "      <th>Triumph Releasing Corporation</th>\n",
       "      <th>Twentieth Century Fox</th>\n",
       "      <th>United Artists</th>\n",
       "      <th>United Artists Releasing</th>\n",
       "      <th>Universal Pictures</th>\n",
       "      <th>Vertical Entertainment</th>\n",
       "      <th>Vestron Pictures</th>\n",
       "      <th>Walt Disney Studios Motion Pictures</th>\n",
       "      <th>Warner Bros.</th>\n",
       "      <th>Warner Independent Pictures (WIP)</th>\n",
       "    </tr>\n",
       "  </thead>\n",
       "  <tbody>\n",
       "    <tr>\n",
       "      <th>0</th>\n",
       "      <td>0</td>\n",
       "      <td>0</td>\n",
       "      <td>0</td>\n",
       "      <td>0</td>\n",
       "      <td>0</td>\n",
       "      <td>0</td>\n",
       "      <td>0</td>\n",
       "      <td>0</td>\n",
       "      <td>0</td>\n",
       "      <td>0</td>\n",
       "      <td>...</td>\n",
       "      <td>0</td>\n",
       "      <td>0</td>\n",
       "      <td>0</td>\n",
       "      <td>0</td>\n",
       "      <td>0</td>\n",
       "      <td>0</td>\n",
       "      <td>0</td>\n",
       "      <td>1</td>\n",
       "      <td>0</td>\n",
       "      <td>0</td>\n",
       "    </tr>\n",
       "    <tr>\n",
       "      <th>1</th>\n",
       "      <td>0</td>\n",
       "      <td>0</td>\n",
       "      <td>0</td>\n",
       "      <td>0</td>\n",
       "      <td>0</td>\n",
       "      <td>0</td>\n",
       "      <td>0</td>\n",
       "      <td>0</td>\n",
       "      <td>0</td>\n",
       "      <td>0</td>\n",
       "      <td>...</td>\n",
       "      <td>0</td>\n",
       "      <td>0</td>\n",
       "      <td>0</td>\n",
       "      <td>0</td>\n",
       "      <td>0</td>\n",
       "      <td>0</td>\n",
       "      <td>0</td>\n",
       "      <td>0</td>\n",
       "      <td>1</td>\n",
       "      <td>0</td>\n",
       "    </tr>\n",
       "  </tbody>\n",
       "</table>\n",
       "<p>2 rows × 91 columns</p>\n",
       "</div>"
      ],
      "text/plain": [
       "   A24  Alchemy  Alliance Atlantis Vivafilm  Amazon Studios  Anchor Bay Films  \\\n",
       "0    0        0                           0               0                 0   \n",
       "1    0        0                           0               0                 0   \n",
       "\n",
       "   Arrow Releasing  Artisan Entertainment  Associated Film Distribution  \\\n",
       "0                0                      0                             0   \n",
       "1                0                      0                             0   \n",
       "\n",
       "   Atlantic Releasing Corporation  Aviron Pictures  ...  \\\n",
       "0                               0                0  ...   \n",
       "1                               0                0  ...   \n",
       "\n",
       "   Triumph Releasing Corporation  Twentieth Century Fox  United Artists  \\\n",
       "0                              0                      0               0   \n",
       "1                              0                      0               0   \n",
       "\n",
       "   United Artists Releasing  Universal Pictures  Vertical Entertainment  \\\n",
       "0                         0                   0                       0   \n",
       "1                         0                   0                       0   \n",
       "\n",
       "   Vestron Pictures  Walt Disney Studios Motion Pictures  Warner Bros.  \\\n",
       "0                 0                                    1             0   \n",
       "1                 0                                    0             1   \n",
       "\n",
       "   Warner Independent Pictures (WIP)  \n",
       "0                                  0  \n",
       "1                                  0  \n",
       "\n",
       "[2 rows x 91 columns]"
      ]
     },
     "execution_count": 44,
     "metadata": {},
     "output_type": "execute_result"
    }
   ],
   "source": [
    "# get dummies for distributor \n",
    "pd.get_dummies(movie_df['distributor'], drop_first=True).head(2) "
   ]
  },
  {
   "cell_type": "code",
   "execution_count": 45,
   "metadata": {},
   "outputs": [
    {
     "data": {
      "text/html": [
       "<div>\n",
       "<style scoped>\n",
       "    .dataframe tbody tr th:only-of-type {\n",
       "        vertical-align: middle;\n",
       "    }\n",
       "\n",
       "    .dataframe tbody tr th {\n",
       "        vertical-align: top;\n",
       "    }\n",
       "\n",
       "    .dataframe thead th {\n",
       "        text-align: right;\n",
       "    }\n",
       "</style>\n",
       "<table border=\"1\" class=\"dataframe\">\n",
       "  <thead>\n",
       "    <tr style=\"text-align: right;\">\n",
       "      <th></th>\n",
       "      <th>NC17</th>\n",
       "      <th>PG</th>\n",
       "      <th>PG13</th>\n",
       "      <th>R</th>\n",
       "    </tr>\n",
       "  </thead>\n",
       "  <tbody>\n",
       "    <tr>\n",
       "      <th>0</th>\n",
       "      <td>0</td>\n",
       "      <td>1</td>\n",
       "      <td>0</td>\n",
       "      <td>0</td>\n",
       "    </tr>\n",
       "    <tr>\n",
       "      <th>1</th>\n",
       "      <td>0</td>\n",
       "      <td>0</td>\n",
       "      <td>1</td>\n",
       "      <td>0</td>\n",
       "    </tr>\n",
       "  </tbody>\n",
       "</table>\n",
       "</div>"
      ],
      "text/plain": [
       "   NC17  PG  PG13  R\n",
       "0     0   1     0  0\n",
       "1     0   0     1  0"
      ]
     },
     "execution_count": 45,
     "metadata": {},
     "output_type": "execute_result"
    }
   ],
   "source": [
    "# get dummies for MPAA rating\n",
    "pd.get_dummies(movie_df['rating'], drop_first=True).head(2) "
   ]
  },
  {
   "cell_type": "markdown",
   "metadata": {},
   "source": [
    "## 4. Split test data set "
   ]
  },
  {
   "cell_type": "code",
   "execution_count": 51,
   "metadata": {},
   "outputs": [
    {
     "ename": "NameError",
     "evalue": "name 'X' is not defined",
     "output_type": "error",
     "traceback": [
      "\u001b[0;31m---------------------------------------------------------------------------\u001b[0m",
      "\u001b[0;31mNameError\u001b[0m                                 Traceback (most recent call last)",
      "Input \u001b[0;32mIn [51]\u001b[0m, in \u001b[0;36m<module>\u001b[0;34m\u001b[0m\n\u001b[0;32m----> 1\u001b[0m X, X_test, y, y_test \u001b[38;5;241m=\u001b[39m train_test_split(\u001b[43mX\u001b[49m, y, test_size\u001b[38;5;241m=\u001b[39m\u001b[38;5;241m.2\u001b[39m, random_state\u001b[38;5;241m=\u001b[39m\u001b[38;5;241m10\u001b[39m)\n",
      "\u001b[0;31mNameError\u001b[0m: name 'X' is not defined"
     ]
    }
   ],
   "source": [
    "X, y = movie_df.drop('price',axis=1), cars['price']\n",
    "\n",
    "# hold out 20% of the data for final testing\n",
    "X, X_test, y, y_test = train_test_split(X, y, test_size=.2, random_state=10)"
   ]
  },
  {
   "cell_type": "markdown",
   "metadata": {},
   "source": [
    "## 5. Simple linear regression model\n",
    "FEATURES: `domestic_total_gross`, .... <br/>\n",
    "TARGET: `international_total_gross`"
   ]
  },
  {
   "cell_type": "code",
   "execution_count": 54,
   "metadata": {},
   "outputs": [],
   "source": [
    "# split train-test\n",
    "X_train, X_test, y_tes, y_test = train_test_split(movie_df[['domestic_total_gross']], \n",
    "                                                movie_df['international_total_gross'], \n",
    "                                                test_size=0.20, \n",
    "                                                random_state=42)"
   ]
  },
  {
   "cell_type": "code",
   "execution_count": 56,
   "metadata": {},
   "outputs": [
    {
     "name": "stdout",
     "output_type": "stream",
     "text": [
      "train score: 0.772\n",
      "test score: 0.719\n",
      "\n",
      "\n",
      "m_1.coef [1.54854313]\n"
     ]
    }
   ],
   "source": [
    "# simple linear model (slm)\n",
    "movie_slm = LinearRegression()\n",
    "movie_slm.fit(X_train,y_train)\n",
    "\n",
    "print('train score:', round(movie_slm.score(X_train,y_train), 3))\n",
    "print('test score:', round(movie_slm.score(X_test,y_test), 3))\n",
    "print('\\n')\n",
    "print('m_1.coef', movie_slm.coef_ )\n",
    "\n",
    "# model performs well or not?"
   ]
  },
  {
   "cell_type": "code",
   "execution_count": 57,
   "metadata": {},
   "outputs": [
    {
     "data": {
      "image/png": "[encoded data removed]",
      "text/plain": [
       "<Figure size 864x576 with 1 Axes>"
      ]
     },
     "metadata": {
      "needs_background": "light"
     },
     "output_type": "display_data"
    }
   ],
   "source": [
    "# residual plot \n",
    "f, ax = plt.subplots(figsize=(12, 8))\n",
    "sns.residplot(x='domestic_total_gross', y='international_total_gross', data=movie_df);\n",
    "\n",
    "# cone shape indicates heteroskedasticity; likely due to the large range of domestic movie revenue"
   ]
  },
  {
   "cell_type": "code",
   "execution_count": null,
   "metadata": {},
   "outputs": [],
   "source": [
    "# ## FEAUTRE\n",
    "# # 'domestic_total_gross'\n",
    "\n",
    "# ## TARGET\n",
    "# # 'international_total_gross'\n",
    "\n",
    "# # y, X = patsy.dmatrices(' ~ domestic_total_gross + domestic_opening + budget + worldwide_total_gross', data=movie_df, return_type=\"dataframe\")\n",
    "# # y, X = patsy.dmatrices('international_total_gross ~ domestic_total_gross + domestic_opening + budget',                         data=movie_df, return_type=\"dataframe\")\n",
    "# # y, X = patsy.dmatrices('international_total_gross ~ domestic_total_gross + domestic_opening',                                  data=movie_df, return_type=\"dataframe\")\n",
    "# # y, X = patsy.dmatrices('international_total_gross ~ domestic_total_gross + budget',                                            data=movie_df, return_type=\"dataframe\")\n",
    "# y, X = patsy.dmatrices('international_total_gross ~ domestic_total_gross',                                                     data=movie_df, return_type=\"dataframe\")\n",
    "\n",
    "# # model\n",
    "# model = sm.OLS(y, X)\n",
    "\n",
    "# # fit model\n",
    "# fit = model.fit()\n",
    "\n",
    "# # model performance statistics\n",
    "# fit.summary()\n",
    "\n"
   ]
  },
  {
   "cell_type": "markdown",
   "metadata": {},
   "source": [
    "# Modeling"
   ]
  },
  {
   "cell_type": "code",
   "execution_count": null,
   "metadata": {},
   "outputs": [],
   "source": [
    "#set up the 3 models we're choosing from:\n",
    "\n",
    "#1 LIN REG\n",
    "# 2 RIDGE\n",
    "# POLY\n",
    "\n",
    "\n",
    "#1 LIN REG\n",
    "lm = LinearRegression()\n",
    "\n",
    "# ________________________________\n",
    "#feature scaling for train, val, and test so that we can run our ridge model on each\n",
    "scaler = StandardScaler()\n",
    "\n",
    "X_train_scaled = scaler.fit_transform(X_train.values)\n",
    "X_val_scaled = scaler.transform(X_val.values)\n",
    "X_test_scaled = scaler.transform(X_test.values)\n",
    "\n",
    "# 2 RIDGE\n",
    "lm_reg = Ridge(alpha=1)\n",
    "\n",
    "# ________________________________\n",
    "#feature transforms for train, val, and test so that we can run our poly model on each\n",
    "poly = PolynomialFeatures(degree=2) \n",
    "\n",
    "X_train_poly = poly.fit_transform(X_train.values)\n",
    "X_val_poly = poly.transform(X_val.values)\n",
    "X_test_poly = poly.transform(X_test.values)\n",
    "\n",
    "# 3 POLY\n",
    "lm_poly = LinearRegression()\n"
   ]
  },
  {
   "cell_type": "code",
   "execution_count": null,
   "metadata": {},
   "outputs": [],
   "source": [
    "# Fit three models and print R^2 score\n",
    "\n",
    "#1 LIN REG\n",
    "lm.fit(X_train, y_train)\n",
    "print(f'Linear Regression val R^2: {lm.score(X_val, y_val):.3f}')\n",
    "\n",
    "# 2 RIDGE\n",
    "lm_reg.fit(X_train_scaled, y_train)\n",
    "print(f'Ridge Regression val R^2: {lm_reg.score(X_val_scaled, y_val):.3f}')\n",
    "\n",
    "# 3 POLY\n",
    "lm_poly.fit(X_train_poly, y_train)\n",
    "print(f'Degree 2 polynomial regression val R^2: {lm_poly.score(X_val_poly, y_val):.3f}')"
   ]
  },
  {
   "cell_type": "markdown",
   "metadata": {},
   "source": [
    "## #. Cross-validation"
   ]
  },
  {
   "cell_type": "code",
   "execution_count": null,
   "metadata": {},
   "outputs": [],
   "source": [
    "## K-fold, in a less manual way with sk-learn (source: validation_workflow_and_utilities.ipynb)\n",
    "\n",
    "kf = KFold(n_splits=5, shuffle=True, random_state = 71)\n",
    "\n",
    "# cross-val-score\n",
    "cross_val_score(lm, X, y, cv=kf, scoring='r2')"
   ]
  },
  {
   "cell_type": "code",
   "execution_count": null,
   "metadata": {},
   "outputs": [],
   "source": [
    "# build model  (source: regression_lasso_solution.ipynb)\n",
    "lin_reg_est = LinearRegression()\n",
    "\n",
    "scores = cross_val_score(lin_reg_est, X_train, y_train, cv=kfold)\n",
    "print(scores)\n",
    "print(\"Linear Reg Mean Score: \", np.mean(scores))\n",
    "\n",
    "# Build the Model\n",
    "lin_reg_est.fit(X_train, y_train)"
   ]
  },
  {
   "cell_type": "code",
   "execution_count": null,
   "metadata": {},
   "outputs": [],
   "source": []
  },
  {
   "cell_type": "code",
   "execution_count": null,
   "metadata": {},
   "outputs": [],
   "source": []
  },
  {
   "cell_type": "markdown",
   "metadata": {},
   "source": [
    "## #. Model tuning \n",
    "Take log of some features <br/>\n",
    "Grid_Search()\n"
   ]
  },
  {
   "cell_type": "markdown",
   "metadata": {},
   "source": [
    "## Regularization"
   ]
  },
  {
   "cell_type": "code",
   "execution_count": null,
   "metadata": {},
   "outputs": [],
   "source": [
    "def build_grid_search_est(model, X, y, cv=5, **params): #(source: regression_lasso_solution.ipynb)\n",
    "\n",
    "    grid_est = GridSearchCV(model, param_grid=params, cv=kfold, \n",
    "                            return_train_score=False)\n",
    "    grid_est.fit(X, y)\n",
    "    df = pd.DataFrame(grid_est.cv_results_)\n",
    "    for param in params:\n",
    "        df[param] = df.params.apply(lambda val: val[param])\n",
    "#       plt.plot(np.log(df.alpha), df.mean_test_score);\n",
    "        plt.semilogx(df.alpha, df.mean_test_score)\n",
    "    return grid_est"
   ]
  },
  {
   "cell_type": "code",
   "execution_count": null,
   "metadata": {},
   "outputs": [],
   "source": [
    "print(\"Lasso Grid Search\") #(source: regression_lasso_solution.ipynb)\n",
    "lasso_grid_est = build_grid_search_est(Lasso(), X_train, y_train, cv=kfold,\n",
    "                                       alpha=np.logspace(-4, -1, 30))"
   ]
  },
  {
   "cell_type": "code",
   "execution_count": null,
   "metadata": {},
   "outputs": [],
   "source": [
    "print(\"Ridge Grid Search\") #(source: regression_lasso_solution.ipynb)\n",
    "ridge_grid_est = build_grid_search_est(Ridge(), X_train, y_train, cv=kfold,\n",
    "                                       alpha=np.logspace(-4, -1, 10))"
   ]
  },
  {
   "cell_type": "code",
   "execution_count": null,
   "metadata": {},
   "outputs": [],
   "source": [
    "print(\"Elastic Net Grid Search\") #(source: regression_lasso_solution.ipynb)\n",
    "elastic_net_grid_est = build_grid_search_est(ElasticNet(), X_train, y_train, cv=kfold,\n",
    "                                             alpha=np.logspace(-4, 0.1, 10))"
   ]
  },
  {
   "cell_type": "code",
   "execution_count": null,
   "metadata": {},
   "outputs": [],
   "source": [
    "print(\"Lasso Model:\")  #(source: regression_lasso_solution.ipynb)\n",
    "params = {\n",
    "    \"alpha\": np.logspace(-4, -.1, 20)\n",
    "}\n",
    "\n",
    "grid_est = GridSearchCV(Lasso(), param_grid=params, cv=kfold, \n",
    "                        return_train_score=False)\n",
    "grid_est.fit(X_train, y_train)\n",
    "df = pd.DataFrame(grid_est.cv_results_)\n",
    "df[\"alpha\"] = df.params.apply(lambda val: val[\"alpha\"])\n",
    "plt.plot(np.log(df.alpha), df.mean_test_score);"
   ]
  },
  {
   "cell_type": "code",
   "execution_count": null,
   "metadata": {},
   "outputs": [],
   "source": [
    "print(\"Ridge Model:\") #(source: regression_lasso_solution.ipynb)\n",
    "params = {\n",
    "    \"alpha\": np.logspace(-4, -.1, 20)\n",
    "}\n",
    "\n",
    "grid_est = GridSearchCV(Ridge(), param_grid=params, cv=kfold, \n",
    "                        return_train_score=False)\n",
    "grid_est.fit(X_train, y_train)\n",
    "df = pd.DataFrame(grid_est.cv_results_)\n",
    "df[\"alpha\"] = df.params.apply(lambda val: val[\"alpha\"])\n",
    "plt.plot(np.log(df.alpha), df.mean_test_score);"
   ]
  },
  {
   "cell_type": "code",
   "execution_count": null,
   "metadata": {},
   "outputs": [],
   "source": [
    "grid_est.best_estimator_"
   ]
  },
  {
   "cell_type": "code",
   "execution_count": null,
   "metadata": {},
   "outputs": [],
   "source": [
    "params['alpha']"
   ]
  },
  {
   "cell_type": "code",
   "execution_count": null,
   "metadata": {},
   "outputs": [],
   "source": [
    "#(source: regression_lasso_solution.ipynb)\n",
    "\n",
    "\n",
    "y_pred = lin_reg_est.predict(X_holdout)\n",
    "print(\"Linear Regression:\", r2_score(y_holdout, y_pred))\n",
    "\n",
    "y_pred = lasso_grid_est.predict(X_holdout)\n",
    "print(\"Lasso Regression:\", r2_score(y_holdout, y_pred))\n",
    "\n",
    "y_pred = ridge_grid_est.predict(X_holdout)\n",
    "print(\"Ridge Regression:\", r2_score(y_holdout, y_pred))\n",
    "\n",
    "y_pred = elastic_net_grid_est.predict(X_holdout)\n",
    "print(\"ElasticNet Regression:\", r2_score(y_holdout, y_pred))"
   ]
  },
  {
   "cell_type": "code",
   "execution_count": null,
   "metadata": {},
   "outputs": [],
   "source": []
  },
  {
   "cell_type": "code",
   "execution_count": null,
   "metadata": {},
   "outputs": [],
   "source": [
    "# evaluate model  (source: regression_lasso_solution.ipynb)\n",
    "\n",
    "# # Fitted vs. Actual\n",
    "y_train_pred = lin_reg_est.predict(X_train)\n",
    "\n",
    "# plt.scatter(y_train, y_train_pred, alpha=0.2)\n",
    "# plt.plot([0, 400], [0, 400])\n",
    "\n",
    "# # Fitted vs. Actual \n",
    "y_test_pred = lin_reg_est.predict(X_holdout)\n",
    "\n",
    "# plt.scatter(y_holdout, y_test_pred)\n",
    "# plt.plot([0, 400], [0, 400])"
   ]
  },
  {
   "cell_type": "code",
   "execution_count": null,
   "metadata": {},
   "outputs": [],
   "source": [
    "# # Plot Residuals vs. predicted  (source: regression_lasso_solution.ipynb)\n",
    "\n",
    "# lin_reg_residuals = y_train - y_train_pred\n",
    "\n",
    "# plt.scatter(y_train_pred, lin_reg_residuals)\n",
    "# plt.plot([0,400], [0, 0])\n",
    "# plt.title(\"Residuals vs. Predictions\")"
   ]
  },
  {
   "cell_type": "code",
   "execution_count": null,
   "metadata": {},
   "outputs": [],
   "source": []
  },
  {
   "cell_type": "markdown",
   "metadata": {},
   "source": [
    "## Test linear regression assumptions:\n",
    "    1. Remove multicollinearity\n",
    "    2. Transform some features\n",
    "    3. Look at QQ plots of residuals\n",
    "    4. Check for independence of errors\n",
    "    5. Check for heteroskedasticity in residuals!\n"
   ]
  },
  {
   "cell_type": "code",
   "execution_count": null,
   "metadata": {},
   "outputs": [],
   "source": []
  },
  {
   "cell_type": "markdown",
   "metadata": {},
   "source": [
    "## #. Features engineering"
   ]
  },
  {
   "cell_type": "code",
   "execution_count": null,
   "metadata": {},
   "outputs": [],
   "source": [
    "# square x5\n",
    "\n",
    "m_1 = LinearRegression()\n",
    "m_1.fit(X_train,y_train)\n",
    "\n",
    "X_train['x5^2'] = X_train['x5']**2 \n",
    "X_test['x5^2'] = X_test['x5']**2\n",
    "\n",
    "print('train score with x5^2:', round(m_1.score(X_train,y_train), 3))\n",
    "print('test score with x5^2:', round(m_1.score(X_test,y_test), 3))\n",
    "print('\\n')\n",
    "print('m_1.coef  with x5^2', m_1.coef_ )"
   ]
  },
  {
   "cell_type": "code",
   "execution_count": null,
   "metadata": {},
   "outputs": [],
   "source": [
    "# interaction x2 - x3\n",
    "\n",
    "m_1 = LinearRegression()\n",
    "m_1.fit(X_train,y_train)\n",
    "\n",
    "X_train['x2_-_x3'] = (X_train['x2'] - X_train['x3'])\n",
    "X_test['x2_-_x3'] = (X_test['x2'] - X_test['x3'])\n",
    "\n",
    "\n",
    "print('train score with x2_-_x3:', round(m_1.score(X_train,y_train), 3))\n",
    "print('test score with x2_-_x3:', round(m_1.score(X_test,y_test), 3))\n",
    "print('\\n')\n",
    "print('m_1.coef  with x2_-_x3', m_1.coef_ )"
   ]
  },
  {
   "cell_type": "code",
   "execution_count": null,
   "metadata": {},
   "outputs": [],
   "source": [
    "# x1 * x2\n",
    "\n",
    "m_3 = LinearRegression()\n",
    "m_3.fit(X_train,y_train)\n",
    "\n",
    "X_train['x1_*_x2'] = (X_train['x1']* X_train['x2'])\n",
    "X_test['x1_*_x2'] = (X_test['x1']* X_test['x2'])\n",
    "\n",
    "\n",
    "print('train score with x1_*_x2:', round(m_3.score(X_train,y_train), 3))\n",
    "print('test score with x1_*_x2:', round(m_3.score(X_test,y_test), 3))\n",
    "print('\\n')\n",
    "print('m_1.coef  with x1_*_x2', m_3.coef_ )"
   ]
  },
  {
   "cell_type": "markdown",
   "metadata": {},
   "source": [
    "## #. Pick best model \n",
    "Fit best model on (train + val), score on test!"
   ]
  },
  {
   "cell_type": "code",
   "execution_count": null,
   "metadata": {},
   "outputs": [],
   "source": [
    "# pd.DataFrame(list(zip(range(10), lasso_grid_est.best_estimator_.coef_)))"
   ]
  },
  {
   "cell_type": "code",
   "execution_count": null,
   "metadata": {},
   "outputs": [],
   "source": []
  },
  {
   "cell_type": "code",
   "execution_count": null,
   "metadata": {},
   "outputs": [],
   "source": []
  },
  {
   "cell_type": "markdown",
   "metadata": {},
   "source": [
    "## #. Model visualization\n"
   ]
  },
  {
   "cell_type": "code",
   "execution_count": null,
   "metadata": {},
   "outputs": [],
   "source": [
    "# linear regression plot\n",
    "f, ax = plt.subplots(figsize=(12, 8))\n",
    "sns.regplot(x='domestic_total_gross', y='international_total_gross', data=movie_df);\n"
   ]
  },
  {
   "cell_type": "markdown",
   "metadata": {},
   "source": [
    "## #. Interpret results\n",
    "**Interpretability**: Coefficients, what are the top predictors <br/>\n",
    "**Predictions**: Make a prediction for a new value, does it make sense?"
   ]
  },
  {
   "cell_type": "code",
   "execution_count": null,
   "metadata": {},
   "outputs": [],
   "source": []
  },
  {
   "cell_type": "code",
   "execution_count": null,
   "metadata": {},
   "outputs": [],
   "source": []
  },
  {
   "cell_type": "code",
   "execution_count": null,
   "metadata": {},
   "outputs": [],
   "source": []
  }
 ],
 "metadata": {
  "kernelspec": {
   "display_name": "Python 3 (ipykernel)",
   "language": "python",
   "name": "python3"
  },
  "language_info": {
   "codemirror_mode": {
    "name": "ipython",
    "version": 3
   },
   "file_extension": ".py",
   "mimetype": "text/x-python",
   "name": "python",
   "nbconvert_exporter": "python",
   "pygments_lexer": "ipython3",
   "version": "3.8.12"
  },
  "toc": {
   "base_numbering": 1,
   "nav_menu": {},
   "number_sections": false,
   "sideBar": true,
   "skip_h1_title": false,
   "title_cell": "Table of Contents",
   "title_sidebar": "Contents",
   "toc_cell": false,
   "toc_position": {
    "height": "calc(100% - 180px)",
    "left": "10px",
    "top": "150px",
    "width": "288px"
   },
   "toc_section_display": true,
   "toc_window_display": true
  }
 },
 "nbformat": 4,
 "nbformat_minor": 4
}
