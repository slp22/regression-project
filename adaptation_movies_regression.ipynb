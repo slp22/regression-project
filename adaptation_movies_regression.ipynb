{
 "cells": [
  {
   "cell_type": "markdown",
   "metadata": {},
   "source": [
    "# Exporting American Movie Box Office Hits \n",
    "\n",
    "### boxofficemojo.com regression model"
   ]
  },
  {
   "cell_type": "markdown",
   "metadata": {},
   "source": [
    "### Model predicts a movie's international_total_gross revenue"
   ]
  },
  {
   "cell_type": "code",
   "execution_count": null,
   "metadata": {},
   "outputs": [],
   "source": [
    "import pandas as pd\n",
    "import numpy as np\n",
    "import statsmodels.api as sm\n",
    "import statsmodels.formula.api as smf\n",
    "import seaborn as sns\n",
    "import matplotlib.pyplot as plt\n"
   ]
  },
  {
   "cell_type": "code",
   "execution_count": null,
   "metadata": {},
   "outputs": [],
   "source": [
    "from sklearn.preprocessing import StandardScaler, PolynomialFeatures\n",
    "from sklearn.linear_model import LinearRegression, Lasso, LassoCV, Ridge, RidgeCV, ElasticNet\n",
    "from sklearn.model_selection import (cross_val_score, train_test_split, KFold, GridSearchCV)\n",
    "from sklearn.metrics import r2_score, mean_squared_error\n",
    "%matplotlib inline\n"
   ]
  },
  {
   "cell_type": "markdown",
   "metadata": {},
   "source": [
    "## 1. [Scraped ](https://github.com/slp22/regression-project/blob/main/adaptation_movies_webscraping.ipynb) and [Cleaned](https://github.com/slp22/regression-project/blob/main/adaptation_movies_eda.ipynb) Movie Adaptations DataFrame"
   ]
  },
  {
   "cell_type": "code",
   "execution_count": null,
   "metadata": {},
   "outputs": [],
   "source": [
    "movie_df = pd.read_csv('clean_df.csv')\n",
    "movie_df.head(2)"
   ]
  },
  {
   "cell_type": "code",
   "execution_count": null,
   "metadata": {},
   "outputs": [],
   "source": [
    "movie_df.describe()\n",
    "# domestic_total_gross: min $742, max $543,638,043"
   ]
  },
  {
   "cell_type": "markdown",
   "metadata": {},
   "source": [
    "## 2. Features Correlation"
   ]
  },
  {
   "cell_type": "code",
   "execution_count": null,
   "metadata": {},
   "outputs": [],
   "source": [
    "# pairplot\n",
    "sns.pairplot(movie_df, height=3, aspect=1.5);\n"
   ]
  },
  {
   "cell_type": "code",
   "execution_count": null,
   "metadata": {},
   "outputs": [],
   "source": [
    "# heatmap correlation matrix\n",
    "sns.heatmap(movie_df.corr(), cmap=\"seismic\", annot=True, vmin=-1, vmax=1);\n"
   ]
  },
  {
   "cell_type": "markdown",
   "metadata": {},
   "source": [
    "### Correlation Summary\n",
    "\n",
    "#### Correlation Features-Predictor\n",
    "*predictor = `international_total_gross`*\n",
    "\n",
    "* predictor corrolated with (highest to lowest):\n",
    "    * `domestic_total_gross`\n",
    "    * `domestic_opening`\n",
    "    * `budget`\n",
    "    * `max_theaters`\n",
    "    * `opening_theathers`\n",
    "    \n",
    "Predictor is highly corrolated with `worldwide_total_gross`; has known multicollinearity as:<br/>\n",
    "`worldwide_total_gross` = `domestic_total_gross` + `international_total_gross`\n",
    "\n",
    "\n",
    "####  Features-Features > Positive Correlation\n",
    "* domestic_total_gross:\n",
    "    * `domestic_opening`\n",
    "    * `worldwide_total_gross`\n",
    "    * `budget`\n",
    "    * `max_theaters`\n",
    "    * `opening_theathers`\n",
    "\n",
    "* domestic_opening:<br/>\n",
    "    * `budget`\n",
    "    * `max_theaters`\n",
    "    * `opening_theathers`\n",
    "\n",
    "* max_theaters:\n",
    "    * `opening_theathers`\n",
    "    * `budget`\n",
    "    * `domestic_opening`\n",
    "\n",
    "\n",
    "####  Features-Features > Negative Correlation\n",
    "* rank:\n",
    "    * `domestic_total_gross`\n",
    "    * `max_theaters`\n",
    "    * `opening_theathers`\n",
    "    * `domestic_opening`\n",
    "    * `budget`\n",
    "    \n"
   ]
  },
  {
   "cell_type": "markdown",
   "metadata": {},
   "source": [
    "## #. Hold data for final testing"
   ]
  },
  {
   "cell_type": "code",
   "execution_count": null,
   "metadata": {},
   "outputs": [],
   "source": [
    "X, y = cars.drop('price',axis=1), cars['price']\n",
    "\n",
    "# hold out 20% of the data for final testing\n",
    "X, X_test, y, y_test = train_test_split(X, y, test_size=.2, random_state=10)"
   ]
  },
  {
   "cell_type": "markdown",
   "metadata": {},
   "source": [
    "## #. Simple Linear Regression Model\n",
    "FEATURE:'domestic_total_gross'\n",
    "TARGET:'international_total_gross'"
   ]
  },
  {
   "cell_type": "code",
   "execution_count": null,
   "metadata": {},
   "outputs": [],
   "source": [
    "# split train-test\n",
    "X_train, X_test, y_train, y_test = train_test_split(movie_df[['domestic_total_gross']], \n",
    "                                                    movie_df['international_total_gross'], \n",
    "                                                    test_size=0.20, \n",
    "                                                    random_state=42)"
   ]
  },
  {
   "cell_type": "code",
   "execution_count": null,
   "metadata": {},
   "outputs": [],
   "source": [
    "# linear regression: train and validate \n",
    "movie_model = LinearRegression()\n",
    "movie_model.fit(X_train,y_train)\n",
    "\n",
    "print('train score:', round(movie_model.score(X_train,y_train), 3))\n",
    "print('test score:', round(movie_model.score(X_test,y_test), 3))\n",
    "print('\\n')\n",
    "print('m_1.coef', movie_model.coef_ )"
   ]
  },
  {
   "cell_type": "code",
   "execution_count": null,
   "metadata": {},
   "outputs": [],
   "source": [
    "# ## FEAUTRE\n",
    "# # 'domestic_total_gross'\n",
    "\n",
    "# ## TARGET\n",
    "# # 'international_total_gross'\n",
    "\n",
    "# # y, X = patsy.dmatrices(' ~ domestic_total_gross + domestic_opening + budget + worldwide_total_gross', data=movie_df, return_type=\"dataframe\")\n",
    "# # y, X = patsy.dmatrices('international_total_gross ~ domestic_total_gross + domestic_opening + budget',                         data=movie_df, return_type=\"dataframe\")\n",
    "# # y, X = patsy.dmatrices('international_total_gross ~ domestic_total_gross + domestic_opening',                                  data=movie_df, return_type=\"dataframe\")\n",
    "# # y, X = patsy.dmatrices('international_total_gross ~ domestic_total_gross + budget',                                            data=movie_df, return_type=\"dataframe\")\n",
    "# y, X = patsy.dmatrices('international_total_gross ~ domestic_total_gross',                                                     data=movie_df, return_type=\"dataframe\")\n",
    "\n",
    "# # model\n",
    "# model = sm.OLS(y, X)\n",
    "\n",
    "# # fit model\n",
    "# fit = model.fit()\n",
    "\n",
    "# # model performance statistics\n",
    "# fit.summary()\n",
    "\n"
   ]
  },
  {
   "cell_type": "markdown",
   "metadata": {},
   "source": [
    "### Residuals Plot"
   ]
  },
  {
   "cell_type": "code",
   "execution_count": null,
   "metadata": {},
   "outputs": [],
   "source": [
    "# cone shape indicates heteroskedasticity; likely due to the large range of domestic movie revenue\n",
    "f, ax = plt.subplots(figsize=(12, 8))\n",
    "sns.residplot(x='domestic_total_gross', y='international_total_gross', data=movie_df);\n"
   ]
  },
  {
   "cell_type": "markdown",
   "metadata": {},
   "source": [
    "## #. Dummy Variables"
   ]
  },
  {
   "cell_type": "code",
   "execution_count": null,
   "metadata": {},
   "outputs": [],
   "source": [
    "# get dummies (source: validation_workflow_and_utilities.ipynb)\n",
    "pd.get_dummies(cars['make'], drop_first=True).head(5) \n",
    "cars = pd.get_dummies(cars, drop_first=True) #can just apply it to the whole df\n",
    "cars.head(3)\n"
   ]
  },
  {
   "cell_type": "code",
   "execution_count": null,
   "metadata": {},
   "outputs": [],
   "source": [
    "#validate\n",
    "\n",
    "lm.fit(X_train, y_train)\n",
    "print(f'Linear Regression val R^2: {lm.score(X_val, y_val):.3f}')\n",
    "\n",
    "lm_reg.fit(X_train_scaled, y_train)\n",
    "print(f'Ridge Regression val R^2: {lm_reg.score(X_val_scaled, y_val):.3f}')\n",
    "\n",
    "lm_poly.fit(X_train_poly, y_train)\n",
    "print(f'Degree 2 polynomial regression val R^2: {lm_poly.score(X_val_poly, y_val):.3f}')"
   ]
  },
  {
   "cell_type": "markdown",
   "metadata": {},
   "source": [
    "# Modeling"
   ]
  },
  {
   "cell_type": "code",
   "execution_count": null,
   "metadata": {},
   "outputs": [],
   "source": [
    "#set up the 3 models we're choosing from:\n",
    "\n",
    "#1 simple lin reg\n",
    "#2 ridge\n",
    "#3 poly\n",
    "\n",
    "\n",
    "#1 simple lin reg\n",
    "lm = LinearRegression()\n",
    "\n",
    "#Feature scaling for train, val, and test so that we can run our ridge model on each\n",
    "scaler = StandardScaler()\n",
    "\n",
    "X_train_scaled = scaler.fit_transform(X_train.values)\n",
    "X_val_scaled = scaler.transform(X_val.values)\n",
    "X_test_scaled = scaler.transform(X_test.values)\n",
    "\n",
    "#2 ridge\n",
    "lm_reg = Ridge(alpha=1)\n",
    "\n",
    "#Feature transforms for train, val, and test so that we can run our poly model on each\n",
    "poly = PolynomialFeatures(degree=2) \n",
    "\n",
    "X_train_poly = poly.fit_transform(X_train.values)\n",
    "X_val_poly = poly.transform(X_val.values)\n",
    "X_test_poly = poly.transform(X_test.values)\n",
    "\n",
    "#3 poly\n",
    "lm_poly = LinearRegression()\n",
    "\n"
   ]
  },
  {
   "cell_type": "markdown",
   "metadata": {},
   "source": [
    "## #. Cross-Validation `KFold`"
   ]
  },
  {
   "cell_type": "code",
   "execution_count": null,
   "metadata": {},
   "outputs": [],
   "source": [
    "## K-fold, in a less manual way with sk-learn (source: validation_workflow_and_utilities.ipynb)\n",
    "\n",
    "kf = KFold(n_splits=5, shuffle=True, random_state = 71)\n",
    "\n",
    "# cross-val-score\n",
    "cross_val_score(lm, X, y, cv=kf, scoring='r2')"
   ]
  },
  {
   "cell_type": "code",
   "execution_count": null,
   "metadata": {},
   "outputs": [],
   "source": [
    "# build model  (source: regression_lasso_solution.ipynb)\n",
    "lin_reg_est = LinearRegression()\n",
    "\n",
    "scores = cross_val_score(lin_reg_est, X_train, y_train, cv=kfold)\n",
    "print(scores)\n",
    "print(\"Linear Reg Mean Score: \", np.mean(scores))\n",
    "\n",
    "# Build the Model\n",
    "lin_reg_est.fit(X_train, y_train)"
   ]
  },
  {
   "cell_type": "code",
   "execution_count": null,
   "metadata": {},
   "outputs": [],
   "source": [
    "# evaluate model  (source: regression_lasso_solution.ipynb)\n",
    "\n",
    "# # Fitted vs. Actual\n",
    "# y_train_pred = lin_reg_est.predict(X_train)\n",
    "\n",
    "# plt.scatter(y_train, y_train_pred, alpha=0.2)\n",
    "# plt.plot([0, 400], [0, 400])"
   ]
  },
  {
   "cell_type": "code",
   "execution_count": null,
   "metadata": {},
   "outputs": [],
   "source": [
    "# # Fitted vs. Actual  (source: regression_lasso_solution.ipynb)\n",
    "# y_test_pred = lin_reg_est.predict(X_holdout)\n",
    "\n",
    "# plt.scatter(y_holdout, y_test_pred)\n",
    "# plt.plot([0, 400], [0, 400])"
   ]
  },
  {
   "cell_type": "code",
   "execution_count": null,
   "metadata": {},
   "outputs": [],
   "source": [
    "# # Plot Residuals vs. predicted  (source: regression_lasso_solution.ipynb)\n",
    "\n",
    "# lin_reg_residuals = y_train - y_train_pred\n",
    "\n",
    "# plt.scatter(y_train_pred, lin_reg_residuals)\n",
    "# plt.plot([0,400], [0, 0])\n",
    "# plt.title(\"Residuals vs. Predictions\")"
   ]
  },
  {
   "cell_type": "code",
   "execution_count": null,
   "metadata": {},
   "outputs": [],
   "source": []
  },
  {
   "cell_type": "markdown",
   "metadata": {},
   "source": [
    "## #. Model Tuning \n",
    "Standardscalar() <br/>\n",
    "Take log of some features <br/>\n",
    "Elastic Net <br/>\n",
    "Grid_Search()\n"
   ]
  },
  {
   "cell_type": "code",
   "execution_count": null,
   "metadata": {},
   "outputs": [],
   "source": [
    "# print(\"Lasso Model:\")  (source: regression_lasso_solution.ipynb)\n",
    "# params = {\n",
    "#     \"alpha\": np.logspace(-4, -.1, 20)\n",
    "# }\n",
    "\n",
    "# grid_est = GridSearchCV(Lasso(), param_grid=params, cv=kfold, \n",
    "#                         return_train_score=False)\n",
    "# grid_est.fit(X_train, y_train)\n",
    "# df = pd.DataFrame(grid_est.cv_results_)\n",
    "# df[\"alpha\"] = df.params.apply(lambda val: val[\"alpha\"])\n",
    "# plt.plot(np.log(df.alpha), df.mean_test_score);"
   ]
  },
  {
   "cell_type": "code",
   "execution_count": null,
   "metadata": {},
   "outputs": [],
   "source": [
    "grid_est.best_estimator_"
   ]
  },
  {
   "cell_type": "code",
   "execution_count": null,
   "metadata": {},
   "outputs": [],
   "source": [
    "params['alpha']"
   ]
  },
  {
   "cell_type": "code",
   "execution_count": null,
   "metadata": {},
   "outputs": [],
   "source": [
    "# print(\"Ridge Model:\") (source: regression_lasso_solution.ipynb)\n",
    "# params = {\n",
    "#     \"alpha\": np.logspace(-4, -.1, 20)\n",
    "# }\n",
    "\n",
    "# grid_est = GridSearchCV(Ridge(), param_grid=params, cv=kfold, \n",
    "#                         return_train_score=False)\n",
    "# grid_est.fit(X_train, y_train)\n",
    "# df = pd.DataFrame(grid_est.cv_results_)\n",
    "# df[\"alpha\"] = df.params.apply(lambda val: val[\"alpha\"])\n",
    "# plt.plot(np.log(df.alpha), df.mean_test_score);"
   ]
  },
  {
   "cell_type": "code",
   "execution_count": null,
   "metadata": {},
   "outputs": [],
   "source": [
    "def build_grid_search_est(model, X, y, cv=5, **params): (source: regression_lasso_solution.ipynb)\n",
    "\n",
    "    grid_est = GridSearchCV(model, param_grid=params, cv=kfold, \n",
    "                            return_train_score=False)\n",
    "    grid_est.fit(X, y)\n",
    "    df = pd.DataFrame(grid_est.cv_results_)\n",
    "    for param in params:\n",
    "        df[param] = df.params.apply(lambda val: val[param])\n",
    "#       plt.plot(np.log(df.alpha), df.mean_test_score);\n",
    "        plt.semilogx(df.alpha, df.mean_test_score)\n",
    "    return grid_est"
   ]
  },
  {
   "cell_type": "code",
   "execution_count": null,
   "metadata": {},
   "outputs": [],
   "source": [
    "# print(\"Lasso Grid Search\") (source: regression_lasso_solution.ipynb)\n",
    "# lasso_grid_est = build_grid_search_est(Lasso(), X_train, y_train, cv=kfold,\n",
    "#                                        alpha=np.logspace(-4, -1, 30))"
   ]
  },
  {
   "cell_type": "code",
   "execution_count": null,
   "metadata": {},
   "outputs": [],
   "source": [
    "# print(\"Ridge Grid Search\") (source: regression_lasso_solution.ipynb)\n",
    "# ridge_grid_est = build_grid_search_est(Ridge(), X_train, y_train, cv=kfold,\n",
    "#                                        alpha=np.logspace(-4, -1, 10))"
   ]
  },
  {
   "cell_type": "code",
   "execution_count": null,
   "metadata": {},
   "outputs": [],
   "source": [
    "# print(\"Elastic Net Grid Search\") (source: regression_lasso_solution.ipynb)\n",
    "# elastic_net_grid_est = build_grid_search_est(ElasticNet(), X_train, y_train, cv=kfold,\n",
    "#                                              alpha=np.logspace(-4, 0.1, 10))"
   ]
  },
  {
   "cell_type": "code",
   "execution_count": null,
   "metadata": {},
   "outputs": [],
   "source": []
  },
  {
   "cell_type": "code",
   "execution_count": null,
   "metadata": {},
   "outputs": [],
   "source": []
  },
  {
   "cell_type": "markdown",
   "metadata": {},
   "source": [
    "## Llinear Regression Assumptions:\n",
    "    1. Remove multicollinearity\n",
    "    2. Transform some features\n",
    "    3. Look at QQ plots of residuals\n",
    "    4. Check for independence of errors\n",
    "    5. Check for heteroskedasticity in residuals!\n"
   ]
  },
  {
   "cell_type": "code",
   "execution_count": null,
   "metadata": {},
   "outputs": [],
   "source": []
  },
  {
   "cell_type": "markdown",
   "metadata": {},
   "source": [
    "## #. Features Engineering"
   ]
  },
  {
   "cell_type": "code",
   "execution_count": null,
   "metadata": {},
   "outputs": [],
   "source": [
    "# square x5\n",
    "\n",
    "m_1 = LinearRegression()\n",
    "m_1.fit(X_train,y_train)\n",
    "\n",
    "X_train['x5^2'] = X_train['x5']**2 \n",
    "X_test['x5^2'] = X_test['x5']**2\n",
    "\n",
    "print('train score with x5^2:', round(m_1.score(X_train,y_train), 3))\n",
    "print('test score with x5^2:', round(m_1.score(X_test,y_test), 3))\n",
    "print('\\n')\n",
    "print('m_1.coef  with x5^2', m_1.coef_ )"
   ]
  },
  {
   "cell_type": "code",
   "execution_count": null,
   "metadata": {},
   "outputs": [],
   "source": [
    "# interaction x2 - x3\n",
    "\n",
    "m_1 = LinearRegression()\n",
    "m_1.fit(X_train,y_train)\n",
    "\n",
    "X_train['x2_-_x3'] = (X_train['x2'] - X_train['x3'])\n",
    "X_test['x2_-_x3'] = (X_test['x2'] - X_test['x3'])\n",
    "\n",
    "\n",
    "print('train score with x2_-_x3:', round(m_1.score(X_train,y_train), 3))\n",
    "print('test score with x2_-_x3:', round(m_1.score(X_test,y_test), 3))\n",
    "print('\\n')\n",
    "print('m_1.coef  with x2_-_x3', m_1.coef_ )"
   ]
  },
  {
   "cell_type": "code",
   "execution_count": null,
   "metadata": {},
   "outputs": [],
   "source": [
    "# x1 * x2\n",
    "\n",
    "m_3 = LinearRegression()\n",
    "m_3.fit(X_train,y_train)\n",
    "\n",
    "X_train['x1_*_x2'] = (X_train['x1']* X_train['x2'])\n",
    "X_test['x1_*_x2'] = (X_test['x1']* X_test['x2'])\n",
    "\n",
    "\n",
    "print('train score with x1_*_x2:', round(m_3.score(X_train,y_train), 3))\n",
    "print('test score with x1_*_x2:', round(m_3.score(X_test,y_test), 3))\n",
    "print('\\n')\n",
    "print('m_1.coef  with x1_*_x2', m_3.coef_ )"
   ]
  },
  {
   "cell_type": "markdown",
   "metadata": {},
   "source": [
    "## #. Best Model \n",
    "Fit best model on (train + val), score on test!"
   ]
  },
  {
   "cell_type": "code",
   "execution_count": null,
   "metadata": {},
   "outputs": [],
   "source": [
    "(source: regression_lasso_solution.ipynb)\n",
    "\n",
    "\n",
    "y_pred = lin_reg_est.predict(X_holdout)\n",
    "print(\"Linear Regression:\", r2_score(y_holdout, y_pred))\n",
    "\n",
    "y_pred = lasso_grid_est.predict(X_holdout)\n",
    "print(\"Lasso Regression:\", r2_score(y_holdout, y_pred))\n",
    "\n",
    "y_pred = ridge_grid_est.predict(X_holdout)\n",
    "print(\"Ridge Regression:\", r2_score(y_holdout, y_pred))\n",
    "\n",
    "y_pred = elastic_net_grid_est.predict(X_holdout)\n",
    "print(\"ElasticNet Regression:\", r2_score(y_holdout, y_pred))"
   ]
  },
  {
   "cell_type": "code",
   "execution_count": null,
   "metadata": {},
   "outputs": [],
   "source": [
    "# pd.DataFrame(list(zip(range(10), lasso_grid_est.best_estimator_.coef_)))"
   ]
  },
  {
   "cell_type": "code",
   "execution_count": null,
   "metadata": {},
   "outputs": [],
   "source": []
  },
  {
   "cell_type": "code",
   "execution_count": null,
   "metadata": {},
   "outputs": [],
   "source": []
  },
  {
   "cell_type": "markdown",
   "metadata": {},
   "source": [
    "## #. Model Visualization\n"
   ]
  },
  {
   "cell_type": "code",
   "execution_count": null,
   "metadata": {},
   "outputs": [],
   "source": [
    "# linear regression plot\n",
    "f, ax = plt.subplots(figsize=(12, 8))\n",
    "sns.regplot(x='domestic_total_gross', y='international_total_gross', data=movie_df);\n"
   ]
  },
  {
   "cell_type": "markdown",
   "metadata": {},
   "source": [
    "## #. Interpret Results\n",
    "**Interpretability**: Coefficients, what are the top predictors <br/>\n",
    "**Predictions**: Make a prediction for a new value, does it make sense?"
   ]
  },
  {
   "cell_type": "code",
   "execution_count": null,
   "metadata": {},
   "outputs": [],
   "source": []
  },
  {
   "cell_type": "code",
   "execution_count": null,
   "metadata": {},
   "outputs": [],
   "source": []
  },
  {
   "cell_type": "code",
   "execution_count": null,
   "metadata": {},
   "outputs": [],
   "source": []
  }
 ],
 "metadata": {
  "kernelspec": {
   "display_name": "Python 3 (ipykernel)",
   "language": "python",
   "name": "python3"
  },
  "language_info": {
   "codemirror_mode": {
    "name": "ipython",
    "version": 3
   },
   "file_extension": ".py",
   "mimetype": "text/x-python",
   "name": "python",
   "nbconvert_exporter": "python",
   "pygments_lexer": "ipython3",
   "version": "3.8.12"
  },
  "toc": {
   "base_numbering": 1,
   "nav_menu": {},
   "number_sections": false,
   "sideBar": true,
   "skip_h1_title": false,
   "title_cell": "Table of Contents",
   "title_sidebar": "Contents",
   "toc_cell": false,
   "toc_position": {
    "height": "calc(100% - 180px)",
    "left": "10px",
    "top": "150px",
    "width": "288px"
   },
   "toc_section_display": true,
   "toc_window_display": true
  }
 },
 "nbformat": 4,
 "nbformat_minor": 4
}
