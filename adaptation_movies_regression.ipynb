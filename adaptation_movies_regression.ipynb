{
 "cells": [
  {
   "cell_type": "markdown",
   "metadata": {},
   "source": [
    "# Exporting American Movie Box Office Hits "
   ]
  },
  {
   "cell_type": "markdown",
   "metadata": {},
   "source": [
    "### Regresssion Model Stepwise Analysis <a id='top'></a> \n",
    "\n",
    "1. [Research Question](#1)<br/>\n",
    "2. [Scraped: Movie Adaptations Data](#2) <br/>\n",
    "3. [Exporatory Data Analysis: Movie Adaptations Dataframe](#3)<br/>\n",
    "   [3a. Explore features correlation](#3a)<br/>\n",
    "   [3b. Explore and handle categorical data](#3b)<br/>\n",
    "4. [Cross-Validation](#4)<br/>\n",
    "5. [Modeling](#5)<br/>\n",
    "6. [Model Tuning](#6) <br/>\n",
    "   [6a. Regularization](#6a)<br/>\n",
    "   [6b. Features engineering](#6b)<br/>\n",
    "   [6c. Linear regression assumptions](#6c)<br/>\n",
    "7. [Best Model ](#7)<br/>\n",
    "8. [Results](#8)<br/>\n",
    "   [8a. Interpretability](#8a)<br/>\n",
    "   [8b. Predictions](#8b)<br/>"
   ]
  },
  {
   "cell_type": "code",
   "execution_count": 1,
   "metadata": {},
   "outputs": [],
   "source": [
    "import pandas as pd\n",
    "import numpy as np\n",
    "import sklearn\n",
    "import statsmodels.api as sm\n",
    "import statsmodels.formula.api as smf\n",
    "import pylab as py\n",
    "import seaborn as sns\n",
    "import matplotlib.pyplot as plt\n",
    "import scipy.stats as stats\n",
    "\n"
   ]
  },
  {
   "cell_type": "code",
   "execution_count": 2,
   "metadata": {},
   "outputs": [],
   "source": [
    "from sklearn.pipeline import Pipeline\n",
    "from sklearn.preprocessing import StandardScaler, PolynomialFeatures\n",
    "from sklearn.linear_model import LinearRegression, Lasso, Ridge, ElasticNet\n",
    "from sklearn.model_selection import cross_val_score, train_test_split, KFold\n",
    "from sklearn.metrics import r2_score, mean_squared_error\n",
    "%matplotlib inline\n"
   ]
  },
  {
   "cell_type": "markdown",
   "metadata": {},
   "source": [
    "## 1. Research Question<a id='1'></a> \n",
    "\n",
    "* RQ. Can a model predict a movie adaptaion <sup>1</sup> international total gross revenue based on movie data available on boxofficemojo.com?\n",
    "* Data source: boxofficemojo.com \n",
    "* Error metric: mean_squared_error\n",
    "\n",
    "<sup>1</sup> Adapted from books, television shows, events, video games, or plays. \n"
   ]
  },
  {
   "cell_type": "markdown",
   "metadata": {},
   "source": [
    "## 2. Scraped [Movie Adaptations Data](https://github.com/slp22/regression-project/blob/main/adaptation_movies_webscraping.ipynb) \n"
   ]
  },
  {
   "cell_type": "markdown",
   "metadata": {},
   "source": [
    "## 3. Exporatory Data Analysis: [Movie Adaptations Dataframe](https://github.com/slp22/regression-project/blob/main/adaptation_movies_eda.ipynb) "
   ]
  },
  {
   "cell_type": "code",
   "execution_count": 3,
   "metadata": {},
   "outputs": [
    {
     "data": {
      "text/html": [
       "<div>\n",
       "<style scoped>\n",
       "    .dataframe tbody tr th:only-of-type {\n",
       "        vertical-align: middle;\n",
       "    }\n",
       "\n",
       "    .dataframe tbody tr th {\n",
       "        vertical-align: top;\n",
       "    }\n",
       "\n",
       "    .dataframe thead th {\n",
       "        text-align: right;\n",
       "    }\n",
       "</style>\n",
       "<table border=\"1\" class=\"dataframe\">\n",
       "  <thead>\n",
       "    <tr style=\"text-align: right;\">\n",
       "      <th></th>\n",
       "      <th>international_total_gross</th>\n",
       "      <th>domestic_total_gross</th>\n",
       "      <th>rank</th>\n",
       "      <th>movie_title</th>\n",
       "      <th>max_theaters</th>\n",
       "      <th>opening_theathers</th>\n",
       "      <th>worldwide_total_gross</th>\n",
       "      <th>domestic_opening</th>\n",
       "      <th>budget</th>\n",
       "      <th>release_date</th>\n",
       "      <th>runtime</th>\n",
       "      <th>distributor</th>\n",
       "      <th>genres</th>\n",
       "      <th>rating</th>\n",
       "    </tr>\n",
       "  </thead>\n",
       "  <tbody>\n",
       "    <tr>\n",
       "      <th>0</th>\n",
       "      <td>1119261396</td>\n",
       "      <td>543638043</td>\n",
       "      <td>6</td>\n",
       "      <td>The Lion King</td>\n",
       "      <td>4802.0</td>\n",
       "      <td>4725.0</td>\n",
       "      <td>1662899439</td>\n",
       "      <td>191770759</td>\n",
       "      <td>260000000</td>\n",
       "      <td>20190711</td>\n",
       "      <td>118.0</td>\n",
       "      <td>Walt Disney Studios Motion Pictures</td>\n",
       "      <td>Adventure Animation Drama Family Musical</td>\n",
       "      <td>PG</td>\n",
       "    </tr>\n",
       "  </tbody>\n",
       "</table>\n",
       "</div>"
      ],
      "text/plain": [
       "   international_total_gross  domestic_total_gross  rank    movie_title  \\\n",
       "0                 1119261396             543638043     6  The Lion King   \n",
       "\n",
       "   max_theaters  opening_theathers  worldwide_total_gross  domestic_opening  \\\n",
       "0        4802.0             4725.0             1662899439         191770759   \n",
       "\n",
       "      budget  release_date  runtime                          distributor  \\\n",
       "0  260000000      20190711    118.0  Walt Disney Studios Motion Pictures   \n",
       "\n",
       "                                     genres rating  \n",
       "0  Adventure Animation Drama Family Musical     PG  "
      ]
     },
     "execution_count": 3,
     "metadata": {},
     "output_type": "execute_result"
    }
   ],
   "source": [
    "movie_df = pd.read_csv('clean_df.csv')\n",
    "movie_df.drop(columns=['link_stub'], inplace=True)\n",
    "movie_df.head(1)"
   ]
  },
  {
   "cell_type": "code",
   "execution_count": null,
   "metadata": {},
   "outputs": [],
   "source": [
    "movie_df.describe()"
   ]
  },
  {
   "cell_type": "code",
   "execution_count": null,
   "metadata": {},
   "outputs": [],
   "source": [
    "# check for null values\n",
    "movie_df.isnull().sum()"
   ]
  },
  {
   "cell_type": "code",
   "execution_count": 4,
   "metadata": {},
   "outputs": [],
   "source": [
    "# drop null values\n",
    "movie_df.dropna(axis=0, how='any', inplace=True)"
   ]
  },
  {
   "cell_type": "code",
   "execution_count": null,
   "metadata": {},
   "outputs": [],
   "source": [
    "# double check for null values\n",
    "movie_df.isnull().sum()"
   ]
  },
  {
   "cell_type": "code",
   "execution_count": null,
   "metadata": {},
   "outputs": [],
   "source": [
    "movie_df.info()"
   ]
  },
  {
   "cell_type": "markdown",
   "metadata": {},
   "source": [
    "### 3a. Explore features correlation<a id='3a'></a> "
   ]
  },
  {
   "cell_type": "code",
   "execution_count": null,
   "metadata": {},
   "outputs": [],
   "source": [
    "# sns.pairplot(movie_df, height=5, aspect=1.5);"
   ]
  },
  {
   "cell_type": "code",
   "execution_count": null,
   "metadata": {},
   "outputs": [],
   "source": [
    "# heatmap correlation matrix\n",
    "sns.heatmap(movie_df.corr(), cmap=\"seismic\", annot=True, vmin=-1, vmax=1);"
   ]
  },
  {
   "cell_type": "markdown",
   "metadata": {},
   "source": [
    "### Correlation Summary\n",
    "\n",
    "#### Target-Features\n",
    "*target = `international_total_gross`*\n",
    "* target correlated with (highest to lowest):\n",
    "    * `domestic_total_gross`\n",
    "    * `domestic_opening`\n",
    "    * `budget`\n",
    "    * `max_theaters`\n",
    "    * `opening_theathers`\n",
    "\n",
    "Target is highly correlated with `worldwide_total_gross`; has known multicollinearity as:<br/>\n",
    "`worldwide_total_gross` = `domestic_total_gross` + `international_total_gross`\n",
    "\n",
    "####  Features-Features: Positive Correlation\n",
    "* domestic_total_gross:\n",
    "    * `domestic_opening`\n",
    "    * `worldwide_total_gross`\n",
    "    * `budget`\n",
    "    * `max_theaters`\n",
    "    * `opening_theathers`\n",
    "* domestic_opening:<br/>\n",
    "    * `budget`\n",
    "    * `max_theaters`\n",
    "    * `opening_theathers`\n",
    "* max_theaters:\n",
    "    * `opening_theathers`\n",
    "    * `budget`\n",
    "    * `domestic_opening`\n",
    "\n",
    "####  Features-Features: Negative Correlation\n",
    "* rank:\n",
    "    * `domestic_total_gross`\n",
    "    * `max_theaters`\n",
    "    * `opening_theathers`\n",
    "    * `domestic_opening`\n",
    "    * `budget`\n",
    "    \n"
   ]
  },
  {
   "cell_type": "markdown",
   "metadata": {},
   "source": [
    "### 3b. Explore and handle categorical data<a id='3b'></a> "
   ]
  },
  {
   "cell_type": "code",
   "execution_count": null,
   "metadata": {},
   "outputs": [],
   "source": [
    "# explore genres as candidate for dummies\n",
    "print('Unique genres:', movie_df.genres.nunique())\n",
    "print('\\n')\n",
    "print('Genres counts\\n', movie_df['genres'].value_counts())\n",
    "# 👎 too many; look for other dummy variables. "
   ]
  },
  {
   "cell_type": "code",
   "execution_count": 5,
   "metadata": {},
   "outputs": [
    {
     "name": "stdout",
     "output_type": "stream",
     "text": [
      "Unique MPAA ratings: 4\n",
      "\n",
      "\n",
      "Rating counts\n",
      " PG13    304\n",
      "R       217\n",
      "PG      189\n",
      "G         8\n",
      "Name: rating, dtype: int64\n"
     ]
    }
   ],
   "source": [
    "# explore MPAA rating as candidate for dummies\n",
    "print('Unique MPAA ratings:', movie_df.rating.nunique())\n",
    "print('\\n')\n",
    "rating_count = movie_df['rating'].value_counts()\n",
    "print('Rating counts\\n', rating_count)\n",
    "# 👍 easy-to-use for dummy variables"
   ]
  },
  {
   "cell_type": "code",
   "execution_count": 6,
   "metadata": {},
   "outputs": [
    {
     "data": {
      "text/html": [
       "<div>\n",
       "<style scoped>\n",
       "    .dataframe tbody tr th:only-of-type {\n",
       "        vertical-align: middle;\n",
       "    }\n",
       "\n",
       "    .dataframe tbody tr th {\n",
       "        vertical-align: top;\n",
       "    }\n",
       "\n",
       "    .dataframe thead th {\n",
       "        text-align: right;\n",
       "    }\n",
       "</style>\n",
       "<table border=\"1\" class=\"dataframe\">\n",
       "  <thead>\n",
       "    <tr style=\"text-align: right;\">\n",
       "      <th></th>\n",
       "      <th>international_total_gross</th>\n",
       "      <th>domestic_total_gross</th>\n",
       "      <th>rank</th>\n",
       "      <th>movie_title</th>\n",
       "      <th>max_theaters</th>\n",
       "      <th>opening_theathers</th>\n",
       "      <th>worldwide_total_gross</th>\n",
       "      <th>domestic_opening</th>\n",
       "      <th>budget</th>\n",
       "      <th>release_date</th>\n",
       "      <th>runtime</th>\n",
       "      <th>distributor</th>\n",
       "      <th>genres</th>\n",
       "      <th>rating_PG</th>\n",
       "      <th>rating_PG13</th>\n",
       "      <th>rating_R</th>\n",
       "    </tr>\n",
       "  </thead>\n",
       "  <tbody>\n",
       "    <tr>\n",
       "      <th>0</th>\n",
       "      <td>1119261396</td>\n",
       "      <td>543638043</td>\n",
       "      <td>6</td>\n",
       "      <td>The Lion King</td>\n",
       "      <td>4802.0</td>\n",
       "      <td>4725.0</td>\n",
       "      <td>1662899439</td>\n",
       "      <td>191770759</td>\n",
       "      <td>260000000</td>\n",
       "      <td>20190711</td>\n",
       "      <td>118.0</td>\n",
       "      <td>Walt Disney Studios Motion Pictures</td>\n",
       "      <td>Adventure Animation Drama Family Musical</td>\n",
       "      <td>1</td>\n",
       "      <td>0</td>\n",
       "      <td>0</td>\n",
       "    </tr>\n",
       "  </tbody>\n",
       "</table>\n",
       "</div>"
      ],
      "text/plain": [
       "   international_total_gross  domestic_total_gross  rank    movie_title  \\\n",
       "0                 1119261396             543638043     6  The Lion King   \n",
       "\n",
       "   max_theaters  opening_theathers  worldwide_total_gross  domestic_opening  \\\n",
       "0        4802.0             4725.0             1662899439         191770759   \n",
       "\n",
       "      budget  release_date  runtime                          distributor  \\\n",
       "0  260000000      20190711    118.0  Walt Disney Studios Motion Pictures   \n",
       "\n",
       "                                     genres  rating_PG  rating_PG13  rating_R  \n",
       "0  Adventure Animation Drama Family Musical          1            0         0  "
      ]
     },
     "execution_count": 6,
     "metadata": {},
     "output_type": "execute_result"
    }
   ],
   "source": [
    "# get dummies for MPAA rating \n",
    "df_dummies_rating = pd.get_dummies(movie_df, columns=['rating'], drop_first=True)\n",
    "df_dummies_rating.head(2)\n",
    "movie_df = df_dummies_rating\n",
    "movie_df.head(1)"
   ]
  },
  {
   "cell_type": "code",
   "execution_count": 7,
   "metadata": {},
   "outputs": [
    {
     "name": "stdout",
     "output_type": "stream",
     "text": [
      "Unique distributors: 66\n",
      "\n",
      "\n",
      "Distributor count\n",
      " Warner Bros.                           123\n",
      "Twentieth Century Fox                   89\n",
      "Paramount Pictures                      88\n",
      "Walt Disney Studios Motion Pictures     73\n",
      "Universal Pictures                      68\n",
      "                                      ... \n",
      "Fox Atomic                               1\n",
      "United Artists Releasing                 1\n",
      "Pantelion Films                          1\n",
      "TriStar Pictures                         1\n",
      "Cinedigm Entertainment Group             1\n",
      "Name: distributor, Length: 66, dtype: int64\n"
     ]
    }
   ],
   "source": [
    "# explore distributor as candidate for dummies \n",
    "print('Unique distributors:', movie_df.distributor.nunique())\n",
    "print('\\n')\n",
    "distributor_count = movie_df['distributor'].value_counts()\n",
    "print('Distributor count\\n', distributor_count)\n",
    "# 👍 Reasonable amount, group lower frequencies into an other category."
   ]
  },
  {
   "cell_type": "code",
   "execution_count": 8,
   "metadata": {},
   "outputs": [
    {
     "data": {
      "text/html": [
       "<div>\n",
       "<style scoped>\n",
       "    .dataframe tbody tr th:only-of-type {\n",
       "        vertical-align: middle;\n",
       "    }\n",
       "\n",
       "    .dataframe tbody tr th {\n",
       "        vertical-align: top;\n",
       "    }\n",
       "\n",
       "    .dataframe thead th {\n",
       "        text-align: right;\n",
       "    }\n",
       "</style>\n",
       "<table border=\"1\" class=\"dataframe\">\n",
       "  <thead>\n",
       "    <tr style=\"text-align: right;\">\n",
       "      <th></th>\n",
       "      <th>international_total_gross</th>\n",
       "      <th>domestic_total_gross</th>\n",
       "      <th>rank</th>\n",
       "      <th>movie_title</th>\n",
       "      <th>max_theaters</th>\n",
       "      <th>opening_theathers</th>\n",
       "      <th>worldwide_total_gross</th>\n",
       "      <th>domestic_opening</th>\n",
       "      <th>budget</th>\n",
       "      <th>release_date</th>\n",
       "      <th>...</th>\n",
       "      <th>rating_PG</th>\n",
       "      <th>rating_PG13</th>\n",
       "      <th>rating_R</th>\n",
       "      <th>distributor_Paramount Pictures</th>\n",
       "      <th>distributor_Sony Pictures Entertainment (SPE)</th>\n",
       "      <th>distributor_Twentieth Century Fox</th>\n",
       "      <th>distributor_Universal Pictures</th>\n",
       "      <th>distributor_Walt Disney Studios Motion Pictures</th>\n",
       "      <th>distributor_Warner Bros.</th>\n",
       "      <th>distributor_other</th>\n",
       "    </tr>\n",
       "  </thead>\n",
       "  <tbody>\n",
       "    <tr>\n",
       "      <th>0</th>\n",
       "      <td>1119261396</td>\n",
       "      <td>543638043</td>\n",
       "      <td>6</td>\n",
       "      <td>The Lion King</td>\n",
       "      <td>4802.0</td>\n",
       "      <td>4725.0</td>\n",
       "      <td>1662899439</td>\n",
       "      <td>191770759</td>\n",
       "      <td>260000000</td>\n",
       "      <td>20190711</td>\n",
       "      <td>...</td>\n",
       "      <td>1</td>\n",
       "      <td>0</td>\n",
       "      <td>0</td>\n",
       "      <td>0</td>\n",
       "      <td>0</td>\n",
       "      <td>0</td>\n",
       "      <td>0</td>\n",
       "      <td>1</td>\n",
       "      <td>0</td>\n",
       "      <td>0</td>\n",
       "    </tr>\n",
       "  </tbody>\n",
       "</table>\n",
       "<p>1 rows × 22 columns</p>\n",
       "</div>"
      ],
      "text/plain": [
       "   international_total_gross  domestic_total_gross  rank    movie_title  \\\n",
       "0                 1119261396             543638043     6  The Lion King   \n",
       "\n",
       "   max_theaters  opening_theathers  worldwide_total_gross  domestic_opening  \\\n",
       "0        4802.0             4725.0             1662899439         191770759   \n",
       "\n",
       "      budget  release_date  ...  rating_PG rating_PG13  rating_R  \\\n",
       "0  260000000      20190711  ...          1           0         0   \n",
       "\n",
       "   distributor_Paramount Pictures  \\\n",
       "0                               0   \n",
       "\n",
       "   distributor_Sony Pictures Entertainment (SPE)  \\\n",
       "0                                              0   \n",
       "\n",
       "   distributor_Twentieth Century Fox  distributor_Universal Pictures  \\\n",
       "0                                  0                               0   \n",
       "\n",
       "   distributor_Walt Disney Studios Motion Pictures  distributor_Warner Bros.  \\\n",
       "0                                                1                         0   \n",
       "\n",
       "   distributor_other  \n",
       "0                  0  \n",
       "\n",
       "[1 rows x 22 columns]"
      ]
     },
     "execution_count": 8,
     "metadata": {},
     "output_type": "execute_result"
    }
   ],
   "source": [
    "# create distributor other category\n",
    "distributor_other = list(distributor_count[distributor_count < 20].index)\n",
    "movie_df['distributor'] = movie_df['distributor'].replace(distributor_other, 'other')\n",
    "\n",
    "# get dummies for distributor\n",
    "df_dummies_distributor = pd.get_dummies(movie_df, columns=['distributor'], drop_first=True)\n",
    "movie_df = df_dummies_distributor\n",
    "movie_df.head(1)"
   ]
  },
  {
   "cell_type": "code",
   "execution_count": 9,
   "metadata": {},
   "outputs": [
    {
     "data": {
      "text/plain": [
       "Index(['international_total_gross', 'domestic_total_gross', 'rank',\n",
       "       'movie_title', 'max_theaters', 'opening_theathers',\n",
       "       'worldwide_total_gross', 'domestic_opening', 'budget', 'release_date',\n",
       "       'runtime', 'genres', 'rating_PG', 'rating_PG13', 'rating_R',\n",
       "       'distributor_Paramount Pictures',\n",
       "       'distributor_Sony Pictures Entertainment (SPE)',\n",
       "       'distributor_Twentieth Century Fox', 'distributor_Universal Pictures',\n",
       "       'distributor_Walt Disney Studios Motion Pictures',\n",
       "       'distributor_Warner Bros.', 'distributor_other'],\n",
       "      dtype='object')"
      ]
     },
     "execution_count": 9,
     "metadata": {},
     "output_type": "execute_result"
    }
   ],
   "source": [
    "movie_df.columns"
   ]
  },
  {
   "cell_type": "markdown",
   "metadata": {},
   "source": [
    "[back to top](#top)"
   ]
  },
  {
   "cell_type": "markdown",
   "metadata": {},
   "source": [
    "## 4. Cross-Validation<a id='4'></a> "
   ]
  },
  {
   "cell_type": "code",
   "execution_count": 10,
   "metadata": {},
   "outputs": [],
   "source": [
    "# separate target from select features\n",
    "y = movie_df['international_total_gross']\n",
    "X = movie_df.loc[:,['domestic_total_gross', \n",
    "                    'domestic_opening', \n",
    "                    'budget',\n",
    "                    'max_theaters', \n",
    "                    'opening_theathers',\n",
    "                    'rank',\n",
    "                    'runtime',\n",
    "                    'release_date',\n",
    "#                     'movie_title', \n",
    "                    'rating_PG', \n",
    "                    'rating_PG13',\n",
    "                    'rating_R',\n",
    "                    'distributor_Paramount Pictures',\n",
    "                    'distributor_Sony Pictures Entertainment (SPE)',\n",
    "                    'distributor_Twentieth Century Fox', \n",
    "                    'distributor_Universal Pictures',\n",
    "                    'distributor_Walt Disney Studios Motion Pictures',\n",
    "                    'distributor_Warner Bros.', \n",
    "                    'distributor_other']]"
   ]
  },
  {
   "cell_type": "code",
   "execution_count": 11,
   "metadata": {},
   "outputs": [],
   "source": [
    "# split test data set\n",
    "X_train, X_test, y_train, y_test = train_test_split(X, y, test_size=0.2, random_state=42)"
   ]
  },
  {
   "cell_type": "code",
   "execution_count": null,
   "metadata": {},
   "outputs": [],
   "source": [
    "X_train.info()"
   ]
  },
  {
   "cell_type": "code",
   "execution_count": 12,
   "metadata": {},
   "outputs": [],
   "source": [
    "## set up k-folds \n",
    "kfold = KFold(n_splits=5, shuffle=True, random_state = 42)"
   ]
  },
  {
   "cell_type": "markdown",
   "metadata": {},
   "source": [
    "[back to top](#top)"
   ]
  },
  {
   "cell_type": "markdown",
   "metadata": {},
   "source": [
    "## 5. Modeling<a id='5'></a> "
   ]
  },
  {
   "cell_type": "code",
   "execution_count": 13,
   "metadata": {},
   "outputs": [
    {
     "name": "stdout",
     "output_type": "stream",
     "text": [
      "k-fold indivdual scores: [0.7486569  0.757162   0.86214297 0.72927468 0.74714238]\n",
      "linear regression mean score:  0.7688757853732312\n"
     ]
    },
    {
     "data": {
      "text/plain": [
       "LinearRegression()"
      ]
     },
     "execution_count": 13,
     "metadata": {},
     "output_type": "execute_result"
    }
   ],
   "source": [
    "# simple linear regression\n",
    "lin_reg = LinearRegression()\n",
    "\n",
    "scores = cross_val_score(lin_reg, X_train, y_train, cv=kfold)\n",
    "print('k-fold indivdual scores:', scores)\n",
    "print(\"linear regression mean score: \", np.mean(scores))\n",
    "\n",
    "lin_reg.fit(X_train, y_train)"
   ]
  },
  {
   "cell_type": "code",
   "execution_count": null,
   "metadata": {},
   "outputs": [],
   "source": [
    "# train: fitted vs. actual\n",
    "y_train_predict = lin_reg.predict(X_train)\n",
    "\n",
    "plt.scatter(y_train, y_train_predict, alpha=0.2)\n",
    "plt.plot([0, 400], [0, 400])\n",
    "plt.title(\"y_train_predict vs. y_train\");"
   ]
  },
  {
   "cell_type": "code",
   "execution_count": null,
   "metadata": {},
   "outputs": [],
   "source": [
    "# test: fitted vs. actual\n",
    "y_test_predict = lin_reg.predict(X_test)\n",
    "\n",
    "plt.scatter(y_test, y_test_predict)\n",
    "plt.plot([0, 400], [0, 400])\n",
    "plt.title(\"y_test_pred vs. y_test\");"
   ]
  },
  {
   "cell_type": "code",
   "execution_count": null,
   "metadata": {},
   "outputs": [],
   "source": [
    "# residuals vs. predicted\n",
    "lin_reg_residuals = y_train - y_train_predict\n",
    "\n",
    "plt.scatter(y_train_predict, lin_reg_residuals)\n",
    "plt.plot([0,400], [0, 0])\n",
    "plt.title(\"Residuals vs. Predicted\")"
   ]
  },
  {
   "cell_type": "markdown",
   "metadata": {},
   "source": [
    "## 6. Model Tuning<a id='6'></a> "
   ]
  },
  {
   "cell_type": "code",
   "execution_count": 14,
   "metadata": {},
   "outputs": [
    {
     "name": "stderr",
     "output_type": "stream",
     "text": [
      "/Users/sandraparedes/opt/anaconda3/lib/python3.8/site-packages/sklearn/base.py:443: UserWarning: X has feature names, but StandardScaler was fitted without feature names\n",
      "  warnings.warn(\n",
      "/Users/sandraparedes/opt/anaconda3/lib/python3.8/site-packages/sklearn/base.py:443: UserWarning: X has feature names, but StandardScaler was fitted without feature names\n",
      "  warnings.warn(\n"
     ]
    }
   ],
   "source": [
    "# standard-scaling features before regularization \n",
    "std = StandardScaler()\n",
    "std.fit(X_train.values)\n",
    "\n",
    "# apply scaler to train data\n",
    "X_train_std = std.transform(X_train)\n",
    "\n",
    "# apply scaler to test data\n",
    "X_test_std = std.transform(X_test)"
   ]
  },
  {
   "cell_type": "markdown",
   "metadata": {},
   "source": [
    "### 6a. Regularization<a id='6a'></a> "
   ]
  },
  {
   "cell_type": "code",
   "execution_count": null,
   "metadata": {},
   "outputs": [],
   "source": [
    "# alpha parameter number range\n",
    "# a_range = 10**np.linspace(-2,2,200)"
   ]
  },
  {
   "cell_type": "code",
   "execution_count": 15,
   "metadata": {},
   "outputs": [
    {
     "data": {
      "text/plain": [
       "Lasso(alpha=1000)"
      ]
     },
     "execution_count": 15,
     "metadata": {},
     "output_type": "execute_result"
    }
   ],
   "source": [
    "# lasso model\n",
    "lasso_model = Lasso(alpha = 1000)\n",
    "lasso_model.fit(X_train_std, y_train)"
   ]
  },
  {
   "cell_type": "code",
   "execution_count": null,
   "metadata": {},
   "outputs": [],
   "source": [
    "list(zip(X_train.columns, lasso_model.coef_))"
   ]
  },
  {
   "cell_type": "code",
   "execution_count": 16,
   "metadata": {},
   "outputs": [
    {
     "data": {
      "text/plain": [
       "Ridge(alpha=1000)"
      ]
     },
     "execution_count": 16,
     "metadata": {},
     "output_type": "execute_result"
    }
   ],
   "source": [
    "# ridge model \n",
    "ridge_model = Ridge(alpha = 1000)\n",
    "ridge_model.fit(X_train_std, y_train)"
   ]
  },
  {
   "cell_type": "code",
   "execution_count": null,
   "metadata": {},
   "outputs": [],
   "source": [
    "list(zip(X_train.columns, ridge_model.coef_))"
   ]
  },
  {
   "cell_type": "code",
   "execution_count": 17,
   "metadata": {},
   "outputs": [
    {
     "data": {
      "text/plain": [
       "ElasticNet(alpha=1000, l1_ratio=1)"
      ]
     },
     "execution_count": 17,
     "metadata": {},
     "output_type": "execute_result"
    }
   ],
   "source": [
    "# elastic model \n",
    "elastic_model = ElasticNet(alpha = 1000, l1_ratio=1)\n",
    "elastic_model.fit(X_train_std, y_train)"
   ]
  },
  {
   "cell_type": "code",
   "execution_count": null,
   "metadata": {},
   "outputs": [],
   "source": [
    "list(zip(X_train.columns, elastic_model.coef_))"
   ]
  },
  {
   "cell_type": "code",
   "execution_count": 18,
   "metadata": {},
   "outputs": [
    {
     "name": "stdout",
     "output_type": "stream",
     "text": [
      "Linear Regression: 5288170065095361.0\n",
      "Lasso Regression: 3.015688882486208e+32\n",
      "Ridge Regression: 3.0502321010351254e+31\n",
      "ElasticNet Regression: 3.015688882486208e+32\n"
     ]
    },
    {
     "name": "stderr",
     "output_type": "stream",
     "text": [
      "/Users/sandraparedes/opt/anaconda3/lib/python3.8/site-packages/sklearn/base.py:443: UserWarning: X has feature names, but Lasso was fitted without feature names\n",
      "  warnings.warn(\n",
      "/Users/sandraparedes/opt/anaconda3/lib/python3.8/site-packages/sklearn/base.py:443: UserWarning: X has feature names, but Ridge was fitted without feature names\n",
      "  warnings.warn(\n",
      "/Users/sandraparedes/opt/anaconda3/lib/python3.8/site-packages/sklearn/base.py:443: UserWarning: X has feature names, but ElasticNet was fitted without feature names\n",
      "  warnings.warn(\n"
     ]
    }
   ],
   "source": [
    "y_pred = lin_reg.predict(X_test)\n",
    "print(\"Linear Regression:\", mean_squared_error(y_test, y_pred))\n",
    "\n",
    "y_pred = lasso_model.predict(X_test)\n",
    "print(\"Lasso Regression:\", mean_squared_error(y_test, y_pred))\n",
    "\n",
    "y_pred = ridge_model.predict(X_test)\n",
    "print(\"Ridge Regression:\", mean_squared_error(y_test, y_pred))\n",
    "\n",
    "y_pred = elastic_model.predict(X_test)\n",
    "print(\"ElasticNet Regression:\", mean_squared_error(y_test, y_pred))"
   ]
  },
  {
   "cell_type": "markdown",
   "metadata": {},
   "source": [
    "[back to top](#top)"
   ]
  },
  {
   "cell_type": "markdown",
   "metadata": {},
   "source": [
    "### 6b. Features engineering<a id='6b'></a> "
   ]
  },
  {
   "cell_type": "code",
   "execution_count": 19,
   "metadata": {},
   "outputs": [
    {
     "name": "stdout",
     "output_type": "stream",
     "text": [
      "count zeros in international_total_gross: 0\n",
      "count of zeros in domestic_total_gross: 0\n",
      "count of zeros in budget: 214\n",
      "count of zeros in domestic_opening: 1\n"
     ]
    }
   ],
   "source": [
    "# log transformation for monetary columns \n",
    "\n",
    "# check for zeros in columns before log transformation \n",
    "count = (movie_df['international_total_gross'] == 0).sum()\n",
    "print('count zeros in international_total_gross:', count)\n",
    "\n",
    "count = (movie_df['domestic_total_gross'] == 0).sum()\n",
    "print('count of zeros in domestic_total_gross:', count)\n",
    "\n",
    "count = (movie_df['budget'] == 0).sum()\n",
    "print('count of zeros in budget:', count)\n",
    "# budget: min $0, max $270,000,000\n",
    "# 👎 zeros throwing division-zero error; will not transform \n",
    "\n",
    "count = (movie_df['domestic_opening'] == 0).sum()\n",
    "print('count of zeros in domestic_opening:', count)\n",
    "# domestic_opening: min $0, max $191,770,800\n",
    "# 👎 zeros throwing division-zero error; will not transform \n",
    "\n",
    "\n",
    "# 👍 international_total_gross and domestic_total_gross\n",
    "# international_total_gross: min $98, max $1,119,261,000\n",
    "movie_df['log_international_total_gross'] = np.log(movie_df['international_total_gross'])\n",
    "\n",
    "# domestic_total_gross: min $742, max $543,638,043\n",
    "movie_df['log_domestic_total_gross'] = np.log(movie_df['domestic_total_gross'])\n"
   ]
  },
  {
   "cell_type": "code",
   "execution_count": 20,
   "metadata": {},
   "outputs": [],
   "source": [
    "# profit = domestic_total_gross - budget\n",
    "movie_df['profit'] = (movie_df['domestic_total_gross'] - movie_df['budget'])"
   ]
  },
  {
   "cell_type": "code",
   "execution_count": 21,
   "metadata": {},
   "outputs": [],
   "source": [
    "# opening = domestic_opening * opening_theathers\n",
    "movie_df['opening'] = (movie_df['domestic_opening'] * movie_df['opening_theathers'])"
   ]
  },
  {
   "cell_type": "code",
   "execution_count": 22,
   "metadata": {},
   "outputs": [],
   "source": [
    "# opening_minus_budget = domestic_opening * budget\n",
    "movie_df['opening_minus_budget'] = (movie_df['domestic_opening'] - movie_df['budget'])"
   ]
  },
  {
   "cell_type": "code",
   "execution_count": 26,
   "metadata": {},
   "outputs": [
    {
     "data": {
      "text/plain": [
       "Index(['international_total_gross', 'domestic_total_gross', 'rank',\n",
       "       'movie_title', 'max_theaters', 'opening_theathers',\n",
       "       'worldwide_total_gross', 'domestic_opening', 'budget', 'release_date',\n",
       "       'runtime', 'genres', 'rating_PG', 'rating_PG13', 'rating_R',\n",
       "       'distributor_Paramount Pictures',\n",
       "       'distributor_Sony Pictures Entertainment (SPE)',\n",
       "       'distributor_Twentieth Century Fox', 'distributor_Universal Pictures',\n",
       "       'distributor_Walt Disney Studios Motion Pictures',\n",
       "       'distributor_Warner Bros.', 'distributor_other',\n",
       "       'log_international_total_gross', 'log_domestic_total_gross', 'profit',\n",
       "       'opening', 'opening_minus_budget'],\n",
       "      dtype='object')"
      ]
     },
     "execution_count": 26,
     "metadata": {},
     "output_type": "execute_result"
    }
   ],
   "source": [
    "movie_df.columns"
   ]
  },
  {
   "cell_type": "code",
   "execution_count": null,
   "metadata": {},
   "outputs": [],
   "source": []
  },
  {
   "cell_type": "code",
   "execution_count": null,
   "metadata": {},
   "outputs": [],
   "source": []
  },
  {
   "cell_type": "code",
   "execution_count": 42,
   "metadata": {},
   "outputs": [],
   "source": [
    "# separate target from select features\n",
    "y2 = movie_df['international_total_gross']\n",
    "X2 = movie_df.loc[:,['domestic_total_gross', \n",
    "                       'rank', \n",
    "                       'max_theaters', \n",
    "                       'opening_theathers',\n",
    "                       'domestic_opening', \n",
    "                       'budget', \n",
    "                       'release_date',\n",
    "                       'runtime', \n",
    "                       'rating_PG', \n",
    "                       'rating_PG13', \n",
    "                       'rating_R',\n",
    "                       'distributor_Paramount Pictures',\n",
    "                       'distributor_Sony Pictures Entertainment (SPE)',\n",
    "                       'distributor_Twentieth Century Fox', \n",
    "                       'distributor_Universal Pictures',\n",
    "                       'distributor_Walt Disney Studios Motion Pictures',\n",
    "                       'distributor_Warner Bros.', \n",
    "                       'distributor_other',\n",
    "                       'log_international_total_gross', \n",
    "                       'log_domestic_total_gross', \n",
    "                       'profit',\n",
    "                       'opening', \n",
    "                       'opening_minus_budget']]\n"
   ]
  },
  {
   "cell_type": "code",
   "execution_count": 43,
   "metadata": {},
   "outputs": [],
   "source": [
    "# split test data set\n",
    "X2_train, X2_test, y2_train, y2_test = train_test_split(X2, y2, \n",
    "                                                                  test_size=0.2, \n",
    "                                                                  random_state=42)\n"
   ]
  },
  {
   "cell_type": "code",
   "execution_count": 44,
   "metadata": {},
   "outputs": [
    {
     "name": "stderr",
     "output_type": "stream",
     "text": [
      "/Users/sandraparedes/opt/anaconda3/lib/python3.8/site-packages/sklearn/base.py:443: UserWarning: X has feature names, but StandardScaler was fitted without feature names\n",
      "  warnings.warn(\n",
      "/Users/sandraparedes/opt/anaconda3/lib/python3.8/site-packages/sklearn/base.py:443: UserWarning: X has feature names, but StandardScaler was fitted without feature names\n",
      "  warnings.warn(\n"
     ]
    }
   ],
   "source": [
    "# standard-scaling features before regularization \n",
    "std = StandardScaler()\n",
    "std.fit(X2_train.values)\n",
    "\n",
    "# apply scaler to train data\n",
    "X2_train_std = std.transform(X2_train)\n",
    "\n",
    "# apply scaler to test data\n",
    "X2_test_std = std.transform(X2_test)"
   ]
  },
  {
   "cell_type": "code",
   "execution_count": 48,
   "metadata": {},
   "outputs": [
    {
     "data": {
      "text/plain": [
       "Lasso(alpha=1000000)"
      ]
     },
     "execution_count": 48,
     "metadata": {},
     "output_type": "execute_result"
    }
   ],
   "source": [
    "# lasso model + feature engineering\n",
    "lasso_model_feat = Lasso(alpha = 1000000)\n",
    "lasso_model_feat.fit(X2_train_std, y_train)"
   ]
  },
  {
   "cell_type": "code",
   "execution_count": 49,
   "metadata": {},
   "outputs": [
    {
     "data": {
      "text/plain": [
       "[('domestic_total_gross', 110750241.52231793),\n",
       " ('rank', 27606416.490036495),\n",
       " ('max_theaters', -1822211.0495561764),\n",
       " ('opening_theathers', -4053435.878393262),\n",
       " ('domestic_opening', 0.0),\n",
       " ('budget', 0.0),\n",
       " ('release_date', 7131871.889962489),\n",
       " ('runtime', 6505003.834725986),\n",
       " ('rating_PG', 2588692.808026557),\n",
       " ('rating_PG13', -0.0),\n",
       " ('rating_R', -0.0),\n",
       " ('distributor_Paramount Pictures', -933949.0562269454),\n",
       " ('distributor_Sony Pictures Entertainment (SPE)', -0.0),\n",
       " ('distributor_Twentieth Century Fox', 1042971.9519426785),\n",
       " ('distributor_Universal Pictures', -857623.6724335651),\n",
       " ('distributor_Walt Disney Studios Motion Pictures', 1149865.4008911166),\n",
       " ('distributor_Warner Bros.', 879372.905241442),\n",
       " ('distributor_other', 0.0),\n",
       " ('log_international_total_gross', 42622480.93355351),\n",
       " ('log_domestic_total_gross', -9877509.076026358),\n",
       " ('profit', 0.0),\n",
       " ('opening', 33181702.37109326),\n",
       " ('opening_minus_budget', -12217565.369718239)]"
      ]
     },
     "execution_count": 49,
     "metadata": {},
     "output_type": "execute_result"
    }
   ],
   "source": [
    "list(zip(X_ft_train.columns, lasso_model_feat.coef_))"
   ]
  },
  {
   "cell_type": "code",
   "execution_count": 75,
   "metadata": {},
   "outputs": [
    {
     "name": "stdout",
     "output_type": "stream",
     "text": [
      "Lasso Regression: 2.6144073251892585e+37\n"
     ]
    },
    {
     "name": "stderr",
     "output_type": "stream",
     "text": [
      "/Users/sandraparedes/opt/anaconda3/lib/python3.8/site-packages/sklearn/base.py:443: UserWarning: X has feature names, but Lasso was fitted without feature names\n",
      "  warnings.warn(\n"
     ]
    }
   ],
   "source": [
    "y2_pred = lasso_model_feat.predict(X2_test)\n",
    "print(\"Lasso Regression:\", mean_squared_error(y2_test, y2_pred))\n",
    "\n",
    "# feature engineering improved score from 3.015688882486208e+32"
   ]
  },
  {
   "cell_type": "markdown",
   "metadata": {},
   "source": [
    "[back to top](#top)"
   ]
  },
  {
   "cell_type": "markdown",
   "metadata": {},
   "source": [
    "### 6c. Linear regression assumptions<a id='6c'></a> "
   ]
  },
  {
   "cell_type": "code",
   "execution_count": 76,
   "metadata": {},
   "outputs": [
    {
     "data": {
      "image/png": "[encoded data removed]",
      "text/plain": [
       "<Figure size 432x288 with 1 Axes>"
      ]
     },
     "metadata": {
      "needs_background": "light"
     },
     "output_type": "display_data"
    }
   ],
   "source": [
    "# residuals vs. predicted\n",
    "y2_predict = lin_reg.predict(X2)\n",
    "residuals = y2 - y2_predict\n",
    "plt.scatter(y2_predict, residuals, alpha=0.2)\n",
    "plt.plot([0, 400], [0, 400])\n",
    "plt.title(\"Residuals vs. Predicted\")\n",
    "plt.xlabel(\"predictions\")\n",
    "plt.ylabel(\"residuals\");\n",
    "    "
   ]
  },
  {
   "cell_type": "code",
   "execution_count": 77,
   "metadata": {},
   "outputs": [
    {
     "data": {
      "image/png": "[encoded data removed]",
      "text/plain": [
       "<Figure size 432x288 with 1 Axes>"
      ]
     },
     "metadata": {
      "needs_background": "light"
     },
     "output_type": "display_data"
    }
   ],
   "source": [
    "# normal q-q plot\n",
    "stats.probplot(residuals, dist=\"norm\", plot=plt)\n",
    "plt.title(\"Normal Q-Q plot\")\n",
    "plt.xlabel(\"theoretical\")\n",
    "plt.ylabel(\"observed values\");\n",
    " "
   ]
  },
  {
   "cell_type": "code",
   "execution_count": 78,
   "metadata": {},
   "outputs": [
    {
     "data": {
      "image/png": "[encoded data removed]",
      "text/plain": [
       "<Figure size 432x288 with 1 Axes>"
      ]
     },
     "metadata": {
      "needs_background": "light"
     },
     "output_type": "display_data"
    }
   ],
   "source": [
    "# Residuals normally distributed with zero mean\n",
    "movie_df.international_total_gross.hist(bins=10)\n",
    "plt.title('Histogram of Dependent Variable (international_total_gross)');"
   ]
  },
  {
   "cell_type": "code",
   "execution_count": 82,
   "metadata": {},
   "outputs": [
    {
     "ename": "NameError",
     "evalue": "name 'y_train_predict' is not defined",
     "output_type": "error",
     "traceback": [
      "\u001b[0;31m---------------------------------------------------------------------------\u001b[0m",
      "\u001b[0;31mNameError\u001b[0m                                 Traceback (most recent call last)",
      "Input \u001b[0;32mIn [82]\u001b[0m, in \u001b[0;36m<module>\u001b[0;34m\u001b[0m\n\u001b[1;32m      1\u001b[0m \u001b[38;5;66;03m# residuals vs. predicted\u001b[39;00m\n\u001b[1;32m      2\u001b[0m lin_reg_residuals \u001b[38;5;241m=\u001b[39m y2_train \u001b[38;5;241m-\u001b[39m y2_train_predict\n\u001b[0;32m----> 4\u001b[0m plt\u001b[38;5;241m.\u001b[39mscatter(\u001b[43my_train_predict\u001b[49m, lin_reg_residuals)\n\u001b[1;32m      5\u001b[0m plt\u001b[38;5;241m.\u001b[39mplot([\u001b[38;5;241m0\u001b[39m,\u001b[38;5;241m400\u001b[39m], [\u001b[38;5;241m0\u001b[39m, \u001b[38;5;241m0\u001b[39m])\n\u001b[1;32m      6\u001b[0m plt\u001b[38;5;241m.\u001b[39mtitle(\u001b[38;5;124m\"\u001b[39m\u001b[38;5;124mResiduals vs. Predicted\u001b[39m\u001b[38;5;124m\"\u001b[39m)\n",
      "\u001b[0;31mNameError\u001b[0m: name 'y_train_predict' is not defined"
     ]
    }
   ],
   "source": [
    "# residuals vs. predicted\n",
    "lin_reg_residuals = y2_train - y2_train_predict\n",
    "\n",
    "plt.scatter(y_train_predict, lin_reg_residuals)\n",
    "plt.plot([0,400], [0, 0])\n",
    "plt.title(\"Residuals vs. Predicted\")"
   ]
  },
  {
   "cell_type": "markdown",
   "metadata": {},
   "source": [
    "[back to top](#top)"
   ]
  },
  {
   "cell_type": "markdown",
   "metadata": {},
   "source": [
    "## 7. Best Model<a id='7'></a> \n",
    "Fit best model on (train + val), score on test!"
   ]
  },
  {
   "cell_type": "code",
   "execution_count": null,
   "metadata": {},
   "outputs": [],
   "source": [
    "# pd.DataFrame(list(zip(range(10), lasso_model.best_estimator_.coef_)))"
   ]
  },
  {
   "cell_type": "code",
   "execution_count": null,
   "metadata": {},
   "outputs": [],
   "source": []
  },
  {
   "cell_type": "markdown",
   "metadata": {},
   "source": [
    "[back to top](#top)"
   ]
  },
  {
   "cell_type": "markdown",
   "metadata": {},
   "source": [
    "## 8. Results<a id='8'></a> "
   ]
  },
  {
   "cell_type": "markdown",
   "metadata": {},
   "source": [
    "### 8a. Interpretability<a id='8a'></a> "
   ]
  },
  {
   "cell_type": "code",
   "execution_count": null,
   "metadata": {},
   "outputs": [],
   "source": [
    "# Coefficients, what are the top predictors"
   ]
  },
  {
   "cell_type": "code",
   "execution_count": null,
   "metadata": {},
   "outputs": [],
   "source": []
  },
  {
   "cell_type": "markdown",
   "metadata": {},
   "source": [
    "### 8b. Predictions<a id='8b'></a> "
   ]
  },
  {
   "cell_type": "code",
   "execution_count": null,
   "metadata": {},
   "outputs": [],
   "source": [
    "# Make a prediction for a new value, does it make sense?"
   ]
  },
  {
   "cell_type": "code",
   "execution_count": null,
   "metadata": {},
   "outputs": [],
   "source": [
    "# linear regression plot\n",
    "f, ax = plt.subplots(figsize=(12, 8))\n",
    "sns.regplot(x='domestic_total_gross', y='international_total_gross', data=movie_df);\n"
   ]
  },
  {
   "cell_type": "code",
   "execution_count": null,
   "metadata": {},
   "outputs": [],
   "source": []
  },
  {
   "cell_type": "code",
   "execution_count": null,
   "metadata": {},
   "outputs": [],
   "source": []
  },
  {
   "cell_type": "markdown",
   "metadata": {},
   "source": [
    "Slides, article, and code available at: https://github.com/slp22/regression-project"
   ]
  },
  {
   "cell_type": "markdown",
   "metadata": {},
   "source": [
    "[back top top](#top)"
   ]
  }
 ],
 "metadata": {
  "kernelspec": {
   "display_name": "Python 3 (ipykernel)",
   "language": "python",
   "name": "python3"
  },
  "language_info": {
   "codemirror_mode": {
    "name": "ipython",
    "version": 3
   },
   "file_extension": ".py",
   "mimetype": "text/x-python",
   "name": "python",
   "nbconvert_exporter": "python",
   "pygments_lexer": "ipython3",
   "version": "3.8.12"
  },
  "toc": {
   "base_numbering": 1,
   "nav_menu": {},
   "number_sections": false,
   "sideBar": true,
   "skip_h1_title": false,
   "title_cell": "Table of Contents",
   "title_sidebar": "Contents",
   "toc_cell": false,
   "toc_position": {
    "height": "calc(100% - 180px)",
    "left": "10px",
    "top": "150px",
    "width": "288px"
   },
   "toc_section_display": true,
   "toc_window_display": true
  }
 },
 "nbformat": 4,
 "nbformat_minor": 4
}
