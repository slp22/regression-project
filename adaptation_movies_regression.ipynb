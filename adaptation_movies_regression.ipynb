{
 "cells": [
  {
   "cell_type": "markdown",
   "metadata": {},
   "source": [
    "# Exporting American Movie Box Office Hits "
   ]
  },
  {
   "cell_type": "markdown",
   "metadata": {},
   "source": [
    "### Regresssion Model Stepwise Analysis <a id='top'></a> \n",
    "\n",
    "1. [Research Question](#1)<br/>\n",
    "2. [Scraped: Movie Adaptations Data](#2) <br/>\n",
    "3. [Exporatory Data Analysis: Movie Adaptations Dataframe](#3)<br/>\n",
    "   [3a. Explore features correlation](#3a)<br/>\n",
    "   [3b. Explore and handle categorical data](#3b)<br/>\n",
    "4. [Cross-Validation](#4)<br/>\n",
    "5. [Modeling](#5)<br/>\n",
    "6. [Model Tuning](#6) <br/>\n",
    "   [6a. Regularization](#6a)<br/>\n",
    "   [6b. Features engineering](#6b)<br/>\n",
    "   [6c. Modeling with new features](#6c)<br/> \n",
    "   [6d. Linear regression assumptions](#6d)<br/>\n",
    "7. [Best Model ](#7)<br/>\n",
    "8. [Results](#8)<br/>\n",
    "   [8a. Interpretability](#8a)<br/>\n",
    "   [8b. Predictions](#8b)<br/>"
   ]
  },
  {
   "cell_type": "code",
   "execution_count": null,
   "metadata": {},
   "outputs": [],
   "source": [
    "import pandas as pd\n",
    "import numpy as np\n",
    "import sklearn\n",
    "import statsmodels.api as sm\n",
    "import statsmodels.formula.api as smf\n",
    "import pylab as py\n",
    "import seaborn as sns\n",
    "import matplotlib.pyplot as plt\n",
    "import scipy.stats as stats\n"
   ]
  },
  {
   "cell_type": "code",
   "execution_count": null,
   "metadata": {},
   "outputs": [],
   "source": [
    "from sklearn.pipeline import Pipeline\n",
    "from sklearn.preprocessing import StandardScaler, PolynomialFeatures\n",
    "from sklearn.linear_model import LinearRegression, Lasso, Ridge, ElasticNet\n",
    "from sklearn.model_selection import cross_val_score, train_test_split, KFold\n",
    "from sklearn.metrics import r2_score, mean_absolute_error\n",
    "%matplotlib inline\n"
   ]
  },
  {
   "cell_type": "markdown",
   "metadata": {},
   "source": [
    "## 1. Research Question<a id='1'></a> \n",
    "\n",
    "* RQ. Can a model predict a movie adaptation's <sup>1</sup> international total gross revenue based on movie data available on boxofficemojo.com?\n",
    "* Data source: boxofficemojo.com \n",
    "* Error metric: mean_squared_error\n",
    "\n",
    "<sup>1</sup> Adapted from books, television shows, events, video games, or plays. \n"
   ]
  },
  {
   "cell_type": "markdown",
   "metadata": {},
   "source": [
    "## 2. Scraped [Movie Adaptations Data](https://github.com/slp22/regression-project/blob/main/adaptation_movies_webscraping.ipynb) \n"
   ]
  },
  {
   "cell_type": "markdown",
   "metadata": {},
   "source": [
    "## 3. Exporatory Data Analysis: [Movie Adaptations Dataframe](https://github.com/slp22/regression-project/blob/main/adaptation_movies_eda.ipynb) "
   ]
  },
  {
   "cell_type": "code",
   "execution_count": null,
   "metadata": {},
   "outputs": [],
   "source": [
    "movie_df = pd.read_csv('clean_df.csv')\n",
    "movie_df.drop(columns=['link_stub'], inplace=True)\n",
    "movie_df.head(1)"
   ]
  },
  {
   "cell_type": "code",
   "execution_count": null,
   "metadata": {},
   "outputs": [],
   "source": [
    "movie_df.describe()"
   ]
  },
  {
   "cell_type": "code",
   "execution_count": null,
   "metadata": {},
   "outputs": [],
   "source": [
    "# check for null values\n",
    "movie_df.isnull().sum()"
   ]
  },
  {
   "cell_type": "code",
   "execution_count": null,
   "metadata": {},
   "outputs": [],
   "source": [
    "# drop null values\n",
    "movie_df.dropna(axis=0, how='any', inplace=True)"
   ]
  },
  {
   "cell_type": "code",
   "execution_count": null,
   "metadata": {},
   "outputs": [],
   "source": [
    "# double check for null values\n",
    "movie_df.isnull().sum()"
   ]
  },
  {
   "cell_type": "code",
   "execution_count": null,
   "metadata": {},
   "outputs": [],
   "source": [
    "movie_df.info()"
   ]
  },
  {
   "cell_type": "markdown",
   "metadata": {},
   "source": [
    "### 3a. Explore features correlation<a id='3a'></a> "
   ]
  },
  {
   "cell_type": "code",
   "execution_count": null,
   "metadata": {
    "scrolled": true
   },
   "outputs": [],
   "source": [
    "sns.pairplot(movie_df, height=5, aspect=1.5);"
   ]
  },
  {
   "cell_type": "code",
   "execution_count": null,
   "metadata": {},
   "outputs": [],
   "source": [
    "# heatmap correlation matrix\n",
    "sns.heatmap(movie_df.corr(), cmap=\"seismic\", annot=True, vmin=-1, vmax=1);"
   ]
  },
  {
   "cell_type": "markdown",
   "metadata": {},
   "source": [
    "### Correlation Summary\n",
    "\n",
    "#### Target-Features\n",
    "*target = `international_total_gross`*\n",
    "* target correlated with (highest to lowest):\n",
    "    * `domestic_total_gross`\n",
    "    * `domestic_opening`\n",
    "    * `budget`\n",
    "    * `max_theaters`\n",
    "    * `opening_theathers`\n",
    "\n",
    "Target is highly correlated with `worldwide_total_gross`; has known multicollinearity as:<br/>\n",
    "`worldwide_total_gross` = `domestic_total_gross` + `international_total_gross`\n",
    "\n",
    "####  Features-Features: Positive Correlation\n",
    "* domestic_total_gross:\n",
    "    * `domestic_opening`\n",
    "    * `worldwide_total_gross`\n",
    "    * `budget`\n",
    "    * `max_theaters`\n",
    "    * `opening_theathers`\n",
    "* domestic_opening:<br/>\n",
    "    * `budget`\n",
    "    * `max_theaters`\n",
    "    * `opening_theathers`\n",
    "* max_theaters:\n",
    "    * `opening_theathers`\n",
    "    * `budget`\n",
    "    * `domestic_opening`\n",
    "\n",
    "####  Features-Features: Negative Correlation\n",
    "* rank:\n",
    "    * `domestic_total_gross`\n",
    "    * `max_theaters`\n",
    "    * `opening_theathers`\n",
    "    * `domestic_opening`\n",
    "    * `budget`\n",
    "    \n"
   ]
  },
  {
   "cell_type": "markdown",
   "metadata": {},
   "source": [
    "### 3b. Explore and handle categorical data<a id='3b'></a> "
   ]
  },
  {
   "cell_type": "code",
   "execution_count": null,
   "metadata": {},
   "outputs": [],
   "source": [
    "# explore genres as candidate for dummies\n",
    "print('Unique genres:', movie_df.genres.nunique())\n",
    "print('\\n')\n",
    "print('Genres counts\\n', movie_df['genres'].value_counts())\n",
    "# 👎 too many; look for other dummy variables. "
   ]
  },
  {
   "cell_type": "code",
   "execution_count": null,
   "metadata": {},
   "outputs": [],
   "source": [
    "# explore MPAA rating as candidate for dummies\n",
    "print('Unique MPAA ratings:', movie_df.rating.nunique())\n",
    "print('\\n')\n",
    "rating_count = movie_df['rating'].value_counts()\n",
    "print('Rating counts\\n', rating_count)\n",
    "# 👍 easy-to-use for dummy variables"
   ]
  },
  {
   "cell_type": "code",
   "execution_count": null,
   "metadata": {},
   "outputs": [],
   "source": [
    "# get dummies for MPAA rating \n",
    "df_dummies_rating = pd.get_dummies(movie_df, columns=['rating'], drop_first=True)\n",
    "df_dummies_rating.head(2)\n",
    "movie_df = df_dummies_rating\n",
    "movie_df.head(1)"
   ]
  },
  {
   "cell_type": "code",
   "execution_count": null,
   "metadata": {},
   "outputs": [],
   "source": [
    "# explore distributor as candidate for dummies \n",
    "print('Unique distributors:', movie_df.distributor.nunique())\n",
    "print('\\n')\n",
    "distributor_count = movie_df['distributor'].value_counts()\n",
    "print('Distributor count\\n', distributor_count)\n",
    "# 👍 Reasonable amount, group lower frequencies into an other category."
   ]
  },
  {
   "cell_type": "code",
   "execution_count": null,
   "metadata": {},
   "outputs": [],
   "source": [
    "# create distributor other category\n",
    "distributor_other = list(distributor_count[distributor_count < 20].index)\n",
    "movie_df['distributor'] = movie_df['distributor'].replace(distributor_other, 'other')\n",
    "\n",
    "# get dummies for distributor\n",
    "df_dummies_distributor = pd.get_dummies(movie_df, columns=['distributor'], drop_first=True)\n",
    "movie_df = df_dummies_distributor\n",
    "movie_df.head(1)"
   ]
  },
  {
   "cell_type": "code",
   "execution_count": null,
   "metadata": {},
   "outputs": [],
   "source": [
    "movie_df.columns"
   ]
  },
  {
   "cell_type": "markdown",
   "metadata": {},
   "source": [
    "[back to top](#top)"
   ]
  },
  {
   "cell_type": "markdown",
   "metadata": {},
   "source": [
    "## 4. Cross-Validation<a id='4'></a> "
   ]
  },
  {
   "cell_type": "code",
   "execution_count": null,
   "metadata": {},
   "outputs": [],
   "source": [
    "# separate target from select features\n",
    "y = movie_df['international_total_gross']\n",
    "X = movie_df.loc[:,['domestic_total_gross', \n",
    "                    'domestic_opening', \n",
    "                    'budget',\n",
    "                    'max_theaters', \n",
    "                    'opening_theathers',\n",
    "                    'rank',\n",
    "                    'runtime',\n",
    "                    'release_date',\n",
    "                    'rating_PG', \n",
    "                    'rating_PG13',\n",
    "                    'rating_R',\n",
    "                    'distributor_Paramount Pictures',\n",
    "                    'distributor_Sony Pictures Entertainment (SPE)',\n",
    "                    'distributor_Twentieth Century Fox', \n",
    "                    'distributor_Universal Pictures',\n",
    "                    'distributor_Walt Disney Studios Motion Pictures',\n",
    "                    'distributor_Warner Bros.', \n",
    "                    'distributor_other']]"
   ]
  },
  {
   "cell_type": "code",
   "execution_count": null,
   "metadata": {},
   "outputs": [],
   "source": [
    "# split test data set\n",
    "X_train, X_test, y_train, y_test = train_test_split(X, \n",
    "                                                    y, \n",
    "                                                    test_size=0.2, \n",
    "                                                    random_state=42)"
   ]
  },
  {
   "cell_type": "code",
   "execution_count": null,
   "metadata": {},
   "outputs": [],
   "source": [
    "# set up k-folds \n",
    "kfold = KFold(n_splits=5, \n",
    "              shuffle=True, \n",
    "              random_state = 42)"
   ]
  },
  {
   "cell_type": "markdown",
   "metadata": {},
   "source": [
    "[back to top](#top)"
   ]
  },
  {
   "cell_type": "markdown",
   "metadata": {},
   "source": [
    "## 5. Modeling<a id='5'></a> "
   ]
  },
  {
   "cell_type": "markdown",
   "metadata": {},
   "source": [
    "### simple linear regression model "
   ]
  },
  {
   "cell_type": "code",
   "execution_count": null,
   "metadata": {},
   "outputs": [],
   "source": [
    "# lin_reg \n",
    "lin_reg = LinearRegression()\n",
    "\n",
    "scores = cross_val_score(lin_reg, X_train, y_train, cv=kfold)\n",
    "print('k-fold indivdual scores:', scores)\n",
    "print('linear regression k-fold mean score:', round(np.mean(scores), 3))\n",
    "\n",
    "lin_reg.fit(X_train, y_train)"
   ]
  },
  {
   "cell_type": "code",
   "execution_count": null,
   "metadata": {},
   "outputs": [],
   "source": [
    "# lin_reg train: fitted vs. actual\n",
    "y_train_predict = lin_reg.predict(X_train)\n",
    "\n",
    "plt.scatter(y_train, y_train_predict)\n",
    "plt.plot([0, 400], [0, 400])\n",
    "plt.title('Predictions vs. Actual (X_train)')\n",
    "plt.xlabel('actual')\n",
    "plt.ylabel('predictions')\n",
    "plt.grid();"
   ]
  },
  {
   "cell_type": "code",
   "execution_count": null,
   "metadata": {},
   "outputs": [],
   "source": [
    "# lin_reg test: fitted vs. actual\n",
    "y_test_predict = lin_reg.predict(X_test)\n",
    "\n",
    "plt.scatter(y_test, y_test_predict)\n",
    "plt.plot([0, 400], [0, 400])\n",
    "plt.title('Predictions vs. Actual (X_test)')\n",
    "plt.xlabel('actual')\n",
    "plt.ylabel('predictions')\n",
    "plt.grid();"
   ]
  },
  {
   "cell_type": "code",
   "execution_count": null,
   "metadata": {},
   "outputs": [],
   "source": [
    "# lin_reg: residuals vs. predicted\n",
    "y_predict = lin_reg.predict(X)\n",
    "residuals = y - y_predict\n",
    "\n",
    "plt.scatter(y_predict, residuals)\n",
    "plt.plot([0,400], [0, 0])\n",
    "plt.title(\"Residuals vs. Predicted\")\n",
    "plt.xlabel('predicted')\n",
    "plt.ylabel('residuals')\n",
    "plt.grid();"
   ]
  },
  {
   "cell_type": "markdown",
   "metadata": {},
   "source": [
    "## 6. Model Tuning<a id='6'></a> "
   ]
  },
  {
   "cell_type": "code",
   "execution_count": null,
   "metadata": {},
   "outputs": [],
   "source": [
    "# standard-scaling features before regularization \n",
    "std = StandardScaler()\n",
    "std.fit(X_train.values)\n",
    "\n",
    "# apply scaler to train data\n",
    "X_train_std = std.transform(X_train.values)\n",
    "\n",
    "# apply scaler to test data\n",
    "X_test_std = std.transform(X_test.values)"
   ]
  },
  {
   "cell_type": "markdown",
   "metadata": {},
   "source": [
    "### 6a. Regularization<a id='6a'></a> "
   ]
  },
  {
   "cell_type": "markdown",
   "metadata": {},
   "source": [
    "#### Lasso Model\n"
   ]
  },
  {
   "cell_type": "code",
   "execution_count": null,
   "metadata": {},
   "outputs": [],
   "source": [
    "# create lasso model\n",
    "lasso_model = Lasso(alpha = 100000, fit_intercept=True, random_state=42)\n",
    "lasso_model.fit(X_train_std, y_train)\n",
    "\n",
    "# cross-validate\n",
    "scores = cross_val_score(lasso_model, X_train, y_train, cv=kfold)\n",
    "print('lasso model k-fold indivdual scores:', scores)\n",
    "print('lasso model k-fold mean score:', round(np.mean(scores), 3))\n",
    "\n",
    "# evaluate \n",
    "lasso_r2_train = lasso_model.score(X_train_std, y_train)\n",
    "lasso_r2_test = lasso_model.score(X_test_std, y_test)\n",
    "print('lasso r^2 train std:', round(lasso_r2_train, 3))\n",
    "print('lasso r^2 test std:', round(lasso_r2_test, 3))\n",
    "print('train < test, likely outliers')"
   ]
  },
  {
   "cell_type": "markdown",
   "metadata": {},
   "source": [
    "#### Ridge Model\n"
   ]
  },
  {
   "cell_type": "code",
   "execution_count": null,
   "metadata": {},
   "outputs": [],
   "source": [
    "# create ridge model \n",
    "ridge_model = Ridge(alpha = 1000, fit_intercept=True, random_state=42)\n",
    "ridge_model.fit(X_train_std, y_train)\n",
    " \n",
    "# cross-validate\n",
    "scores = cross_val_score(ridge_model, X_train, y_train, cv=kfold)\n",
    "print('ridge model k-fold indivdual scores:', scores)\n",
    "print('ridge model k-fold mean score:', round(np.mean(scores), 3))\n",
    "\n",
    "# evaluate\n",
    "ridge_r2_train = ridge_model.score(X_train_std, y_train)\n",
    "ridge_r2_test = ridge_model.score(X_test_std, y_test)\n",
    "print('ridge r^2 train std:', round(ridge_r2_train, 3))\n",
    "print('ridge r^2 test std:', round(ridge_r2_test, 3))\n",
    "print('train = test, and high, good fit')"
   ]
  },
  {
   "cell_type": "markdown",
   "metadata": {},
   "source": [
    "#### Elastic Net Model\n"
   ]
  },
  {
   "cell_type": "code",
   "execution_count": null,
   "metadata": {},
   "outputs": [],
   "source": [
    "# create elasticnet model \n",
    "elastic_model = ElasticNet(alpha = 1000, l1_ratio=.5)\n",
    "elastic_model.fit(X_train_std, y_train)\n",
    "\n",
    "# cross-validate\n",
    "scores = cross_val_score(elastic_model, X_train, y_train, cv=kfold)\n",
    "print('elastic model k-fold indivdual scores:', scores)\n",
    "print('elastic model k-fold mean score:', round(np.mean(scores), 3))\n",
    "\n",
    "elastic_r2_train = elastic_model.score(X_train_std, y_train)\n",
    "elastic_r2_test = elastic_model.score(X_test_std, y_test)\n",
    "\n",
    "print('elastic r^2 train std:', round(elastic_r2_train, 3))\n",
    "print('elastic r^2 test std:', round(elastic_r2_test, 3))\n",
    "print('train = test, but low, underfit')"
   ]
  },
  {
   "cell_type": "markdown",
   "metadata": {},
   "source": [
    "*Ridge model is best fit using r<sup>2</sup> score*"
   ]
  },
  {
   "cell_type": "markdown",
   "metadata": {},
   "source": [
    "### Error metric: MAE"
   ]
  },
  {
   "cell_type": "code",
   "execution_count": null,
   "metadata": {},
   "outputs": [],
   "source": [
    "# evaluate models using mean absolute error \n",
    "y_pred = lin_reg.predict(X_test)\n",
    "print(f'Linear Regression MAE on test: {mean_absolute_error(y_test, y_pred):.2f}')\n",
    "\n",
    "y_pred = lasso_model.predict(X_test)\n",
    "print(f'Lasso Regression MAE on test: {mean_absolute_error(y_test, y_pred):.2f}')\n",
    "\n",
    "y_pred = ridge_model.predict(X_test)\n",
    "print(f'Ridge Regression MAE on test: {mean_absolute_error(y_test, y_pred):.2f}')\n",
    "\n",
    "y_pred = elastic_model.predict(X_test)\n",
    "print(f'ElasticNet Regression MAE on test: {mean_absolute_error(y_test, y_pred):.2f}')\n"
   ]
  },
  {
   "cell_type": "markdown",
   "metadata": {},
   "source": [
    "*Simple linear regression is best model using MAE, but the error metric in off by $45.5 million.* "
   ]
  },
  {
   "cell_type": "markdown",
   "metadata": {},
   "source": [
    "[back to top](#top)"
   ]
  },
  {
   "cell_type": "markdown",
   "metadata": {},
   "source": [
    "### 6b. Features engineering<a id='6b'></a> "
   ]
  },
  {
   "cell_type": "code",
   "execution_count": null,
   "metadata": {},
   "outputs": [],
   "source": [
    "# log transformation for monetary columns \n",
    "\n",
    "# check for zeros in columns before log transformation \n",
    "count = (movie_df['international_total_gross'] == 0).sum()\n",
    "print('count zeros in international_total_gross:', count)\n",
    "\n",
    "count = (movie_df['domestic_total_gross'] == 0).sum()\n",
    "print('count of zeros in domestic_total_gross:', count)\n",
    "\n",
    "count = (movie_df['budget'] == 0).sum()\n",
    "print('count of zeros in budget:', count)\n",
    "# budget: min $0, max $270,000,000\n",
    "# 👎 zeros throwing division-zero error; will not transform \n",
    "\n",
    "count = (movie_df['domestic_opening'] == 0).sum()\n",
    "print('count of zeros in domestic_opening:', count)\n",
    "# domestic_opening: min $0, max $191,770,800\n",
    "# 👎 zeros throwing division-zero error; will not transform \n",
    "\n",
    "\n",
    "# 👍 international_total_gross and domestic_total_gross\n",
    "# international_total_gross: min $98, max $1,119,261,000\n",
    "movie_df['log_international_total_gross'] = np.log(movie_df['international_total_gross'])\n",
    "\n",
    "# domestic_total_gross: min $742, max $543,638,043\n",
    "movie_df['log_domestic_total_gross'] = np.log(movie_df['domestic_total_gross'])\n"
   ]
  },
  {
   "cell_type": "code",
   "execution_count": null,
   "metadata": {},
   "outputs": [],
   "source": [
    "# profit = domestic_total_gross - budget\n",
    "movie_df['profit'] = (movie_df['domestic_total_gross'] - movie_df['budget'])"
   ]
  },
  {
   "cell_type": "code",
   "execution_count": null,
   "metadata": {},
   "outputs": [],
   "source": [
    "# opening_profit = domestic_opening - budget\n",
    "movie_df['opening_profit'] = (movie_df['domestic_opening'] - movie_df['budget'])"
   ]
  },
  {
   "cell_type": "code",
   "execution_count": null,
   "metadata": {},
   "outputs": [],
   "source": [
    "# opening = domestic_opening * opening_theathers\n",
    "movie_df['opening'] = (movie_df['domestic_opening'] * movie_df['opening_theathers'])"
   ]
  },
  {
   "cell_type": "code",
   "execution_count": null,
   "metadata": {},
   "outputs": [],
   "source": [
    "movie_df.columns"
   ]
  },
  {
   "cell_type": "markdown",
   "metadata": {},
   "source": [
    "[back to top](#top)"
   ]
  },
  {
   "cell_type": "markdown",
   "metadata": {},
   "source": [
    "### 6c. Modeling with new features<a id='6c'></a> "
   ]
  },
  {
   "cell_type": "code",
   "execution_count": null,
   "metadata": {},
   "outputs": [],
   "source": [
    "# separate target from new and original features\n",
    "y2 = movie_df['international_total_gross']\n",
    "X2 = movie_df.loc[:,['domestic_total_gross', \n",
    "                       'rank', \n",
    "                       'max_theaters', \n",
    "                       'opening_theathers',\n",
    "                       'domestic_opening', \n",
    "                       'budget', \n",
    "                       'release_date',\n",
    "                       'runtime', \n",
    "                       'rating_PG', \n",
    "                       'rating_PG13', \n",
    "                       'rating_R',\n",
    "                       'distributor_Paramount Pictures',\n",
    "                       'distributor_Sony Pictures Entertainment (SPE)',\n",
    "                       'distributor_Twentieth Century Fox', \n",
    "                       'distributor_Universal Pictures',\n",
    "                       'distributor_Walt Disney Studios Motion Pictures',\n",
    "                       'distributor_Warner Bros.', \n",
    "                       'distributor_other',\n",
    "                       'log_domestic_total_gross', \n",
    "                       'profit',\n",
    "                       'opening', \n",
    "                       'opening_profit']]\n"
   ]
  },
  {
   "cell_type": "code",
   "execution_count": null,
   "metadata": {},
   "outputs": [],
   "source": [
    "# split test data set\n",
    "X2_train, X2_test, y2_train, y2_test = train_test_split(X2, \n",
    "                                                        y2,\n",
    "                                                        test_size=0.2, \n",
    "                                                        random_state=42)\n"
   ]
  },
  {
   "cell_type": "code",
   "execution_count": null,
   "metadata": {},
   "outputs": [],
   "source": [
    "# lin_reg2: simple linear regression \n",
    "lin_reg2 = LinearRegression()\n",
    "\n",
    "scores = cross_val_score(lin_reg2, X2_train, y2_train, cv=kfold)\n",
    "print('k-fold indivdual scores:', scores)\n",
    "print('linear regression2 k-fold mean score:', round(np.mean(scores), 3))\n",
    "\n",
    "lin_reg2.fit(X2_train, y2_train)\n",
    "\n",
    "# improvement by 0.2 \n"
   ]
  },
  {
   "cell_type": "code",
   "execution_count": null,
   "metadata": {},
   "outputs": [],
   "source": [
    "# standard-scaling features before regularization \n",
    "std = StandardScaler()\n",
    "std.fit(X2_train.values)\n",
    "\n",
    "# apply scaler to train data\n",
    "X2_train_std = std.transform(X2_train.values)\n",
    "\n",
    "# apply scaler to test data\n",
    "X2_test_std = std.transform(X2_test.values)"
   ]
  },
  {
   "cell_type": "code",
   "execution_count": null,
   "metadata": {},
   "outputs": [],
   "source": [
    "# create ridge model2\n",
    "ridge_model2 = Ridge(alpha = 1000, fit_intercept=True, random_state=42)\n",
    "ridge_model2.fit(X2_train_std, y2_train)\n",
    "\n",
    "# cross-validate\n",
    "scores = cross_val_score(ridge_model2, X2_train, y2_train, cv=kfold)\n",
    "print('ridge model2 k-fold indivdual scores:', scores)\n",
    "print('ridge model2 k-fold mean score:', round(np.mean(scores), 3))\n",
    "\n",
    "# evaluate\n",
    "ridge2_r2_train = ridge_model2.score(X2_train_std, y2_train)\n",
    "ridge2_r2_test = ridge_model2.score(X2_test_std, y2_test)\n",
    "print('ridge2 r^2 train std:', round(ridge2_r2_train, 3))\n",
    "print('ridge2 r^2 test std:', round(ridge2_r2_test, 3))\n",
    "print('train > test, overfit')"
   ]
  },
  {
   "cell_type": "code",
   "execution_count": null,
   "metadata": {},
   "outputs": [],
   "source": [
    "y2_pred = lin_reg2.predict(X2_test)\n",
    "print(f'Linear Regression2 MAE on test: {mean_absolute_error(y2_test, y2_pred):.2f}')\n",
    "\n",
    "y2_pred = ridge_model2.predict(X2_test)\n",
    "print(f'Ridge Regression2 MAE on test: {mean_absolute_error(y2_test, y2_pred):.2f}')"
   ]
  },
  {
   "cell_type": "code",
   "execution_count": null,
   "metadata": {},
   "outputs": [],
   "source": [
    "# separate target, drop some features\n",
    "y3 = movie_df['international_total_gross']\n",
    "X3 = movie_df.loc[:,['domestic_total_gross', \n",
    "#                        'rank', \n",
    "#                        'max_theaters', \n",
    "#                        'opening_theathers',\n",
    "                       'domestic_opening', \n",
    "                       'budget', \n",
    "#                        'release_date',\n",
    "#                        'runtime', \n",
    "#                        'rating_PG', \n",
    "#                        'rating_PG13', \n",
    "#                        'rating_R',\n",
    "#                        'distributor_Paramount Pictures',\n",
    "#                        'distributor_Sony Pictures Entertainment (SPE)',\n",
    "#                        'distributor_Twentieth Century Fox', \n",
    "#                        'distributor_Universal Pictures',\n",
    "#                        'distributor_Walt Disney Studios Motion Pictures',\n",
    "#                        'distributor_Warner Bros.', \n",
    "#                        'distributor_other', \n",
    "#                        'log_domestic_total_gross', \n",
    "                       'profit',\n",
    "                       'opening', \n",
    "                       'opening_profit']]"
   ]
  },
  {
   "cell_type": "code",
   "execution_count": null,
   "metadata": {},
   "outputs": [],
   "source": [
    "# split test data set\n",
    "X3_train, X3_test, y3_train, y3_test = train_test_split(X3, \n",
    "                                                        y3,\n",
    "                                                        test_size=0.2, \n",
    "                                                        random_state=42)\n"
   ]
  },
  {
   "cell_type": "code",
   "execution_count": null,
   "metadata": {},
   "outputs": [],
   "source": [
    "# simple linear regression minus features \n",
    "lin_reg3 = LinearRegression()\n",
    "\n",
    "scores = cross_val_score(lin_reg3, X3_train, y3_train, cv=kfold)\n",
    "print('k-fold indivdual scores:', scores)\n",
    "print('linear regression2 k-fold mean score:', np.mean(scores))\n",
    "\n",
    "lin_reg3.fit(X3_train, y3_train)"
   ]
  },
  {
   "cell_type": "code",
   "execution_count": null,
   "metadata": {},
   "outputs": [],
   "source": [
    "# standard-scaling features before regularization \n",
    "std = StandardScaler()\n",
    "std.fit(X3_train.values)\n",
    "\n",
    "# apply scaler to train data\n",
    "X3_train_std = std.transform(X3_train.values)\n",
    "\n",
    "# apply scaler to test data\n",
    "X3_test_std = std.transform(X3_test.values)"
   ]
  },
  {
   "cell_type": "code",
   "execution_count": null,
   "metadata": {},
   "outputs": [],
   "source": [
    "# create ridge model3\n",
    "ridge_model3 = Ridge(alpha = 100)\n",
    "ridge_model3.fit(X3_train_std, y3_train)\n",
    "\n",
    "# cross-validate\n",
    "scores = cross_val_score(ridge_model3, X3_train_std, y3_train, cv=kfold)\n",
    "print('ridge model2 k-fold indivdual scores:', scores)\n",
    "print('ridge model2 k-fold mean score:', round(np.mean(scores), 3))\n",
    "\n",
    "# evaluate\n",
    "ridge3_r2_train = ridge_model3.score(X3_train_std, y3_train)\n",
    "ridge3_r2_test = ridge_model3.score(X3_test_std, y3_test)\n",
    "print('ridge2 r^2 train std:', round(ridge3_r2_train, 3))\n",
    "print('ridge2 r^2 test std:', round(ridge3_r2_test, 3))\n",
    "print('train = test, good fit')"
   ]
  },
  {
   "cell_type": "code",
   "execution_count": null,
   "metadata": {},
   "outputs": [],
   "source": [
    "y3_pred = lin_reg3.predict(X3_test)\n",
    "print(f'Linear Regression3 MAE on test: {mean_absolute_error(y3_test, y3_pred):.2f}')\n",
    "\n",
    "y3_pred = ridge_model3.predict(X3_test)\n",
    "print(f'ElasticNet Regression2 MAE on test: {mean_absolute_error(y3_test, y3_pred):.2f}')"
   ]
  },
  {
   "cell_type": "markdown",
   "metadata": {},
   "source": [
    "[back to top](#top)"
   ]
  },
  {
   "cell_type": "markdown",
   "metadata": {},
   "source": [
    "### 6d. Linear regression assumptions<a id='6d'></a> "
   ]
  },
  {
   "cell_type": "code",
   "execution_count": null,
   "metadata": {},
   "outputs": [],
   "source": [
    "# residuals vs. predicted\n",
    "y3_predict = lin_reg3.predict(X3)\n",
    "residuals = y3 - y3_predict\n",
    "plt.scatter(y3_predict, residuals)\n",
    "plt.plot([0, 400], [0, 400])\n",
    "plt.title(\"Residuals vs. Predicted\")\n",
    "plt.xlabel(\"predictions\")\n",
    "plt.ylabel(\"residuals\")\n",
    "plt.grid();\n",
    "    "
   ]
  },
  {
   "cell_type": "code",
   "execution_count": null,
   "metadata": {},
   "outputs": [],
   "source": [
    "# normal q-q plot = heavy-tailed \n",
    "y3_predict = lin_reg3.predict(X3)\n",
    "residuals = y3 - y3_predict\n",
    "stats.probplot(residuals, dist=\"norm\", plot=plt)\n",
    "plt.title(\"Normal Q-Q plot\")\n",
    "plt.xlabel(\"theoretical\")\n",
    "plt.ylabel(\"observed values\");\n",
    " "
   ]
  },
  {
   "cell_type": "code",
   "execution_count": null,
   "metadata": {},
   "outputs": [],
   "source": [
    "# residual distribution\n",
    "movie_df.international_total_gross.hist(bins=10)\n",
    "plt.title('Histogram of Dependent Variable (international_total_gross)');"
   ]
  },
  {
   "cell_type": "markdown",
   "metadata": {},
   "source": [
    "[back to top](#top)"
   ]
  },
  {
   "cell_type": "markdown",
   "metadata": {},
   "source": [
    "## 7. Best Model<a id='7'></a> \n",
    "Fit best model on (train + val), score on test!"
   ]
  },
  {
   "cell_type": "code",
   "execution_count": null,
   "metadata": {},
   "outputs": [],
   "source": [
    "# quick reg plot\n",
    "y3_predict = lin_reg3.predict(X3)\n",
    "\n",
    "plt.scatter(X3, y3)\n",
    "plt.scatter(X3, y3_predict);"
   ]
  },
  {
   "cell_type": "markdown",
   "metadata": {},
   "source": [
    "[back to top](#top)"
   ]
  },
  {
   "cell_type": "markdown",
   "metadata": {},
   "source": [
    "## 8. Results<a id='8'></a> "
   ]
  },
  {
   "cell_type": "markdown",
   "metadata": {},
   "source": [
    "### 8a. Interpretability<a id='8a'></a> "
   ]
  },
  {
   "cell_type": "code",
   "execution_count": null,
   "metadata": {},
   "outputs": [],
   "source": [
    "lin_reg2 = sm.OLS(y2, X2)\n",
    "fit2 = lin_reg2.fit()\n",
    "fit2.summary()"
   ]
  },
  {
   "cell_type": "code",
   "execution_count": null,
   "metadata": {},
   "outputs": [],
   "source": [
    "# lin_reg3 has lower adjusted R^2 compared to lin_reg2\n",
    "# despite removing features based on p-values\n",
    "lin_reg3 = sm.OLS(y3, X3)\n",
    "fit3 = lin_reg3.fit()\n",
    "fit3.summary()"
   ]
  },
  {
   "cell_type": "markdown",
   "metadata": {},
   "source": [
    "### 8b. Predictions<a id='8b'></a> "
   ]
  },
  {
   "cell_type": "markdown",
   "metadata": {},
   "source": [
    "Slides, article, and code available at: https://github.com/slp22/regression-project"
   ]
  },
  {
   "cell_type": "markdown",
   "metadata": {},
   "source": [
    "[back top top](#top)"
   ]
  }
 ],
 "metadata": {
  "kernelspec": {
   "display_name": "Python 3 (ipykernel)",
   "language": "python",
   "name": "python3"
  },
  "language_info": {
   "codemirror_mode": {
    "name": "ipython",
    "version": 3
   },
   "file_extension": ".py",
   "mimetype": "text/x-python",
   "name": "python",
   "nbconvert_exporter": "python",
   "pygments_lexer": "ipython3",
   "version": "3.8.12"
  },
  "toc": {
   "base_numbering": 1,
   "nav_menu": {},
   "number_sections": false,
   "sideBar": true,
   "skip_h1_title": false,
   "title_cell": "Table of Contents",
   "title_sidebar": "Contents",
   "toc_cell": false,
   "toc_position": {
    "height": "calc(100% - 180px)",
    "left": "10px",
    "top": "150px",
    "width": "288px"
   },
   "toc_section_display": true,
   "toc_window_display": true
  }
 },
 "nbformat": 4,
 "nbformat_minor": 4
}
