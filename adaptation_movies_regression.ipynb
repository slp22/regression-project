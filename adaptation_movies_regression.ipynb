{
 "cells": [
  {
   "cell_type": "markdown",
   "metadata": {},
   "source": [
    "# Exporting American Movie Box Office Hits "
   ]
  },
  {
   "cell_type": "markdown",
   "metadata": {},
   "source": [
    "### Regresssion Model Stepwise Analysis <a id='top'></a> \n",
    "\n",
    "1. [Research Question](#1)<br/>\n",
    "2. [Scraped: Movie Adaptations Data](#2) <br/>\n",
    "3. [Exporatory Data Analysis: Movie Adaptations Dataframe](#3)<br/>\n",
    "   [3a. Explore features correlation](#3a)<br/>\n",
    "   [3b. Explore and handle categorical data](#3b)<br/>\n",
    "4. [Cross-Validation](#4)<br/>\n",
    "   [4a. Split test data set](#4a) <br/>\n",
    "   [4b. Validate](#4b)<br/>\n",
    "5. [Modeling](#5)<br/>\n",
    "   [5a. Simple linear regression model](#5a)<br/>\n",
    "   [5b. Linear regression models](#5b)<br/>\n",
    "6. [Model Tuning](#6) <br/>\n",
    "   [6a. Regularization](#6a)<br/>\n",
    "   [6b. Features engineering](#6b)<br/>\n",
    "   [6c. Linear regression assumptions](#6c)<br/>\n",
    "7. [Best Model ](#7)<br/>\n",
    "8. [Results](#8)<br/>\n",
    "   [8a. Interpretability](#8a)<br/>\n",
    "   [8b. Predictions](#8b)<br/>"
   ]
  },
  {
   "cell_type": "code",
   "execution_count": null,
   "metadata": {},
   "outputs": [],
   "source": [
    "import pandas as pd\n",
    "import numpy as np\n",
    "import statsmodels.api as sm\n",
    "import statsmodels.formula.api as smf\n",
    "import seaborn as sns\n",
    "import matplotlib.pyplot as plt\n"
   ]
  },
  {
   "cell_type": "code",
   "execution_count": null,
   "metadata": {},
   "outputs": [],
   "source": [
    "from sklearn.preprocessing import StandardScaler, PolynomialFeatures\n",
    "from sklearn.linear_model import LinearRegression, Lasso, LassoCV, Ridge, RidgeCV, ElasticNet\n",
    "from sklearn.model_selection import (cross_val_score, train_test_split, KFold, GridSearchCV)\n",
    "from sklearn.metrics import r2_score, mean_squared_error\n",
    "%matplotlib inline\n",
    "\n",
    "\n"
   ]
  },
  {
   "cell_type": "code",
   "execution_count": null,
   "metadata": {},
   "outputs": [],
   "source": []
  },
  {
   "cell_type": "markdown",
   "metadata": {},
   "source": [
    "## 1. Research Question<a id='1'></a> \n",
    "\n",
    "* RQ. Can a model predict a movie adaptaion <sup>1</sup> international total gross revenue based on movie data available on boxofficemojo.com?\n",
    "* Data source: boxofficemojo.com \n",
    "* Error metric: adjusted R<sup>2</sup>, MAE, RMSE???? \n",
    "\n",
    "<sup>1</sup> Adapted from books, television shows, events, video games, or plays. \n"
   ]
  },
  {
   "cell_type": "markdown",
   "metadata": {},
   "source": [
    "## 2. Scraped [Movie Adaptations Data](https://github.com/slp22/regression-project/blob/main/adaptation_movies_webscraping.ipynb) \n"
   ]
  },
  {
   "cell_type": "markdown",
   "metadata": {},
   "source": [
    "## 3. Exporatory Data Analysis: [Movie Adaptations Dataframe](https://github.com/slp22/regression-project/blob/main/adaptation_movies_eda.ipynb) "
   ]
  },
  {
   "cell_type": "code",
   "execution_count": null,
   "metadata": {},
   "outputs": [],
   "source": [
    "movie_df = pd.read_csv('clean_df.csv')\n",
    "movie_df.drop(columns=['link_stub'], inplace=True)\n",
    "movie_df.head(2)"
   ]
  },
  {
   "cell_type": "code",
   "execution_count": null,
   "metadata": {},
   "outputs": [],
   "source": [
    "movie_df.describe()"
   ]
  },
  {
   "cell_type": "code",
   "execution_count": null,
   "metadata": {},
   "outputs": [],
   "source": []
  },
  {
   "cell_type": "markdown",
   "metadata": {},
   "source": [
    "### 3a. Explore features correlation<a id='3a'></a> "
   ]
  },
  {
   "cell_type": "code",
   "execution_count": null,
   "metadata": {},
   "outputs": [],
   "source": [
    "# pairplot\n",
    "# sns.pairplot(movie_df, height=5, aspect=1.5);"
   ]
  },
  {
   "cell_type": "code",
   "execution_count": null,
   "metadata": {},
   "outputs": [],
   "source": [
    "# heatmap correlation matrix\n",
    "sns.heatmap(movie_df.corr(), cmap=\"seismic\", annot=True, vmin=-1, vmax=1);"
   ]
  },
  {
   "cell_type": "markdown",
   "metadata": {},
   "source": [
    "### Correlation Summary\n",
    "\n",
    "#### Correlation Features-Predictor\n",
    "*predictor = `international_total_gross`*\n",
    "\n",
    "* predictor corrolated with (highest to lowest):\n",
    "    * `domestic_total_gross`\n",
    "    * `domestic_opening`\n",
    "    * `budget`\n",
    "    * `max_theaters`\n",
    "    * `opening_theathers`\n",
    "    \n",
    "Predictor is highly corrolated with `worldwide_total_gross`; has known multicollinearity as:<br/>\n",
    "`worldwide_total_gross` = `domestic_total_gross` + `international_total_gross`\n",
    "\n",
    "####  Features-Features > Positive Correlation\n",
    "* domestic_total_gross:\n",
    "    * `domestic_opening`\n",
    "    * `worldwide_total_gross`\n",
    "    * `budget`\n",
    "    * `max_theaters`\n",
    "    * `opening_theathers`\n",
    "\n",
    "* domestic_opening:<br/>\n",
    "    * `budget`\n",
    "    * `max_theaters`\n",
    "    * `opening_theathers`\n",
    "\n",
    "* max_theaters:\n",
    "    * `opening_theathers`\n",
    "    * `budget`\n",
    "    * `domestic_opening`\n",
    "\n",
    "####  Features-Features > Negative Correlation\n",
    "* rank:\n",
    "    * `domestic_total_gross`\n",
    "    * `max_theaters`\n",
    "    * `opening_theathers`\n",
    "    * `domestic_opening`\n",
    "    * `budget`\n",
    "    \n"
   ]
  },
  {
   "cell_type": "markdown",
   "metadata": {},
   "source": [
    "### 3b. Explore and handle categorical data<a id='3b'></a> "
   ]
  },
  {
   "cell_type": "code",
   "execution_count": null,
   "metadata": {},
   "outputs": [],
   "source": [
    "# How many unique genres? What are their frequencies? \n",
    "print('Unique genres:', movie_df.genres.nunique())\n",
    "movie_df['genres'].value_counts()\n",
    "\n",
    "# 👎 Too many for easy-to-use dummy value; will not convert to dummy variables. "
   ]
  },
  {
   "cell_type": "code",
   "execution_count": null,
   "metadata": {},
   "outputs": [],
   "source": [
    "# How many unique distributors? What are their frequencies? \n",
    "print('Unique distributors:', movie_df.distributor.nunique())\n",
    "movie_df['distributor'].value_counts()\n",
    "\n",
    "# 👍 Reasonable amount, can group the single counts into other category."
   ]
  },
  {
   "cell_type": "code",
   "execution_count": null,
   "metadata": {},
   "outputs": [],
   "source": [
    "# get dummies for distributor \n",
    "pd.get_dummies(movie_df['distributor'], drop_first=True).head(2) "
   ]
  },
  {
   "cell_type": "code",
   "execution_count": null,
   "metadata": {},
   "outputs": [],
   "source": [
    "# How many unique MPAA ratings? What are their frequencies? \n",
    "print('Unique MPAA ratings:', movie_df.rating.nunique())\n",
    "movie_df['rating'].value_counts()\n",
    "\n",
    "# 👍 Easy-to-use number for dummy variables."
   ]
  },
  {
   "cell_type": "code",
   "execution_count": null,
   "metadata": {},
   "outputs": [],
   "source": [
    "# get dummies for MPAA rating\n",
    "pd.get_dummies(movie_df['rating'], drop_first=True).head(2) "
   ]
  },
  {
   "cell_type": "code",
   "execution_count": null,
   "metadata": {},
   "outputs": [],
   "source": [
    "movie_df.head(2)"
   ]
  },
  {
   "cell_type": "markdown",
   "metadata": {},
   "source": [
    "[back to top](#top)"
   ]
  },
  {
   "cell_type": "markdown",
   "metadata": {},
   "source": [
    "## 4. Cross-Validation<a id='4'></a> "
   ]
  },
  {
   "cell_type": "markdown",
   "metadata": {},
   "source": [
    "### 4a. Split test data set<a id='4a'></a> "
   ]
  },
  {
   "cell_type": "code",
   "execution_count": null,
   "metadata": {},
   "outputs": [],
   "source": [
    "#????????? X, y = movie_df.drop('price',axis=1), movie_df['price']\n",
    "\n",
    "# separate 20% of the data for testing in step 7\n",
    "X, X_test, y, y_test = train_test_split(X, y, test_size=.2, random_state=10)"
   ]
  },
  {
   "cell_type": "markdown",
   "metadata": {},
   "source": [
    "### 4b. Validate<a id='4b'></a> "
   ]
  },
  {
   "cell_type": "code",
   "execution_count": null,
   "metadata": {},
   "outputs": [],
   "source": [
    "## K-fold, in a less manual way with sk-learn (source: validation_workflow_and_utilities.ipynb)\n",
    "\n",
    "kf = KFold(n_splits=5, shuffle=True, random_state = 71)\n",
    "\n",
    "# cross-val-score\n",
    "cross_val_score(lm, X, y, cv=kf, scoring='r2')"
   ]
  },
  {
   "cell_type": "code",
   "execution_count": null,
   "metadata": {},
   "outputs": [],
   "source": [
    "# build model  (source: regression_lasso_solution.ipynb)\n",
    "lin_reg_est = LinearRegression()\n",
    "\n",
    "scores = cross_val_score(lin_reg_est, X_train, y_train, cv=kfold)\n",
    "print(scores)\n",
    "print(\"Linear Reg Mean Score: \", np.mean(scores))\n",
    "\n",
    "# Build the Model\n",
    "lin_reg_est.fit(X_train, y_train)"
   ]
  },
  {
   "cell_type": "markdown",
   "metadata": {},
   "source": []
  },
  {
   "cell_type": "markdown",
   "metadata": {},
   "source": [
    "[back to top](#top)"
   ]
  },
  {
   "cell_type": "markdown",
   "metadata": {},
   "source": [
    "## 5. Modeling<a id='5'></a> "
   ]
  },
  {
   "cell_type": "markdown",
   "metadata": {},
   "source": [
    "### 5a. Simple linear regression model<a id='5a'></a> \n"
   ]
  },
  {
   "cell_type": "code",
   "execution_count": null,
   "metadata": {},
   "outputs": [],
   "source": [
    "#???????? split train-test\n",
    "X_train, X_test, y_tes, y_test = train_test_split(movie_df[['domestic_total_gross']], \n",
    "                                                movie_df['international_total_gross'], \n",
    "                                                test_size=0.20, \n",
    "                                                random_state=42)"
   ]
  },
  {
   "cell_type": "code",
   "execution_count": null,
   "metadata": {},
   "outputs": [],
   "source": [
    "#FEATURES: domestic_total_gross\n",
    "#TARGET: international_total_gross\n",
    "\n",
    "\n",
    "# simple linear model (slm)\n",
    "movie_slm = LinearRegression()\n",
    "movie_slm.fit(X_train,y_train)\n",
    "\n",
    "print('train score:', round(movie_slm.score(X_train,y_train), 3))\n",
    "print('test score:', round(movie_slm.score(X_test,y_test), 3))\n",
    "print('\\n')\n",
    "print('m_1.coef', movie_slm.coef_ )\n",
    "\n",
    "# model does not perform well"
   ]
  },
  {
   "cell_type": "code",
   "execution_count": null,
   "metadata": {},
   "outputs": [],
   "source": [
    "# residual plot \n",
    "f, ax = plt.subplots(figsize=(12, 8))\n",
    "sns.residplot(x='domestic_total_gross', y='international_total_gross', data=movie_df);\n",
    "\n",
    "# cone shape indicates heteroskedasticity; likely due to the large range of domestic movie revenue"
   ]
  },
  {
   "cell_type": "code",
   "execution_count": null,
   "metadata": {},
   "outputs": [],
   "source": []
  },
  {
   "cell_type": "markdown",
   "metadata": {},
   "source": [
    "### 5b. Linear regression models<a id='5b'></a> \n",
    "FEATURES: `domestic_total_gross` <br/>\n",
    "TARGET: `international_total_gross`"
   ]
  },
  {
   "cell_type": "code",
   "execution_count": null,
   "metadata": {},
   "outputs": [],
   "source": [
    "# ## FEAUTRE\n",
    "# # 'domestic_total_gross'\n",
    "\n",
    "# ## TARGET\n",
    "# # 'international_total_gross'\n",
    "\n",
    "# # y, X = patsy.dmatrices(' ~ domestic_total_gross + domestic_opening + budget + worldwide_total_gross', data=movie_df, return_type=\"dataframe\")\n",
    "# # y, X = patsy.dmatrices('international_total_gross ~ domestic_total_gross + domestic_opening + budget',                         data=movie_df, return_type=\"dataframe\")\n",
    "# # y, X = patsy.dmatrices('international_total_gross ~ domestic_total_gross + domestic_opening',                                  data=movie_df, return_type=\"dataframe\")\n",
    "# # y, X = patsy.dmatrices('international_total_gross ~ domestic_total_gross + budget',                                            data=movie_df, return_type=\"dataframe\")\n",
    "# y, X = patsy.dmatrices('international_total_gross ~ domestic_total_gross',                                                     data=movie_df, return_type=\"dataframe\")\n",
    "\n",
    "# # model\n",
    "# model = sm.OLS(y, X)\n",
    "\n",
    "# # fit model\n",
    "# fit = model.fit()\n",
    "\n",
    "# # model performance statistics\n",
    "# fit.summary()\n",
    "\n"
   ]
  },
  {
   "cell_type": "code",
   "execution_count": null,
   "metadata": {},
   "outputs": [],
   "source": [
    "#set up the 3 models we're choosing from:\n",
    "\n",
    "#1 LIN REG\n",
    "# 2 RIDGE\n",
    "# POLY\n",
    "\n",
    "\n",
    "#1 LIN REG\n",
    "lm = LinearRegression()\n",
    "\n",
    "# ________________________________\n",
    "#feature scaling for train, val, and test so that we can run our ridge model on each\n",
    "scaler = StandardScaler()\n",
    "\n",
    "X_train_scaled = scaler.fit_transform(X_train.values)\n",
    "X_val_scaled = scaler.transform(X_val.values)\n",
    "X_test_scaled = scaler.transform(X_test.values)\n",
    "\n",
    "# 2 RIDGE\n",
    "lm_reg = Ridge(alpha=1)\n",
    "\n",
    "# ________________________________\n",
    "#feature transforms for train, val, and test so that we can run our poly model on each\n",
    "poly = PolynomialFeatures(degree=2) \n",
    "\n",
    "X_train_poly = poly.fit_transform(X_train.values)\n",
    "X_val_poly = poly.transform(X_val.values)\n",
    "X_test_poly = poly.transform(X_test.values)\n",
    "\n",
    "# 3 POLY\n",
    "lm_poly = LinearRegression()\n"
   ]
  },
  {
   "cell_type": "code",
   "execution_count": null,
   "metadata": {},
   "outputs": [],
   "source": [
    "# Fit three models and print R^2 score\n",
    "\n",
    "#1 LIN REG\n",
    "lm.fit(X_train, y_train)\n",
    "print(f'Linear Regression val R^2: {lm.score(X_val, y_val):.3f}')\n",
    "\n",
    "# 2 RIDGE\n",
    "lm_reg.fit(X_train_scaled, y_train)\n",
    "print(f'Ridge Regression val R^2: {lm_reg.score(X_val_scaled, y_val):.3f}')\n",
    "\n",
    "# 3 POLY\n",
    "lm_poly.fit(X_train_poly, y_train)\n",
    "print(f'Degree 2 polynomial regression val R^2: {lm_poly.score(X_val_poly, y_val):.3f}')"
   ]
  },
  {
   "cell_type": "code",
   "execution_count": null,
   "metadata": {},
   "outputs": [],
   "source": []
  },
  {
   "cell_type": "markdown",
   "metadata": {},
   "source": [
    "[back to top](#top)"
   ]
  },
  {
   "cell_type": "markdown",
   "metadata": {},
   "source": [
    "## 6. Model Tuning<a id='6'></a> \n",
    "√ Take log of some features <br/>\n",
    "Grid_Search()\n"
   ]
  },
  {
   "cell_type": "code",
   "execution_count": null,
   "metadata": {},
   "outputs": [],
   "source": [
    "# log transformation for monetary columns \n",
    "\n",
    "# check for zeros in columns before log transformation \n",
    "count = (movie_df['international_total_gross'] == 0).sum()\n",
    "print('count of international_total_gross in budget:', count)\n",
    "\n",
    "count = (movie_df['domestic_total_gross'] == 0).sum()\n",
    "print('count of domestic_total_gross in budget:', count)\n",
    "\n",
    "count = (movie_df['budget'] == 0).sum()\n",
    "print('count of zeros in budget:', count)\n",
    "\n",
    "count = (movie_df['domestic_opening'] == 0).sum()\n",
    "print('count of zeros in domestic_opening:', count)\n",
    "\n",
    "# 👍 international_total_gross and domestic_total_gross\n",
    "\n",
    "# international_total_gross: min $98, max $1,119,261,000\n",
    "movie_df['log_international_total_gross'] = np.log(movie_df['international_total_gross'])\n",
    "\n",
    "# domestic_total_gross: min $742, max $543,638,043\n",
    "movie_df['log_domestic_total_gross'] = np.log(movie_df['domestic_total_gross'])\n",
    "\n",
    "# # 👎 zeros throw division-zero error; hold for now \n",
    "# # domestic_opening: min $0, max $191,770,800\n",
    "# movie_df['log_domestic_opening'] = np.log(movie_df['domestic_opening'])\n",
    "\n",
    "# # budget: min $0, max $270,000,000\n",
    "# movie_df['log_budget'] = np.log(movie_df['budget'])\n",
    "\n"
   ]
  },
  {
   "cell_type": "code",
   "execution_count": null,
   "metadata": {},
   "outputs": [],
   "source": [
    "# # scale monetary data to smaller values by dividing by 1,000  or 1,000,000 \n",
    "### maybe minmaxscalar better?????\n",
    "\n",
    "# # roounding \n",
    "# movie_df['international_total_gross'] = round(movie_df['international_total_gross'].apply(lambda x: x/1000), 2)\n",
    "# movie_df['domestic_total_gross'] = round(movie_df['domestic_total_gross'].apply(lambda x: x/1000), 2)\n",
    "# movie_df['worldwide_total_gross'] = round(movie_df['worldwide_total_gross'].apply(lambda x: x/1000), 2)\n",
    "# movie_df['domestic_opening'] = round(movie_df['domestic_opening'].apply(lambda x: x/1000), 2)\n",
    "# movie_df['budget'] = round(movie_df['budget'].apply(lambda x: x/1000), 2)\n",
    "# movie_df['profit'] = round(movie_df['profit'].apply(lambda x: x/1000), 2)\n",
    "\n",
    "# # not rounding \n",
    "# movie_df['international_total_gross'] = movie_df['international_total_gross'].apply(lambda x: x/1000)\n",
    "# movie_df['domestic_total_gross'] = movie_df['domestic_total_gross'].apply(lambda x: x/1000)\n",
    "# movie_df['worldwide_total_gross'] = movie_df['worldwide_total_gross'].apply(lambda x: x/1000)\n",
    "# movie_df['domestic_opening'] = movie_df['domestic_opening'].apply(lambda x: x/1000)\n",
    "# movie_df['budget'] = movie_df['budget'].apply(lambda x: x/1000)\n",
    "# movie_df['profit'] = movie_df['profit'].apply(lambda x: x/1000)\n",
    "\n",
    "# # Code adapated from [sodas32](https://github.com/sodas32/Linear-Regression-Metis-Project-2), thank you!"
   ]
  },
  {
   "cell_type": "markdown",
   "metadata": {},
   "source": [
    "### 6a. Regularization<a id='6a'></a> "
   ]
  },
  {
   "cell_type": "markdown",
   "metadata": {},
   "source": [
    "[regression_lasso_solution](http://localhost:8888/notebooks/Documents/GitHub/metis_dsml/02_regression/02_regression_exercises/08-regularization/regression_lasso_solution.ipynb)\n"
   ]
  },
  {
   "cell_type": "code",
   "execution_count": null,
   "metadata": {},
   "outputs": [],
   "source": [
    "def build_grid_search_est(model, X, y, cv=5, **params): #(source: regression_lasso_solution.ipynb)\n",
    "\n",
    "    grid_est = GridSearchCV(model, param_grid=params, cv=kfold, \n",
    "                            return_train_score=False)\n",
    "    grid_est.fit(X, y)\n",
    "    df = pd.DataFrame(grid_est.cv_results_)\n",
    "    for param in params:\n",
    "        df[param] = df.params.apply(lambda val: val[param])\n",
    "        plt.plot(np.log(df.alpha), df.mean_test_score);\n",
    "        plt.semilogx(df.alpha, df.mean_test_score)\n",
    "    return grid_est"
   ]
  },
  {
   "cell_type": "code",
   "execution_count": null,
   "metadata": {},
   "outputs": [],
   "source": [
    "print(\"Lasso Grid Search\") #(source: regression_lasso_solution.ipynb)\n",
    "lasso_grid_est = build_grid_search_est(Lasso(), X_train, y_train, cv=kfold,\n",
    "                                       alpha=np.logspace(-4, -1, 30))"
   ]
  },
  {
   "cell_type": "code",
   "execution_count": null,
   "metadata": {},
   "outputs": [],
   "source": [
    "print(\"Ridge Grid Search\") #(source: regression_lasso_solution.ipynb)\n",
    "ridge_grid_est = build_grid_search_est(Ridge(), X_train, y_train, cv=kfold,\n",
    "                                       alpha=np.logspace(-4, -1, 10))"
   ]
  },
  {
   "cell_type": "code",
   "execution_count": null,
   "metadata": {},
   "outputs": [],
   "source": [
    "print(\"Elastic Net Grid Search\") #(source: regression_lasso_solution.ipynb)\n",
    "elastic_net_grid_est = build_grid_search_est(ElasticNet(), X_train, y_train, cv=kfold,\n",
    "                                             alpha=np.logspace(-4, 0.1, 10))"
   ]
  },
  {
   "cell_type": "code",
   "execution_count": null,
   "metadata": {},
   "outputs": [],
   "source": []
  },
  {
   "cell_type": "code",
   "execution_count": null,
   "metadata": {},
   "outputs": [],
   "source": [
    "\n",
    "params = {\n",
    "    \"alpha\": np.logspace(-4, -.1, 20)\n",
    "}\n",
    "\n",
    "grid_est = GridSearchCV(Lasso(), param_grid=params, cv=kfold, \n",
    "                        return_train_score=False)\n",
    "grid_est.fit(X_train, y_train)\n",
    "df = pd.DataFrame(grid_est.cv_results_)\n",
    "df[\"alpha\"] = df.params.apply(lambda val: val[\"alpha\"])\n",
    "plt.plot(np.log(df.alpha), df.mean_test_score);"
   ]
  },
  {
   "cell_type": "code",
   "execution_count": null,
   "metadata": {},
   "outputs": [],
   "source": [
    "print(\"Ridge Model:\") #(source: regression_lasso_solution.ipynb)\n",
    "params = {\n",
    "    \"alpha\": np.logspace(-4, -.1, 20)\n",
    "}\n",
    "\n",
    "grid_est = GridSearchCV(Ridge(), param_grid=params, cv=kfold, \n",
    "                        return_train_score=False)\n",
    "grid_est.fit(X_train, y_train)\n",
    "df = pd.DataFrame(grid_est.cv_results_)\n",
    "df[\"alpha\"] = df.params.apply(lambda val: val[\"alpha\"])\n",
    "plt.plot(np.log(df.alpha), df.mean_test_score);"
   ]
  },
  {
   "cell_type": "code",
   "execution_count": null,
   "metadata": {},
   "outputs": [],
   "source": [
    "grid_est.best_estimator_"
   ]
  },
  {
   "cell_type": "code",
   "execution_count": null,
   "metadata": {},
   "outputs": [],
   "source": [
    "params['alpha']"
   ]
  },
  {
   "cell_type": "code",
   "execution_count": null,
   "metadata": {},
   "outputs": [],
   "source": [
    "#(source: regression_lasso_solution.ipynb)\n",
    "\n",
    "y_pred = lin_reg_est.predict(X_holdout)\n",
    "print(\"Linear Regression:\", r2_score(y_holdout, y_pred))\n",
    "\n",
    "y_pred = lasso_grid_est.predict(X_holdout)\n",
    "print(\"Lasso Regression:\", r2_score(y_holdout, y_pred))\n",
    "\n",
    "y_pred = ridge_grid_est.predict(X_holdout)\n",
    "print(\"Ridge Regression:\", r2_score(y_holdout, y_pred))\n",
    "\n",
    "y_pred = elastic_net_grid_est.predict(X_holdout)\n",
    "print(\"ElasticNet Regression:\", r2_score(y_holdout, y_pred))"
   ]
  },
  {
   "cell_type": "code",
   "execution_count": null,
   "metadata": {},
   "outputs": [],
   "source": [
    "# evaluate model  (source: regression_lasso_solution.ipynb)\n",
    "\n",
    "# # Fitted vs. Actual\n",
    "y_train_pred = lin_reg_est.predict(X_train)\n",
    "\n",
    "# plt.scatter(y_train, y_train_pred, alpha=0.2)\n",
    "# plt.plot([0, 400], [0, 400])\n",
    "\n",
    "# # Fitted vs. Actual \n",
    "y_test_pred = lin_reg_est.predict(X_holdout)\n",
    "\n",
    "# plt.scatter(y_holdout, y_test_pred)\n",
    "# plt.plot([0, 400], [0, 400])"
   ]
  },
  {
   "cell_type": "code",
   "execution_count": null,
   "metadata": {},
   "outputs": [],
   "source": [
    "# # Plot Residuals vs. predicted  (source: regression_lasso_solution.ipynb)\n",
    "\n",
    "# lin_reg_residuals = y_train - y_train_pred\n",
    "\n",
    "# plt.scatter(y_train_pred, lin_reg_residuals)\n",
    "# plt.plot([0,400], [0, 0])\n",
    "# plt.title(\"Residuals vs. Predictions\")"
   ]
  },
  {
   "cell_type": "code",
   "execution_count": null,
   "metadata": {},
   "outputs": [],
   "source": []
  },
  {
   "cell_type": "markdown",
   "metadata": {},
   "source": [
    "[back to top](#top)"
   ]
  },
  {
   "cell_type": "markdown",
   "metadata": {},
   "source": [
    "### 6b. Features engineering<a id='6b'></a> "
   ]
  },
  {
   "cell_type": "code",
   "execution_count": null,
   "metadata": {},
   "outputs": [],
   "source": [
    "# new feature\n",
    "# profit = domestic_total_gross - budget\n",
    "\n",
    "movie_df['profit'] = (movie_df['domestic_total_gross'] - movie_df['budget'])"
   ]
  },
  {
   "cell_type": "markdown",
   "metadata": {},
   "source": [
    "Code adapated from [sodas32](https://github.com/sodas32/Linear-Regression-Metis-Project-2), thank you!"
   ]
  },
  {
   "cell_type": "code",
   "execution_count": null,
   "metadata": {},
   "outputs": [],
   "source": [
    "# square x5\n",
    "\n",
    "m_1 = LinearRegression()\n",
    "m_1.fit(X_train,y_train)\n",
    "\n",
    "X_train['x5^2'] = X_train['x5']**2 \n",
    "X_test['x5^2'] = X_test['x5']**2\n",
    "\n",
    "print('train score with x5^2:', round(m_1.score(X_train,y_train), 3))\n",
    "print('test score with x5^2:', round(m_1.score(X_test,y_test), 3))\n",
    "print('\\n')\n",
    "print('m_1.coef  with x5^2', m_1.coef_ )"
   ]
  },
  {
   "cell_type": "code",
   "execution_count": null,
   "metadata": {},
   "outputs": [],
   "source": [
    "# interaction x2 - x3\n",
    "\n",
    "m_1 = LinearRegression()\n",
    "m_1.fit(X_train,y_train)\n",
    "\n",
    "X_train['x2_-_x3'] = (X_train['x2'] - X_train['x3'])\n",
    "X_test['x2_-_x3'] = (X_test['x2'] - X_test['x3'])\n",
    "\n",
    "\n",
    "print('train score with x2_-_x3:', round(m_1.score(X_train,y_train), 3))\n",
    "print('test score with x2_-_x3:', round(m_1.score(X_test,y_test), 3))\n",
    "print('\\n')\n",
    "print('m_1.coef  with x2_-_x3', m_1.coef_ )"
   ]
  },
  {
   "cell_type": "code",
   "execution_count": null,
   "metadata": {},
   "outputs": [],
   "source": [
    "# interaction x1 * x2\n",
    "\n",
    "m_3 = LinearRegression()\n",
    "m_3.fit(X_train,y_train)\n",
    "\n",
    "X_train['x1_*_x2'] = (X_train['x1']* X_train['x2'])\n",
    "X_test['x1_*_x2'] = (X_test['x1']* X_test['x2'])\n",
    "\n",
    "\n",
    "print('train score with x1_*_x2:', round(m_3.score(X_train,y_train), 3))\n",
    "print('test score with x1_*_x2:', round(m_3.score(X_test,y_test), 3))\n",
    "print('\\n')\n",
    "print('m_1.coef  with x1_*_x2', m_3.coef_ )"
   ]
  },
  {
   "cell_type": "code",
   "execution_count": null,
   "metadata": {},
   "outputs": [],
   "source": [
    "# deviation \n",
    "\n"
   ]
  },
  {
   "cell_type": "code",
   "execution_count": null,
   "metadata": {},
   "outputs": [],
   "source": []
  },
  {
   "cell_type": "markdown",
   "metadata": {},
   "source": [
    "[back to top](#top)"
   ]
  },
  {
   "cell_type": "markdown",
   "metadata": {},
   "source": [
    "### 6c. Linear regression assumptions<a id='6c'></a> \n",
    "    1. Remove multicollinearity\n",
    "    2. Transform some features\n",
    "    3. Look at QQ plots of residuals\n",
    "    4. Check for independence of errors\n",
    "    5. Check for heteroskedasticity in residuals!\n"
   ]
  },
  {
   "cell_type": "code",
   "execution_count": null,
   "metadata": {},
   "outputs": [],
   "source": [
    "# Assumption 1: regression is linear in parameters and correctly specified\n",
    "\n",
    "# Dx Regression fit: Inspect plot of observed data vs predicted values (points should be symmetric around the line).\n",
    "# Dx Residual plot: Points should be symmetric around y=0 with roughly constant variance. \n",
    "##Look carefully for evidence of a \"bowed\" pattern, indicating that the model makes systematic errors whenever it is making unusually large or small predictions.\n",
    "# Q-Q plot: Look for the middle section of dots to be very close to the diagonal red line. \n",
    "##Use the chart below as a reference for interpretation.\n"
   ]
  },
  {
   "cell_type": "markdown",
   "metadata": {},
   "source": [
    "![](https://i.stack.imgur.com/ZXRkL.png)"
   ]
  },
  {
   "cell_type": "code",
   "execution_count": null,
   "metadata": {},
   "outputs": [],
   "source": [
    "# Assumption 2: residuals ( ${e_i} = Y_i-\\hat{Y}_i$ ) should be normally distributed with zero mean\n",
    "# diagnose/inspect residual normality using qqplot:\n",
    "\n",
    "stats.probplot(data['resid'], dist=\"norm\", plot=plt)\n",
    "plt.title(\"Normal Q-Q plot\")\n",
    "plt.show()"
   ]
  },
  {
   "cell_type": "code",
   "execution_count": null,
   "metadata": {},
   "outputs": [],
   "source": [
    "# Assumption 3: error terms must have constant variance\n",
    "\n",
    "# create residual plot\n",
    "movie['predict']=fit.predict(X)\n",
    "movie['resid']= y-movie.predict\n",
    "with sns.axes_style('white'):\n",
    "    plot = movie.plot(\n",
    "        kind='scatter', x='predict', y='resid', alpha=0.5, figsize=(10,6))\n",
    "    \n",
    "# create histogram\n",
    "movie.DomesticTotalGross.hist();\n",
    "# note the positive skew\n",
    "\n",
    "# quick reg plot\n",
    "plt.scatter(movie.Budget,y)\n",
    "plt.scatter(movie.Budget,movie.predict);"
   ]
  },
  {
   "cell_type": "code",
   "execution_count": null,
   "metadata": {},
   "outputs": [],
   "source": [
    "# Assumption 4: errors are uncorrelated across observations\n",
    "\n"
   ]
  },
  {
   "cell_type": "code",
   "execution_count": null,
   "metadata": {},
   "outputs": [],
   "source": [
    "# Assumption 5: no independent variable is a perfect linear function of any other independent variable \n",
    "# (no perfect multi-collinearity)"
   ]
  },
  {
   "cell_type": "markdown",
   "metadata": {},
   "source": [
    "Ways to diagnose: \n",
    "1. Inspect correlations of independent features\n",
    "2. Keep an eye on condition number!\n",
    "3. As noted above, `statsmodels` will notify you of [large condition numbers](https://en.wikipedia.org/wiki/Condition_number).\n",
    "\n",
    "Ways to fix:<br/>\n",
    "3. Consider Partial Least Squares or projection into latent space (PCA, introduced in the second-half of the course)<br/>\n",
    "4. Use Ridge regularization<br/>\n",
    "\n",
    "Incorporating [Ridge regularization](http://scikit-learn.org/stable/modules/generated/sklearn.linear_model.Ridge.html) not only fixes this issue (if it exists, still safe to use if it doesn't), but it imparts other benefits as well. We'll use Ridge quite often after it's officially introduced!"
   ]
  },
  {
   "cell_type": "code",
   "execution_count": null,
   "metadata": {},
   "outputs": [],
   "source": []
  },
  {
   "cell_type": "markdown",
   "metadata": {},
   "source": [
    "[back to top](#top)"
   ]
  },
  {
   "cell_type": "markdown",
   "metadata": {},
   "source": [
    "## 7. Best Model<a id='7'></a> \n",
    "Fit best model on (train + val), score on test!"
   ]
  },
  {
   "cell_type": "code",
   "execution_count": null,
   "metadata": {},
   "outputs": [],
   "source": [
    "# pd.DataFrame(list(zip(range(10), lasso_grid_est.best_estimator_.coef_)))"
   ]
  },
  {
   "cell_type": "code",
   "execution_count": null,
   "metadata": {},
   "outputs": [],
   "source": []
  },
  {
   "cell_type": "markdown",
   "metadata": {},
   "source": [
    "[back to top](#top)"
   ]
  },
  {
   "cell_type": "markdown",
   "metadata": {},
   "source": [
    "## 8. Results<a id='8'></a> "
   ]
  },
  {
   "cell_type": "markdown",
   "metadata": {},
   "source": [
    "### 8a. Interpretability<a id='8a'></a> "
   ]
  },
  {
   "cell_type": "code",
   "execution_count": null,
   "metadata": {},
   "outputs": [],
   "source": [
    "# Coefficients, what are the top predictors"
   ]
  },
  {
   "cell_type": "code",
   "execution_count": null,
   "metadata": {},
   "outputs": [],
   "source": []
  },
  {
   "cell_type": "markdown",
   "metadata": {},
   "source": [
    "### 8b. Predictions<a id='8b'></a> "
   ]
  },
  {
   "cell_type": "code",
   "execution_count": null,
   "metadata": {},
   "outputs": [],
   "source": [
    "# Make a prediction for a new value, does it make sense?"
   ]
  },
  {
   "cell_type": "code",
   "execution_count": null,
   "metadata": {},
   "outputs": [],
   "source": [
    "# linear regression plot\n",
    "f, ax = plt.subplots(figsize=(12, 8))\n",
    "sns.regplot(x='domestic_total_gross', y='international_total_gross', data=movie_df);\n"
   ]
  },
  {
   "cell_type": "code",
   "execution_count": null,
   "metadata": {},
   "outputs": [],
   "source": []
  },
  {
   "cell_type": "code",
   "execution_count": null,
   "metadata": {},
   "outputs": [],
   "source": []
  },
  {
   "cell_type": "markdown",
   "metadata": {},
   "source": [
    "Slides, article, and code available at: https://github.com/slp22/regression-project"
   ]
  },
  {
   "cell_type": "markdown",
   "metadata": {},
   "source": [
    "[back top top](#top)"
   ]
  }
 ],
 "metadata": {
  "kernelspec": {
   "display_name": "Python 3 (ipykernel)",
   "language": "python",
   "name": "python3"
  },
  "language_info": {
   "codemirror_mode": {
    "name": "ipython",
    "version": 3
   },
   "file_extension": ".py",
   "mimetype": "text/x-python",
   "name": "python",
   "nbconvert_exporter": "python",
   "pygments_lexer": "ipython3",
   "version": "3.8.12"
  },
  "toc": {
   "base_numbering": 1,
   "nav_menu": {},
   "number_sections": false,
   "sideBar": true,
   "skip_h1_title": false,
   "title_cell": "Table of Contents",
   "title_sidebar": "Contents",
   "toc_cell": false,
   "toc_position": {
    "height": "calc(100% - 180px)",
    "left": "10px",
    "top": "150px",
    "width": "288px"
   },
   "toc_section_display": true,
   "toc_window_display": true
  }
 },
 "nbformat": 4,
 "nbformat_minor": 4
}
