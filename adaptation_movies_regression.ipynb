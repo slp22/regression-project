{
 "cells": [
  {
   "cell_type": "markdown",
   "metadata": {},
   "source": [
    "# Exporting American Movie Box Office Hits "
   ]
  },
  {
   "cell_type": "markdown",
   "metadata": {},
   "source": [
    "### Regresssion Model Stepwise Analysis <a id='top'></a> \n",
    "\n",
    "1. [Research Question](#1)<br/>\n",
    "2. [Scraped: Movie Adaptations Data](#2) <br/>\n",
    "3. [Exporatory Data Analysis: Movie Adaptations Dataframe](#3)<br/>\n",
    "   [3a. Explore features correlation](#3a)<br/>\n",
    "   [3b. Explore and handle categorical data](#3b)<br/>\n",
    "4. [Cross-Validation](#4)<br/>\n",
    "5. [Modeling](#5)<br/>\n",
    "6. [Model Tuning](#6) <br/>\n",
    "   [6a. Regularization](#6a)<br/>\n",
    "   [6b. Features engineering](#6b)<br/>\n",
    "   [6c. Modeling with new features](#6c)<br/> \n",
    "   [6d. Linear regression assumptions](#6d)<br/>\n",
    "7. [Best Model ](#7)<br/>\n",
    "8. [Results](#8)<br/>\n",
    "   [8a. Interpretability](#8a)<br/>\n",
    "   [8b. Predictions](#8b)<br/>"
   ]
  },
  {
   "cell_type": "code",
   "execution_count": 1,
   "metadata": {},
   "outputs": [],
   "source": [
    "import pandas as pd\n",
    "import numpy as np\n",
    "import sklearn\n",
    "import statsmodels.api as sm\n",
    "import statsmodels.formula.api as smf\n",
    "import pylab as py\n",
    "import seaborn as sns\n",
    "import matplotlib.pyplot as plt\n",
    "import scipy.stats as stats\n"
   ]
  },
  {
   "cell_type": "code",
   "execution_count": 2,
   "metadata": {},
   "outputs": [],
   "source": [
    "from sklearn.pipeline import Pipeline\n",
    "from sklearn.preprocessing import StandardScaler, PolynomialFeatures\n",
    "from sklearn.linear_model import LinearRegression, Lasso, Ridge, ElasticNet\n",
    "from sklearn.model_selection import cross_val_score, train_test_split, KFold\n",
    "from sklearn.metrics import r2_score, mean_absolute_error\n",
    "%matplotlib inline\n"
   ]
  },
  {
   "cell_type": "markdown",
   "metadata": {},
   "source": [
    "## 1. Research Question<a id='1'></a> \n",
    "\n",
    "* RQ. Can a model predict a movie adaptaion <sup>1</sup> international total gross revenue based on movie data available on boxofficemojo.com?\n",
    "* Data source: boxofficemojo.com \n",
    "* Error metric: mean_squared_error\n",
    "\n",
    "<sup>1</sup> Adapted from books, television shows, events, video games, or plays. \n"
   ]
  },
  {
   "cell_type": "markdown",
   "metadata": {},
   "source": [
    "## 2. Scraped [Movie Adaptations Data](https://github.com/slp22/regression-project/blob/main/adaptation_movies_webscraping.ipynb) \n"
   ]
  },
  {
   "cell_type": "markdown",
   "metadata": {},
   "source": [
    "## 3. Exporatory Data Analysis: [Movie Adaptations Dataframe](https://github.com/slp22/regression-project/blob/main/adaptation_movies_eda.ipynb) "
   ]
  },
  {
   "cell_type": "code",
   "execution_count": 3,
   "metadata": {},
   "outputs": [
    {
     "data": {
      "text/html": [
       "<div>\n",
       "<style scoped>\n",
       "    .dataframe tbody tr th:only-of-type {\n",
       "        vertical-align: middle;\n",
       "    }\n",
       "\n",
       "    .dataframe tbody tr th {\n",
       "        vertical-align: top;\n",
       "    }\n",
       "\n",
       "    .dataframe thead th {\n",
       "        text-align: right;\n",
       "    }\n",
       "</style>\n",
       "<table border=\"1\" class=\"dataframe\">\n",
       "  <thead>\n",
       "    <tr style=\"text-align: right;\">\n",
       "      <th></th>\n",
       "      <th>international_total_gross</th>\n",
       "      <th>domestic_total_gross</th>\n",
       "      <th>rank</th>\n",
       "      <th>movie_title</th>\n",
       "      <th>max_theaters</th>\n",
       "      <th>opening_theathers</th>\n",
       "      <th>worldwide_total_gross</th>\n",
       "      <th>domestic_opening</th>\n",
       "      <th>budget</th>\n",
       "      <th>release_date</th>\n",
       "      <th>runtime</th>\n",
       "      <th>distributor</th>\n",
       "      <th>genres</th>\n",
       "      <th>rating</th>\n",
       "    </tr>\n",
       "  </thead>\n",
       "  <tbody>\n",
       "    <tr>\n",
       "      <th>0</th>\n",
       "      <td>1119261396</td>\n",
       "      <td>543638043</td>\n",
       "      <td>6</td>\n",
       "      <td>The Lion King</td>\n",
       "      <td>4802.0</td>\n",
       "      <td>4725.0</td>\n",
       "      <td>1662899439</td>\n",
       "      <td>191770759</td>\n",
       "      <td>260000000</td>\n",
       "      <td>20190711</td>\n",
       "      <td>118.0</td>\n",
       "      <td>Walt Disney Studios Motion Pictures</td>\n",
       "      <td>Adventure Animation Drama Family Musical</td>\n",
       "      <td>PG</td>\n",
       "    </tr>\n",
       "  </tbody>\n",
       "</table>\n",
       "</div>"
      ],
      "text/plain": [
       "   international_total_gross  domestic_total_gross  rank    movie_title  \\\n",
       "0                 1119261396             543638043     6  The Lion King   \n",
       "\n",
       "   max_theaters  opening_theathers  worldwide_total_gross  domestic_opening  \\\n",
       "0        4802.0             4725.0             1662899439         191770759   \n",
       "\n",
       "      budget  release_date  runtime                          distributor  \\\n",
       "0  260000000      20190711    118.0  Walt Disney Studios Motion Pictures   \n",
       "\n",
       "                                     genres rating  \n",
       "0  Adventure Animation Drama Family Musical     PG  "
      ]
     },
     "execution_count": 3,
     "metadata": {},
     "output_type": "execute_result"
    }
   ],
   "source": [
    "movie_df = pd.read_csv('clean_df.csv')\n",
    "movie_df.drop(columns=['link_stub'], inplace=True)\n",
    "movie_df.head(1)"
   ]
  },
  {
   "cell_type": "code",
   "execution_count": null,
   "metadata": {},
   "outputs": [],
   "source": [
    "movie_df.describe()"
   ]
  },
  {
   "cell_type": "code",
   "execution_count": null,
   "metadata": {},
   "outputs": [],
   "source": [
    "# check for null values\n",
    "movie_df.isnull().sum()"
   ]
  },
  {
   "cell_type": "code",
   "execution_count": 4,
   "metadata": {},
   "outputs": [],
   "source": [
    "# drop null values\n",
    "movie_df.dropna(axis=0, how='any', inplace=True)"
   ]
  },
  {
   "cell_type": "code",
   "execution_count": null,
   "metadata": {},
   "outputs": [],
   "source": [
    "# double check for null values\n",
    "movie_df.isnull().sum()"
   ]
  },
  {
   "cell_type": "code",
   "execution_count": null,
   "metadata": {},
   "outputs": [],
   "source": [
    "movie_df.info()"
   ]
  },
  {
   "cell_type": "markdown",
   "metadata": {},
   "source": [
    "### 3a. Explore features correlation<a id='3a'></a> "
   ]
  },
  {
   "cell_type": "code",
   "execution_count": null,
   "metadata": {},
   "outputs": [],
   "source": [
    "sns.pairplot(movie_df, height=5, aspect=1.5);"
   ]
  },
  {
   "cell_type": "code",
   "execution_count": null,
   "metadata": {},
   "outputs": [],
   "source": [
    "# heatmap correlation matrix\n",
    "sns.heatmap(movie_df.corr(), cmap=\"seismic\", annot=True, vmin=-1, vmax=1);"
   ]
  },
  {
   "cell_type": "markdown",
   "metadata": {},
   "source": [
    "### Correlation Summary\n",
    "\n",
    "#### Target-Features\n",
    "*target = `international_total_gross`*\n",
    "* target correlated with (highest to lowest):\n",
    "    * `domestic_total_gross`\n",
    "    * `domestic_opening`\n",
    "    * `budget`\n",
    "    * `max_theaters`\n",
    "    * `opening_theathers`\n",
    "\n",
    "Target is highly correlated with `worldwide_total_gross`; has known multicollinearity as:<br/>\n",
    "`worldwide_total_gross` = `domestic_total_gross` + `international_total_gross`\n",
    "\n",
    "####  Features-Features: Positive Correlation\n",
    "* domestic_total_gross:\n",
    "    * `domestic_opening`\n",
    "    * `worldwide_total_gross`\n",
    "    * `budget`\n",
    "    * `max_theaters`\n",
    "    * `opening_theathers`\n",
    "* domestic_opening:<br/>\n",
    "    * `budget`\n",
    "    * `max_theaters`\n",
    "    * `opening_theathers`\n",
    "* max_theaters:\n",
    "    * `opening_theathers`\n",
    "    * `budget`\n",
    "    * `domestic_opening`\n",
    "\n",
    "####  Features-Features: Negative Correlation\n",
    "* rank:\n",
    "    * `domestic_total_gross`\n",
    "    * `max_theaters`\n",
    "    * `opening_theathers`\n",
    "    * `domestic_opening`\n",
    "    * `budget`\n",
    "    \n"
   ]
  },
  {
   "cell_type": "markdown",
   "metadata": {},
   "source": [
    "### 3b. Explore and handle categorical data<a id='3b'></a> "
   ]
  },
  {
   "cell_type": "code",
   "execution_count": null,
   "metadata": {},
   "outputs": [],
   "source": [
    "# explore genres as candidate for dummies\n",
    "print('Unique genres:', movie_df.genres.nunique())\n",
    "print('\\n')\n",
    "print('Genres counts\\n', movie_df['genres'].value_counts())\n",
    "# 👎 too many; look for other dummy variables. "
   ]
  },
  {
   "cell_type": "code",
   "execution_count": 5,
   "metadata": {},
   "outputs": [
    {
     "name": "stdout",
     "output_type": "stream",
     "text": [
      "Unique MPAA ratings: 4\n",
      "\n",
      "\n",
      "Rating counts\n",
      " PG13    304\n",
      "R       217\n",
      "PG      189\n",
      "G         8\n",
      "Name: rating, dtype: int64\n"
     ]
    }
   ],
   "source": [
    "# explore MPAA rating as candidate for dummies\n",
    "print('Unique MPAA ratings:', movie_df.rating.nunique())\n",
    "print('\\n')\n",
    "rating_count = movie_df['rating'].value_counts()\n",
    "print('Rating counts\\n', rating_count)\n",
    "# 👍 easy-to-use for dummy variables"
   ]
  },
  {
   "cell_type": "code",
   "execution_count": 6,
   "metadata": {},
   "outputs": [
    {
     "data": {
      "text/html": [
       "<div>\n",
       "<style scoped>\n",
       "    .dataframe tbody tr th:only-of-type {\n",
       "        vertical-align: middle;\n",
       "    }\n",
       "\n",
       "    .dataframe tbody tr th {\n",
       "        vertical-align: top;\n",
       "    }\n",
       "\n",
       "    .dataframe thead th {\n",
       "        text-align: right;\n",
       "    }\n",
       "</style>\n",
       "<table border=\"1\" class=\"dataframe\">\n",
       "  <thead>\n",
       "    <tr style=\"text-align: right;\">\n",
       "      <th></th>\n",
       "      <th>international_total_gross</th>\n",
       "      <th>domestic_total_gross</th>\n",
       "      <th>rank</th>\n",
       "      <th>movie_title</th>\n",
       "      <th>max_theaters</th>\n",
       "      <th>opening_theathers</th>\n",
       "      <th>worldwide_total_gross</th>\n",
       "      <th>domestic_opening</th>\n",
       "      <th>budget</th>\n",
       "      <th>release_date</th>\n",
       "      <th>runtime</th>\n",
       "      <th>distributor</th>\n",
       "      <th>genres</th>\n",
       "      <th>rating_PG</th>\n",
       "      <th>rating_PG13</th>\n",
       "      <th>rating_R</th>\n",
       "    </tr>\n",
       "  </thead>\n",
       "  <tbody>\n",
       "    <tr>\n",
       "      <th>0</th>\n",
       "      <td>1119261396</td>\n",
       "      <td>543638043</td>\n",
       "      <td>6</td>\n",
       "      <td>The Lion King</td>\n",
       "      <td>4802.0</td>\n",
       "      <td>4725.0</td>\n",
       "      <td>1662899439</td>\n",
       "      <td>191770759</td>\n",
       "      <td>260000000</td>\n",
       "      <td>20190711</td>\n",
       "      <td>118.0</td>\n",
       "      <td>Walt Disney Studios Motion Pictures</td>\n",
       "      <td>Adventure Animation Drama Family Musical</td>\n",
       "      <td>1</td>\n",
       "      <td>0</td>\n",
       "      <td>0</td>\n",
       "    </tr>\n",
       "  </tbody>\n",
       "</table>\n",
       "</div>"
      ],
      "text/plain": [
       "   international_total_gross  domestic_total_gross  rank    movie_title  \\\n",
       "0                 1119261396             543638043     6  The Lion King   \n",
       "\n",
       "   max_theaters  opening_theathers  worldwide_total_gross  domestic_opening  \\\n",
       "0        4802.0             4725.0             1662899439         191770759   \n",
       "\n",
       "      budget  release_date  runtime                          distributor  \\\n",
       "0  260000000      20190711    118.0  Walt Disney Studios Motion Pictures   \n",
       "\n",
       "                                     genres  rating_PG  rating_PG13  rating_R  \n",
       "0  Adventure Animation Drama Family Musical          1            0         0  "
      ]
     },
     "execution_count": 6,
     "metadata": {},
     "output_type": "execute_result"
    }
   ],
   "source": [
    "# get dummies for MPAA rating \n",
    "df_dummies_rating = pd.get_dummies(movie_df, columns=['rating'], drop_first=True)\n",
    "df_dummies_rating.head(2)\n",
    "movie_df = df_dummies_rating\n",
    "movie_df.head(1)"
   ]
  },
  {
   "cell_type": "code",
   "execution_count": 7,
   "metadata": {},
   "outputs": [
    {
     "name": "stdout",
     "output_type": "stream",
     "text": [
      "Unique distributors: 66\n",
      "\n",
      "\n",
      "Distributor count\n",
      " Warner Bros.                           123\n",
      "Twentieth Century Fox                   89\n",
      "Paramount Pictures                      88\n",
      "Walt Disney Studios Motion Pictures     73\n",
      "Universal Pictures                      68\n",
      "                                      ... \n",
      "Fox Atomic                               1\n",
      "United Artists Releasing                 1\n",
      "Pantelion Films                          1\n",
      "TriStar Pictures                         1\n",
      "Cinedigm Entertainment Group             1\n",
      "Name: distributor, Length: 66, dtype: int64\n"
     ]
    }
   ],
   "source": [
    "# explore distributor as candidate for dummies \n",
    "print('Unique distributors:', movie_df.distributor.nunique())\n",
    "print('\\n')\n",
    "distributor_count = movie_df['distributor'].value_counts()\n",
    "print('Distributor count\\n', distributor_count)\n",
    "# 👍 Reasonable amount, group lower frequencies into an other category."
   ]
  },
  {
   "cell_type": "code",
   "execution_count": 8,
   "metadata": {},
   "outputs": [
    {
     "data": {
      "text/html": [
       "<div>\n",
       "<style scoped>\n",
       "    .dataframe tbody tr th:only-of-type {\n",
       "        vertical-align: middle;\n",
       "    }\n",
       "\n",
       "    .dataframe tbody tr th {\n",
       "        vertical-align: top;\n",
       "    }\n",
       "\n",
       "    .dataframe thead th {\n",
       "        text-align: right;\n",
       "    }\n",
       "</style>\n",
       "<table border=\"1\" class=\"dataframe\">\n",
       "  <thead>\n",
       "    <tr style=\"text-align: right;\">\n",
       "      <th></th>\n",
       "      <th>international_total_gross</th>\n",
       "      <th>domestic_total_gross</th>\n",
       "      <th>rank</th>\n",
       "      <th>movie_title</th>\n",
       "      <th>max_theaters</th>\n",
       "      <th>opening_theathers</th>\n",
       "      <th>worldwide_total_gross</th>\n",
       "      <th>domestic_opening</th>\n",
       "      <th>budget</th>\n",
       "      <th>release_date</th>\n",
       "      <th>...</th>\n",
       "      <th>rating_PG</th>\n",
       "      <th>rating_PG13</th>\n",
       "      <th>rating_R</th>\n",
       "      <th>distributor_Paramount Pictures</th>\n",
       "      <th>distributor_Sony Pictures Entertainment (SPE)</th>\n",
       "      <th>distributor_Twentieth Century Fox</th>\n",
       "      <th>distributor_Universal Pictures</th>\n",
       "      <th>distributor_Walt Disney Studios Motion Pictures</th>\n",
       "      <th>distributor_Warner Bros.</th>\n",
       "      <th>distributor_other</th>\n",
       "    </tr>\n",
       "  </thead>\n",
       "  <tbody>\n",
       "    <tr>\n",
       "      <th>0</th>\n",
       "      <td>1119261396</td>\n",
       "      <td>543638043</td>\n",
       "      <td>6</td>\n",
       "      <td>The Lion King</td>\n",
       "      <td>4802.0</td>\n",
       "      <td>4725.0</td>\n",
       "      <td>1662899439</td>\n",
       "      <td>191770759</td>\n",
       "      <td>260000000</td>\n",
       "      <td>20190711</td>\n",
       "      <td>...</td>\n",
       "      <td>1</td>\n",
       "      <td>0</td>\n",
       "      <td>0</td>\n",
       "      <td>0</td>\n",
       "      <td>0</td>\n",
       "      <td>0</td>\n",
       "      <td>0</td>\n",
       "      <td>1</td>\n",
       "      <td>0</td>\n",
       "      <td>0</td>\n",
       "    </tr>\n",
       "  </tbody>\n",
       "</table>\n",
       "<p>1 rows × 22 columns</p>\n",
       "</div>"
      ],
      "text/plain": [
       "   international_total_gross  domestic_total_gross  rank    movie_title  \\\n",
       "0                 1119261396             543638043     6  The Lion King   \n",
       "\n",
       "   max_theaters  opening_theathers  worldwide_total_gross  domestic_opening  \\\n",
       "0        4802.0             4725.0             1662899439         191770759   \n",
       "\n",
       "      budget  release_date  ...  rating_PG rating_PG13  rating_R  \\\n",
       "0  260000000      20190711  ...          1           0         0   \n",
       "\n",
       "   distributor_Paramount Pictures  \\\n",
       "0                               0   \n",
       "\n",
       "   distributor_Sony Pictures Entertainment (SPE)  \\\n",
       "0                                              0   \n",
       "\n",
       "   distributor_Twentieth Century Fox  distributor_Universal Pictures  \\\n",
       "0                                  0                               0   \n",
       "\n",
       "   distributor_Walt Disney Studios Motion Pictures  distributor_Warner Bros.  \\\n",
       "0                                                1                         0   \n",
       "\n",
       "   distributor_other  \n",
       "0                  0  \n",
       "\n",
       "[1 rows x 22 columns]"
      ]
     },
     "execution_count": 8,
     "metadata": {},
     "output_type": "execute_result"
    }
   ],
   "source": [
    "# create distributor other category\n",
    "distributor_other = list(distributor_count[distributor_count < 20].index)\n",
    "movie_df['distributor'] = movie_df['distributor'].replace(distributor_other, 'other')\n",
    "\n",
    "# get dummies for distributor\n",
    "df_dummies_distributor = pd.get_dummies(movie_df, columns=['distributor'], drop_first=True)\n",
    "movie_df = df_dummies_distributor\n",
    "movie_df.head(1)"
   ]
  },
  {
   "cell_type": "code",
   "execution_count": null,
   "metadata": {},
   "outputs": [],
   "source": [
    "movie_df.columns"
   ]
  },
  {
   "cell_type": "markdown",
   "metadata": {},
   "source": [
    "[back to top](#top)"
   ]
  },
  {
   "cell_type": "markdown",
   "metadata": {},
   "source": [
    "## 4. Cross-Validation<a id='4'></a> "
   ]
  },
  {
   "cell_type": "code",
   "execution_count": 9,
   "metadata": {},
   "outputs": [],
   "source": [
    "# separate target from select features\n",
    "y = movie_df['international_total_gross']\n",
    "X = movie_df.loc[:,['domestic_total_gross', \n",
    "                    'domestic_opening', \n",
    "                    'budget',\n",
    "                    'max_theaters', \n",
    "                    'opening_theathers',\n",
    "                    'rank',\n",
    "                    'runtime',\n",
    "                    'release_date',\n",
    "                    'rating_PG', \n",
    "                    'rating_PG13',\n",
    "                    'rating_R',\n",
    "                    'distributor_Paramount Pictures',\n",
    "                    'distributor_Sony Pictures Entertainment (SPE)',\n",
    "                    'distributor_Twentieth Century Fox', \n",
    "                    'distributor_Universal Pictures',\n",
    "                    'distributor_Walt Disney Studios Motion Pictures',\n",
    "                    'distributor_Warner Bros.', \n",
    "                    'distributor_other']]"
   ]
  },
  {
   "cell_type": "code",
   "execution_count": 10,
   "metadata": {},
   "outputs": [],
   "source": [
    "# split test data set\n",
    "X_train, X_test, y_train, y_test = train_test_split(X, \n",
    "                                                    y, \n",
    "                                                    test_size=0.2, \n",
    "                                                    random_state=42)"
   ]
  },
  {
   "cell_type": "code",
   "execution_count": 11,
   "metadata": {},
   "outputs": [],
   "source": [
    "# set up k-folds \n",
    "kfold = KFold(n_splits=5, \n",
    "              shuffle=True, \n",
    "              random_state = 42)"
   ]
  },
  {
   "cell_type": "markdown",
   "metadata": {},
   "source": [
    "[back to top](#top)"
   ]
  },
  {
   "cell_type": "markdown",
   "metadata": {},
   "source": [
    "## 5. Modeling<a id='5'></a> "
   ]
  },
  {
   "cell_type": "code",
   "execution_count": 12,
   "metadata": {},
   "outputs": [
    {
     "name": "stdout",
     "output_type": "stream",
     "text": [
      "k-fold indivdual scores: [0.7486569  0.757162   0.86214297 0.72927468 0.74714238]\n",
      "linear regression k-fold mean score: 0.7688757853732312\n"
     ]
    },
    {
     "data": {
      "text/plain": [
       "LinearRegression()"
      ]
     },
     "execution_count": 12,
     "metadata": {},
     "output_type": "execute_result"
    }
   ],
   "source": [
    "# simple linear regression\n",
    "lin_reg = LinearRegression()\n",
    "\n",
    "scores = cross_val_score(lin_reg, X_train, y_train, cv=kfold)\n",
    "print('k-fold indivdual scores:', scores)\n",
    "print('linear regression k-fold mean score:', np.mean(scores))\n",
    "\n",
    "lin_reg.fit(X_train, y_train)"
   ]
  },
  {
   "cell_type": "code",
   "execution_count": null,
   "metadata": {},
   "outputs": [],
   "source": [
    "# train: fitted vs. actual\n",
    "y_train_predict = lin_reg.predict(X_train)\n",
    "\n",
    "plt.scatter(y_train, y_train_predict, alpha=0.2)\n",
    "plt.plot([0, 400], [0, 400])\n",
    "plt.title(\"Target: Predictions vs. Actual (train)\");"
   ]
  },
  {
   "cell_type": "code",
   "execution_count": null,
   "metadata": {},
   "outputs": [],
   "source": [
    "# test: fitted vs. actual\n",
    "y_test_predict = lin_reg.predict(X_test)\n",
    "\n",
    "plt.scatter(y_test, y_test_predict)\n",
    "plt.plot([0, 400], [0, 400])\n",
    "plt.title('Target: Predictions vs. Actual (test)');"
   ]
  },
  {
   "cell_type": "code",
   "execution_count": null,
   "metadata": {},
   "outputs": [],
   "source": [
    "# residuals vs. predicted\n",
    "lin_reg_residuals = y_train - y_train_predict\n",
    "\n",
    "plt.scatter(y_train_predict, lin_reg_residuals)\n",
    "plt.plot([0,400], [0, 0])\n",
    "plt.title(\"Residuals vs. Predicted\");"
   ]
  },
  {
   "cell_type": "markdown",
   "metadata": {},
   "source": [
    "## 6. Model Tuning<a id='6'></a> "
   ]
  },
  {
   "cell_type": "code",
   "execution_count": 13,
   "metadata": {},
   "outputs": [
    {
     "name": "stderr",
     "output_type": "stream",
     "text": [
      "/Users/sandraparedes/opt/anaconda3/lib/python3.8/site-packages/sklearn/base.py:443: UserWarning: X has feature names, but StandardScaler was fitted without feature names\n",
      "  warnings.warn(\n",
      "/Users/sandraparedes/opt/anaconda3/lib/python3.8/site-packages/sklearn/base.py:443: UserWarning: X has feature names, but StandardScaler was fitted without feature names\n",
      "  warnings.warn(\n"
     ]
    }
   ],
   "source": [
    "# standard-scaling features before regularization \n",
    "std = StandardScaler()\n",
    "std.fit(X_train.values)\n",
    "\n",
    "# apply scaler to train data\n",
    "X_train_std = std.transform(X_train)\n",
    "\n",
    "# apply scaler to test data\n",
    "X_test_std = std.transform(X_test)"
   ]
  },
  {
   "cell_type": "markdown",
   "metadata": {},
   "source": [
    "### 6a. Regularization<a id='6a'></a> "
   ]
  },
  {
   "cell_type": "code",
   "execution_count": 14,
   "metadata": {},
   "outputs": [
    {
     "data": {
      "text/plain": [
       "Lasso(alpha=1000)"
      ]
     },
     "execution_count": 14,
     "metadata": {},
     "output_type": "execute_result"
    }
   ],
   "source": [
    "# lasso model\n",
    "lasso_model = Lasso(alpha = 1000)\n",
    "lasso_model.fit(X_train_std, y_train)"
   ]
  },
  {
   "cell_type": "code",
   "execution_count": null,
   "metadata": {},
   "outputs": [],
   "source": [
    "list(zip(X_train.columns, lasso_model.coef_))"
   ]
  },
  {
   "cell_type": "code",
   "execution_count": 15,
   "metadata": {},
   "outputs": [
    {
     "data": {
      "text/plain": [
       "Ridge(alpha=1000)"
      ]
     },
     "execution_count": 15,
     "metadata": {},
     "output_type": "execute_result"
    }
   ],
   "source": [
    "# ridge model \n",
    "ridge_model = Ridge(alpha = 1000)\n",
    "ridge_model.fit(X_train_std, y_train)"
   ]
  },
  {
   "cell_type": "code",
   "execution_count": null,
   "metadata": {},
   "outputs": [],
   "source": [
    "list(zip(X_train.columns, ridge_model.coef_))"
   ]
  },
  {
   "cell_type": "code",
   "execution_count": 16,
   "metadata": {},
   "outputs": [
    {
     "data": {
      "text/plain": [
       "ElasticNet(alpha=1000, l1_ratio=1)"
      ]
     },
     "execution_count": 16,
     "metadata": {},
     "output_type": "execute_result"
    }
   ],
   "source": [
    "# elastic model \n",
    "elastic_model = ElasticNet(alpha = 1000, l1_ratio=1)\n",
    "elastic_model.fit(X_train_std, y_train)"
   ]
  },
  {
   "cell_type": "code",
   "execution_count": null,
   "metadata": {},
   "outputs": [],
   "source": [
    "list(zip(X_train.columns, elastic_model.coef_))"
   ]
  },
  {
   "cell_type": "code",
   "execution_count": 19,
   "metadata": {},
   "outputs": [
    {
     "name": "stdout",
     "output_type": "stream",
     "text": [
      "Linear Regression MAE on test: 45421099.61\n",
      "Lasso Regression MAE on test: 12129811269683776.00\n",
      "Ridge Regression MAE on test: 3929420110465276.50\n",
      "ElasticNet Regression MAE on test: 12129811269683776.00\n"
     ]
    },
    {
     "name": "stderr",
     "output_type": "stream",
     "text": [
      "/Users/sandraparedes/opt/anaconda3/lib/python3.8/site-packages/sklearn/base.py:443: UserWarning: X has feature names, but Lasso was fitted without feature names\n",
      "  warnings.warn(\n",
      "/Users/sandraparedes/opt/anaconda3/lib/python3.8/site-packages/sklearn/base.py:443: UserWarning: X has feature names, but Ridge was fitted without feature names\n",
      "  warnings.warn(\n",
      "/Users/sandraparedes/opt/anaconda3/lib/python3.8/site-packages/sklearn/base.py:443: UserWarning: X has feature names, but ElasticNet was fitted without feature names\n",
      "  warnings.warn(\n"
     ]
    }
   ],
   "source": [
    "y_pred = lin_reg.predict(X_test)\n",
    "print(f'Linear Regression MAE on test: {mean_absolute_error(y_test, y_pred):.2f}')\n",
    "\n",
    "y_pred = lasso_model.predict(X_test)\n",
    "print(f'Lasso Regression MAE on test: {mean_absolute_error(y_test, y_pred):.2f}')\n",
    "\n",
    "y_pred = ridge_model.predict(X_test)\n",
    "print(f'Ridge Regression MAE on test: {mean_absolute_error(y_test, y_pred):.2f}')\n",
    "\n",
    "y_pred = elastic_model.predict(X_test)\n",
    "print(f'ElasticNet Regression MAE on test: {mean_absolute_error(y_test, y_pred):.2f}')\n"
   ]
  },
  {
   "cell_type": "markdown",
   "metadata": {},
   "source": [
    "#### Linear Regression is the best model based on MAE (test): 45421099.61"
   ]
  },
  {
   "cell_type": "markdown",
   "metadata": {},
   "source": [
    "[back to top](#top)"
   ]
  },
  {
   "cell_type": "markdown",
   "metadata": {},
   "source": [
    "### 6b. Features engineering<a id='6b'></a> "
   ]
  },
  {
   "cell_type": "code",
   "execution_count": 20,
   "metadata": {},
   "outputs": [
    {
     "name": "stdout",
     "output_type": "stream",
     "text": [
      "count zeros in international_total_gross: 0\n",
      "count of zeros in domestic_total_gross: 0\n",
      "count of zeros in budget: 214\n",
      "count of zeros in domestic_opening: 1\n"
     ]
    }
   ],
   "source": [
    "# log transformation for monetary columns \n",
    "\n",
    "# check for zeros in columns before log transformation \n",
    "count = (movie_df['international_total_gross'] == 0).sum()\n",
    "print('count zeros in international_total_gross:', count)\n",
    "\n",
    "count = (movie_df['domestic_total_gross'] == 0).sum()\n",
    "print('count of zeros in domestic_total_gross:', count)\n",
    "\n",
    "count = (movie_df['budget'] == 0).sum()\n",
    "print('count of zeros in budget:', count)\n",
    "# budget: min $0, max $270,000,000\n",
    "# 👎 zeros throwing division-zero error; will not transform \n",
    "\n",
    "count = (movie_df['domestic_opening'] == 0).sum()\n",
    "print('count of zeros in domestic_opening:', count)\n",
    "# domestic_opening: min $0, max $191,770,800\n",
    "# 👎 zeros throwing division-zero error; will not transform \n",
    "\n",
    "\n",
    "# 👍 international_total_gross and domestic_total_gross\n",
    "# international_total_gross: min $98, max $1,119,261,000\n",
    "movie_df['log_international_total_gross'] = np.log(movie_df['international_total_gross'])\n",
    "\n",
    "# domestic_total_gross: min $742, max $543,638,043\n",
    "movie_df['log_domestic_total_gross'] = np.log(movie_df['domestic_total_gross'])\n"
   ]
  },
  {
   "cell_type": "code",
   "execution_count": 21,
   "metadata": {},
   "outputs": [],
   "source": [
    "# profit = domestic_total_gross - budget\n",
    "movie_df['profit'] = (movie_df['domestic_total_gross'] - movie_df['budget'])"
   ]
  },
  {
   "cell_type": "code",
   "execution_count": 22,
   "metadata": {},
   "outputs": [],
   "source": [
    "# opening = domestic_opening * opening_theathers\n",
    "movie_df['opening'] = (movie_df['domestic_opening'] * movie_df['opening_theathers'])"
   ]
  },
  {
   "cell_type": "code",
   "execution_count": 23,
   "metadata": {},
   "outputs": [],
   "source": [
    "# opening_minus_budget = domestic_opening * budget\n",
    "movie_df['opening_minus_budget'] = (movie_df['domestic_opening'] - movie_df['budget'])"
   ]
  },
  {
   "cell_type": "code",
   "execution_count": null,
   "metadata": {},
   "outputs": [],
   "source": [
    "movie_df.columns"
   ]
  },
  {
   "cell_type": "markdown",
   "metadata": {},
   "source": [
    "[back to top](#top)"
   ]
  },
  {
   "cell_type": "markdown",
   "metadata": {},
   "source": [
    "### 6c. Modeling with new features<a id='6c'></a> "
   ]
  },
  {
   "cell_type": "code",
   "execution_count": 90,
   "metadata": {},
   "outputs": [],
   "source": [
    "# separate target from new and original features\n",
    "y2 = movie_df['international_total_gross']\n",
    "X2 = movie_df.loc[:,['domestic_total_gross', \n",
    "                       'rank', \n",
    "                       'max_theaters', \n",
    "                       'opening_theathers',\n",
    "                       'domestic_opening', \n",
    "                       'budget', \n",
    "                       'release_date',\n",
    "                       'runtime', \n",
    "                       'rating_PG', \n",
    "                       'rating_PG13', \n",
    "                       'rating_R',\n",
    "                       'distributor_Paramount Pictures',\n",
    "                       'distributor_Sony Pictures Entertainment (SPE)',\n",
    "                       'distributor_Twentieth Century Fox', \n",
    "                       'distributor_Universal Pictures',\n",
    "                       'distributor_Walt Disney Studios Motion Pictures',\n",
    "                       'distributor_Warner Bros.', \n",
    "                       'distributor_other',\n",
    "                       'log_domestic_total_gross', \n",
    "                       'profit',\n",
    "                       'opening', \n",
    "                       'opening_minus_budget']]\n"
   ]
  },
  {
   "cell_type": "code",
   "execution_count": 91,
   "metadata": {},
   "outputs": [],
   "source": [
    "# split test data set\n",
    "X2_train, X2_test, y2_train, y2_test = train_test_split(X2, \n",
    "                                                        y2,\n",
    "                                                        test_size=0.2, \n",
    "                                                        random_state=42)\n"
   ]
  },
  {
   "cell_type": "code",
   "execution_count": 92,
   "metadata": {},
   "outputs": [
    {
     "name": "stderr",
     "output_type": "stream",
     "text": [
      "/Users/sandraparedes/opt/anaconda3/lib/python3.8/site-packages/sklearn/base.py:443: UserWarning: X has feature names, but StandardScaler was fitted without feature names\n",
      "  warnings.warn(\n",
      "/Users/sandraparedes/opt/anaconda3/lib/python3.8/site-packages/sklearn/base.py:443: UserWarning: X has feature names, but StandardScaler was fitted without feature names\n",
      "  warnings.warn(\n"
     ]
    }
   ],
   "source": [
    "# standard-scaling features before regularization \n",
    "std = StandardScaler()\n",
    "std.fit(X2_train.values)\n",
    "\n",
    "# apply scaler to train data\n",
    "X2_train_std = std.transform(X2_train)\n",
    "\n",
    "# apply scaler to test data\n",
    "X2_test_std = std.transform(X2_test)"
   ]
  },
  {
   "cell_type": "code",
   "execution_count": 93,
   "metadata": {},
   "outputs": [
    {
     "name": "stdout",
     "output_type": "stream",
     "text": [
      "k-fold indivdual scores: [0.75083639 0.76492941 0.86908528 0.71861819 0.74991625]\n",
      "linear regression2 k-fold mean score: 0.770677104563353\n"
     ]
    },
    {
     "data": {
      "text/plain": [
       "LinearRegression()"
      ]
     },
     "execution_count": 93,
     "metadata": {},
     "output_type": "execute_result"
    }
   ],
   "source": [
    "# simple linear regression + feature engineering\n",
    "lin_reg2 = LinearRegression()\n",
    "\n",
    "scores = cross_val_score(lin_reg2, X2_train, y2_train, cv=kfold)\n",
    "print('k-fold indivdual scores:', scores)\n",
    "print('linear regression2 k-fold mean score:', np.mean(scores))\n",
    "\n",
    "lin_reg2.fit(X2_train, y2_train)"
   ]
  },
  {
   "cell_type": "code",
   "execution_count": 64,
   "metadata": {},
   "outputs": [
    {
     "data": {
      "text/plain": [
       "Lasso(alpha=1000000)"
      ]
     },
     "execution_count": 64,
     "metadata": {},
     "output_type": "execute_result"
    }
   ],
   "source": [
    "# lasso model + feature engineering\n",
    "lasso_model2 = Lasso(alpha = 1000000)\n",
    "lasso_model2.fit(X2_train_std, y_train)"
   ]
  },
  {
   "cell_type": "code",
   "execution_count": 65,
   "metadata": {},
   "outputs": [
    {
     "data": {
      "text/plain": [
       "Ridge(alpha=1000)"
      ]
     },
     "execution_count": 65,
     "metadata": {},
     "output_type": "execute_result"
    }
   ],
   "source": [
    "# ridge model + feature engineering\n",
    "ridge_model2 = Ridge(alpha = 1000)\n",
    "ridge_model2.fit(X2_train_std, y2_train)\n"
   ]
  },
  {
   "cell_type": "code",
   "execution_count": 66,
   "metadata": {},
   "outputs": [
    {
     "data": {
      "text/plain": [
       "ElasticNet(alpha=1000000, l1_ratio=1)"
      ]
     },
     "execution_count": 66,
     "metadata": {},
     "output_type": "execute_result"
    }
   ],
   "source": [
    "# elastic model + feature engineering\n",
    "elastic_model2 = ElasticNet(alpha = 1000000, l1_ratio=1)\n",
    "elastic_model2.fit(X2_train_std, y2_train)\n"
   ]
  },
  {
   "cell_type": "code",
   "execution_count": 94,
   "metadata": {},
   "outputs": [
    {
     "name": "stdout",
     "output_type": "stream",
     "text": [
      "Linear Regression2 MAE on test: 44551278.66\n",
      "Lasso Regression2 MAE on test: 2706828793184118784.00\n",
      "Ridge Regression2 MAE on test: 1733925732366612480.00\n",
      "ElasticNet Regression2 MAE on test: 2706828793184118784.00\n"
     ]
    },
    {
     "name": "stderr",
     "output_type": "stream",
     "text": [
      "/Users/sandraparedes/opt/anaconda3/lib/python3.8/site-packages/sklearn/base.py:443: UserWarning: X has feature names, but Lasso was fitted without feature names\n",
      "  warnings.warn(\n",
      "/Users/sandraparedes/opt/anaconda3/lib/python3.8/site-packages/sklearn/base.py:443: UserWarning: X has feature names, but Ridge was fitted without feature names\n",
      "  warnings.warn(\n",
      "/Users/sandraparedes/opt/anaconda3/lib/python3.8/site-packages/sklearn/base.py:443: UserWarning: X has feature names, but ElasticNet was fitted without feature names\n",
      "  warnings.warn(\n"
     ]
    }
   ],
   "source": [
    "y2_pred = lin_reg2.predict(X2_test)\n",
    "print(f'Linear Regression2 MAE on test: {mean_absolute_error(y2_test, y2_pred):.2f}')\n",
    "\n",
    "y2_pred = lasso_model2.predict(X2_test)\n",
    "print(f'Lasso Regression2 MAE on test: {mean_absolute_error(y2_test, y2_pred):.2f}')\n",
    "\n",
    "y2_pred = ridge_model2.predict(X2_test)\n",
    "print(f'Ridge Regression2 MAE on test: {mean_absolute_error(y2_test, y2_pred):.2f}')\n",
    "\n",
    "y2_pred = elastic_model2.predict(X2_test)\n",
    "print(f'ElasticNet Regression2 MAE on test: {mean_absolute_error(y2_test, y2_pred):.2f}')"
   ]
  },
  {
   "cell_type": "code",
   "execution_count": null,
   "metadata": {},
   "outputs": [],
   "source": [
    "# Did feature engineering improve the models?\n",
    "\n",
    "# Linear Regression MAE on test: 45421099.61 👍 improved by 1314306.88\n",
    "\n",
    "# Lasso Regression MAE on test: 12129811269683776.00 👎 worsened by -2.87576E+18\n",
    "# Ridge Regression MAE on test: 3929420110465276.50 👎 worsened by -1.69279E+18\n",
    "# ElasticNet Regression MAE on test: 12129811269683776.00 👎 worsened by -9.16668E+18"
   ]
  },
  {
   "cell_type": "code",
   "execution_count": 105,
   "metadata": {},
   "outputs": [],
   "source": [
    "# separate target, drop some features\n",
    "y3 = movie_df['international_total_gross']\n",
    "X3 = movie_df.loc[:,['domestic_total_gross', \n",
    "#                        'rank', \n",
    "#                        'max_theaters', \n",
    "#                        'opening_theathers',\n",
    "                       'domestic_opening', \n",
    "                       'budget', \n",
    "#                        'release_date',\n",
    "#                        'runtime', \n",
    "#                        'rating_PG', \n",
    "#                        'rating_PG13', \n",
    "#                        'rating_R',\n",
    "#                        'distributor_Paramount Pictures',\n",
    "#                        'distributor_Sony Pictures Entertainment (SPE)',\n",
    "#                        'distributor_Twentieth Century Fox', \n",
    "#                        'distributor_Universal Pictures',\n",
    "#                        'distributor_Walt Disney Studios Motion Pictures',\n",
    "#                        'distributor_Warner Bros.', \n",
    "#                        'distributor_other', \n",
    "#                        'log_domestic_total_gross', \n",
    "                       'profit',\n",
    "                       'opening', \n",
    "                       'opening_minus_budget']]"
   ]
  },
  {
   "cell_type": "code",
   "execution_count": 106,
   "metadata": {},
   "outputs": [],
   "source": [
    "# split test data set\n",
    "X3_train, X3_test, y3_train, y3_test = train_test_split(X3, \n",
    "                                                        y3,\n",
    "                                                        test_size=0.2, \n",
    "                                                        random_state=42)\n"
   ]
  },
  {
   "cell_type": "code",
   "execution_count": 107,
   "metadata": {},
   "outputs": [
    {
     "name": "stdout",
     "output_type": "stream",
     "text": [
      "k-fold indivdual scores: [0.75422577 0.76969508 0.87822885 0.72482568 0.75221882]\n",
      "linear regression2 k-fold mean score: 0.7758388379753075\n"
     ]
    },
    {
     "data": {
      "text/plain": [
       "LinearRegression()"
      ]
     },
     "execution_count": 107,
     "metadata": {},
     "output_type": "execute_result"
    }
   ],
   "source": [
    "# simple linear regression minus features \n",
    "lin_reg3 = LinearRegression()\n",
    "\n",
    "scores = cross_val_score(lin_reg3, X3_train, y3_train, cv=kfold)\n",
    "print('k-fold indivdual scores:', scores)\n",
    "print('linear regression2 k-fold mean score:', np.mean(scores))\n",
    "\n",
    "lin_reg3.fit(X3_train, y3_train)"
   ]
  },
  {
   "cell_type": "code",
   "execution_count": 108,
   "metadata": {},
   "outputs": [
    {
     "name": "stdout",
     "output_type": "stream",
     "text": [
      "Linear Regression3 MAE on test: 42684088.39\n"
     ]
    }
   ],
   "source": [
    "y3_pred = lin_reg3.predict(X3_test)\n",
    "print(f'Linear Regression3 MAE on test: {mean_absolute_error(y3_test, y3_pred):.2f}')\n"
   ]
  },
  {
   "cell_type": "code",
   "execution_count": 109,
   "metadata": {},
   "outputs": [],
   "source": [
    "# Linear Regression2 MAE on test: 44551278.66 👍 improved by 1867190.27"
   ]
  },
  {
   "cell_type": "markdown",
   "metadata": {},
   "source": [
    "[back to top](#top)"
   ]
  },
  {
   "cell_type": "markdown",
   "metadata": {},
   "source": [
    "### 6d. Linear regression assumptions<a id='6d'></a> "
   ]
  },
  {
   "cell_type": "code",
   "execution_count": 110,
   "metadata": {},
   "outputs": [
    {
     "data": {
      "image/png": "[encoded data removed]",
      "text/plain": [
       "<Figure size 432x288 with 1 Axes>"
      ]
     },
     "metadata": {
      "needs_background": "light"
     },
     "output_type": "display_data"
    }
   ],
   "source": [
    "# residuals vs. predicted\n",
    "y3_predict = lin_reg3.predict(X3)\n",
    "residuals = y3 - y3_predict\n",
    "plt.scatter(y3_predict, residuals, alpha=0.2)\n",
    "plt.plot([0, 400], [0, 400])\n",
    "plt.title(\"Residuals vs. Predicted\")\n",
    "plt.xlabel(\"predictions\")\n",
    "plt.ylabel(\"residuals\");\n",
    "    "
   ]
  },
  {
   "cell_type": "code",
   "execution_count": 111,
   "metadata": {},
   "outputs": [
    {
     "data": {
      "image/png": "[encoded data removed]",
      "text/plain": [
       "<Figure size 432x288 with 1 Axes>"
      ]
     },
     "metadata": {
      "needs_background": "light"
     },
     "output_type": "display_data"
    }
   ],
   "source": [
    "# normal q-q plot = heavy-tailed \n",
    "y3_predict = lin_reg3.predict(X3)\n",
    "residuals = y3 - y3_predict\n",
    "stats.probplot(residuals, dist=\"norm\", plot=plt)\n",
    "plt.title(\"Normal Q-Q plot\")\n",
    "plt.xlabel(\"theoretical\")\n",
    "plt.ylabel(\"observed values\");\n",
    " "
   ]
  },
  {
   "cell_type": "code",
   "execution_count": 112,
   "metadata": {},
   "outputs": [
    {
     "data": {
      "image/png": "[encoded data removed]",
      "text/plain": [
       "<Figure size 432x288 with 1 Axes>"
      ]
     },
     "metadata": {
      "needs_background": "light"
     },
     "output_type": "display_data"
    }
   ],
   "source": [
    "# residuals not normally distributed \n",
    "movie_df.international_total_gross.hist(bins=10)\n",
    "plt.title('Histogram of Dependent Variable (international_total_gross)');"
   ]
  },
  {
   "cell_type": "markdown",
   "metadata": {},
   "source": [
    "[back to top](#top)"
   ]
  },
  {
   "cell_type": "markdown",
   "metadata": {},
   "source": [
    "## 7. Best Model<a id='7'></a> \n",
    "Fit best model on (train + val), score on test!"
   ]
  },
  {
   "cell_type": "markdown",
   "metadata": {},
   "source": [
    "[back to top](#top)"
   ]
  },
  {
   "cell_type": "markdown",
   "metadata": {},
   "source": [
    "## 8. Results<a id='8'></a> "
   ]
  },
  {
   "cell_type": "markdown",
   "metadata": {},
   "source": [
    "### 8a. Interpretability<a id='8a'></a> "
   ]
  },
  {
   "cell_type": "code",
   "execution_count": 113,
   "metadata": {},
   "outputs": [
    {
     "data": {
      "text/html": [
       "<table class=\"simpletable\">\n",
       "<caption>OLS Regression Results</caption>\n",
       "<tr>\n",
       "  <th>Dep. Variable:</th>    <td>international_total_gross</td> <th>  R-squared:         </th> <td>   0.792</td> \n",
       "</tr>\n",
       "<tr>\n",
       "  <th>Model:</th>                       <td>OLS</td>            <th>  Adj. R-squared:    </th> <td>   0.787</td> \n",
       "</tr>\n",
       "<tr>\n",
       "  <th>Method:</th>                 <td>Least Squares</td>       <th>  F-statistic:       </th> <td>   140.1</td> \n",
       "</tr>\n",
       "<tr>\n",
       "  <th>Date:</th>                 <td>Wed, 23 Mar 2022</td>      <th>  Prob (F-statistic):</th> <td>3.29e-223</td>\n",
       "</tr>\n",
       "<tr>\n",
       "  <th>Time:</th>                     <td>00:59:05</td>          <th>  Log-Likelihood:    </th> <td> -14014.</td> \n",
       "</tr>\n",
       "<tr>\n",
       "  <th>No. Observations:</th>          <td>   718</td>           <th>  AIC:               </th> <td>2.807e+04</td>\n",
       "</tr>\n",
       "<tr>\n",
       "  <th>Df Residuals:</th>              <td>   698</td>           <th>  BIC:               </th> <td>2.816e+04</td>\n",
       "</tr>\n",
       "<tr>\n",
       "  <th>Df Model:</th>                  <td>    19</td>           <th>                     </th>     <td> </td>    \n",
       "</tr>\n",
       "<tr>\n",
       "  <th>Covariance Type:</th>          <td>nonrobust</td>         <th>                     </th>     <td> </td>    \n",
       "</tr>\n",
       "</table>\n",
       "<table class=\"simpletable\">\n",
       "<tr>\n",
       "                         <td></td>                            <th>coef</th>     <th>std err</th>      <th>t</th>      <th>P>|t|</th>  <th>[0.025</th>    <th>0.975]</th>  \n",
       "</tr>\n",
       "<tr>\n",
       "  <th>domestic_total_gross</th>                            <td>    0.4358</td> <td>    0.159</td> <td>    2.742</td> <td> 0.006</td> <td>    0.124</td> <td>    0.748</td>\n",
       "</tr>\n",
       "<tr>\n",
       "  <th>rank</th>                                            <td> 3.317e+04</td> <td> 3.49e+04</td> <td>    0.951</td> <td> 0.342</td> <td>-3.53e+04</td> <td> 1.02e+05</td>\n",
       "</tr>\n",
       "<tr>\n",
       "  <th>max_theaters</th>                                    <td> 5575.7299</td> <td> 1.45e+04</td> <td>    0.385</td> <td> 0.700</td> <td>-2.29e+04</td> <td>  3.4e+04</td>\n",
       "</tr>\n",
       "<tr>\n",
       "  <th>opening_theathers</th>                               <td> -471.6080</td> <td> 1.17e+04</td> <td>   -0.040</td> <td> 0.968</td> <td>-2.34e+04</td> <td> 2.25e+04</td>\n",
       "</tr>\n",
       "<tr>\n",
       "  <th>domestic_opening</th>                                <td>   -1.9077</td> <td>    0.708</td> <td>   -2.695</td> <td> 0.007</td> <td>   -3.297</td> <td>   -0.518</td>\n",
       "</tr>\n",
       "<tr>\n",
       "  <th>budget</th>                                          <td>    0.1937</td> <td>    0.357</td> <td>    0.542</td> <td> 0.588</td> <td>   -0.508</td> <td>    0.895</td>\n",
       "</tr>\n",
       "<tr>\n",
       "  <th>release_date</th>                                    <td>   -4.9679</td> <td>    3.792</td> <td>   -1.310</td> <td> 0.191</td> <td>  -12.413</td> <td>    2.477</td>\n",
       "</tr>\n",
       "<tr>\n",
       "  <th>runtime</th>                                         <td> 5.263e+05</td> <td> 1.88e+05</td> <td>    2.802</td> <td> 0.005</td> <td> 1.58e+05</td> <td> 8.95e+05</td>\n",
       "</tr>\n",
       "<tr>\n",
       "  <th>rating_PG</th>                                       <td> 1.279e+07</td> <td> 2.68e+07</td> <td>    0.478</td> <td> 0.633</td> <td>-3.98e+07</td> <td> 6.54e+07</td>\n",
       "</tr>\n",
       "<tr>\n",
       "  <th>rating_PG13</th>                                     <td> 1.486e+07</td> <td>  2.7e+07</td> <td>    0.549</td> <td> 0.583</td> <td>-3.83e+07</td> <td>  6.8e+07</td>\n",
       "</tr>\n",
       "<tr>\n",
       "  <th>rating_R</th>                                        <td> 1.571e+07</td> <td> 2.73e+07</td> <td>    0.576</td> <td> 0.565</td> <td>-3.79e+07</td> <td> 6.93e+07</td>\n",
       "</tr>\n",
       "<tr>\n",
       "  <th>distributor_Paramount Pictures</th>                  <td> 1.865e+07</td> <td> 1.67e+07</td> <td>    1.114</td> <td> 0.266</td> <td>-1.42e+07</td> <td> 5.15e+07</td>\n",
       "</tr>\n",
       "<tr>\n",
       "  <th>distributor_Sony Pictures Entertainment (SPE)</th>   <td> 3.295e+07</td> <td> 1.74e+07</td> <td>    1.894</td> <td> 0.059</td> <td> -1.2e+06</td> <td> 6.71e+07</td>\n",
       "</tr>\n",
       "<tr>\n",
       "  <th>distributor_Twentieth Century Fox</th>               <td> 3.625e+07</td> <td> 1.67e+07</td> <td>    2.177</td> <td> 0.030</td> <td> 3.56e+06</td> <td> 6.89e+07</td>\n",
       "</tr>\n",
       "<tr>\n",
       "  <th>distributor_Universal Pictures</th>                  <td> 1.917e+07</td> <td> 1.72e+07</td> <td>    1.117</td> <td> 0.264</td> <td>-1.45e+07</td> <td> 5.29e+07</td>\n",
       "</tr>\n",
       "<tr>\n",
       "  <th>distributor_Walt Disney Studios Motion Pictures</th> <td> 3.327e+07</td> <td> 1.73e+07</td> <td>    1.919</td> <td> 0.055</td> <td>-7.67e+05</td> <td> 6.73e+07</td>\n",
       "</tr>\n",
       "<tr>\n",
       "  <th>distributor_Warner Bros.</th>                        <td> 2.339e+07</td> <td>  1.6e+07</td> <td>    1.460</td> <td> 0.145</td> <td>-8.06e+06</td> <td> 5.48e+07</td>\n",
       "</tr>\n",
       "<tr>\n",
       "  <th>distributor_other</th>                               <td>  2.42e+07</td> <td> 1.56e+07</td> <td>    1.555</td> <td> 0.120</td> <td>-6.36e+06</td> <td> 5.48e+07</td>\n",
       "</tr>\n",
       "<tr>\n",
       "  <th>log_domestic_total_gross</th>                        <td>-1.864e+06</td> <td> 3.48e+06</td> <td>   -0.535</td> <td> 0.593</td> <td> -8.7e+06</td> <td> 4.97e+06</td>\n",
       "</tr>\n",
       "<tr>\n",
       "  <th>profit</th>                                          <td>    0.8556</td> <td>    0.158</td> <td>    5.400</td> <td> 0.000</td> <td>    0.544</td> <td>    1.167</td>\n",
       "</tr>\n",
       "<tr>\n",
       "  <th>opening</th>                                         <td>    0.0008</td> <td>    0.000</td> <td>    3.307</td> <td> 0.001</td> <td>    0.000</td> <td>    0.001</td>\n",
       "</tr>\n",
       "<tr>\n",
       "  <th>opening_minus_budget</th>                            <td>   -1.0231</td> <td>    0.448</td> <td>   -2.286</td> <td> 0.023</td> <td>   -1.902</td> <td>   -0.144</td>\n",
       "</tr>\n",
       "</table>\n",
       "<table class=\"simpletable\">\n",
       "<tr>\n",
       "  <th>Omnibus:</th>       <td>183.234</td> <th>  Durbin-Watson:     </th> <td>   2.145</td>\n",
       "</tr>\n",
       "<tr>\n",
       "  <th>Prob(Omnibus):</th> <td> 0.000</td>  <th>  Jarque-Bera (JB):  </th> <td>1475.307</td>\n",
       "</tr>\n",
       "<tr>\n",
       "  <th>Skew:</th>          <td> 0.908</td>  <th>  Prob(JB):          </th> <td>    0.00</td>\n",
       "</tr>\n",
       "<tr>\n",
       "  <th>Kurtosis:</th>      <td> 9.784</td>  <th>  Cond. No.          </th> <td>2.74e+19</td>\n",
       "</tr>\n",
       "</table><br/><br/>Notes:<br/>[1] Standard Errors assume that the covariance matrix of the errors is correctly specified.<br/>[2] The smallest eigenvalue is 2.29e-14. This might indicate that there are<br/>strong multicollinearity problems or that the design matrix is singular."
      ],
      "text/plain": [
       "<class 'statsmodels.iolib.summary.Summary'>\n",
       "\"\"\"\n",
       "                                OLS Regression Results                               \n",
       "=====================================================================================\n",
       "Dep. Variable:     international_total_gross   R-squared:                       0.792\n",
       "Model:                                   OLS   Adj. R-squared:                  0.787\n",
       "Method:                        Least Squares   F-statistic:                     140.1\n",
       "Date:                       Wed, 23 Mar 2022   Prob (F-statistic):          3.29e-223\n",
       "Time:                               00:59:05   Log-Likelihood:                -14014.\n",
       "No. Observations:                        718   AIC:                         2.807e+04\n",
       "Df Residuals:                            698   BIC:                         2.816e+04\n",
       "Df Model:                                 19                                         \n",
       "Covariance Type:                   nonrobust                                         \n",
       "===================================================================================================================\n",
       "                                                      coef    std err          t      P>|t|      [0.025      0.975]\n",
       "-------------------------------------------------------------------------------------------------------------------\n",
       "domestic_total_gross                                0.4358      0.159      2.742      0.006       0.124       0.748\n",
       "rank                                             3.317e+04   3.49e+04      0.951      0.342   -3.53e+04    1.02e+05\n",
       "max_theaters                                     5575.7299   1.45e+04      0.385      0.700   -2.29e+04     3.4e+04\n",
       "opening_theathers                                -471.6080   1.17e+04     -0.040      0.968   -2.34e+04    2.25e+04\n",
       "domestic_opening                                   -1.9077      0.708     -2.695      0.007      -3.297      -0.518\n",
       "budget                                              0.1937      0.357      0.542      0.588      -0.508       0.895\n",
       "release_date                                       -4.9679      3.792     -1.310      0.191     -12.413       2.477\n",
       "runtime                                          5.263e+05   1.88e+05      2.802      0.005    1.58e+05    8.95e+05\n",
       "rating_PG                                        1.279e+07   2.68e+07      0.478      0.633   -3.98e+07    6.54e+07\n",
       "rating_PG13                                      1.486e+07    2.7e+07      0.549      0.583   -3.83e+07     6.8e+07\n",
       "rating_R                                         1.571e+07   2.73e+07      0.576      0.565   -3.79e+07    6.93e+07\n",
       "distributor_Paramount Pictures                   1.865e+07   1.67e+07      1.114      0.266   -1.42e+07    5.15e+07\n",
       "distributor_Sony Pictures Entertainment (SPE)    3.295e+07   1.74e+07      1.894      0.059    -1.2e+06    6.71e+07\n",
       "distributor_Twentieth Century Fox                3.625e+07   1.67e+07      2.177      0.030    3.56e+06    6.89e+07\n",
       "distributor_Universal Pictures                   1.917e+07   1.72e+07      1.117      0.264   -1.45e+07    5.29e+07\n",
       "distributor_Walt Disney Studios Motion Pictures  3.327e+07   1.73e+07      1.919      0.055   -7.67e+05    6.73e+07\n",
       "distributor_Warner Bros.                         2.339e+07    1.6e+07      1.460      0.145   -8.06e+06    5.48e+07\n",
       "distributor_other                                 2.42e+07   1.56e+07      1.555      0.120   -6.36e+06    5.48e+07\n",
       "log_domestic_total_gross                        -1.864e+06   3.48e+06     -0.535      0.593    -8.7e+06    4.97e+06\n",
       "profit                                              0.8556      0.158      5.400      0.000       0.544       1.167\n",
       "opening                                             0.0008      0.000      3.307      0.001       0.000       0.001\n",
       "opening_minus_budget                               -1.0231      0.448     -2.286      0.023      -1.902      -0.144\n",
       "==============================================================================\n",
       "Omnibus:                      183.234   Durbin-Watson:                   2.145\n",
       "Prob(Omnibus):                  0.000   Jarque-Bera (JB):             1475.307\n",
       "Skew:                           0.908   Prob(JB):                         0.00\n",
       "Kurtosis:                       9.784   Cond. No.                     2.74e+19\n",
       "==============================================================================\n",
       "\n",
       "Notes:\n",
       "[1] Standard Errors assume that the covariance matrix of the errors is correctly specified.\n",
       "[2] The smallest eigenvalue is 2.29e-14. This might indicate that there are\n",
       "strong multicollinearity problems or that the design matrix is singular.\n",
       "\"\"\""
      ]
     },
     "execution_count": 113,
     "metadata": {},
     "output_type": "execute_result"
    }
   ],
   "source": [
    "# Coefficients, what are the top predictors\n",
    "lin_reg2 = sm.OLS(y2, X2)\n",
    "fit2 = lin_reg2.fit()\n",
    "fit2.summary()"
   ]
  },
  {
   "cell_type": "code",
   "execution_count": 116,
   "metadata": {},
   "outputs": [
    {
     "data": {
      "text/html": [
       "<table class=\"simpletable\">\n",
       "<caption>OLS Regression Results</caption>\n",
       "<tr>\n",
       "  <th>Dep. Variable:</th>    <td>international_total_gross</td> <th>  R-squared (uncentered):</th>      <td>   0.520</td> \n",
       "</tr>\n",
       "<tr>\n",
       "  <th>Model:</th>                       <td>OLS</td>            <th>  Adj. R-squared (uncentered):</th> <td>   0.518</td> \n",
       "</tr>\n",
       "<tr>\n",
       "  <th>Method:</th>                 <td>Least Squares</td>       <th>  F-statistic:       </th>          <td>   193.7</td> \n",
       "</tr>\n",
       "<tr>\n",
       "  <th>Date:</th>                 <td>Wed, 23 Mar 2022</td>      <th>  Prob (F-statistic):</th>          <td>2.25e-112</td>\n",
       "</tr>\n",
       "<tr>\n",
       "  <th>Time:</th>                     <td>01:02:16</td>          <th>  Log-Likelihood:    </th>          <td> -14023.</td> \n",
       "</tr>\n",
       "<tr>\n",
       "  <th>No. Observations:</th>          <td>   718</td>           <th>  AIC:               </th>          <td>2.805e+04</td>\n",
       "</tr>\n",
       "<tr>\n",
       "  <th>Df Residuals:</th>              <td>   714</td>           <th>  BIC:               </th>          <td>2.807e+04</td>\n",
       "</tr>\n",
       "<tr>\n",
       "  <th>Df Model:</th>                  <td>     4</td>           <th>                     </th>              <td> </td>    \n",
       "</tr>\n",
       "<tr>\n",
       "  <th>Covariance Type:</th>          <td>nonrobust</td>         <th>                     </th>              <td> </td>    \n",
       "</tr>\n",
       "</table>\n",
       "<table class=\"simpletable\">\n",
       "<tr>\n",
       "            <td></td>              <th>coef</th>     <th>std err</th>      <th>t</th>      <th>P>|t|</th>  <th>[0.025</th>    <th>0.975]</th>  \n",
       "</tr>\n",
       "<tr>\n",
       "  <th>domestic_total_gross</th> <td>    0.3744</td> <td>    0.067</td> <td>    5.627</td> <td> 0.000</td> <td>    0.244</td> <td>    0.505</td>\n",
       "</tr>\n",
       "<tr>\n",
       "  <th>domestic_opening</th>     <td>   -2.2173</td> <td>    0.435</td> <td>   -5.091</td> <td> 0.000</td> <td>   -3.072</td> <td>   -1.362</td>\n",
       "</tr>\n",
       "<tr>\n",
       "  <th>budget</th>               <td>   -0.4872</td> <td>    0.160</td> <td>   -3.042</td> <td> 0.002</td> <td>   -0.802</td> <td>   -0.173</td>\n",
       "</tr>\n",
       "<tr>\n",
       "  <th>profit</th>               <td>    0.8617</td> <td>    0.112</td> <td>    7.704</td> <td> 0.000</td> <td>    0.642</td> <td>    1.081</td>\n",
       "</tr>\n",
       "<tr>\n",
       "  <th>opening</th>              <td>    0.0011</td> <td>    0.000</td> <td>    7.401</td> <td> 0.000</td> <td>    0.001</td> <td>    0.001</td>\n",
       "</tr>\n",
       "<tr>\n",
       "  <th>opening_minus_budget</th> <td>   -1.7300</td> <td>    0.278</td> <td>   -6.223</td> <td> 0.000</td> <td>   -2.276</td> <td>   -1.184</td>\n",
       "</tr>\n",
       "</table>\n",
       "<table class=\"simpletable\">\n",
       "<tr>\n",
       "  <th>Omnibus:</th>       <td>188.185</td> <th>  Durbin-Watson:     </th> <td>   2.146</td>\n",
       "</tr>\n",
       "<tr>\n",
       "  <th>Prob(Omnibus):</th> <td> 0.000</td>  <th>  Jarque-Bera (JB):  </th> <td>1508.755</td>\n",
       "</tr>\n",
       "<tr>\n",
       "  <th>Skew:</th>          <td> 0.941</td>  <th>  Prob(JB):          </th> <td>    0.00</td>\n",
       "</tr>\n",
       "<tr>\n",
       "  <th>Kurtosis:</th>      <td> 9.848</td>  <th>  Cond. No.          </th> <td>3.18e+19</td>\n",
       "</tr>\n",
       "</table><br/><br/>Notes:<br/>[1] R² is computed without centering (uncentered) since the model does not contain a constant.<br/>[2] Standard Errors assume that the covariance matrix of the errors is correctly specified.<br/>[3] The smallest eigenvalue is 1.71e-14. This might indicate that there are<br/>strong multicollinearity problems or that the design matrix is singular."
      ],
      "text/plain": [
       "<class 'statsmodels.iolib.summary.Summary'>\n",
       "\"\"\"\n",
       "                                    OLS Regression Results                                    \n",
       "==============================================================================================\n",
       "Dep. Variable:     international_total_gross   R-squared (uncentered):                   0.520\n",
       "Model:                                   OLS   Adj. R-squared (uncentered):              0.518\n",
       "Method:                        Least Squares   F-statistic:                              193.7\n",
       "Date:                       Wed, 23 Mar 2022   Prob (F-statistic):                   2.25e-112\n",
       "Time:                               01:02:16   Log-Likelihood:                         -14023.\n",
       "No. Observations:                        718   AIC:                                  2.805e+04\n",
       "Df Residuals:                            714   BIC:                                  2.807e+04\n",
       "Df Model:                                  4                                                  \n",
       "Covariance Type:                   nonrobust                                                  \n",
       "========================================================================================\n",
       "                           coef    std err          t      P>|t|      [0.025      0.975]\n",
       "----------------------------------------------------------------------------------------\n",
       "domestic_total_gross     0.3744      0.067      5.627      0.000       0.244       0.505\n",
       "domestic_opening        -2.2173      0.435     -5.091      0.000      -3.072      -1.362\n",
       "budget                  -0.4872      0.160     -3.042      0.002      -0.802      -0.173\n",
       "profit                   0.8617      0.112      7.704      0.000       0.642       1.081\n",
       "opening                  0.0011      0.000      7.401      0.000       0.001       0.001\n",
       "opening_minus_budget    -1.7300      0.278     -6.223      0.000      -2.276      -1.184\n",
       "==============================================================================\n",
       "Omnibus:                      188.185   Durbin-Watson:                   2.146\n",
       "Prob(Omnibus):                  0.000   Jarque-Bera (JB):             1508.755\n",
       "Skew:                           0.941   Prob(JB):                         0.00\n",
       "Kurtosis:                       9.848   Cond. No.                     3.18e+19\n",
       "==============================================================================\n",
       "\n",
       "Notes:\n",
       "[1] R² is computed without centering (uncentered) since the model does not contain a constant.\n",
       "[2] Standard Errors assume that the covariance matrix of the errors is correctly specified.\n",
       "[3] The smallest eigenvalue is 1.71e-14. This might indicate that there are\n",
       "strong multicollinearity problems or that the design matrix is singular.\n",
       "\"\"\""
      ]
     },
     "execution_count": 116,
     "metadata": {},
     "output_type": "execute_result"
    }
   ],
   "source": [
    "# lin_reg3 has worse adjusted R^2 compared to lin_reg2, despite removing features based on p-values\n",
    "lin_reg3 = sm.OLS(y3, X3)\n",
    "fit3 = lin_reg3.fit()\n",
    "fit3.summary()"
   ]
  },
  {
   "cell_type": "markdown",
   "metadata": {},
   "source": [
    "### 8b. Predictions<a id='8b'></a> "
   ]
  },
  {
   "cell_type": "code",
   "execution_count": null,
   "metadata": {},
   "outputs": [],
   "source": [
    "# Make a prediction for a new value, does it make sense?"
   ]
  },
  {
   "cell_type": "code",
   "execution_count": null,
   "metadata": {},
   "outputs": [],
   "source": []
  },
  {
   "cell_type": "code",
   "execution_count": null,
   "metadata": {},
   "outputs": [],
   "source": []
  },
  {
   "cell_type": "markdown",
   "metadata": {},
   "source": [
    "Slides, article, and code available at: https://github.com/slp22/regression-project"
   ]
  },
  {
   "cell_type": "markdown",
   "metadata": {},
   "source": [
    "[back top top](#top)"
   ]
  }
 ],
 "metadata": {
  "kernelspec": {
   "display_name": "Python 3 (ipykernel)",
   "language": "python",
   "name": "python3"
  },
  "language_info": {
   "codemirror_mode": {
    "name": "ipython",
    "version": 3
   },
   "file_extension": ".py",
   "mimetype": "text/x-python",
   "name": "python",
   "nbconvert_exporter": "python",
   "pygments_lexer": "ipython3",
   "version": "3.8.12"
  },
  "toc": {
   "base_numbering": 1,
   "nav_menu": {},
   "number_sections": false,
   "sideBar": true,
   "skip_h1_title": false,
   "title_cell": "Table of Contents",
   "title_sidebar": "Contents",
   "toc_cell": false,
   "toc_position": {
    "height": "calc(100% - 180px)",
    "left": "10px",
    "top": "150px",
    "width": "288px"
   },
   "toc_section_display": true,
   "toc_window_display": true
  }
 },
 "nbformat": 4,
 "nbformat_minor": 4
}
