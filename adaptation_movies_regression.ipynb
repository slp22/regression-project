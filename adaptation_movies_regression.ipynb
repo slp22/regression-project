{
 "cells": [
  {
   "cell_type": "markdown",
   "metadata": {},
   "source": [
    "# Exporting American Movie Box Office Hits "
   ]
  },
  {
   "cell_type": "markdown",
   "metadata": {},
   "source": [
    "### Regresssion Model Stepwise Analysis <a id='top'></a> \n",
    "\n",
    "1. [Research Question](#1)<br/>\n",
    "2. [Scraped: Movie Adaptations Data](#2) <br/>\n",
    "3. [Exporatory Data Analysis: Movie Adaptations Dataframe](#3)<br/>\n",
    "   [3a. Explore features correlation](#3a)<br/>\n",
    "   [3b. Explore and handle categorical data](#3b)<br/>\n",
    "4. [Cross-Validation](#4)<br/>\n",
    "5. [Modeling](#5)<br/>\n",
    "6. [Model Tuning](#6) <br/>\n",
    "   [6a. Regularization](#6a)<br/>\n",
    "   [6b. Features engineering](#6b)<br/>\n",
    "   [6c. Modeling with new features](#6c)<br/> \n",
    "   [6d. Linear regression assumptions](#6d)<br/>\n",
    "7. [Best Model ](#7)<br/>\n",
    "8. [Results](#8)<br/>\n",
    "   [8a. Interpretability](#8a)<br/>\n",
    "   [8b. Predictions](#8b)<br/>"
   ]
  },
  {
   "cell_type": "code",
   "execution_count": 1,
   "metadata": {},
   "outputs": [],
   "source": [
    "import pandas as pd\n",
    "import numpy as np\n",
    "import sklearn\n",
    "import statsmodels.api as sm\n",
    "import statsmodels.formula.api as smf\n",
    "import pylab as py\n",
    "import seaborn as sns\n",
    "import matplotlib.pyplot as plt\n",
    "import scipy.stats as stats\n",
    "\n"
   ]
  },
  {
   "cell_type": "code",
   "execution_count": 80,
   "metadata": {},
   "outputs": [],
   "source": [
    "from sklearn.pipeline import Pipeline\n",
    "from sklearn.preprocessing import StandardScaler, PolynomialFeatures\n",
    "from sklearn.linear_model import LinearRegression, Lasso, Ridge, ElasticNet\n",
    "from sklearn.model_selection import cross_val_score, train_test_split, KFold\n",
    "from sklearn.metrics import r2_score, mean_absolute_error\n",
    "%matplotlib inline\n"
   ]
  },
  {
   "cell_type": "markdown",
   "metadata": {},
   "source": [
    "## 1. Research Question<a id='1'></a> \n",
    "\n",
    "* RQ. Can a model predict a movie adaptaion <sup>1</sup> international total gross revenue based on movie data available on boxofficemojo.com?\n",
    "* Data source: boxofficemojo.com \n",
    "* Error metric: mean_squared_error\n",
    "\n",
    "<sup>1</sup> Adapted from books, television shows, events, video games, or plays. \n"
   ]
  },
  {
   "cell_type": "markdown",
   "metadata": {},
   "source": [
    "## 2. Scraped [Movie Adaptations Data](https://github.com/slp22/regression-project/blob/main/adaptation_movies_webscraping.ipynb) \n"
   ]
  },
  {
   "cell_type": "markdown",
   "metadata": {},
   "source": [
    "## 3. Exporatory Data Analysis: [Movie Adaptations Dataframe](https://github.com/slp22/regression-project/blob/main/adaptation_movies_eda.ipynb) "
   ]
  },
  {
   "cell_type": "code",
   "execution_count": 3,
   "metadata": {},
   "outputs": [
    {
     "data": {
      "text/html": [
       "<div>\n",
       "<style scoped>\n",
       "    .dataframe tbody tr th:only-of-type {\n",
       "        vertical-align: middle;\n",
       "    }\n",
       "\n",
       "    .dataframe tbody tr th {\n",
       "        vertical-align: top;\n",
       "    }\n",
       "\n",
       "    .dataframe thead th {\n",
       "        text-align: right;\n",
       "    }\n",
       "</style>\n",
       "<table border=\"1\" class=\"dataframe\">\n",
       "  <thead>\n",
       "    <tr style=\"text-align: right;\">\n",
       "      <th></th>\n",
       "      <th>international_total_gross</th>\n",
       "      <th>domestic_total_gross</th>\n",
       "      <th>rank</th>\n",
       "      <th>movie_title</th>\n",
       "      <th>max_theaters</th>\n",
       "      <th>opening_theathers</th>\n",
       "      <th>worldwide_total_gross</th>\n",
       "      <th>domestic_opening</th>\n",
       "      <th>budget</th>\n",
       "      <th>release_date</th>\n",
       "      <th>runtime</th>\n",
       "      <th>distributor</th>\n",
       "      <th>genres</th>\n",
       "      <th>rating</th>\n",
       "    </tr>\n",
       "  </thead>\n",
       "  <tbody>\n",
       "    <tr>\n",
       "      <th>0</th>\n",
       "      <td>1119261396</td>\n",
       "      <td>543638043</td>\n",
       "      <td>6</td>\n",
       "      <td>The Lion King</td>\n",
       "      <td>4802.0</td>\n",
       "      <td>4725.0</td>\n",
       "      <td>1662899439</td>\n",
       "      <td>191770759</td>\n",
       "      <td>260000000</td>\n",
       "      <td>20190711</td>\n",
       "      <td>118.0</td>\n",
       "      <td>Walt Disney Studios Motion Pictures</td>\n",
       "      <td>Adventure Animation Drama Family Musical</td>\n",
       "      <td>PG</td>\n",
       "    </tr>\n",
       "  </tbody>\n",
       "</table>\n",
       "</div>"
      ],
      "text/plain": [
       "   international_total_gross  domestic_total_gross  rank    movie_title  \\\n",
       "0                 1119261396             543638043     6  The Lion King   \n",
       "\n",
       "   max_theaters  opening_theathers  worldwide_total_gross  domestic_opening  \\\n",
       "0        4802.0             4725.0             1662899439         191770759   \n",
       "\n",
       "      budget  release_date  runtime                          distributor  \\\n",
       "0  260000000      20190711    118.0  Walt Disney Studios Motion Pictures   \n",
       "\n",
       "                                     genres rating  \n",
       "0  Adventure Animation Drama Family Musical     PG  "
      ]
     },
     "execution_count": 3,
     "metadata": {},
     "output_type": "execute_result"
    }
   ],
   "source": [
    "movie_df = pd.read_csv('clean_df.csv')\n",
    "movie_df.drop(columns=['link_stub'], inplace=True)\n",
    "movie_df.head(1)"
   ]
  },
  {
   "cell_type": "code",
   "execution_count": null,
   "metadata": {},
   "outputs": [],
   "source": [
    "movie_df.describe()"
   ]
  },
  {
   "cell_type": "code",
   "execution_count": null,
   "metadata": {},
   "outputs": [],
   "source": [
    "# check for null values\n",
    "movie_df.isnull().sum()"
   ]
  },
  {
   "cell_type": "code",
   "execution_count": 4,
   "metadata": {},
   "outputs": [],
   "source": [
    "# drop null values\n",
    "movie_df.dropna(axis=0, how='any', inplace=True)"
   ]
  },
  {
   "cell_type": "code",
   "execution_count": null,
   "metadata": {},
   "outputs": [],
   "source": [
    "# double check for null values\n",
    "movie_df.isnull().sum()"
   ]
  },
  {
   "cell_type": "code",
   "execution_count": null,
   "metadata": {},
   "outputs": [],
   "source": [
    "movie_df.info()"
   ]
  },
  {
   "cell_type": "markdown",
   "metadata": {},
   "source": [
    "### 3a. Explore features correlation<a id='3a'></a> "
   ]
  },
  {
   "cell_type": "code",
   "execution_count": null,
   "metadata": {},
   "outputs": [],
   "source": [
    "# sns.pairplot(movie_df, height=5, aspect=1.5);"
   ]
  },
  {
   "cell_type": "code",
   "execution_count": null,
   "metadata": {},
   "outputs": [],
   "source": [
    "# heatmap correlation matrix\n",
    "sns.heatmap(movie_df.corr(), cmap=\"seismic\", annot=True, vmin=-1, vmax=1);"
   ]
  },
  {
   "cell_type": "markdown",
   "metadata": {},
   "source": [
    "### Correlation Summary\n",
    "\n",
    "#### Target-Features\n",
    "*target = `international_total_gross`*\n",
    "* target correlated with (highest to lowest):\n",
    "    * `domestic_total_gross`\n",
    "    * `domestic_opening`\n",
    "    * `budget`\n",
    "    * `max_theaters`\n",
    "    * `opening_theathers`\n",
    "\n",
    "Target is highly correlated with `worldwide_total_gross`; has known multicollinearity as:<br/>\n",
    "`worldwide_total_gross` = `domestic_total_gross` + `international_total_gross`\n",
    "\n",
    "####  Features-Features: Positive Correlation\n",
    "* domestic_total_gross:\n",
    "    * `domestic_opening`\n",
    "    * `worldwide_total_gross`\n",
    "    * `budget`\n",
    "    * `max_theaters`\n",
    "    * `opening_theathers`\n",
    "* domestic_opening:<br/>\n",
    "    * `budget`\n",
    "    * `max_theaters`\n",
    "    * `opening_theathers`\n",
    "* max_theaters:\n",
    "    * `opening_theathers`\n",
    "    * `budget`\n",
    "    * `domestic_opening`\n",
    "\n",
    "####  Features-Features: Negative Correlation\n",
    "* rank:\n",
    "    * `domestic_total_gross`\n",
    "    * `max_theaters`\n",
    "    * `opening_theathers`\n",
    "    * `domestic_opening`\n",
    "    * `budget`\n",
    "    \n"
   ]
  },
  {
   "cell_type": "markdown",
   "metadata": {},
   "source": [
    "### 3b. Explore and handle categorical data<a id='3b'></a> "
   ]
  },
  {
   "cell_type": "code",
   "execution_count": null,
   "metadata": {},
   "outputs": [],
   "source": [
    "# explore genres as candidate for dummies\n",
    "print('Unique genres:', movie_df.genres.nunique())\n",
    "print('\\n')\n",
    "print('Genres counts\\n', movie_df['genres'].value_counts())\n",
    "# 👎 too many; look for other dummy variables. "
   ]
  },
  {
   "cell_type": "code",
   "execution_count": 5,
   "metadata": {},
   "outputs": [
    {
     "name": "stdout",
     "output_type": "stream",
     "text": [
      "Unique MPAA ratings: 4\n",
      "\n",
      "\n",
      "Rating counts\n",
      " PG13    304\n",
      "R       217\n",
      "PG      189\n",
      "G         8\n",
      "Name: rating, dtype: int64\n"
     ]
    }
   ],
   "source": [
    "# explore MPAA rating as candidate for dummies\n",
    "print('Unique MPAA ratings:', movie_df.rating.nunique())\n",
    "print('\\n')\n",
    "rating_count = movie_df['rating'].value_counts()\n",
    "print('Rating counts\\n', rating_count)\n",
    "# 👍 easy-to-use for dummy variables"
   ]
  },
  {
   "cell_type": "code",
   "execution_count": 6,
   "metadata": {},
   "outputs": [
    {
     "data": {
      "text/html": [
       "<div>\n",
       "<style scoped>\n",
       "    .dataframe tbody tr th:only-of-type {\n",
       "        vertical-align: middle;\n",
       "    }\n",
       "\n",
       "    .dataframe tbody tr th {\n",
       "        vertical-align: top;\n",
       "    }\n",
       "\n",
       "    .dataframe thead th {\n",
       "        text-align: right;\n",
       "    }\n",
       "</style>\n",
       "<table border=\"1\" class=\"dataframe\">\n",
       "  <thead>\n",
       "    <tr style=\"text-align: right;\">\n",
       "      <th></th>\n",
       "      <th>international_total_gross</th>\n",
       "      <th>domestic_total_gross</th>\n",
       "      <th>rank</th>\n",
       "      <th>movie_title</th>\n",
       "      <th>max_theaters</th>\n",
       "      <th>opening_theathers</th>\n",
       "      <th>worldwide_total_gross</th>\n",
       "      <th>domestic_opening</th>\n",
       "      <th>budget</th>\n",
       "      <th>release_date</th>\n",
       "      <th>runtime</th>\n",
       "      <th>distributor</th>\n",
       "      <th>genres</th>\n",
       "      <th>rating_PG</th>\n",
       "      <th>rating_PG13</th>\n",
       "      <th>rating_R</th>\n",
       "    </tr>\n",
       "  </thead>\n",
       "  <tbody>\n",
       "    <tr>\n",
       "      <th>0</th>\n",
       "      <td>1119261396</td>\n",
       "      <td>543638043</td>\n",
       "      <td>6</td>\n",
       "      <td>The Lion King</td>\n",
       "      <td>4802.0</td>\n",
       "      <td>4725.0</td>\n",
       "      <td>1662899439</td>\n",
       "      <td>191770759</td>\n",
       "      <td>260000000</td>\n",
       "      <td>20190711</td>\n",
       "      <td>118.0</td>\n",
       "      <td>Walt Disney Studios Motion Pictures</td>\n",
       "      <td>Adventure Animation Drama Family Musical</td>\n",
       "      <td>1</td>\n",
       "      <td>0</td>\n",
       "      <td>0</td>\n",
       "    </tr>\n",
       "  </tbody>\n",
       "</table>\n",
       "</div>"
      ],
      "text/plain": [
       "   international_total_gross  domestic_total_gross  rank    movie_title  \\\n",
       "0                 1119261396             543638043     6  The Lion King   \n",
       "\n",
       "   max_theaters  opening_theathers  worldwide_total_gross  domestic_opening  \\\n",
       "0        4802.0             4725.0             1662899439         191770759   \n",
       "\n",
       "      budget  release_date  runtime                          distributor  \\\n",
       "0  260000000      20190711    118.0  Walt Disney Studios Motion Pictures   \n",
       "\n",
       "                                     genres  rating_PG  rating_PG13  rating_R  \n",
       "0  Adventure Animation Drama Family Musical          1            0         0  "
      ]
     },
     "execution_count": 6,
     "metadata": {},
     "output_type": "execute_result"
    }
   ],
   "source": [
    "# get dummies for MPAA rating \n",
    "df_dummies_rating = pd.get_dummies(movie_df, columns=['rating'], drop_first=True)\n",
    "df_dummies_rating.head(2)\n",
    "movie_df = df_dummies_rating\n",
    "movie_df.head(1)"
   ]
  },
  {
   "cell_type": "code",
   "execution_count": 7,
   "metadata": {},
   "outputs": [
    {
     "name": "stdout",
     "output_type": "stream",
     "text": [
      "Unique distributors: 66\n",
      "\n",
      "\n",
      "Distributor count\n",
      " Warner Bros.                           123\n",
      "Twentieth Century Fox                   89\n",
      "Paramount Pictures                      88\n",
      "Walt Disney Studios Motion Pictures     73\n",
      "Universal Pictures                      68\n",
      "                                      ... \n",
      "Fox Atomic                               1\n",
      "United Artists Releasing                 1\n",
      "Pantelion Films                          1\n",
      "TriStar Pictures                         1\n",
      "Cinedigm Entertainment Group             1\n",
      "Name: distributor, Length: 66, dtype: int64\n"
     ]
    }
   ],
   "source": [
    "# explore distributor as candidate for dummies \n",
    "print('Unique distributors:', movie_df.distributor.nunique())\n",
    "print('\\n')\n",
    "distributor_count = movie_df['distributor'].value_counts()\n",
    "print('Distributor count\\n', distributor_count)\n",
    "# 👍 Reasonable amount, group lower frequencies into an other category."
   ]
  },
  {
   "cell_type": "code",
   "execution_count": 8,
   "metadata": {},
   "outputs": [
    {
     "data": {
      "text/html": [
       "<div>\n",
       "<style scoped>\n",
       "    .dataframe tbody tr th:only-of-type {\n",
       "        vertical-align: middle;\n",
       "    }\n",
       "\n",
       "    .dataframe tbody tr th {\n",
       "        vertical-align: top;\n",
       "    }\n",
       "\n",
       "    .dataframe thead th {\n",
       "        text-align: right;\n",
       "    }\n",
       "</style>\n",
       "<table border=\"1\" class=\"dataframe\">\n",
       "  <thead>\n",
       "    <tr style=\"text-align: right;\">\n",
       "      <th></th>\n",
       "      <th>international_total_gross</th>\n",
       "      <th>domestic_total_gross</th>\n",
       "      <th>rank</th>\n",
       "      <th>movie_title</th>\n",
       "      <th>max_theaters</th>\n",
       "      <th>opening_theathers</th>\n",
       "      <th>worldwide_total_gross</th>\n",
       "      <th>domestic_opening</th>\n",
       "      <th>budget</th>\n",
       "      <th>release_date</th>\n",
       "      <th>...</th>\n",
       "      <th>rating_PG</th>\n",
       "      <th>rating_PG13</th>\n",
       "      <th>rating_R</th>\n",
       "      <th>distributor_Paramount Pictures</th>\n",
       "      <th>distributor_Sony Pictures Entertainment (SPE)</th>\n",
       "      <th>distributor_Twentieth Century Fox</th>\n",
       "      <th>distributor_Universal Pictures</th>\n",
       "      <th>distributor_Walt Disney Studios Motion Pictures</th>\n",
       "      <th>distributor_Warner Bros.</th>\n",
       "      <th>distributor_other</th>\n",
       "    </tr>\n",
       "  </thead>\n",
       "  <tbody>\n",
       "    <tr>\n",
       "      <th>0</th>\n",
       "      <td>1119261396</td>\n",
       "      <td>543638043</td>\n",
       "      <td>6</td>\n",
       "      <td>The Lion King</td>\n",
       "      <td>4802.0</td>\n",
       "      <td>4725.0</td>\n",
       "      <td>1662899439</td>\n",
       "      <td>191770759</td>\n",
       "      <td>260000000</td>\n",
       "      <td>20190711</td>\n",
       "      <td>...</td>\n",
       "      <td>1</td>\n",
       "      <td>0</td>\n",
       "      <td>0</td>\n",
       "      <td>0</td>\n",
       "      <td>0</td>\n",
       "      <td>0</td>\n",
       "      <td>0</td>\n",
       "      <td>1</td>\n",
       "      <td>0</td>\n",
       "      <td>0</td>\n",
       "    </tr>\n",
       "  </tbody>\n",
       "</table>\n",
       "<p>1 rows × 22 columns</p>\n",
       "</div>"
      ],
      "text/plain": [
       "   international_total_gross  domestic_total_gross  rank    movie_title  \\\n",
       "0                 1119261396             543638043     6  The Lion King   \n",
       "\n",
       "   max_theaters  opening_theathers  worldwide_total_gross  domestic_opening  \\\n",
       "0        4802.0             4725.0             1662899439         191770759   \n",
       "\n",
       "      budget  release_date  ...  rating_PG rating_PG13  rating_R  \\\n",
       "0  260000000      20190711  ...          1           0         0   \n",
       "\n",
       "   distributor_Paramount Pictures  \\\n",
       "0                               0   \n",
       "\n",
       "   distributor_Sony Pictures Entertainment (SPE)  \\\n",
       "0                                              0   \n",
       "\n",
       "   distributor_Twentieth Century Fox  distributor_Universal Pictures  \\\n",
       "0                                  0                               0   \n",
       "\n",
       "   distributor_Walt Disney Studios Motion Pictures  distributor_Warner Bros.  \\\n",
       "0                                                1                         0   \n",
       "\n",
       "   distributor_other  \n",
       "0                  0  \n",
       "\n",
       "[1 rows x 22 columns]"
      ]
     },
     "execution_count": 8,
     "metadata": {},
     "output_type": "execute_result"
    }
   ],
   "source": [
    "# create distributor other category\n",
    "distributor_other = list(distributor_count[distributor_count < 20].index)\n",
    "movie_df['distributor'] = movie_df['distributor'].replace(distributor_other, 'other')\n",
    "\n",
    "# get dummies for distributor\n",
    "df_dummies_distributor = pd.get_dummies(movie_df, columns=['distributor'], drop_first=True)\n",
    "movie_df = df_dummies_distributor\n",
    "movie_df.head(1)"
   ]
  },
  {
   "cell_type": "code",
   "execution_count": null,
   "metadata": {},
   "outputs": [],
   "source": [
    "movie_df.columns"
   ]
  },
  {
   "cell_type": "markdown",
   "metadata": {},
   "source": [
    "[back to top](#top)"
   ]
  },
  {
   "cell_type": "markdown",
   "metadata": {},
   "source": [
    "## 4. Cross-Validation<a id='4'></a> "
   ]
  },
  {
   "cell_type": "code",
   "execution_count": 9,
   "metadata": {},
   "outputs": [],
   "source": [
    "# separate target from select features\n",
    "y = movie_df['international_total_gross']\n",
    "X = movie_df.loc[:,['domestic_total_gross', \n",
    "                    'domestic_opening', \n",
    "                    'budget',\n",
    "                    'max_theaters', \n",
    "                    'opening_theathers',\n",
    "                    'rank',\n",
    "                    'runtime',\n",
    "                    'release_date',\n",
    "                    'rating_PG', \n",
    "                    'rating_PG13',\n",
    "                    'rating_R',\n",
    "                    'distributor_Paramount Pictures',\n",
    "                    'distributor_Sony Pictures Entertainment (SPE)',\n",
    "                    'distributor_Twentieth Century Fox', \n",
    "                    'distributor_Universal Pictures',\n",
    "                    'distributor_Walt Disney Studios Motion Pictures',\n",
    "                    'distributor_Warner Bros.', \n",
    "                    'distributor_other']]"
   ]
  },
  {
   "cell_type": "code",
   "execution_count": 10,
   "metadata": {},
   "outputs": [],
   "source": [
    "# split test data set\n",
    "X_train, X_test, y_train, y_test = train_test_split(X, \n",
    "                                                    y, \n",
    "                                                    test_size=0.2, \n",
    "                                                    random_state=42)"
   ]
  },
  {
   "cell_type": "code",
   "execution_count": 11,
   "metadata": {},
   "outputs": [],
   "source": [
    "# set up k-folds \n",
    "kfold = KFold(n_splits=5, \n",
    "              shuffle=True, \n",
    "              random_state = 42)"
   ]
  },
  {
   "cell_type": "markdown",
   "metadata": {},
   "source": [
    "[back to top](#top)"
   ]
  },
  {
   "cell_type": "markdown",
   "metadata": {},
   "source": [
    "## 5. Modeling<a id='5'></a> "
   ]
  },
  {
   "cell_type": "code",
   "execution_count": 88,
   "metadata": {},
   "outputs": [
    {
     "name": "stdout",
     "output_type": "stream",
     "text": [
      "k-fold indivdual scores: [0.7486569  0.757162   0.86214297 0.72927468 0.74714238]\n",
      "linear regression k-fold mean score: 0.7688757853732312\n"
     ]
    },
    {
     "data": {
      "text/plain": [
       "LinearRegression()"
      ]
     },
     "execution_count": 88,
     "metadata": {},
     "output_type": "execute_result"
    }
   ],
   "source": [
    "# simple linear regression\n",
    "lin_reg = LinearRegression()\n",
    "\n",
    "scores = cross_val_score(lin_reg, X_train, y_train, cv=kfold)\n",
    "print('k-fold indivdual scores:', scores)\n",
    "print('linear regression k-fold mean score:', np.mean(scores))\n",
    "\n",
    "lin_reg.fit(X_train, y_train)"
   ]
  },
  {
   "cell_type": "code",
   "execution_count": 17,
   "metadata": {},
   "outputs": [
    {
     "data": {
      "image/png": "[encoded data removed]",
      "text/plain": [
       "<Figure size 432x288 with 1 Axes>"
      ]
     },
     "metadata": {
      "needs_background": "light"
     },
     "output_type": "display_data"
    }
   ],
   "source": [
    "# train: fitted vs. actual\n",
    "y_train_predict = lin_reg.predict(X_train)\n",
    "\n",
    "plt.scatter(y_train, y_train_predict, alpha=0.2)\n",
    "plt.plot([0, 400], [0, 400])\n",
    "plt.title(\"Target: Predictions vs. Actual (train)\");"
   ]
  },
  {
   "cell_type": "code",
   "execution_count": 18,
   "metadata": {},
   "outputs": [
    {
     "data": {
      "image/png": "[encoded data removed]",
      "text/plain": [
       "<Figure size 432x288 with 1 Axes>"
      ]
     },
     "metadata": {
      "needs_background": "light"
     },
     "output_type": "display_data"
    }
   ],
   "source": [
    "# test: fitted vs. actual\n",
    "y_test_predict = lin_reg.predict(X_test)\n",
    "\n",
    "plt.scatter(y_test, y_test_predict)\n",
    "plt.plot([0, 400], [0, 400])\n",
    "plt.title('Target: Predictions vs. Actual (test)');"
   ]
  },
  {
   "cell_type": "code",
   "execution_count": 19,
   "metadata": {},
   "outputs": [
    {
     "data": {
      "image/png": "[encoded data removed]",
      "text/plain": [
       "<Figure size 432x288 with 1 Axes>"
      ]
     },
     "metadata": {
      "needs_background": "light"
     },
     "output_type": "display_data"
    }
   ],
   "source": [
    "# residuals vs. predicted\n",
    "lin_reg_residuals = y_train - y_train_predict\n",
    "\n",
    "plt.scatter(y_train_predict, lin_reg_residuals)\n",
    "plt.plot([0,400], [0, 0])\n",
    "plt.title(\"Residuals vs. Predicted\");"
   ]
  },
  {
   "cell_type": "markdown",
   "metadata": {},
   "source": [
    "## 6. Model Tuning<a id='6'></a> "
   ]
  },
  {
   "cell_type": "code",
   "execution_count": 20,
   "metadata": {},
   "outputs": [
    {
     "name": "stderr",
     "output_type": "stream",
     "text": [
      "/Users/sandraparedes/opt/anaconda3/lib/python3.8/site-packages/sklearn/base.py:443: UserWarning: X has feature names, but StandardScaler was fitted without feature names\n",
      "  warnings.warn(\n",
      "/Users/sandraparedes/opt/anaconda3/lib/python3.8/site-packages/sklearn/base.py:443: UserWarning: X has feature names, but StandardScaler was fitted without feature names\n",
      "  warnings.warn(\n"
     ]
    }
   ],
   "source": [
    "# standard-scaling features before regularization \n",
    "std = StandardScaler()\n",
    "std.fit(X_train.values)\n",
    "\n",
    "# apply scaler to train data\n",
    "X_train_std = std.transform(X_train)\n",
    "\n",
    "# apply scaler to test data\n",
    "X_test_std = std.transform(X_test)"
   ]
  },
  {
   "cell_type": "markdown",
   "metadata": {},
   "source": [
    "### 6a. Regularization<a id='6a'></a> "
   ]
  },
  {
   "cell_type": "code",
   "execution_count": 89,
   "metadata": {},
   "outputs": [
    {
     "data": {
      "text/plain": [
       "Lasso(alpha=1000)"
      ]
     },
     "execution_count": 89,
     "metadata": {},
     "output_type": "execute_result"
    }
   ],
   "source": [
    "# lasso model\n",
    "lasso_model = Lasso(alpha = 1000)\n",
    "lasso_model.fit(X_train_std, y_train)"
   ]
  },
  {
   "cell_type": "code",
   "execution_count": 90,
   "metadata": {},
   "outputs": [
    {
     "data": {
      "text/plain": [
       "[('domestic_total_gross', 129376296.98786846),\n",
       " ('domestic_opening', 10039496.739888232),\n",
       " ('budget', 23276475.99760897),\n",
       " ('max_theaters', 9768654.51751922),\n",
       " ('opening_theathers', -7374879.242003454),\n",
       " ('rank', 24365539.347494036),\n",
       " ('runtime', 10475111.89636021),\n",
       " ('release_date', 11805649.570314046),\n",
       " ('rating_PG', 19504275.385536455),\n",
       " ('rating_PG13', 18953751.73729921),\n",
       " ('rating_R', 18506966.520896453),\n",
       " ('distributor_Paramount Pictures', 2563439.7493831697),\n",
       " ('distributor_Sony Pictures Entertainment (SPE)', 3946701.271349205),\n",
       " ('distributor_Twentieth Century Fox', 7771145.865045143),\n",
       " ('distributor_Universal Pictures', 2419316.9119878192),\n",
       " ('distributor_Walt Disney Studios Motion Pictures', 7057401.336859129),\n",
       " ('distributor_Warner Bros.', 5351564.513109605),\n",
       " ('distributor_other', 3966519.2494462947)]"
      ]
     },
     "execution_count": 90,
     "metadata": {},
     "output_type": "execute_result"
    }
   ],
   "source": [
    "list(zip(X_train.columns, lasso_model.coef_))"
   ]
  },
  {
   "cell_type": "code",
   "execution_count": 46,
   "metadata": {},
   "outputs": [
    {
     "data": {
      "text/plain": [
       "Ridge(alpha=1000)"
      ]
     },
     "execution_count": 46,
     "metadata": {},
     "output_type": "execute_result"
    }
   ],
   "source": [
    "# ridge model \n",
    "ridge_model = Ridge(alpha = 1000)\n",
    "ridge_model.fit(X_train_std, y_train)"
   ]
  },
  {
   "cell_type": "code",
   "execution_count": 47,
   "metadata": {},
   "outputs": [
    {
     "data": {
      "text/plain": [
       "[('domestic_total_gross', 28834397.204676356),\n",
       " ('domestic_opening', 26072565.657504786),\n",
       " ('budget', 16675896.428669898),\n",
       " ('max_theaters', 8320860.114495709),\n",
       " ('opening_theathers', 7494900.076725193),\n",
       " ('rank', -14136897.839843014),\n",
       " ('runtime', 12261042.001032893),\n",
       " ('release_date', 6072473.520566338),\n",
       " ('rating_PG', -3292.8959808435625),\n",
       " ('rating_PG13', 2370165.2666965183),\n",
       " ('rating_R', -2042099.0292138327),\n",
       " ('distributor_Paramount Pictures', -1472143.0855068136),\n",
       " ('distributor_Sony Pictures Entertainment (SPE)', -1002330.8902171563),\n",
       " ('distributor_Twentieth Century Fox', 432688.50490794313),\n",
       " ('distributor_Universal Pictures', -1545333.0744872333),\n",
       " ('distributor_Walt Disney Studios Motion Pictures', 4787040.484648554),\n",
       " ('distributor_Warner Bros.', 2160227.0124485344),\n",
       " ('distributor_other', -1094099.0523894662)]"
      ]
     },
     "execution_count": 47,
     "metadata": {},
     "output_type": "execute_result"
    }
   ],
   "source": [
    "list(zip(X_train.columns, ridge_model.coef_))"
   ]
  },
  {
   "cell_type": "code",
   "execution_count": 48,
   "metadata": {},
   "outputs": [
    {
     "data": {
      "text/plain": [
       "ElasticNet(alpha=1000, l1_ratio=1)"
      ]
     },
     "execution_count": 48,
     "metadata": {},
     "output_type": "execute_result"
    }
   ],
   "source": [
    "# elastic model \n",
    "elastic_model = ElasticNet(alpha = 1000, l1_ratio=1)\n",
    "elastic_model.fit(X_train_std, y_train)"
   ]
  },
  {
   "cell_type": "code",
   "execution_count": 49,
   "metadata": {},
   "outputs": [
    {
     "data": {
      "text/plain": [
       "[('domestic_total_gross', 129376296.98786846),\n",
       " ('domestic_opening', 10039496.739888232),\n",
       " ('budget', 23276475.99760897),\n",
       " ('max_theaters', 9768654.51751922),\n",
       " ('opening_theathers', -7374879.242003454),\n",
       " ('rank', 24365539.347494036),\n",
       " ('runtime', 10475111.89636021),\n",
       " ('release_date', 11805649.570314046),\n",
       " ('rating_PG', 19504275.385536455),\n",
       " ('rating_PG13', 18953751.73729921),\n",
       " ('rating_R', 18506966.520896453),\n",
       " ('distributor_Paramount Pictures', 2563439.7493831697),\n",
       " ('distributor_Sony Pictures Entertainment (SPE)', 3946701.271349205),\n",
       " ('distributor_Twentieth Century Fox', 7771145.865045143),\n",
       " ('distributor_Universal Pictures', 2419316.9119878192),\n",
       " ('distributor_Walt Disney Studios Motion Pictures', 7057401.336859129),\n",
       " ('distributor_Warner Bros.', 5351564.513109605),\n",
       " ('distributor_other', 3966519.2494462947)]"
      ]
     },
     "execution_count": 49,
     "metadata": {},
     "output_type": "execute_result"
    }
   ],
   "source": [
    "list(zip(X_train.columns, elastic_model.coef_))"
   ]
  },
  {
   "cell_type": "code",
   "execution_count": 91,
   "metadata": {},
   "outputs": [
    {
     "name": "stdout",
     "output_type": "stream",
     "text": [
      "Linear Regression MAE on test: 45421099.61077295\n",
      "Lasso Regression MAE on test: 1.2129811269683776e+16\n",
      "Ridge Regression MAE on test: 3929420110465276.5\n",
      "ElasticNet Regression MAE on test: 1.2129811269683776e+16\n"
     ]
    },
    {
     "name": "stderr",
     "output_type": "stream",
     "text": [
      "/Users/sandraparedes/opt/anaconda3/lib/python3.8/site-packages/sklearn/base.py:443: UserWarning: X has feature names, but Lasso was fitted without feature names\n",
      "  warnings.warn(\n",
      "/Users/sandraparedes/opt/anaconda3/lib/python3.8/site-packages/sklearn/base.py:443: UserWarning: X has feature names, but Ridge was fitted without feature names\n",
      "  warnings.warn(\n",
      "/Users/sandraparedes/opt/anaconda3/lib/python3.8/site-packages/sklearn/base.py:443: UserWarning: X has feature names, but ElasticNet was fitted without feature names\n",
      "  warnings.warn(\n"
     ]
    }
   ],
   "source": [
    "y_pred = lin_reg.predict(X_test)\n",
    "print(f'Linear Regression MAE on test: {mean_absolute_error(y_test, y_pred)}')\n",
    "\n",
    "y_pred = lasso_model.predict(X_test)\n",
    "print(f'Lasso Regression MAE on test: {mean_absolute_error(y_test, y_pred)}')\n",
    "\n",
    "y_pred = ridge_model.predict(X_test)\n",
    "print(f'Ridge Regression MAE on test: {mean_absolute_error(y_test, y_pred)}')\n",
    "\n",
    "y_pred = elastic_model.predict(X_test)\n",
    "print(f'ElasticNet Regression MAE on test: {mean_absolute_error(y_test, y_pred)}')\n"
   ]
  },
  {
   "cell_type": "markdown",
   "metadata": {},
   "source": [
    "#### Linear Regression best model based on MAE (test): 45421099.61"
   ]
  },
  {
   "cell_type": "markdown",
   "metadata": {},
   "source": [
    "[back to top](#top)"
   ]
  },
  {
   "cell_type": "markdown",
   "metadata": {},
   "source": [
    "### 6b. Features engineering<a id='6b'></a> "
   ]
  },
  {
   "cell_type": "code",
   "execution_count": 24,
   "metadata": {},
   "outputs": [
    {
     "name": "stdout",
     "output_type": "stream",
     "text": [
      "count zeros in international_total_gross: 0\n",
      "count of zeros in domestic_total_gross: 0\n",
      "count of zeros in budget: 214\n",
      "count of zeros in domestic_opening: 1\n"
     ]
    }
   ],
   "source": [
    "# log transformation for monetary columns \n",
    "\n",
    "# check for zeros in columns before log transformation \n",
    "count = (movie_df['international_total_gross'] == 0).sum()\n",
    "print('count zeros in international_total_gross:', count)\n",
    "\n",
    "count = (movie_df['domestic_total_gross'] == 0).sum()\n",
    "print('count of zeros in domestic_total_gross:', count)\n",
    "\n",
    "count = (movie_df['budget'] == 0).sum()\n",
    "print('count of zeros in budget:', count)\n",
    "# budget: min $0, max $270,000,000\n",
    "# 👎 zeros throwing division-zero error; will not transform \n",
    "\n",
    "count = (movie_df['domestic_opening'] == 0).sum()\n",
    "print('count of zeros in domestic_opening:', count)\n",
    "# domestic_opening: min $0, max $191,770,800\n",
    "# 👎 zeros throwing division-zero error; will not transform \n",
    "\n",
    "\n",
    "# 👍 international_total_gross and domestic_total_gross\n",
    "# international_total_gross: min $98, max $1,119,261,000\n",
    "movie_df['log_international_total_gross'] = np.log(movie_df['international_total_gross'])\n",
    "\n",
    "# domestic_total_gross: min $742, max $543,638,043\n",
    "movie_df['log_domestic_total_gross'] = np.log(movie_df['domestic_total_gross'])\n"
   ]
  },
  {
   "cell_type": "code",
   "execution_count": 25,
   "metadata": {},
   "outputs": [],
   "source": [
    "# profit = domestic_total_gross - budget\n",
    "movie_df['profit'] = (movie_df['domestic_total_gross'] - movie_df['budget'])"
   ]
  },
  {
   "cell_type": "code",
   "execution_count": 26,
   "metadata": {},
   "outputs": [],
   "source": [
    "# opening = domestic_opening * opening_theathers\n",
    "movie_df['opening'] = (movie_df['domestic_opening'] * movie_df['opening_theathers'])"
   ]
  },
  {
   "cell_type": "code",
   "execution_count": 27,
   "metadata": {},
   "outputs": [],
   "source": [
    "# opening_minus_budget = domestic_opening * budget\n",
    "movie_df['opening_minus_budget'] = (movie_df['domestic_opening'] - movie_df['budget'])"
   ]
  },
  {
   "cell_type": "code",
   "execution_count": null,
   "metadata": {},
   "outputs": [],
   "source": [
    "movie_df.columns"
   ]
  },
  {
   "cell_type": "markdown",
   "metadata": {},
   "source": [
    "[back to top](#top)"
   ]
  },
  {
   "cell_type": "markdown",
   "metadata": {},
   "source": [
    "### 6c. Modeling with new features<a id='6c'></a> "
   ]
  },
  {
   "cell_type": "code",
   "execution_count": 29,
   "metadata": {},
   "outputs": [],
   "source": [
    "# separate target from new and original features\n",
    "y2 = movie_df['international_total_gross']\n",
    "X2 = movie_df.loc[:,['domestic_total_gross', \n",
    "                       'rank', \n",
    "                       'max_theaters', \n",
    "                       'opening_theathers',\n",
    "                       'domestic_opening', \n",
    "                       'budget', \n",
    "                       'release_date',\n",
    "                       'runtime', \n",
    "                       'rating_PG', \n",
    "                       'rating_PG13', \n",
    "                       'rating_R',\n",
    "                       'distributor_Paramount Pictures',\n",
    "                       'distributor_Sony Pictures Entertainment (SPE)',\n",
    "                       'distributor_Twentieth Century Fox', \n",
    "                       'distributor_Universal Pictures',\n",
    "                       'distributor_Walt Disney Studios Motion Pictures',\n",
    "                       'distributor_Warner Bros.', \n",
    "                       'distributor_other',\n",
    "                       'log_international_total_gross', \n",
    "                       'log_domestic_total_gross', \n",
    "                       'profit',\n",
    "                       'opening', \n",
    "                       'opening_minus_budget']]\n"
   ]
  },
  {
   "cell_type": "code",
   "execution_count": 30,
   "metadata": {},
   "outputs": [],
   "source": [
    "# split test data set\n",
    "X2_train, X2_test, y2_train, y2_test = train_test_split(X2, \n",
    "                                                        y2,\n",
    "                                                        test_size=0.2, \n",
    "                                                        random_state=42)\n"
   ]
  },
  {
   "cell_type": "code",
   "execution_count": 31,
   "metadata": {},
   "outputs": [
    {
     "name": "stderr",
     "output_type": "stream",
     "text": [
      "/Users/sandraparedes/opt/anaconda3/lib/python3.8/site-packages/sklearn/base.py:443: UserWarning: X has feature names, but StandardScaler was fitted without feature names\n",
      "  warnings.warn(\n",
      "/Users/sandraparedes/opt/anaconda3/lib/python3.8/site-packages/sklearn/base.py:443: UserWarning: X has feature names, but StandardScaler was fitted without feature names\n",
      "  warnings.warn(\n"
     ]
    }
   ],
   "source": [
    "# standard-scaling features before regularization \n",
    "std = StandardScaler()\n",
    "std.fit(X2_train.values)\n",
    "\n",
    "# apply scaler to train data\n",
    "X2_train_std = std.transform(X2_train)\n",
    "\n",
    "# apply scaler to test data\n",
    "X2_test_std = std.transform(X2_test)"
   ]
  },
  {
   "cell_type": "code",
   "execution_count": 92,
   "metadata": {},
   "outputs": [
    {
     "data": {
      "text/plain": [
       "Lasso(alpha=1000000)"
      ]
     },
     "execution_count": 92,
     "metadata": {},
     "output_type": "execute_result"
    }
   ],
   "source": [
    "# lasso model + feature engineering\n",
    "lasso_model_feat = Lasso(alpha = 1000000)\n",
    "lasso_model_feat.fit(X2_train_std, y_train)"
   ]
  },
  {
   "cell_type": "code",
   "execution_count": 93,
   "metadata": {},
   "outputs": [
    {
     "data": {
      "text/plain": [
       "[('domestic_total_gross', 110750241.52231793),\n",
       " ('rank', 27606416.490036495),\n",
       " ('max_theaters', -1822211.0495561764),\n",
       " ('opening_theathers', -4053435.878393262),\n",
       " ('domestic_opening', 0.0),\n",
       " ('budget', 0.0),\n",
       " ('release_date', 7131871.889962489),\n",
       " ('runtime', 6505003.834725986),\n",
       " ('rating_PG', 2588692.808026557),\n",
       " ('rating_PG13', -0.0),\n",
       " ('rating_R', -0.0),\n",
       " ('distributor_Paramount Pictures', -933949.0562269454),\n",
       " ('distributor_Sony Pictures Entertainment (SPE)', -0.0),\n",
       " ('distributor_Twentieth Century Fox', 1042971.9519426785),\n",
       " ('distributor_Universal Pictures', -857623.6724335651),\n",
       " ('distributor_Walt Disney Studios Motion Pictures', 1149865.4008911166),\n",
       " ('distributor_Warner Bros.', 879372.905241442),\n",
       " ('distributor_other', 0.0),\n",
       " ('log_international_total_gross', 42622480.93355351),\n",
       " ('log_domestic_total_gross', -9877509.076026358),\n",
       " ('profit', 0.0),\n",
       " ('opening', 33181702.37109326),\n",
       " ('opening_minus_budget', -12217565.369718239)]"
      ]
     },
     "execution_count": 93,
     "metadata": {},
     "output_type": "execute_result"
    }
   ],
   "source": [
    "list(zip(X2_train.columns, lasso_model_feat.coef_))"
   ]
  },
  {
   "cell_type": "code",
   "execution_count": 94,
   "metadata": {},
   "outputs": [
    {
     "name": "stdout",
     "output_type": "stream",
     "text": [
      "Lasso Regression MAE on test data: 2.8878889684055163e+18\n"
     ]
    },
    {
     "name": "stderr",
     "output_type": "stream",
     "text": [
      "/Users/sandraparedes/opt/anaconda3/lib/python3.8/site-packages/sklearn/base.py:443: UserWarning: X has feature names, but Lasso was fitted without feature names\n",
      "  warnings.warn(\n"
     ]
    }
   ],
   "source": [
    "y2_pred = lasso_model_feat.predict(X2_test)\n",
    "print(f'Lasso Regression MAE on test data: {mean_absolute_error(y2_test, y2_pred)}')\n"
   ]
  },
  {
   "cell_type": "code",
   "execution_count": 85,
   "metadata": {},
   "outputs": [],
   "source": [
    "# feature engineering improved MAE score from 1.2129811269683776e+16\n"
   ]
  },
  {
   "cell_type": "code",
   "execution_count": 86,
   "metadata": {},
   "outputs": [
    {
     "name": "stdout",
     "output_type": "stream",
     "text": [
      "Lasso Regression R^2 on test data: 0.711\n"
     ]
    }
   ],
   "source": [
    "lasso_model_feat.fit(X2_train_std, y2_train)\n",
    "print(f'Lasso Regression R^2 on test data: {lasso_model_feat.score(X2_test_std, y2_test):.3f}')\n"
   ]
  },
  {
   "cell_type": "markdown",
   "metadata": {},
   "source": [
    "[back to top](#top)"
   ]
  },
  {
   "cell_type": "code",
   "execution_count": 73,
   "metadata": {},
   "outputs": [
    {
     "name": "stdout",
     "output_type": "stream",
     "text": [
      "k-fold indivdual scores: [0.73675802 0.80595334 0.8896398  0.76178801 0.78232536]\n",
      "linear regression k-fold mean score: 0.7952929053274317\n"
     ]
    },
    {
     "data": {
      "text/plain": [
       "LinearRegression()"
      ]
     },
     "execution_count": 73,
     "metadata": {},
     "output_type": "execute_result"
    }
   ],
   "source": [
    "# linear regression\n",
    "lin_reg3 = LinearRegression()\n",
    "\n",
    "scores = cross_val_score(lin_reg3, X2_train, y2_train, cv=kfold)\n",
    "print('k-fold indivdual scores:', scores)\n",
    "print('linear regression k-fold mean score:', np.mean(scores))\n",
    "\n",
    "lin_reg3.fit(X2_train, y2_train)"
   ]
  },
  {
   "cell_type": "code",
   "execution_count": null,
   "metadata": {},
   "outputs": [],
   "source": [
    "# feature engineering improved score k-fold mean score from  0.7688757853732312! "
   ]
  },
  {
   "cell_type": "markdown",
   "metadata": {},
   "source": [
    "### 6d. Linear regression assumptions<a id='6d'></a> "
   ]
  },
  {
   "cell_type": "code",
   "execution_count": 43,
   "metadata": {},
   "outputs": [
    {
     "data": {
      "image/png": "[encoded data removed]",
      "text/plain": [
       "<Figure size 432x288 with 1 Axes>"
      ]
     },
     "metadata": {
      "needs_background": "light"
     },
     "output_type": "display_data"
    }
   ],
   "source": [
    "# residuals vs. predicted\n",
    "y2_predict = lin_reg2.predict(X2)\n",
    "residuals = y2 - y2_predict\n",
    "plt.scatter(y2_predict, residuals, alpha=0.2)\n",
    "plt.plot([0, 400], [0, 400])\n",
    "plt.title(\"Residuals vs. Predicted\")\n",
    "plt.xlabel(\"predictions\")\n",
    "plt.ylabel(\"residuals\");\n",
    "    "
   ]
  },
  {
   "cell_type": "code",
   "execution_count": 44,
   "metadata": {},
   "outputs": [
    {
     "data": {
      "image/png": "[encoded data removed]",
      "text/plain": [
       "<Figure size 432x288 with 1 Axes>"
      ]
     },
     "metadata": {
      "needs_background": "light"
     },
     "output_type": "display_data"
    }
   ],
   "source": [
    "# normal q-q plot\n",
    "y2_predict = lin_reg2.predict(X2)\n",
    "residuals = y2 - y2_predict\n",
    "stats.probplot(residuals, dist=\"norm\", plot=plt)\n",
    "plt.title(\"Normal Q-Q plot\")\n",
    "plt.xlabel(\"theoretical\")\n",
    "plt.ylabel(\"observed values\");\n",
    " "
   ]
  },
  {
   "cell_type": "code",
   "execution_count": 45,
   "metadata": {},
   "outputs": [
    {
     "data": {
      "image/png": "[encoded data removed]",
      "text/plain": [
       "<Figure size 432x288 with 1 Axes>"
      ]
     },
     "metadata": {
      "needs_background": "light"
     },
     "output_type": "display_data"
    }
   ],
   "source": [
    "# residuals normally distributed with zero mean\n",
    "movie_df.international_total_gross.hist(bins=10)\n",
    "plt.title('Histogram of Dependent Variable (international_total_gross)');"
   ]
  },
  {
   "cell_type": "markdown",
   "metadata": {},
   "source": [
    "[back to top](#top)"
   ]
  },
  {
   "cell_type": "markdown",
   "metadata": {},
   "source": [
    "## 7. Best Model<a id='7'></a> \n",
    "Fit best model on (train + val), score on test!"
   ]
  },
  {
   "cell_type": "code",
   "execution_count": null,
   "metadata": {},
   "outputs": [],
   "source": []
  },
  {
   "cell_type": "markdown",
   "metadata": {},
   "source": [
    "[back to top](#top)"
   ]
  },
  {
   "cell_type": "markdown",
   "metadata": {},
   "source": [
    "## 8. Results<a id='8'></a> "
   ]
  },
  {
   "cell_type": "markdown",
   "metadata": {},
   "source": [
    "### 8a. Interpretability<a id='8a'></a> "
   ]
  },
  {
   "cell_type": "code",
   "execution_count": 87,
   "metadata": {},
   "outputs": [
    {
     "data": {
      "text/html": [
       "<table class=\"simpletable\">\n",
       "<caption>OLS Regression Results</caption>\n",
       "<tr>\n",
       "  <th>Dep. Variable:</th>    <td>international_total_gross</td> <th>  R-squared:         </th> <td>   0.817</td> \n",
       "</tr>\n",
       "<tr>\n",
       "  <th>Model:</th>                       <td>OLS</td>            <th>  Adj. R-squared:    </th> <td>   0.812</td> \n",
       "</tr>\n",
       "<tr>\n",
       "  <th>Method:</th>                 <td>Least Squares</td>       <th>  F-statistic:       </th> <td>   155.9</td> \n",
       "</tr>\n",
       "<tr>\n",
       "  <th>Date:</th>                 <td>Wed, 23 Mar 2022</td>      <th>  Prob (F-statistic):</th> <td>2.15e-241</td>\n",
       "</tr>\n",
       "<tr>\n",
       "  <th>Time:</th>                     <td>00:13:46</td>          <th>  Log-Likelihood:    </th> <td> -13968.</td> \n",
       "</tr>\n",
       "<tr>\n",
       "  <th>No. Observations:</th>          <td>   718</td>           <th>  AIC:               </th> <td>2.798e+04</td>\n",
       "</tr>\n",
       "<tr>\n",
       "  <th>Df Residuals:</th>              <td>   697</td>           <th>  BIC:               </th> <td>2.807e+04</td>\n",
       "</tr>\n",
       "<tr>\n",
       "  <th>Df Model:</th>                  <td>    20</td>           <th>                     </th>     <td> </td>    \n",
       "</tr>\n",
       "<tr>\n",
       "  <th>Covariance Type:</th>          <td>nonrobust</td>         <th>                     </th>     <td> </td>    \n",
       "</tr>\n",
       "</table>\n",
       "<table class=\"simpletable\">\n",
       "<tr>\n",
       "                         <td></td>                            <th>coef</th>     <th>std err</th>      <th>t</th>      <th>P>|t|</th>  <th>[0.025</th>    <th>0.975]</th>  \n",
       "</tr>\n",
       "<tr>\n",
       "  <th>domestic_total_gross</th>                            <td>    0.4300</td> <td>    0.156</td> <td>    2.750</td> <td> 0.006</td> <td>    0.123</td> <td>    0.737</td>\n",
       "</tr>\n",
       "<tr>\n",
       "  <th>rank</th>                                            <td> 8.118e+04</td> <td> 3.31e+04</td> <td>    2.452</td> <td> 0.014</td> <td> 1.62e+04</td> <td> 1.46e+05</td>\n",
       "</tr>\n",
       "<tr>\n",
       "  <th>max_theaters</th>                                    <td>-1153.7872</td> <td> 1.36e+04</td> <td>   -0.085</td> <td> 0.932</td> <td>-2.79e+04</td> <td> 2.56e+04</td>\n",
       "</tr>\n",
       "<tr>\n",
       "  <th>opening_theathers</th>                               <td>-1811.8514</td> <td>  1.1e+04</td> <td>   -0.165</td> <td> 0.869</td> <td>-2.34e+04</td> <td> 1.98e+04</td>\n",
       "</tr>\n",
       "<tr>\n",
       "  <th>domestic_opening</th>                                <td>   -1.8807</td> <td>    0.677</td> <td>   -2.776</td> <td> 0.006</td> <td>   -3.211</td> <td>   -0.551</td>\n",
       "</tr>\n",
       "<tr>\n",
       "  <th>budget</th>                                          <td>    0.2301</td> <td>    0.345</td> <td>    0.667</td> <td> 0.505</td> <td>   -0.447</td> <td>    0.907</td>\n",
       "</tr>\n",
       "<tr>\n",
       "  <th>release_date</th>                                    <td>  -15.9773</td> <td>    3.734</td> <td>   -4.279</td> <td> 0.000</td> <td>  -23.308</td> <td>   -8.646</td>\n",
       "</tr>\n",
       "<tr>\n",
       "  <th>runtime</th>                                         <td> 3.429e+05</td> <td> 1.77e+05</td> <td>    1.934</td> <td> 0.053</td> <td>-5163.571</td> <td> 6.91e+05</td>\n",
       "</tr>\n",
       "<tr>\n",
       "  <th>rating_PG</th>                                       <td> 1.402e+07</td> <td> 2.51e+07</td> <td>    0.558</td> <td> 0.577</td> <td>-3.53e+07</td> <td> 6.34e+07</td>\n",
       "</tr>\n",
       "<tr>\n",
       "  <th>rating_PG13</th>                                     <td>  1.24e+07</td> <td> 2.54e+07</td> <td>    0.488</td> <td> 0.625</td> <td>-3.75e+07</td> <td> 6.23e+07</td>\n",
       "</tr>\n",
       "<tr>\n",
       "  <th>rating_R</th>                                        <td> 1.212e+07</td> <td> 2.56e+07</td> <td>    0.473</td> <td> 0.636</td> <td>-3.82e+07</td> <td> 6.24e+07</td>\n",
       "</tr>\n",
       "<tr>\n",
       "  <th>distributor_Paramount Pictures</th>                  <td> 2.468e+07</td> <td> 1.57e+07</td> <td>    1.570</td> <td> 0.117</td> <td>-6.19e+06</td> <td> 5.55e+07</td>\n",
       "</tr>\n",
       "<tr>\n",
       "  <th>distributor_Sony Pictures Entertainment (SPE)</th>   <td> 3.204e+07</td> <td> 1.63e+07</td> <td>    1.962</td> <td> 0.050</td> <td>-1.56e+04</td> <td> 6.41e+07</td>\n",
       "</tr>\n",
       "<tr>\n",
       "  <th>distributor_Twentieth Century Fox</th>               <td>  3.67e+07</td> <td> 1.56e+07</td> <td>    2.348</td> <td> 0.019</td> <td> 6.01e+06</td> <td> 6.74e+07</td>\n",
       "</tr>\n",
       "<tr>\n",
       "  <th>distributor_Universal Pictures</th>                  <td> 2.064e+07</td> <td> 1.61e+07</td> <td>    1.281</td> <td> 0.201</td> <td> -1.1e+07</td> <td> 5.23e+07</td>\n",
       "</tr>\n",
       "<tr>\n",
       "  <th>distributor_Walt Disney Studios Motion Pictures</th> <td>  3.37e+07</td> <td> 1.63e+07</td> <td>    2.071</td> <td> 0.039</td> <td> 1.75e+06</td> <td> 6.56e+07</td>\n",
       "</tr>\n",
       "<tr>\n",
       "  <th>distributor_Warner Bros.</th>                        <td> 3.228e+07</td> <td> 1.51e+07</td> <td>    2.143</td> <td> 0.032</td> <td>  2.7e+06</td> <td> 6.19e+07</td>\n",
       "</tr>\n",
       "<tr>\n",
       "  <th>distributor_other</th>                               <td> 3.042e+07</td> <td> 1.46e+07</td> <td>    2.080</td> <td> 0.038</td> <td>  1.7e+06</td> <td> 5.91e+07</td>\n",
       "</tr>\n",
       "<tr>\n",
       "  <th>log_international_total_gross</th>                   <td> 2.012e+07</td> <td> 2.06e+06</td> <td>    9.759</td> <td> 0.000</td> <td> 1.61e+07</td> <td> 2.42e+07</td>\n",
       "</tr>\n",
       "<tr>\n",
       "  <th>log_domestic_total_gross</th>                        <td>-7.995e+06</td> <td> 3.33e+06</td> <td>   -2.402</td> <td> 0.017</td> <td>-1.45e+07</td> <td>-1.46e+06</td>\n",
       "</tr>\n",
       "<tr>\n",
       "  <th>profit</th>                                          <td>    0.8111</td> <td>    0.156</td> <td>    5.194</td> <td> 0.000</td> <td>    0.504</td> <td>    1.118</td>\n",
       "</tr>\n",
       "<tr>\n",
       "  <th>opening</th>                                         <td>    0.0008</td> <td>    0.000</td> <td>    3.516</td> <td> 0.000</td> <td>    0.000</td> <td>    0.001</td>\n",
       "</tr>\n",
       "<tr>\n",
       "  <th>opening_minus_budget</th>                            <td>   -0.8833</td> <td>    0.441</td> <td>   -2.004</td> <td> 0.045</td> <td>   -1.749</td> <td>   -0.018</td>\n",
       "</tr>\n",
       "</table>\n",
       "<table class=\"simpletable\">\n",
       "<tr>\n",
       "  <th>Omnibus:</th>       <td>198.851</td> <th>  Durbin-Watson:     </th> <td>   2.135</td>\n",
       "</tr>\n",
       "<tr>\n",
       "  <th>Prob(Omnibus):</th> <td> 0.000</td>  <th>  Jarque-Bera (JB):  </th> <td>1691.272</td>\n",
       "</tr>\n",
       "<tr>\n",
       "  <th>Skew:</th>          <td> 0.990</td>  <th>  Prob(JB):          </th> <td>    0.00</td>\n",
       "</tr>\n",
       "<tr>\n",
       "  <th>Kurtosis:</th>      <td>10.254</td>  <th>  Cond. No.          </th> <td>2.45e+19</td>\n",
       "</tr>\n",
       "</table><br/><br/>Notes:<br/>[1] Standard Errors assume that the covariance matrix of the errors is correctly specified.<br/>[2] The smallest eigenvalue is 2.88e-14. This might indicate that there are<br/>strong multicollinearity problems or that the design matrix is singular."
      ],
      "text/plain": [
       "<class 'statsmodels.iolib.summary.Summary'>\n",
       "\"\"\"\n",
       "                                OLS Regression Results                               \n",
       "=====================================================================================\n",
       "Dep. Variable:     international_total_gross   R-squared:                       0.817\n",
       "Model:                                   OLS   Adj. R-squared:                  0.812\n",
       "Method:                        Least Squares   F-statistic:                     155.9\n",
       "Date:                       Wed, 23 Mar 2022   Prob (F-statistic):          2.15e-241\n",
       "Time:                               00:13:46   Log-Likelihood:                -13968.\n",
       "No. Observations:                        718   AIC:                         2.798e+04\n",
       "Df Residuals:                            697   BIC:                         2.807e+04\n",
       "Df Model:                                 20                                         \n",
       "Covariance Type:                   nonrobust                                         \n",
       "===================================================================================================================\n",
       "                                                      coef    std err          t      P>|t|      [0.025      0.975]\n",
       "-------------------------------------------------------------------------------------------------------------------\n",
       "domestic_total_gross                                0.4300      0.156      2.750      0.006       0.123       0.737\n",
       "rank                                             8.118e+04   3.31e+04      2.452      0.014    1.62e+04    1.46e+05\n",
       "max_theaters                                    -1153.7872   1.36e+04     -0.085      0.932   -2.79e+04    2.56e+04\n",
       "opening_theathers                               -1811.8514    1.1e+04     -0.165      0.869   -2.34e+04    1.98e+04\n",
       "domestic_opening                                   -1.8807      0.677     -2.776      0.006      -3.211      -0.551\n",
       "budget                                              0.2301      0.345      0.667      0.505      -0.447       0.907\n",
       "release_date                                      -15.9773      3.734     -4.279      0.000     -23.308      -8.646\n",
       "runtime                                          3.429e+05   1.77e+05      1.934      0.053   -5163.571    6.91e+05\n",
       "rating_PG                                        1.402e+07   2.51e+07      0.558      0.577   -3.53e+07    6.34e+07\n",
       "rating_PG13                                       1.24e+07   2.54e+07      0.488      0.625   -3.75e+07    6.23e+07\n",
       "rating_R                                         1.212e+07   2.56e+07      0.473      0.636   -3.82e+07    6.24e+07\n",
       "distributor_Paramount Pictures                   2.468e+07   1.57e+07      1.570      0.117   -6.19e+06    5.55e+07\n",
       "distributor_Sony Pictures Entertainment (SPE)    3.204e+07   1.63e+07      1.962      0.050   -1.56e+04    6.41e+07\n",
       "distributor_Twentieth Century Fox                 3.67e+07   1.56e+07      2.348      0.019    6.01e+06    6.74e+07\n",
       "distributor_Universal Pictures                   2.064e+07   1.61e+07      1.281      0.201    -1.1e+07    5.23e+07\n",
       "distributor_Walt Disney Studios Motion Pictures   3.37e+07   1.63e+07      2.071      0.039    1.75e+06    6.56e+07\n",
       "distributor_Warner Bros.                         3.228e+07   1.51e+07      2.143      0.032     2.7e+06    6.19e+07\n",
       "distributor_other                                3.042e+07   1.46e+07      2.080      0.038     1.7e+06    5.91e+07\n",
       "log_international_total_gross                    2.012e+07   2.06e+06      9.759      0.000    1.61e+07    2.42e+07\n",
       "log_domestic_total_gross                        -7.995e+06   3.33e+06     -2.402      0.017   -1.45e+07   -1.46e+06\n",
       "profit                                              0.8111      0.156      5.194      0.000       0.504       1.118\n",
       "opening                                             0.0008      0.000      3.516      0.000       0.000       0.001\n",
       "opening_minus_budget                               -0.8833      0.441     -2.004      0.045      -1.749      -0.018\n",
       "==============================================================================\n",
       "Omnibus:                      198.851   Durbin-Watson:                   2.135\n",
       "Prob(Omnibus):                  0.000   Jarque-Bera (JB):             1691.272\n",
       "Skew:                           0.990   Prob(JB):                         0.00\n",
       "Kurtosis:                      10.254   Cond. No.                     2.45e+19\n",
       "==============================================================================\n",
       "\n",
       "Notes:\n",
       "[1] Standard Errors assume that the covariance matrix of the errors is correctly specified.\n",
       "[2] The smallest eigenvalue is 2.88e-14. This might indicate that there are\n",
       "strong multicollinearity problems or that the design matrix is singular.\n",
       "\"\"\""
      ]
     },
     "execution_count": 87,
     "metadata": {},
     "output_type": "execute_result"
    }
   ],
   "source": [
    "# Coefficients, what are the top predictors\n",
    "lin_reg2 = sm.OLS(y2, X2)\n",
    "fit2 = lin_reg2.fit()\n",
    "fit2.summary()"
   ]
  },
  {
   "cell_type": "code",
   "execution_count": null,
   "metadata": {},
   "outputs": [],
   "source": []
  },
  {
   "cell_type": "markdown",
   "metadata": {},
   "source": [
    "### 8b. Predictions<a id='8b'></a> "
   ]
  },
  {
   "cell_type": "code",
   "execution_count": null,
   "metadata": {},
   "outputs": [],
   "source": [
    "# Make a prediction for a new value, does it make sense?"
   ]
  },
  {
   "cell_type": "code",
   "execution_count": null,
   "metadata": {},
   "outputs": [],
   "source": []
  },
  {
   "cell_type": "code",
   "execution_count": null,
   "metadata": {},
   "outputs": [],
   "source": []
  },
  {
   "cell_type": "markdown",
   "metadata": {},
   "source": [
    "Slides, article, and code available at: https://github.com/slp22/regression-project"
   ]
  },
  {
   "cell_type": "markdown",
   "metadata": {},
   "source": [
    "[back top top](#top)"
   ]
  }
 ],
 "metadata": {
  "kernelspec": {
   "display_name": "Python 3 (ipykernel)",
   "language": "python",
   "name": "python3"
  },
  "language_info": {
   "codemirror_mode": {
    "name": "ipython",
    "version": 3
   },
   "file_extension": ".py",
   "mimetype": "text/x-python",
   "name": "python",
   "nbconvert_exporter": "python",
   "pygments_lexer": "ipython3",
   "version": "3.8.12"
  },
  "toc": {
   "base_numbering": 1,
   "nav_menu": {},
   "number_sections": false,
   "sideBar": true,
   "skip_h1_title": false,
   "title_cell": "Table of Contents",
   "title_sidebar": "Contents",
   "toc_cell": false,
   "toc_position": {
    "height": "calc(100% - 180px)",
    "left": "10px",
    "top": "150px",
    "width": "288px"
   },
   "toc_section_display": true,
   "toc_window_display": true
  }
 },
 "nbformat": 4,
 "nbformat_minor": 4
}
